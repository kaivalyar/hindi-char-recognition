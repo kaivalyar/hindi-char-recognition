{
 "cells": [
  {
   "cell_type": "code",
   "execution_count": 1,
   "metadata": {
    "collapsed": true
   },
   "outputs": [],
   "source": [
    "import os\n",
    "import numpy as np\n",
    "import pandas as pd\n",
    "import cv2\n",
    "import matplotlib.pyplot as plt\n",
    "\n",
    "from skimage import io, morphology, img_as_bool, segmentation\n",
    "from scipy import ndimage as ndi\n",
    "from scipy.ndimage.morphology import binary_fill_holes\n",
    "\n",
    "%matplotlib inline"
   ]
  },
  {
   "cell_type": "code",
   "execution_count": 2,
   "metadata": {
    "collapsed": true
   },
   "outputs": [],
   "source": [
    "img_shape = (64,64)"
   ]
  },
  {
   "cell_type": "code",
   "execution_count": 3,
   "metadata": {
    "collapsed": true
   },
   "outputs": [],
   "source": [
    "def pad_resize(img):\n",
    "    top = int((224 - img.shape[0])/2)\n",
    "    left = int((224 - img.shape[1])/2)\n",
    "    bottom = 224 - img.shape[0] - top\n",
    "    right = 224 - img.shape[1] - left\n",
    "    img = cv2.copyMakeBorder(img, top, bottom, left, right, cv2.BORDER_CONSTANT, value=255)\n",
    "    img = img/255.\n",
    "    img = cv2.resize(img, img_shape) #KADD\n",
    "    return img\n",
    "\n",
    "def skeletonize(img):\n",
    "    size = np.size(img)\n",
    "    skel = np.zeros(img.shape,np.uint8)\n",
    "    img = cv2.bitwise_not(img)\n",
    "#     element = cv2.getStructuringElement(cv2.MORPH_CROSS,(1,1))\n",
    "#     done = 0\n",
    "#     while( done < 1 ):\n",
    "#         eroded = cv2.erode(img,element)\n",
    "#         temp = cv2.dilate(eroded,element)\n",
    "#         temp = cv2.subtract(img,temp)\n",
    "#         skel = cv2.bitwise_or(skel,temp)\n",
    "#         img = eroded.copy()\n",
    "\n",
    "#         zeros = size - cv2.countNonZero(img)\n",
    "#         if zeros==size:#cv2.countNonZero(img) * 1 >= 0:#\n",
    "#             done += 1\n",
    "#     img = skel\n",
    "    kernel = np.ones((3,3),np.uint8)\n",
    "    erosion = cv2.erode(img,kernel,iterations = 2)\n",
    "    img = cv2.bitwise_not(erosion)\n",
    "    return img"
   ]
  },
  {
   "cell_type": "code",
   "execution_count": 4,
   "metadata": {
    "scrolled": true
   },
   "outputs": [
    {
     "name": "stdout",
     "output_type": "stream",
     "text": [
      "100 Done\n",
      "200 Done\n",
      "300 Done\n",
      "page3_6_0_2327_2417.png dropped!\n",
      "400 Done\n",
      "500 Done\n",
      "page5_7_8_2325_2367_2388.png dropped!\n",
      "page6_10_6_2325_2366_2380.png dropped!\n",
      "600 Done\n",
      "page2_4_20_2346_2366_2390.png dropped!\n",
      "700 Done\n",
      "page0_8_8_2330_2375_2379.png dropped!\n",
      "800 Done\n",
      "900 Done\n",
      "1000 Done\n",
      "page3_18_4_2332_2366_2379.png dropped!\n",
      "1100 Done\n",
      "page7_3_0_2319_2366_2367.png dropped!\n",
      "1200 Done\n",
      "1300 Done\n",
      "1400 Done\n",
      "1500 Done\n",
      "page6_1_1_2340_2375_2379.png dropped!\n",
      "1600 Done\n",
      "page0_9_15_2332_2375_2379.png dropped!\n",
      "page7_3_13_2319_2366_2367.png dropped!\n",
      "page3_12_0_2357_2364_2416.png dropped!\n",
      "1700 Done\n",
      "page7_16_10_2350_2417.png dropped!\n",
      "1800 Done\n"
     ]
    }
   ],
   "source": [
    "PATH = '../train_images_modified'\n",
    "images = []\n",
    "base_class = []\n",
    "matra_class = []\n",
    "dot_class = []\n",
    "total_class = []\n",
    "for filename in os.listdir(PATH):\n",
    "    if filename.endswith(\".png\"):\n",
    "        img = cv2.imread(os.path.join(PATH,filename),0)\n",
    "        blur = cv2.GaussianBlur(img,(9,9),0)# KADD\n",
    "        a,img = cv2.threshold(blur,127,255,cv2.THRESH_BINARY+cv2.THRESH_OTSU)#KEDIT\n",
    "#         kernel = np.ones((5,5),np.uint8)\n",
    "#         img = cv2.morphologyEx(img, cv2.MORPH_CLOSE, kernel)\n",
    "#         plt.imshow(img, cmap='gray')\n",
    "#         plt.show()\n",
    "#        img = skeletonize(img)\n",
    "        img = pad_resize(img)\n",
    "        blur = cv2.GaussianBlur(img,(9,9),0)# KADD\n",
    "        char_arr = filename[:-4].split('_')[3:]\n",
    "        if(len(char_arr)>0):\n",
    "            char_arr = [int(i) for i in char_arr]\n",
    "            base = [i for i in char_arr if (i>=2308 and i<=2361) or (i==2384) or (i>=2392 and i<=2401) or (i>=2404 and i!=2416 and i!=2417)]  \n",
    "            matra = [i for i in char_arr if i>=2362 and i<=2391 and i!=2364 and i!=2362]\n",
    "            dot = [i for i in char_arr if i==2306 or i==2416 or i==2362 or i==2364]\n",
    "            if(len(matra)>1 or len(dot)>1 or len(base)>1 or (len(matra)==0 and len(dot)==0 and len(char_arr)==2)):\n",
    "                print(filename+\" dropped!\")\n",
    "            else:\n",
    "                images.append(img)\n",
    "                base_class.append(base[0])\n",
    "                if(len(matra)==1):\n",
    "                    matra_class.append(matra[0])\n",
    "                else:\n",
    "                    matra_class.append(0)\n",
    "\n",
    "                if len(dot)==1:\n",
    "                    if dot[0] == 2364:\n",
    "                        dot_class.append(2)\n",
    "                    else:\n",
    "                        dot_class.append(1)\n",
    "                else:\n",
    "                    dot_class.append(0)\n",
    "\n",
    "                if len(images)%100==0:\n",
    "                    print(\"{} Done\".format(len(images)))\n",
    "            "
   ]
  },
  {
   "cell_type": "code",
   "execution_count": 6,
   "metadata": {},
   "outputs": [
    {
     "data": {
      "image/png": "[encoded data removed]",
      "text/plain": [
       "<matplotlib.figure.Figure at 0x7fc942bade48>"
      ]
     },
     "metadata": {},
     "output_type": "display_data"
    },
    {
     "name": "stdout",
     "output_type": "stream",
     "text": [
      "1883\n",
      "1883\n"
     ]
    }
   ],
   "source": [
    "plt.imshow(images[10],\"gray\")\n",
    "plt.show()\n",
    "print(len(images))\n",
    "print(len(dot_class))"
   ]
  },
  {
   "cell_type": "code",
   "execution_count": 7,
   "metadata": {},
   "outputs": [
    {
     "data": {
      "text/plain": [
       "[2310, 2353, 2384, 2392, 2414, 2415]"
      ]
     },
     "execution_count": 7,
     "metadata": {},
     "output_type": "execute_result"
    }
   ],
   "source": [
    "len(set(base_class))\n",
    "freq = {i:base_class.count(i) for i in base_class}\n",
    "[i for i in freq.keys() if freq[i]==1]"
   ]
  },
  {
   "cell_type": "code",
   "execution_count": 8,
   "metadata": {},
   "outputs": [
    {
     "name": "stdout",
     "output_type": "stream",
     "text": [
      "(1883, 64, 64)\n"
     ]
    }
   ],
   "source": [
    "images = np.array(images)\n",
    "print(images.shape)"
   ]
  },
  {
   "cell_type": "code",
   "execution_count": 9,
   "metadata": {},
   "outputs": [
    {
     "name": "stderr",
     "output_type": "stream",
     "text": [
      "Using TensorFlow backend.\n"
     ]
    },
    {
     "name": "stdout",
     "output_type": "stream",
     "text": [
      "(1883, 53)\n"
     ]
    }
   ],
   "source": [
    "import keras\n",
    "from sklearn.preprocessing import LabelEncoder\n",
    "from keras.utils import np_utils\n",
    "\n",
    "le = LabelEncoder()\n",
    "le.fit(base_class)\n",
    "y_labeled = le.transform(base_class)\n",
    "y_train = np_utils.to_categorical(y_labeled)\n",
    "print(y_train.shape)\n",
    "#print(le)\n",
    "#le.get_params()\n",
    "#for i in range(len(topr)):\n",
    "#    if base_class[i] == 2405:\n",
    "#        print('{} {}'.format(topr[i], base_class[i]))"
   ]
  },
  {
   "cell_type": "code",
   "execution_count": 10,
   "metadata": {},
   "outputs": [
    {
     "name": "stdout",
     "output_type": "stream",
     "text": [
      "(1883, 64, 64, 1)\n"
     ]
    }
   ],
   "source": [
    "x_train = np.reshape(images,(-1,img_shape[0],img_shape[1],1))\n",
    "print(x_train.shape)"
   ]
  },
  {
   "cell_type": "code",
   "execution_count": 11,
   "metadata": {
    "collapsed": true
   },
   "outputs": [],
   "source": [
    "from keras.models import Sequential\n",
    "from keras.layers import Dense,Dropout,Conv2D,MaxPooling2D,Flatten\n",
    "from keras.optimizers import Adam\n",
    "\n",
    "base_model = Sequential()\n",
    "\n",
    "base_model.add(Conv2D(16,(3,3),input_shape = (img_shape[0],img_shape[1],1),activation = 'relu'))\n",
    "base_model.add(Conv2D(16,(3,3),activation = 'relu'))\n",
    "base_model.add(MaxPooling2D())\n",
    "base_model.add(Conv2D(32,(3,3),activation = 'relu'))\n",
    "base_model.add(Conv2D(32,(3,3),activation = 'relu'))\n",
    "base_model.add(MaxPooling2D())\n",
    "base_model.add(Conv2D(64,(3,3),activation = 'relu'))\n",
    "base_model.add(Conv2D(64,(3,3),activation = 'relu'))\n",
    "base_model.add(MaxPooling2D())\n",
    "base_model.add(MaxPooling2D())\n",
    "base_model.add(Dropout(0.5))\n",
    "base_model.add(Flatten())\n",
    "base_model.add(Dense(256,activation = 'sigmoid'))\n",
    "base_model.add(Dropout(0.25))\n",
    "base_model.add(Dense(len(set(base_class)),activation = 'softmax'))"
   ]
  },
  {
   "cell_type": "code",
   "execution_count": 12,
   "metadata": {},
   "outputs": [
    {
     "name": "stdout",
     "output_type": "stream",
     "text": [
      "_________________________________________________________________\n",
      "Layer (type)                 Output Shape              Param #   \n",
      "=================================================================\n",
      "conv2d_1 (Conv2D)            (None, 62, 62, 16)        160       \n",
      "_________________________________________________________________\n",
      "conv2d_2 (Conv2D)            (None, 60, 60, 16)        2320      \n",
      "_________________________________________________________________\n",
      "max_pooling2d_1 (MaxPooling2 (None, 30, 30, 16)        0         \n",
      "_________________________________________________________________\n",
      "conv2d_3 (Conv2D)            (None, 28, 28, 32)        4640      \n",
      "_________________________________________________________________\n",
      "conv2d_4 (Conv2D)            (None, 26, 26, 32)        9248      \n",
      "_________________________________________________________________\n",
      "max_pooling2d_2 (MaxPooling2 (None, 13, 13, 32)        0         \n",
      "_________________________________________________________________\n",
      "conv2d_5 (Conv2D)            (None, 11, 11, 64)        18496     \n",
      "_________________________________________________________________\n",
      "conv2d_6 (Conv2D)            (None, 9, 9, 64)          36928     \n",
      "_________________________________________________________________\n",
      "max_pooling2d_3 (MaxPooling2 (None, 4, 4, 64)          0         \n",
      "_________________________________________________________________\n",
      "max_pooling2d_4 (MaxPooling2 (None, 2, 2, 64)          0         \n",
      "_________________________________________________________________\n",
      "dropout_1 (Dropout)          (None, 2, 2, 64)          0         \n",
      "_________________________________________________________________\n",
      "flatten_1 (Flatten)          (None, 256)               0         \n",
      "_________________________________________________________________\n",
      "dense_1 (Dense)              (None, 256)               65792     \n",
      "_________________________________________________________________\n",
      "dropout_2 (Dropout)          (None, 256)               0         \n",
      "_________________________________________________________________\n",
      "dense_2 (Dense)              (None, 53)                13621     \n",
      "=================================================================\n",
      "Total params: 151,205\n",
      "Trainable params: 151,205\n",
      "Non-trainable params: 0\n",
      "_________________________________________________________________\n"
     ]
    }
   ],
   "source": [
    "base_model.summary()"
   ]
  },
  {
   "cell_type": "code",
   "execution_count": 13,
   "metadata": {
    "collapsed": true
   },
   "outputs": [],
   "source": [
    "import keras.backend as K\n",
    "\n",
    "def f1_score(theta):\n",
    "    def score(y_true, y_pred):\n",
    "\n",
    "        y_thresh = K.cast(K.greater(y_pred,theta),K.floatx())\n",
    "\n",
    "        true_pos =  K.sum(y_true * y_thresh)\n",
    "        false_pos = K.sum(y_true * (1. - y_thresh))\n",
    "        false_neg = K.sum((1. - y_true) * y_thresh)\n",
    "\n",
    "        precision = true_pos / (true_pos + false_pos)\n",
    "        recall = true_pos / (true_pos + false_neg)\n",
    "        \n",
    "        f1_score_val = 2 * (precision * recall) / (precision + recall)\n",
    "        return f1_score_val\n",
    "    return score"
   ]
  },
  {
   "cell_type": "code",
   "execution_count": 14,
   "metadata": {
    "collapsed": true
   },
   "outputs": [],
   "source": [
    "base_model.compile(optimizer='adam',\n",
    "              loss='categorical_crossentropy', metrics=['categorical_accuracy'])"
   ]
  },
  {
   "cell_type": "code",
   "execution_count": 15,
   "metadata": {
    "collapsed": true
   },
   "outputs": [],
   "source": [
    "# augmentation code here ..."
   ]
  },
  {
   "cell_type": "code",
   "execution_count": 16,
   "metadata": {
    "scrolled": false
   },
   "outputs": [
    {
     "name": "stdout",
     "output_type": "stream",
     "text": [
      "Train on 1318 samples, validate on 565 samples\n",
      "Epoch 1/30\n",
      "1318/1318 [==============================] - 13s 10ms/step - loss: 3.5450 - categorical_accuracy: 0.0835 - val_loss: 3.3677 - val_categorical_accuracy: 0.0920\n",
      "Epoch 2/30\n",
      "1318/1318 [==============================] - 13s 10ms/step - loss: 3.4018 - categorical_accuracy: 0.0842 - val_loss: 3.3592 - val_categorical_accuracy: 0.1027\n",
      "Epoch 3/30\n",
      "1318/1318 [==============================] - 13s 10ms/step - loss: 3.3539 - categorical_accuracy: 0.0956 - val_loss: 3.2645 - val_categorical_accuracy: 0.1805\n",
      "Epoch 4/30\n",
      "1318/1318 [==============================] - 13s 10ms/step - loss: 3.1274 - categorical_accuracy: 0.2033 - val_loss: 2.8279 - val_categorical_accuracy: 0.2619\n",
      "Epoch 5/30\n",
      "1318/1318 [==============================] - 13s 10ms/step - loss: 2.6923 - categorical_accuracy: 0.3209 - val_loss: 2.2722 - val_categorical_accuracy: 0.4212\n",
      "Epoch 6/30\n",
      "1318/1318 [==============================] - 13s 10ms/step - loss: 2.3683 - categorical_accuracy: 0.3778 - val_loss: 2.0453 - val_categorical_accuracy: 0.4619\n",
      "Epoch 7/30\n",
      "1318/1318 [==============================] - 13s 10ms/step - loss: 2.1124 - categorical_accuracy: 0.4689 - val_loss: 1.8042 - val_categorical_accuracy: 0.5168\n",
      "Epoch 8/30\n",
      "1318/1318 [==============================] - 13s 10ms/step - loss: 1.9028 - categorical_accuracy: 0.4848 - val_loss: 1.6041 - val_categorical_accuracy: 0.5717\n",
      "Epoch 9/30\n",
      "1318/1318 [==============================] - 13s 10ms/step - loss: 1.6803 - categorical_accuracy: 0.5584 - val_loss: 1.4129 - val_categorical_accuracy: 0.6301\n",
      "Epoch 10/30\n",
      "1318/1318 [==============================] - 14s 11ms/step - loss: 1.5187 - categorical_accuracy: 0.6017 - val_loss: 1.2462 - val_categorical_accuracy: 0.6602\n",
      "Epoch 11/30\n",
      "1318/1318 [==============================] - 14s 11ms/step - loss: 1.3866 - categorical_accuracy: 0.6351 - val_loss: 1.2591 - val_categorical_accuracy: 0.6655\n",
      "Epoch 12/30\n",
      "1318/1318 [==============================] - 13s 10ms/step - loss: 1.2781 - categorical_accuracy: 0.6487 - val_loss: 1.0752 - val_categorical_accuracy: 0.7097\n",
      "Epoch 13/30\n",
      "1318/1318 [==============================] - 15s 11ms/step - loss: 1.1677 - categorical_accuracy: 0.6737 - val_loss: 1.0262 - val_categorical_accuracy: 0.7221\n",
      "Epoch 14/30\n",
      "1318/1318 [==============================] - 14s 10ms/step - loss: 1.0982 - categorical_accuracy: 0.6950 - val_loss: 0.9533 - val_categorical_accuracy: 0.7469\n",
      "Epoch 15/30\n",
      "1318/1318 [==============================] - 13s 10ms/step - loss: 1.0422 - categorical_accuracy: 0.7086 - val_loss: 0.8857 - val_categorical_accuracy: 0.7575\n",
      "Epoch 16/30\n",
      "1318/1318 [==============================] - 15s 11ms/step - loss: 0.9574 - categorical_accuracy: 0.7337 - val_loss: 0.8676 - val_categorical_accuracy: 0.7664\n",
      "Epoch 17/30\n",
      "1318/1318 [==============================] - 14s 11ms/step - loss: 0.9105 - categorical_accuracy: 0.7602 - val_loss: 0.8483 - val_categorical_accuracy: 0.7628\n",
      "Epoch 18/30\n",
      "1318/1318 [==============================] - 13s 10ms/step - loss: 0.8678 - categorical_accuracy: 0.7534 - val_loss: 0.8235 - val_categorical_accuracy: 0.7805\n",
      "Epoch 19/30\n",
      "1318/1318 [==============================] - 15s 11ms/step - loss: 0.8231 - categorical_accuracy: 0.7678 - val_loss: 0.7912 - val_categorical_accuracy: 0.7894\n",
      "Epoch 20/30\n",
      "1318/1318 [==============================] - 15s 11ms/step - loss: 0.7494 - categorical_accuracy: 0.7914 - val_loss: 0.7642 - val_categorical_accuracy: 0.8088\n",
      "Epoch 21/30\n",
      "1318/1318 [==============================] - 14s 10ms/step - loss: 0.7055 - categorical_accuracy: 0.8096 - val_loss: 0.7453 - val_categorical_accuracy: 0.7947\n",
      "Epoch 22/30\n",
      "1318/1318 [==============================] - 15s 11ms/step - loss: 0.7193 - categorical_accuracy: 0.7974 - val_loss: 0.7296 - val_categorical_accuracy: 0.8018\n",
      "Epoch 23/30\n",
      "1318/1318 [==============================] - 14s 10ms/step - loss: 0.6671 - categorical_accuracy: 0.8209 - val_loss: 0.7113 - val_categorical_accuracy: 0.8248\n",
      "Epoch 24/30\n",
      "1318/1318 [==============================] - 15s 11ms/step - loss: 0.6491 - categorical_accuracy: 0.8156 - val_loss: 0.7230 - val_categorical_accuracy: 0.8035\n",
      "Epoch 25/30\n",
      "1318/1318 [==============================] - 14s 10ms/step - loss: 0.6156 - categorical_accuracy: 0.8270 - val_loss: 0.6936 - val_categorical_accuracy: 0.8195\n",
      "Epoch 26/30\n",
      "1318/1318 [==============================] - 15s 11ms/step - loss: 0.5880 - categorical_accuracy: 0.8285 - val_loss: 0.6814 - val_categorical_accuracy: 0.8442\n",
      "Epoch 27/30\n",
      "1318/1318 [==============================] - 15s 11ms/step - loss: 0.5790 - categorical_accuracy: 0.8407 - val_loss: 0.7061 - val_categorical_accuracy: 0.8195\n",
      "Epoch 28/30\n",
      "1318/1318 [==============================] - 14s 11ms/step - loss: 0.5092 - categorical_accuracy: 0.8619 - val_loss: 0.6387 - val_categorical_accuracy: 0.8336\n",
      "Epoch 29/30\n",
      "1318/1318 [==============================] - 13s 10ms/step - loss: 0.4970 - categorical_accuracy: 0.8520 - val_loss: 0.6551 - val_categorical_accuracy: 0.8336\n",
      "Epoch 30/30\n",
      "1318/1318 [==============================] - 15s 11ms/step - loss: 0.4750 - categorical_accuracy: 0.8566 - val_loss: 0.6657 - val_categorical_accuracy: 0.8442\n"
     ]
    },
    {
     "data": {
      "text/plain": [
       "<keras.callbacks.History at 0x7fc9348cb438>"
      ]
     },
     "execution_count": 16,
     "metadata": {},
     "output_type": "execute_result"
    }
   ],
   "source": [
    "base_model.fit(x_train,y_train,epochs=30,batch_size=32,validation_split=0.3)"
   ]
  },
  {
   "cell_type": "code",
   "execution_count": 17,
   "metadata": {},
   "outputs": [
    {
     "name": "stdout",
     "output_type": "stream",
     "text": [
      "Train on 1318 samples, validate on 565 samples\n",
      "Epoch 1/10\n",
      "1318/1318 [==============================] - 15s 12ms/step - loss: 0.4207 - categorical_accuracy: 0.8832 - val_loss: 0.6386 - val_categorical_accuracy: 0.8460\n",
      "Epoch 2/10\n",
      "1318/1318 [==============================] - 15s 11ms/step - loss: 0.4341 - categorical_accuracy: 0.8786 - val_loss: 0.6326 - val_categorical_accuracy: 0.8531\n",
      "Epoch 3/10\n",
      "1318/1318 [==============================] - 15s 11ms/step - loss: 0.3942 - categorical_accuracy: 0.8991 - val_loss: 0.6281 - val_categorical_accuracy: 0.8442\n",
      "Epoch 4/10\n",
      "1318/1318 [==============================] - 15s 11ms/step - loss: 0.4108 - categorical_accuracy: 0.8832 - val_loss: 0.6347 - val_categorical_accuracy: 0.8531\n",
      "Epoch 5/10\n",
      "1318/1318 [==============================] - 14s 11ms/step - loss: 0.3861 - categorical_accuracy: 0.8907 - val_loss: 0.6406 - val_categorical_accuracy: 0.8496\n",
      "Epoch 6/10\n",
      "1318/1318 [==============================] - 15s 11ms/step - loss: 0.3652 - categorical_accuracy: 0.8983 - val_loss: 0.6329 - val_categorical_accuracy: 0.8513\n",
      "Epoch 7/10\n",
      "1318/1318 [==============================] - 15s 11ms/step - loss: 0.3830 - categorical_accuracy: 0.8930 - val_loss: 0.6339 - val_categorical_accuracy: 0.8460\n",
      "Epoch 8/10\n",
      "1318/1318 [==============================] - 15s 11ms/step - loss: 0.3807 - categorical_accuracy: 0.8983 - val_loss: 0.6310 - val_categorical_accuracy: 0.8513\n",
      "Epoch 9/10\n",
      "1318/1318 [==============================] - 15s 11ms/step - loss: 0.3571 - categorical_accuracy: 0.8953 - val_loss: 0.6249 - val_categorical_accuracy: 0.8584\n",
      "Epoch 10/10\n",
      "1318/1318 [==============================] - 14s 11ms/step - loss: 0.3685 - categorical_accuracy: 0.8938 - val_loss: 0.6236 - val_categorical_accuracy: 0.8566\n"
     ]
    },
    {
     "data": {
      "text/plain": [
       "<keras.callbacks.History at 0x7fc93098ff98>"
      ]
     },
     "execution_count": 17,
     "metadata": {},
     "output_type": "execute_result"
    }
   ],
   "source": [
    "new_adam = keras.optimizers.Adam(lr=0.0001, beta_1=0.9, beta_2=0.999, epsilon=1e-08, decay=0.0)\n",
    "base_model.compile(optimizer=new_adam,\n",
    "              loss='categorical_crossentropy',\n",
    "              metrics=['categorical_accuracy'])\n",
    "base_model.fit(x_train,y_train,epochs=10,batch_size=32,validation_split=0.3)"
   ]
  },
  {
   "cell_type": "code",
   "execution_count": 16,
   "metadata": {},
   "outputs": [
    {
     "name": "stdout",
     "output_type": "stream",
     "text": [
      "Train on 1318 samples, validate on 565 samples\n",
      "Epoch 1/30\n",
      "1318/1318 [==============================] - 17s 13ms/step - loss: 0.2793 - categorical_accuracy: 0.9219 - val_loss: 0.5969 - val_categorical_accuracy: 0.8407\n",
      "Epoch 2/30\n",
      "1318/1318 [==============================] - 17s 13ms/step - loss: 0.2636 - categorical_accuracy: 0.9264 - val_loss: 0.5898 - val_categorical_accuracy: 0.8442\n",
      "Epoch 3/30\n",
      "1318/1318 [==============================] - 15s 11ms/step - loss: 0.2675 - categorical_accuracy: 0.9302 - val_loss: 0.5908 - val_categorical_accuracy: 0.8389\n",
      "Epoch 4/30\n",
      "1318/1318 [==============================] - 15s 11ms/step - loss: 0.2585 - categorical_accuracy: 0.9401 - val_loss: 0.5933 - val_categorical_accuracy: 0.8442\n",
      "Epoch 5/30\n",
      "1318/1318 [==============================] - 14s 11ms/step - loss: 0.2633 - categorical_accuracy: 0.9325 - val_loss: 0.5965 - val_categorical_accuracy: 0.8460\n",
      "Epoch 6/30\n",
      "1318/1318 [==============================] - 14s 11ms/step - loss: 0.2695 - categorical_accuracy: 0.9234 - val_loss: 0.5934 - val_categorical_accuracy: 0.8425\n",
      "Epoch 7/30\n",
      "1318/1318 [==============================] - 15s 12ms/step - loss: 0.2536 - categorical_accuracy: 0.9355 - val_loss: 0.5912 - val_categorical_accuracy: 0.8425\n",
      "Epoch 8/30\n",
      "1318/1318 [==============================] - 16s 12ms/step - loss: 0.2611 - categorical_accuracy: 0.9370 - val_loss: 0.5876 - val_categorical_accuracy: 0.8425\n",
      "Epoch 9/30\n",
      "1318/1318 [==============================] - 15s 11ms/step - loss: 0.2549 - categorical_accuracy: 0.9347 - val_loss: 0.5818 - val_categorical_accuracy: 0.8425\n",
      "Epoch 10/30\n",
      "1318/1318 [==============================] - 16s 12ms/step - loss: 0.2336 - categorical_accuracy: 0.9408 - val_loss: 0.5812 - val_categorical_accuracy: 0.8442\n",
      "Epoch 11/30\n",
      "1318/1318 [==============================] - 14s 11ms/step - loss: 0.2713 - categorical_accuracy: 0.9287 - val_loss: 0.5784 - val_categorical_accuracy: 0.8460\n",
      "Epoch 12/30\n",
      "1318/1318 [==============================] - 15s 12ms/step - loss: 0.2658 - categorical_accuracy: 0.9165 - val_loss: 0.5840 - val_categorical_accuracy: 0.8442\n",
      "Epoch 13/30\n",
      "1318/1318 [==============================] - 16s 12ms/step - loss: 0.2498 - categorical_accuracy: 0.9332 - val_loss: 0.5882 - val_categorical_accuracy: 0.8425\n",
      "Epoch 14/30\n",
      "1318/1318 [==============================] - 16s 12ms/step - loss: 0.2590 - categorical_accuracy: 0.9302 - val_loss: 0.5857 - val_categorical_accuracy: 0.8442\n",
      "Epoch 15/30\n",
      "1318/1318 [==============================] - 16s 12ms/step - loss: 0.2215 - categorical_accuracy: 0.9446 - val_loss: 0.5890 - val_categorical_accuracy: 0.8425\n",
      "Epoch 16/30\n",
      "1318/1318 [==============================] - 16s 12ms/step - loss: 0.2523 - categorical_accuracy: 0.9340 - val_loss: 0.5870 - val_categorical_accuracy: 0.8425\n",
      "Epoch 17/30\n",
      "1318/1318 [==============================] - 16s 12ms/step - loss: 0.2411 - categorical_accuracy: 0.9378 - val_loss: 0.5777 - val_categorical_accuracy: 0.8478\n",
      "Epoch 18/30\n",
      "1318/1318 [==============================] - 16s 12ms/step - loss: 0.2346 - categorical_accuracy: 0.9423 - val_loss: 0.5762 - val_categorical_accuracy: 0.8460\n",
      "Epoch 19/30\n",
      "1318/1318 [==============================] - 16s 12ms/step - loss: 0.2481 - categorical_accuracy: 0.9287 - val_loss: 0.5760 - val_categorical_accuracy: 0.8478\n",
      "Epoch 20/30\n",
      "1318/1318 [==============================] - 16s 12ms/step - loss: 0.2319 - categorical_accuracy: 0.9454 - val_loss: 0.5738 - val_categorical_accuracy: 0.8460\n",
      "Epoch 21/30\n",
      "1318/1318 [==============================] - 16s 12ms/step - loss: 0.2361 - categorical_accuracy: 0.9363 - val_loss: 0.5765 - val_categorical_accuracy: 0.8460\n",
      "Epoch 22/30\n",
      "1318/1318 [==============================] - 16s 12ms/step - loss: 0.2203 - categorical_accuracy: 0.9454 - val_loss: 0.5773 - val_categorical_accuracy: 0.8442\n",
      "Epoch 23/30\n",
      "1318/1318 [==============================] - 15s 11ms/step - loss: 0.2333 - categorical_accuracy: 0.9416 - val_loss: 0.5752 - val_categorical_accuracy: 0.8460\n",
      "Epoch 24/30\n",
      "1318/1318 [==============================] - 14s 11ms/step - loss: 0.2214 - categorical_accuracy: 0.9408 - val_loss: 0.5743 - val_categorical_accuracy: 0.8442\n",
      "Epoch 25/30\n",
      "1318/1318 [==============================] - 14s 11ms/step - loss: 0.2173 - categorical_accuracy: 0.9446 - val_loss: 0.5813 - val_categorical_accuracy: 0.8513\n",
      "Epoch 26/30\n",
      "1318/1318 [==============================] - 17s 13ms/step - loss: 0.2158 - categorical_accuracy: 0.9454 - val_loss: 0.5773 - val_categorical_accuracy: 0.8442\n",
      "Epoch 27/30\n",
      "1318/1318 [==============================] - 16s 12ms/step - loss: 0.2188 - categorical_accuracy: 0.9492 - val_loss: 0.5808 - val_categorical_accuracy: 0.8442\n",
      "Epoch 28/30\n",
      "1318/1318 [==============================] - 16s 12ms/step - loss: 0.2175 - categorical_accuracy: 0.9401 - val_loss: 0.5784 - val_categorical_accuracy: 0.8460\n",
      "Epoch 29/30\n",
      "1318/1318 [==============================] - 17s 13ms/step - loss: 0.2249 - categorical_accuracy: 0.9347 - val_loss: 0.5757 - val_categorical_accuracy: 0.8442\n",
      "Epoch 30/30\n",
      "1318/1318 [==============================] - 16s 12ms/step - loss: 0.2199 - categorical_accuracy: 0.9454 - val_loss: 0.5741 - val_categorical_accuracy: 0.8460\n"
     ]
    },
    {
     "data": {
      "text/plain": [
       "<keras.callbacks.History at 0x7f7cd07c7278>"
      ]
     },
     "execution_count": 16,
     "metadata": {},
     "output_type": "execute_result"
    }
   ],
   "source": [
    "new_adam = keras.optimizers.Adam(lr=0.00005, beta_1=0.9, beta_2=0.999, epsilon=1e-08, decay=0.0)\n",
    "base_model.compile(optimizer=new_adam,\n",
    "              loss='categorical_crossentropy',\n",
    "              metrics=['categorical_accuracy'])\n",
    "base_model.fit(x_train,y_train,epochs=30,batch_size=32,validation_split=0.3)"
   ]
  },
  {
   "cell_type": "markdown",
   "metadata": {},
   "source": [
    "### confusion matrix"
   ]
  },
  {
   "cell_type": "code",
   "execution_count": 18,
   "metadata": {},
   "outputs": [
    {
     "name": "stdout",
     "output_type": "stream",
     "text": [
      "confusion matrix for (53, 53) features (base):\n",
      "[[ 1  0  0 ...,  0  0  0]\n",
      " [ 0 13  0 ...,  0  0  0]\n",
      " [ 0  1 29 ...,  0  0  0]\n",
      " ..., \n",
      " [ 0  0  0 ...,  0  0  0]\n",
      " [ 0  1  0 ...,  0  5  0]\n",
      " [ 0  0  0 ...,  0  0  0]]\n"
     ]
    },
    {
     "data": {
      "text/plain": [
       "<matplotlib.axes._subplots.AxesSubplot at 0x7fc92fbe9208>"
      ]
     },
     "execution_count": 18,
     "metadata": {},
     "output_type": "execute_result"
    },
    {
     "data": {
      "image/png": "[encoded data removed]",
      "text/plain": [
       "<matplotlib.figure.Figure at 0x7fc92fbbae80>"
      ]
     },
     "metadata": {},
     "output_type": "display_data"
    }
   ],
   "source": [
    "from sklearn.metrics import confusion_matrix\n",
    "import seaborn as sns\n",
    "\n",
    "y_pred = base_model.predict_classes(x_train)\n",
    "y_original = np.argmax(y_train, axis=1)\n",
    "\n",
    "cm = confusion_matrix(y_original, y_pred)\n",
    "print('confusion matrix for {} features (base):'.format(cm.shape))\n",
    "print(cm)\n",
    "\n",
    "fig, ax = plt.subplots(figsize=(20,20))\n",
    "sns.heatmap(cm, cmap=sns.light_palette('purple', n_colors=500, as_cmap=True), annot=True, linewidths = 5, ax=ax)"
   ]
  },
  {
   "cell_type": "markdown",
   "metadata": {},
   "source": [
    "# DOT CLASS"
   ]
  },
  {
   "cell_type": "code",
   "execution_count": 21,
   "metadata": {
    "collapsed": true
   },
   "outputs": [],
   "source": [
    "y_train_dot = np_utils.to_categorical(dot_class)"
   ]
  },
  {
   "cell_type": "code",
   "execution_count": 22,
   "metadata": {},
   "outputs": [
    {
     "name": "stdout",
     "output_type": "stream",
     "text": [
      "Train on 1318 samples, validate on 565 samples\n",
      "Epoch 1/10\n",
      "1318/1318 [==============================] - 14s 10ms/step - loss: 0.3286 - categorical_accuracy: 0.9173 - val_loss: 0.3455 - val_categorical_accuracy: 0.9133\n",
      "Epoch 2/10\n",
      "1318/1318 [==============================] - 13s 10ms/step - loss: 0.2883 - categorical_accuracy: 0.9340 - val_loss: 0.3437 - val_categorical_accuracy: 0.9133\n",
      "Epoch 3/10\n",
      "1318/1318 [==============================] - 13s 10ms/step - loss: 0.2945 - categorical_accuracy: 0.9340 - val_loss: 0.3500 - val_categorical_accuracy: 0.9133\n",
      "Epoch 4/10\n",
      "1318/1318 [==============================] - 13s 10ms/step - loss: 0.2811 - categorical_accuracy: 0.9340 - val_loss: 0.3471 - val_categorical_accuracy: 0.9133\n",
      "Epoch 5/10\n",
      "1318/1318 [==============================] - 15s 11ms/step - loss: 0.2894 - categorical_accuracy: 0.9340 - val_loss: 0.3661 - val_categorical_accuracy: 0.9133\n",
      "Epoch 6/10\n",
      "1318/1318 [==============================] - 14s 10ms/step - loss: 0.2607 - categorical_accuracy: 0.9340 - val_loss: 0.3632 - val_categorical_accuracy: 0.9133\n",
      "Epoch 7/10\n",
      "1318/1318 [==============================] - 13s 10ms/step - loss: 0.2631 - categorical_accuracy: 0.9340 - val_loss: 0.3222 - val_categorical_accuracy: 0.9133\n",
      "Epoch 8/10\n",
      "1318/1318 [==============================] - 15s 11ms/step - loss: 0.2383 - categorical_accuracy: 0.9340 - val_loss: 0.3114 - val_categorical_accuracy: 0.9133\n",
      "Epoch 9/10\n",
      "1318/1318 [==============================] - 14s 11ms/step - loss: 0.2274 - categorical_accuracy: 0.9325 - val_loss: 0.3002 - val_categorical_accuracy: 0.9133\n",
      "Epoch 10/10\n",
      "1318/1318 [==============================] - 15s 11ms/step - loss: 0.2184 - categorical_accuracy: 0.9385 - val_loss: 0.2716 - val_categorical_accuracy: 0.9133\n"
     ]
    },
    {
     "data": {
      "text/plain": [
       "<keras.callbacks.History at 0x7fc9075ea390>"
      ]
     },
     "execution_count": 22,
     "metadata": {},
     "output_type": "execute_result"
    }
   ],
   "source": [
    "dot_model = Sequential()\n",
    "\n",
    "dot_model.add(Conv2D(16,(3,3),input_shape = (img_shape[0],img_shape[1],1),activation = 'relu'))\n",
    "dot_model.add(Conv2D(16,(3,3),activation = 'relu'))\n",
    "dot_model.add(MaxPooling2D())\n",
    "dot_model.add(Conv2D(32,(3,3),activation = 'relu'))\n",
    "dot_model.add(Conv2D(32,(3,3),activation = 'relu'))\n",
    "dot_model.add(MaxPooling2D())\n",
    "dot_model.add(Conv2D(64,(3,3),activation = 'relu'))\n",
    "dot_model.add(Conv2D(64,(3,3),activation = 'relu'))\n",
    "dot_model.add(MaxPooling2D())\n",
    "dot_model.add(Flatten())\n",
    "dot_model.add(Dense(64,activation = 'sigmoid'))\n",
    "dot_model.add(Dropout(0.5))\n",
    "dot_model.add(Dense(len(set(dot_class)),activation = 'softmax'))\n",
    "\n",
    "dot_model.compile(optimizer='adam',\n",
    "              loss='categorical_crossentropy',\n",
    "              metrics=['categorical_accuracy'])\n",
    "\n",
    "dot_model.fit(x_train,y_train_dot,epochs=10,batch_size=32,validation_split=0.3)"
   ]
  },
  {
   "cell_type": "code",
   "execution_count": 23,
   "metadata": {},
   "outputs": [
    {
     "name": "stdout",
     "output_type": "stream",
     "text": [
      "Train on 1318 samples, validate on 565 samples\n",
      "Epoch 1/5\n",
      "1318/1318 [==============================] - 14s 11ms/step - loss: 0.1919 - categorical_accuracy: 0.9370 - val_loss: 0.2505 - val_categorical_accuracy: 0.9239\n",
      "Epoch 2/5\n",
      "1318/1318 [==============================] - 13s 10ms/step - loss: 0.1771 - categorical_accuracy: 0.9423 - val_loss: 0.2391 - val_categorical_accuracy: 0.9327\n",
      "Epoch 3/5\n",
      "1318/1318 [==============================] - 13s 10ms/step - loss: 0.1693 - categorical_accuracy: 0.9431 - val_loss: 0.2263 - val_categorical_accuracy: 0.9345\n",
      "Epoch 4/5\n",
      "1318/1318 [==============================] - 13s 10ms/step - loss: 0.1494 - categorical_accuracy: 0.9446 - val_loss: 0.2225 - val_categorical_accuracy: 0.9345\n",
      "Epoch 5/5\n",
      "1318/1318 [==============================] - 13s 10ms/step - loss: 0.1418 - categorical_accuracy: 0.9446 - val_loss: 0.2289 - val_categorical_accuracy: 0.9327\n"
     ]
    },
    {
     "data": {
      "text/plain": [
       "<keras.callbacks.History at 0x7fc9077f1e10>"
      ]
     },
     "execution_count": 23,
     "metadata": {},
     "output_type": "execute_result"
    }
   ],
   "source": [
    "new_adam = keras.optimizers.Adam(lr=0.0005, beta_1=0.9, beta_2=0.999, epsilon=1e-08, decay=0.0)\n",
    "dot_model.compile(optimizer=new_adam,\n",
    "              loss='categorical_crossentropy',\n",
    "              metrics=['categorical_accuracy'])\n",
    "dot_model.fit(x_train,y_train_dot,epochs=5,batch_size=64,validation_split=0.3)"
   ]
  },
  {
   "cell_type": "markdown",
   "metadata": {},
   "source": [
    "### confusion matrix:"
   ]
  },
  {
   "cell_type": "code",
   "execution_count": 24,
   "metadata": {},
   "outputs": [
    {
     "name": "stdout",
     "output_type": "stream",
     "text": [
      "confusion matrix for (3, 3) features (dot):\n",
      "[[1737   10    0]\n",
      " [  68   49    0]\n",
      " [  19    0    0]]\n"
     ]
    },
    {
     "data": {
      "text/plain": [
       "<matplotlib.axes._subplots.AxesSubplot at 0x7fc90692b208>"
      ]
     },
     "execution_count": 24,
     "metadata": {},
     "output_type": "execute_result"
    },
    {
     "data": {
      "image/png": "[encoded data removed]",
      "text/plain": [
       "<matplotlib.figure.Figure at 0x7fc906927978>"
      ]
     },
     "metadata": {},
     "output_type": "display_data"
    }
   ],
   "source": [
    "from sklearn.metrics import confusion_matrix\n",
    "import seaborn as sns\n",
    "\n",
    "y_pred = dot_model.predict_classes(x_train)\n",
    "y_original = np.argmax(y_train_dot, axis=1)\n",
    "\n",
    "cm = confusion_matrix(y_original, y_pred)\n",
    "print('confusion matrix for {} features (dot):'.format(cm.shape))\n",
    "print(cm)\n",
    "\n",
    "#fig, ax = plt.subplots(figsize=(20,20))\n",
    "sns.heatmap(cm, cmap=sns.light_palette('purple', n_colors=500, as_cmap=True), annot=True, linewidths = 5)"
   ]
  },
  {
   "cell_type": "markdown",
   "metadata": {},
   "source": [
    "# MATRA CLASS"
   ]
  },
  {
   "cell_type": "code",
   "execution_count": 25,
   "metadata": {},
   "outputs": [
    {
     "name": "stdout",
     "output_type": "stream",
     "text": [
      "(1883, 16)\n"
     ]
    }
   ],
   "source": [
    "le_matra = LabelEncoder()\n",
    "le_matra.fit(matra_class)\n",
    "y_labeled_matra = le_matra.transform(matra_class)\n",
    "y_train_matra = np_utils.to_categorical(y_labeled_matra)\n",
    "\n",
    "print(y_train_matra.shape)"
   ]
  },
  {
   "cell_type": "code",
   "execution_count": 23,
   "metadata": {
    "scrolled": false
   },
   "outputs": [
    {
     "name": "stdout",
     "output_type": "stream",
     "text": [
      "Train on 1318 samples, validate on 565 samples\n",
      "Epoch 1/35\n",
      "1318/1318 [==============================] - 16s 12ms/step - loss: 0.1779 - categorical_accuracy: 0.4469 - val_loss: 0.1635 - val_categorical_accuracy: 0.4690\n",
      "Epoch 2/35\n",
      "1318/1318 [==============================] - 15s 11ms/step - loss: 0.1537 - categorical_accuracy: 0.4894 - val_loss: 0.1284 - val_categorical_accuracy: 0.5522\n",
      "Epoch 3/35\n",
      "1318/1318 [==============================] - 18s 13ms/step - loss: 0.1251 - categorical_accuracy: 0.5903 - val_loss: 0.1182 - val_categorical_accuracy: 0.6230\n",
      "Epoch 4/35\n",
      "1318/1318 [==============================] - 17s 13ms/step - loss: 0.1109 - categorical_accuracy: 0.6533 - val_loss: 0.0901 - val_categorical_accuracy: 0.7292\n",
      "Epoch 5/35\n",
      "1318/1318 [==============================] - 16s 12ms/step - loss: 0.0928 - categorical_accuracy: 0.7033 - val_loss: 0.0763 - val_categorical_accuracy: 0.7681\n",
      "Epoch 6/35\n",
      "1318/1318 [==============================] - 17s 13ms/step - loss: 0.0818 - categorical_accuracy: 0.7489 - val_loss: 0.0697 - val_categorical_accuracy: 0.7912\n",
      "Epoch 7/35\n",
      "1318/1318 [==============================] - 17s 13ms/step - loss: 0.0779 - categorical_accuracy: 0.7511 - val_loss: 0.0658 - val_categorical_accuracy: 0.8000\n",
      "Epoch 8/35\n",
      "1318/1318 [==============================] - 16s 13ms/step - loss: 0.0689 - categorical_accuracy: 0.7807 - val_loss: 0.0777 - val_categorical_accuracy: 0.7929\n",
      "Epoch 9/35\n",
      "1318/1318 [==============================] - 15s 12ms/step - loss: 0.0690 - categorical_accuracy: 0.7754 - val_loss: 0.0587 - val_categorical_accuracy: 0.8212\n",
      "Epoch 10/35\n",
      "1318/1318 [==============================] - 15s 12ms/step - loss: 0.0634 - categorical_accuracy: 0.7876 - val_loss: 0.0600 - val_categorical_accuracy: 0.8265\n",
      "Epoch 11/35\n",
      "1318/1318 [==============================] - 15s 11ms/step - loss: 0.0618 - categorical_accuracy: 0.8073 - val_loss: 0.0596 - val_categorical_accuracy: 0.8195\n",
      "Epoch 12/35\n",
      "1318/1318 [==============================] - 16s 12ms/step - loss: 0.0600 - categorical_accuracy: 0.8149 - val_loss: 0.0573 - val_categorical_accuracy: 0.8354\n",
      "Epoch 13/35\n",
      "1318/1318 [==============================] - 15s 11ms/step - loss: 0.0546 - categorical_accuracy: 0.8323 - val_loss: 0.0581 - val_categorical_accuracy: 0.8372\n",
      "Epoch 14/35\n",
      "1318/1318 [==============================] - 14s 11ms/step - loss: 0.0519 - categorical_accuracy: 0.8445 - val_loss: 0.0505 - val_categorical_accuracy: 0.8602\n",
      "Epoch 15/35\n",
      "1318/1318 [==============================] - 14s 11ms/step - loss: 0.0500 - categorical_accuracy: 0.8498 - val_loss: 0.0489 - val_categorical_accuracy: 0.8690\n",
      "Epoch 16/35\n",
      "1318/1318 [==============================] - 14s 11ms/step - loss: 0.0482 - categorical_accuracy: 0.8634 - val_loss: 0.0472 - val_categorical_accuracy: 0.8779\n",
      "Epoch 17/35\n",
      "1318/1318 [==============================] - 14s 11ms/step - loss: 0.0488 - categorical_accuracy: 0.8551 - val_loss: 0.0460 - val_categorical_accuracy: 0.8726\n",
      "Epoch 18/35\n",
      "1318/1318 [==============================] - 14s 11ms/step - loss: 0.0446 - categorical_accuracy: 0.8710 - val_loss: 0.0462 - val_categorical_accuracy: 0.8779\n",
      "Epoch 19/35\n",
      "1318/1318 [==============================] - 14s 11ms/step - loss: 0.0418 - categorical_accuracy: 0.8778 - val_loss: 0.0453 - val_categorical_accuracy: 0.8779\n",
      "Epoch 20/35\n",
      "1318/1318 [==============================] - 16s 12ms/step - loss: 0.0408 - categorical_accuracy: 0.8703 - val_loss: 0.0442 - val_categorical_accuracy: 0.8850\n",
      "Epoch 21/35\n",
      "1318/1318 [==============================] - 16s 12ms/step - loss: 0.0366 - categorical_accuracy: 0.8991 - val_loss: 0.0414 - val_categorical_accuracy: 0.8938\n",
      "Epoch 22/35\n",
      "1318/1318 [==============================] - 15s 11ms/step - loss: 0.0353 - categorical_accuracy: 0.9021 - val_loss: 0.0422 - val_categorical_accuracy: 0.8920\n",
      "Epoch 23/35\n",
      "1318/1318 [==============================] - 16s 12ms/step - loss: 0.0339 - categorical_accuracy: 0.9067 - val_loss: 0.0419 - val_categorical_accuracy: 0.8956\n",
      "Epoch 24/35\n",
      "1318/1318 [==============================] - 16s 12ms/step - loss: 0.0323 - categorical_accuracy: 0.9044 - val_loss: 0.0441 - val_categorical_accuracy: 0.8973\n",
      "Epoch 25/35\n",
      "1318/1318 [==============================] - 16s 12ms/step - loss: 0.0297 - categorical_accuracy: 0.9196 - val_loss: 0.0413 - val_categorical_accuracy: 0.9009\n",
      "Epoch 26/35\n",
      "1318/1318 [==============================] - 16s 12ms/step - loss: 0.0314 - categorical_accuracy: 0.9074 - val_loss: 0.0384 - val_categorical_accuracy: 0.9115\n",
      "Epoch 27/35\n",
      "1318/1318 [==============================] - 16s 12ms/step - loss: 0.0328 - categorical_accuracy: 0.9067 - val_loss: 0.0419 - val_categorical_accuracy: 0.9009\n",
      "Epoch 28/35\n",
      "1318/1318 [==============================] - 16s 12ms/step - loss: 0.0281 - categorical_accuracy: 0.9211 - val_loss: 0.0428 - val_categorical_accuracy: 0.9027\n",
      "Epoch 29/35\n",
      "1318/1318 [==============================] - 16s 12ms/step - loss: 0.0288 - categorical_accuracy: 0.9203 - val_loss: 0.0468 - val_categorical_accuracy: 0.8885\n",
      "Epoch 30/35\n",
      "1318/1318 [==============================] - 17s 13ms/step - loss: 0.0292 - categorical_accuracy: 0.9181 - val_loss: 0.0408 - val_categorical_accuracy: 0.9080\n",
      "Epoch 31/35\n",
      "1318/1318 [==============================] - 16s 12ms/step - loss: 0.0274 - categorical_accuracy: 0.9241 - val_loss: 0.0393 - val_categorical_accuracy: 0.8991\n",
      "Epoch 32/35\n",
      "1318/1318 [==============================] - 16s 12ms/step - loss: 0.0248 - categorical_accuracy: 0.9347 - val_loss: 0.0395 - val_categorical_accuracy: 0.9133\n",
      "Epoch 33/35\n",
      "1318/1318 [==============================] - 15s 11ms/step - loss: 0.0241 - categorical_accuracy: 0.9325 - val_loss: 0.0433 - val_categorical_accuracy: 0.9115\n",
      "Epoch 34/35\n",
      "1318/1318 [==============================] - 16s 12ms/step - loss: 0.0225 - categorical_accuracy: 0.9378 - val_loss: 0.0364 - val_categorical_accuracy: 0.9204\n",
      "Epoch 35/35\n",
      "1318/1318 [==============================] - 15s 11ms/step - loss: 0.0208 - categorical_accuracy: 0.9454 - val_loss: 0.0387 - val_categorical_accuracy: 0.9168\n"
     ]
    },
    {
     "data": {
      "text/plain": [
       "<keras.callbacks.History at 0x7f7cb9222828>"
      ]
     },
     "execution_count": 23,
     "metadata": {},
     "output_type": "execute_result"
    }
   ],
   "source": [
    "matra_model = Sequential()\n",
    "\n",
    "matra_model.add(Conv2D(16,(3,3),input_shape = (img_shape[0],img_shape[1],1),activation = 'relu'))\n",
    "matra_model.add(Conv2D(16,(3,3),activation = 'relu'))\n",
    "matra_model.add(MaxPooling2D())\n",
    "matra_model.add(Conv2D(32,(3,3),activation = 'relu'))\n",
    "matra_model.add(Conv2D(32,(3,3),activation = 'relu'))\n",
    "matra_model.add(MaxPooling2D())\n",
    "matra_model.add(Conv2D(64,(3,3),activation = 'relu'))\n",
    "matra_model.add(Conv2D(64,(3,3),activation = 'relu'))\n",
    "matra_model.add(MaxPooling2D())\n",
    "matra_model.add(MaxPooling2D())\n",
    "matra_model.add(Dropout(0.5))\n",
    "matra_model.add(Flatten())\n",
    "matra_model.add(Dense(128,activation = 'sigmoid'))\n",
    "matra_model.add(Dropout(0.25))\n",
    "matra_model.add(Dense(len(set(matra_class)),activation = 'softmax'))\n",
    "\n",
    "matra_model.compile(optimizer='adam',\n",
    "              loss='binary_crossentropy',\n",
    "              metrics=['categorical_accuracy'])\n",
    "\n",
    "matra_model.fit(x_train,y_train_matra,epochs=35,batch_size=32,validation_split=0.3)"
   ]
  },
  {
   "cell_type": "code",
   "execution_count": 28,
   "metadata": {},
   "outputs": [
    {
     "name": "stdout",
     "output_type": "stream",
     "text": [
      "Train on 1318 samples, validate on 565 samples\n",
      "Epoch 1/15\n",
      "1318/1318 [==============================] - 12s 9ms/step - loss: 0.1608 - categorical_accuracy: 0.9545 - val_loss: 0.3796 - val_categorical_accuracy: 0.9168\n",
      "Epoch 2/15\n",
      "1318/1318 [==============================] - 14s 11ms/step - loss: 0.1682 - categorical_accuracy: 0.9431 - val_loss: 0.3748 - val_categorical_accuracy: 0.9186\n",
      "Epoch 3/15\n",
      "1318/1318 [==============================] - 13s 10ms/step - loss: 0.1570 - categorical_accuracy: 0.9484 - val_loss: 0.3781 - val_categorical_accuracy: 0.9186\n",
      "Epoch 4/15\n",
      "1318/1318 [==============================] - 14s 10ms/step - loss: 0.1580 - categorical_accuracy: 0.9530 - val_loss: 0.3848 - val_categorical_accuracy: 0.9168\n",
      "Epoch 5/15\n",
      "1318/1318 [==============================] - 15s 11ms/step - loss: 0.1593 - categorical_accuracy: 0.9575 - val_loss: 0.3815 - val_categorical_accuracy: 0.9168\n",
      "Epoch 6/15\n",
      "1318/1318 [==============================] - 16s 12ms/step - loss: 0.1722 - categorical_accuracy: 0.9575 - val_loss: 0.3812 - val_categorical_accuracy: 0.9168\n",
      "Epoch 7/15\n",
      "1318/1318 [==============================] - 17s 13ms/step - loss: 0.1580 - categorical_accuracy: 0.9590 - val_loss: 0.3806 - val_categorical_accuracy: 0.9150\n",
      "Epoch 8/15\n",
      "1318/1318 [==============================] - 16s 12ms/step - loss: 0.1618 - categorical_accuracy: 0.9568 - val_loss: 0.3753 - val_categorical_accuracy: 0.9186\n",
      "Epoch 9/15\n",
      "1318/1318 [==============================] - 16s 12ms/step - loss: 0.1425 - categorical_accuracy: 0.9552 - val_loss: 0.3764 - val_categorical_accuracy: 0.9186\n",
      "Epoch 10/15\n",
      "1318/1318 [==============================] - 16s 12ms/step - loss: 0.1565 - categorical_accuracy: 0.9552 - val_loss: 0.3834 - val_categorical_accuracy: 0.9168\n",
      "Epoch 11/15\n",
      "1318/1318 [==============================] - 16s 12ms/step - loss: 0.1488 - categorical_accuracy: 0.9522 - val_loss: 0.3773 - val_categorical_accuracy: 0.9168\n",
      "Epoch 12/15\n",
      "1318/1318 [==============================] - 16s 12ms/step - loss: 0.1534 - categorical_accuracy: 0.9560 - val_loss: 0.3768 - val_categorical_accuracy: 0.9204\n",
      "Epoch 13/15\n",
      "1318/1318 [==============================] - 16s 12ms/step - loss: 0.1476 - categorical_accuracy: 0.9590 - val_loss: 0.3765 - val_categorical_accuracy: 0.9204\n",
      "Epoch 14/15\n",
      "1318/1318 [==============================] - 14s 11ms/step - loss: 0.1576 - categorical_accuracy: 0.9560 - val_loss: 0.3805 - val_categorical_accuracy: 0.9204\n",
      "Epoch 15/15\n",
      "1318/1318 [==============================] - 14s 11ms/step - loss: 0.1532 - categorical_accuracy: 0.9560 - val_loss: 0.3785 - val_categorical_accuracy: 0.9204\n"
     ]
    },
    {
     "data": {
      "text/plain": [
       "<keras.callbacks.History at 0x7f7ca6e13438>"
      ]
     },
     "execution_count": 28,
     "metadata": {},
     "output_type": "execute_result"
    }
   ],
   "source": [
    "new_adam = keras.optimizers.Adam(lr=0.00005, beta_1=0.9, beta_2=0.999, epsilon=1e-08, decay=0.0)\n",
    "matra_model.compile(optimizer=new_adam,\n",
    "              loss='categorical_crossentropy',\n",
    "              metrics=['categorical_accuracy'])\n",
    "matra_model.fit(x_train,y_train_matra,epochs=20,batch_size=32,validation_split=0.3)"
   ]
  },
  {
   "cell_type": "markdown",
   "metadata": {},
   "source": [
    "### confusion matrix"
   ]
  },
  {
   "cell_type": "code",
   "execution_count": 25,
   "metadata": {},
   "outputs": [
    {
     "name": "stdout",
     "output_type": "stream",
     "text": [
      "1883/1883 [==============================] - 6s 3ms/step\n",
      "confusion matrix for (16, 16) features (matra):\n",
      "[[892   0   4   2   0   3   2   0   0   0   0   1   0   0   0   0]\n",
      " [  0   0   7   0   0   0   0   0   0   0   0   0   0   0   0   0]\n",
      " [  5   0 284   0   0   0   0   0   0   0   0   0   0   0   0   0]\n",
      " [  0   0   0 179   0   0   0   0   0   1   0   0   0   0   0   0]\n",
      " [  1   0   2   1 137   0   0   0   0   0   1   0   0   0   0   0]\n",
      " [  3   0   0   0   0  39   0   0   0   0   0   0   0   0   0   0]\n",
      " [ 11   0   0   0   1   0  16   0   0   0   0   0   0   0   0   0]\n",
      " [  1   0   0   0   0   0   0   0   0   0   0   0   0   0   0   0]\n",
      " [  2   0   0   1   0   0   0   0  81   0   0   0   0   0   0   0]\n",
      " [  0   0   0   4   0   0   0   0   1  78   0   3   0   0   0   0]\n",
      " [  0   0   0   0   6   0   0   0   3   0  46   1   0   0   0   0]\n",
      " [  0   0   1   0   0   0   0   0   0   4   1  53   0   0   0   0]\n",
      " [  0   0   1   0   0   0   0   0   0   0   0   0   0   0   0   0]\n",
      " [  1   0   0   0   0   0   0   0   0   0   0   0   0   0   0   0]\n",
      " [  1   0   0   0   0   0   0   0   0   0   0   0   0   0   0   0]\n",
      " [  2   0   0   0   0   0   0   0   0   0   0   0   0   0   0   0]]\n"
     ]
    },
    {
     "data": {
      "text/plain": [
       "<matplotlib.axes._subplots.AxesSubplot at 0x7f7cb85a5f60>"
      ]
     },
     "execution_count": 25,
     "metadata": {},
     "output_type": "execute_result"
    },
    {
     "data": {
      "image/png": "[encoded data removed]",
      "text/plain": [
       "<matplotlib.figure.Figure at 0x7f7cb85a5940>"
      ]
     },
     "metadata": {},
     "output_type": "display_data"
    }
   ],
   "source": [
    "from sklearn.metrics import confusion_matrix\n",
    "import seaborn as sns\n",
    "\n",
    "y_pred = matra_model.predict_classes(x_train)\n",
    "y_original = np.argmax(y_train_matra, axis=1)\n",
    "\n",
    "cm = confusion_matrix(y_original, y_pred)\n",
    "print('confusion matrix for {} features (matra):'.format(cm.shape))\n",
    "print(cm)\n",
    "\n",
    "fig, ax = plt.subplots(figsize=(20,20))\n",
    "sns.heatmap(cm, cmap=sns.light_palette('purple', n_colors=500, as_cmap=True), annot=True, linewidths = 5, ax=ax)"
   ]
  },
  {
   "cell_type": "markdown",
   "metadata": {},
   "source": []
  },
  {
   "cell_type": "markdown",
   "metadata": {},
   "source": [
    "# Dumping Models to Disk"
   ]
  },
  {
   "cell_type": "code",
   "execution_count": 26,
   "metadata": {
    "collapsed": true
   },
   "outputs": [],
   "source": [
    "dot_model.save('models/dot_model3k.model')\n",
    "matra_model.save('models/matra_model3k.model')\n",
    "base_model.save('models/base_model3k.model')"
   ]
  },
  {
   "cell_type": "code",
   "execution_count": 27,
   "metadata": {
    "collapsed": true
   },
   "outputs": [],
   "source": [
    "from keras.models import load_model\n",
    "\n",
    "dot_model2 = load_model('models/dot_model3k.model')\n",
    "matra_model2 = load_model('models/matra_model3k.model')\n",
    "base_model2 = load_model('models/base_model3k.model')\n",
    "\n"
   ]
  },
  {
   "cell_type": "markdown",
   "metadata": {},
   "source": [
    "# Half Characters"
   ]
  },
  {
   "cell_type": "code",
   "execution_count": 27,
   "metadata": {},
   "outputs": [
    {
     "data": {
      "text/plain": [
       "array([2310, 2311, 2312, 2313, 2315, 2319, 2325, 2327, 2328, 2330, 2331,\n",
       "       2332, 2334, 2335, 2336, 2337, 2338, 2340, 2341, 2342, 2343, 2344,\n",
       "       2346, 2347, 2348, 2349, 2350, 2351, 2352, 2353, 2354, 2357, 2358,\n",
       "       2359, 2360, 2361, 2384, 2392, 2399, 2404, 2405, 2406, 2407, 2408,\n",
       "       2409, 2410, 2411, 2412, 2413, 2414, 2415, 2424, 2429])"
      ]
     },
     "execution_count": 27,
     "metadata": {},
     "output_type": "execute_result"
    }
   ],
   "source": [
    "le.classes_"
   ]
  },
  {
   "cell_type": "code",
   "execution_count": 29,
   "metadata": {},
   "outputs": [
    {
     "data": {
      "text/plain": [
       "array([   0, 2363, 2366, 2367, 2368, 2369, 2370, 2372, 2375, 2376, 2379,\n",
       "       2380, 2382, 2384, 2387, 2390])"
      ]
     },
     "execution_count": 29,
     "metadata": {},
     "output_type": "execute_result"
    }
   ],
   "source": [
    "le_matra.classes_"
   ]
  },
  {
   "cell_type": "code",
   "execution_count": null,
   "metadata": {
    "collapsed": true
   },
   "outputs": [],
   "source": []
  }
 ],
 "metadata": {
  "kernelspec": {
   "display_name": "Python 3",
   "language": "python",
   "name": "python3"
  },
  "language_info": {
   "codemirror_mode": {
    "name": "ipython",
    "version": 3
   },
   "file_extension": ".py",
   "mimetype": "text/x-python",
   "name": "python",
   "nbconvert_exporter": "python",
   "pygments_lexer": "ipython3",
   "version": "3.5.2"
  }
 },
 "nbformat": 4,
 "nbformat_minor": 2
}
