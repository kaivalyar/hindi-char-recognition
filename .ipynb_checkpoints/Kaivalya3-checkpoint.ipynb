{
 "cells": [
  {
   "cell_type": "code",
   "execution_count": 37,
   "metadata": {
    "collapsed": true
   },
   "outputs": [],
   "source": [
    "import os\n",
    "import numpy as np\n",
    "import pandas as pd\n",
    "import cv2\n",
    "import matplotlib.pyplot as plt\n",
    "\n",
    "from skimage import io, morphology, img_as_bool, segmentation\n",
    "from scipy import ndimage as ndi\n",
    "from scipy.ndimage.morphology import binary_fill_holes\n",
    "\n",
    "%matplotlib inline"
   ]
  },
  {
   "cell_type": "code",
   "execution_count": 38,
   "metadata": {
    "collapsed": true
   },
   "outputs": [],
   "source": [
    "img_shape = (64,64)"
   ]
  },
  {
   "cell_type": "code",
   "execution_count": 39,
   "metadata": {
    "collapsed": true
   },
   "outputs": [],
   "source": [
    "def pad_resize(img):\n",
    "    top = int((224 - img.shape[0])/2)\n",
    "    left = int((224 - img.shape[1])/2)\n",
    "    bottom = 224 - img.shape[0] - top\n",
    "    right = 224 - img.shape[1] - left\n",
    "    img = cv2.copyMakeBorder(img, top, bottom, left, right, cv2.BORDER_CONSTANT, value=255)\n",
    "    img = img/255.\n",
    "    img = cv2.resize(img, img_shape) #KADD\n",
    "    return img\n",
    "\n",
    "def skeletonize(img):\n",
    "    size = np.size(img)\n",
    "    skel = np.zeros(img.shape,np.uint8)\n",
    "    img = cv2.bitwise_not(img)\n",
    "#     element = cv2.getStructuringElement(cv2.MORPH_CROSS,(1,1))\n",
    "#     done = 0\n",
    "#     while( done < 1 ):\n",
    "#         eroded = cv2.erode(img,element)\n",
    "#         temp = cv2.dilate(eroded,element)\n",
    "#         temp = cv2.subtract(img,temp)\n",
    "#         skel = cv2.bitwise_or(skel,temp)\n",
    "#         img = eroded.copy()\n",
    "\n",
    "#         zeros = size - cv2.countNonZero(img)\n",
    "#         if zeros==size:#cv2.countNonZero(img) * 1 >= 0:#\n",
    "#             done += 1\n",
    "#     img = skel\n",
    "    kernel = np.ones((3,3),np.uint8)\n",
    "    erosion = cv2.erode(img,kernel,iterations = 2)\n",
    "    img = cv2.bitwise_not(erosion)\n",
    "    return img"
   ]
  },
  {
   "cell_type": "code",
   "execution_count": 40,
   "metadata": {
    "scrolled": true
   },
   "outputs": [
    {
     "name": "stdout",
     "output_type": "stream",
     "text": [
      "page7_16_10_2350_2417.png dropped!\n",
      "100 Done\n",
      "page3_6_0_2327_2417.png dropped!\n",
      "page6_1_1_2340_2375_2379.png dropped!\n",
      "200 Done\n",
      "page7_3_0_2319_2366_2367.png dropped!\n",
      "300 Done\n",
      "page0_8_8_2330_2375_2379.png dropped!\n",
      "400 Done\n",
      "page6_10_6_2325_2366_2380.png dropped!\n",
      "page0_9_15_2332_2375_2379.png dropped!\n",
      "500 Done\n",
      "600 Done\n",
      "700 Done\n",
      "page3_18_4_2332_2366_2379.png dropped!\n",
      "page3_12_0_2357_2364_2416.png dropped!\n",
      "800 Done\n",
      "900 Done\n",
      "page7_3_13_2319_2366_2367.png dropped!\n",
      "1000 Done\n",
      "1100 Done\n",
      "1200 Done\n",
      "1300 Done\n",
      "1400 Done\n",
      "page5_7_8_2325_2367_2388.png dropped!\n",
      "1500 Done\n",
      "page2_4_20_2346_2366_2390.png dropped!\n",
      "1600 Done\n",
      "1700 Done\n",
      "1800 Done\n"
     ]
    }
   ],
   "source": [
    "PATH = '../train_images_modified'\n",
    "images = []\n",
    "base_class = []\n",
    "matra_class = []\n",
    "dot_class = []\n",
    "total_class = []\n",
    "for filename in os.listdir(PATH):\n",
    "    if filename.endswith(\".png\"):\n",
    "        img = cv2.imread(os.path.join(PATH,filename),0)\n",
    "        blur = cv2.GaussianBlur(img,(9,9),0)# KADD\n",
    "        a,img = cv2.threshold(blur,127,255,cv2.THRESH_BINARY+cv2.THRESH_OTSU)#KEDIT\n",
    "#         kernel = np.ones((5,5),np.uint8)\n",
    "#         img = cv2.morphologyEx(img, cv2.MORPH_CLOSE, kernel)\n",
    "#         plt.imshow(img, cmap='gray')\n",
    "#         plt.show()\n",
    "#        img = skeletonize(img)\n",
    "        img = pad_resize(img)\n",
    "        blur = cv2.GaussianBlur(img,(9,9),0)# KADD\n",
    "        char_arr = filename[:-4].split('_')[3:]\n",
    "        if(len(char_arr)>0):\n",
    "            char_arr = [int(i) for i in char_arr]\n",
    "            base = [i for i in char_arr if (i>=2308 and i<=2361) or (i==2384) or (i>=2392 and i<=2401) or (i>=2404 and i!=2416 and i!=2417)]  \n",
    "            matra = [i for i in char_arr if i>=2362 and i<=2391 and i!=2364 and i!=2362]\n",
    "            dot = [i for i in char_arr if i==2306 or i==2416 or i==2362 or i==2364]\n",
    "            if(len(matra)>1 or len(dot)>1 or len(base)>1 or (len(matra)==0 and len(dot)==0 and len(char_arr)==2)):\n",
    "                print(filename+\" dropped!\")\n",
    "            else:\n",
    "                images.append(img)\n",
    "                base_class.append(base[0])\n",
    "                if(len(matra)==1):\n",
    "                    matra_class.append(matra[0])\n",
    "                else:\n",
    "                    matra_class.append(0)\n",
    "\n",
    "                if len(dot)==1:\n",
    "                    if dot[0] == 2364:\n",
    "                        dot_class.append(2)\n",
    "                    else:\n",
    "                        dot_class.append(1)\n",
    "                else:\n",
    "                    dot_class.append(0)\n",
    "\n",
    "                if len(images)%100==0:\n",
    "                    print(\"{} Done\".format(len(images)))\n",
    "            "
   ]
  },
  {
   "cell_type": "code",
   "execution_count": 41,
   "metadata": {},
   "outputs": [
    {
     "data": {
      "image/png": "[encoded data removed]",
      "text/plain": [
       "<matplotlib.figure.Figure at 0x7faaffbb87f0>"
      ]
     },
     "metadata": {},
     "output_type": "display_data"
    },
    {
     "name": "stdout",
     "output_type": "stream",
     "text": [
      "1883\n",
      "1883\n"
     ]
    }
   ],
   "source": [
    "plt.imshow(images[10],\"gray\")\n",
    "plt.show()\n",
    "print(len(images))\n",
    "print(len(dot_class))"
   ]
  },
  {
   "cell_type": "code",
   "execution_count": 42,
   "metadata": {},
   "outputs": [
    {
     "data": {
      "text/plain": [
       "[2392, 2353, 2384, 2415, 2310, 2414]"
      ]
     },
     "execution_count": 42,
     "metadata": {},
     "output_type": "execute_result"
    }
   ],
   "source": [
    "len(set(base_class))\n",
    "freq = {i:base_class.count(i) for i in base_class}\n",
    "[i for i in freq.keys() if freq[i]==1]"
   ]
  },
  {
   "cell_type": "code",
   "execution_count": 43,
   "metadata": {},
   "outputs": [
    {
     "name": "stdout",
     "output_type": "stream",
     "text": [
      "(1883, 64, 64)\n"
     ]
    }
   ],
   "source": [
    "images = np.array(images)\n",
    "print(images.shape)"
   ]
  },
  {
   "cell_type": "code",
   "execution_count": 44,
   "metadata": {},
   "outputs": [
    {
     "name": "stdout",
     "output_type": "stream",
     "text": [
      "(1883, 53)\n"
     ]
    }
   ],
   "source": [
    "import keras\n",
    "from sklearn.preprocessing import LabelEncoder\n",
    "from keras.utils import np_utils\n",
    "\n",
    "le = LabelEncoder()\n",
    "le.fit(base_class)\n",
    "y_labeled = le.transform(base_class)\n",
    "y_train = np_utils.to_categorical(y_labeled)\n",
    "print(y_train.shape)"
   ]
  },
  {
   "cell_type": "code",
   "execution_count": 45,
   "metadata": {},
   "outputs": [
    {
     "name": "stdout",
     "output_type": "stream",
     "text": [
      "(1883, 64, 64, 1)\n"
     ]
    }
   ],
   "source": [
    "x_train = np.reshape(images,(-1,img_shape[0],img_shape[1],1))\n",
    "print(x_train.shape)"
   ]
  },
  {
   "cell_type": "code",
   "execution_count": 46,
   "metadata": {
    "collapsed": true
   },
   "outputs": [],
   "source": [
    "from keras.models import Sequential\n",
    "from keras.layers import Dense,Dropout,Conv2D,MaxPooling2D,Flatten\n",
    "from keras.optimizers import Adam\n",
    "\n",
    "base_model = Sequential()\n",
    "\n",
    "base_model.add(Conv2D(16,(3,3),input_shape = (img_shape[0],img_shape[1],1),activation = 'relu'))\n",
    "base_model.add(Conv2D(16,(3,3),activation = 'relu'))\n",
    "base_model.add(MaxPooling2D())\n",
    "base_model.add(Conv2D(32,(3,3),activation = 'relu'))\n",
    "base_model.add(Conv2D(32,(3,3),activation = 'relu'))\n",
    "base_model.add(MaxPooling2D())\n",
    "base_model.add(Conv2D(64,(3,3),activation = 'relu'))\n",
    "base_model.add(Conv2D(64,(3,3),activation = 'relu'))\n",
    "base_model.add(MaxPooling2D())\n",
    "base_model.add(MaxPooling2D())\n",
    "base_model.add(Dropout(0.5))\n",
    "base_model.add(Flatten())\n",
    "base_model.add(Dense(256,activation = 'sigmoid'))\n",
    "base_model.add(Dropout(0.25))\n",
    "base_model.add(Dense(len(set(base_class)),activation = 'softmax'))"
   ]
  },
  {
   "cell_type": "code",
   "execution_count": 47,
   "metadata": {},
   "outputs": [
    {
     "name": "stdout",
     "output_type": "stream",
     "text": [
      "_________________________________________________________________\n",
      "Layer (type)                 Output Shape              Param #   \n",
      "=================================================================\n",
      "conv2d_25 (Conv2D)           (None, 62, 62, 16)        160       \n",
      "_________________________________________________________________\n",
      "conv2d_26 (Conv2D)           (None, 60, 60, 16)        2320      \n",
      "_________________________________________________________________\n",
      "max_pooling2d_14 (MaxPooling (None, 30, 30, 16)        0         \n",
      "_________________________________________________________________\n",
      "conv2d_27 (Conv2D)           (None, 28, 28, 32)        4640      \n",
      "_________________________________________________________________\n",
      "conv2d_28 (Conv2D)           (None, 26, 26, 32)        9248      \n",
      "_________________________________________________________________\n",
      "max_pooling2d_15 (MaxPooling (None, 13, 13, 32)        0         \n",
      "_________________________________________________________________\n",
      "conv2d_29 (Conv2D)           (None, 11, 11, 64)        18496     \n",
      "_________________________________________________________________\n",
      "conv2d_30 (Conv2D)           (None, 9, 9, 64)          36928     \n",
      "_________________________________________________________________\n",
      "max_pooling2d_16 (MaxPooling (None, 4, 4, 64)          0         \n",
      "_________________________________________________________________\n",
      "max_pooling2d_17 (MaxPooling (None, 2, 2, 64)          0         \n",
      "_________________________________________________________________\n",
      "dropout_6 (Dropout)          (None, 2, 2, 64)          0         \n",
      "_________________________________________________________________\n",
      "flatten_5 (Flatten)          (None, 256)               0         \n",
      "_________________________________________________________________\n",
      "dense_9 (Dense)              (None, 256)               65792     \n",
      "_________________________________________________________________\n",
      "dropout_7 (Dropout)          (None, 256)               0         \n",
      "_________________________________________________________________\n",
      "dense_10 (Dense)             (None, 53)                13621     \n",
      "=================================================================\n",
      "Total params: 151,205\n",
      "Trainable params: 151,205\n",
      "Non-trainable params: 0\n",
      "_________________________________________________________________\n"
     ]
    }
   ],
   "source": [
    "base_model.summary()"
   ]
  },
  {
   "cell_type": "code",
   "execution_count": 48,
   "metadata": {
    "collapsed": true
   },
   "outputs": [],
   "source": [
    "import keras.backend as K\n",
    "\n",
    "def f1_score(theta):\n",
    "    def score(y_true, y_pred):\n",
    "\n",
    "        y_thresh = K.cast(K.greater(y_pred,theta),K.floatx())\n",
    "\n",
    "        true_pos =  K.sum(y_true * y_thresh)\n",
    "        false_pos = K.sum(y_true * (1. - y_thresh))\n",
    "        false_neg = K.sum((1. - y_true) * y_thresh)\n",
    "\n",
    "        precision = true_pos / (true_pos + false_pos)\n",
    "        recall = true_pos / (true_pos + false_neg)\n",
    "        \n",
    "        f1_score_val = 2 * (precision * recall) / (precision + recall)\n",
    "        return f1_score_val\n",
    "    return score"
   ]
  },
  {
   "cell_type": "code",
   "execution_count": 49,
   "metadata": {
    "collapsed": true
   },
   "outputs": [],
   "source": [
    "base_model.compile(optimizer='adam',\n",
    "              loss='categorical_crossentropy', metrics=['categorical_accuracy'])"
   ]
  },
  {
   "cell_type": "code",
   "execution_count": 50,
   "metadata": {
    "scrolled": false
   },
   "outputs": [
    {
     "name": "stdout",
     "output_type": "stream",
     "text": [
      "Train on 1318 samples, validate on 565 samples\n",
      "Epoch 1/30\n",
      "1318/1318 [==============================] - 15s 12ms/step - loss: 3.5461 - categorical_accuracy: 0.0683 - val_loss: 3.3575 - val_categorical_accuracy: 0.1168\n",
      "Epoch 2/30\n",
      "1318/1318 [==============================] - 13s 10ms/step - loss: 3.4030 - categorical_accuracy: 0.0819 - val_loss: 3.3496 - val_categorical_accuracy: 0.1168\n",
      "Epoch 3/30\n",
      "1318/1318 [==============================] - 13s 10ms/step - loss: 3.3695 - categorical_accuracy: 0.0956 - val_loss: 3.2736 - val_categorical_accuracy: 0.1788\n",
      "Epoch 4/30\n",
      "1318/1318 [==============================] - 13s 10ms/step - loss: 3.0624 - categorical_accuracy: 0.2041 - val_loss: 2.8632 - val_categorical_accuracy: 0.2195\n",
      "Epoch 5/30\n",
      "1318/1318 [==============================] - 14s 11ms/step - loss: 2.6489 - categorical_accuracy: 0.3194 - val_loss: 2.2157 - val_categorical_accuracy: 0.4301\n",
      "Epoch 6/30\n",
      "1318/1318 [==============================] - 14s 11ms/step - loss: 2.2080 - categorical_accuracy: 0.4385 - val_loss: 1.8605 - val_categorical_accuracy: 0.4920\n",
      "Epoch 7/30\n",
      "1318/1318 [==============================] - 14s 11ms/step - loss: 1.9150 - categorical_accuracy: 0.4939 - val_loss: 1.5391 - val_categorical_accuracy: 0.5770\n",
      "Epoch 8/30\n",
      "1318/1318 [==============================] - 14s 11ms/step - loss: 1.6510 - categorical_accuracy: 0.5766 - val_loss: 1.4093 - val_categorical_accuracy: 0.6301\n",
      "Epoch 9/30\n",
      "1318/1318 [==============================] - 15s 12ms/step - loss: 1.4430 - categorical_accuracy: 0.6123 - val_loss: 1.2924 - val_categorical_accuracy: 0.6619\n",
      "Epoch 10/30\n",
      "1318/1318 [==============================] - 22s 17ms/step - loss: 1.3615 - categorical_accuracy: 0.6290 - val_loss: 1.1437 - val_categorical_accuracy: 0.6973\n",
      "Epoch 11/30\n",
      "1318/1318 [==============================] - 22s 16ms/step - loss: 1.2214 - categorical_accuracy: 0.6677 - val_loss: 1.0589 - val_categorical_accuracy: 0.7115\n",
      "Epoch 12/30\n",
      "1318/1318 [==============================] - 16s 12ms/step - loss: 1.1183 - categorical_accuracy: 0.7049 - val_loss: 1.0566 - val_categorical_accuracy: 0.7221\n",
      "Epoch 13/30\n",
      "1318/1318 [==============================] - 14s 11ms/step - loss: 1.0164 - categorical_accuracy: 0.7291 - val_loss: 0.9886 - val_categorical_accuracy: 0.7345\n",
      "Epoch 14/30\n",
      "1318/1318 [==============================] - 14s 11ms/step - loss: 0.9767 - categorical_accuracy: 0.7314 - val_loss: 0.8911 - val_categorical_accuracy: 0.7788\n",
      "Epoch 15/30\n",
      "1318/1318 [==============================] - 15s 11ms/step - loss: 0.9279 - categorical_accuracy: 0.7496 - val_loss: 0.8926 - val_categorical_accuracy: 0.7717\n",
      "Epoch 16/30\n",
      "1318/1318 [==============================] - 18s 14ms/step - loss: 0.8369 - categorical_accuracy: 0.7618 - val_loss: 0.8277 - val_categorical_accuracy: 0.7717\n",
      "Epoch 17/30\n",
      "1318/1318 [==============================] - 16s 12ms/step - loss: 0.7681 - categorical_accuracy: 0.7785 - val_loss: 0.7754 - val_categorical_accuracy: 0.8000\n",
      "Epoch 18/30\n",
      "1318/1318 [==============================] - 16s 12ms/step - loss: 0.7223 - categorical_accuracy: 0.7914 - val_loss: 0.7855 - val_categorical_accuracy: 0.8071\n",
      "Epoch 19/30\n",
      "1318/1318 [==============================] - 14s 10ms/step - loss: 0.7038 - categorical_accuracy: 0.8065 - val_loss: 0.7925 - val_categorical_accuracy: 0.7876\n",
      "Epoch 20/30\n",
      "1318/1318 [==============================] - 14s 10ms/step - loss: 0.6439 - categorical_accuracy: 0.8209 - val_loss: 0.7476 - val_categorical_accuracy: 0.8035\n",
      "Epoch 21/30\n",
      "1318/1318 [==============================] - 15s 11ms/step - loss: 0.6295 - categorical_accuracy: 0.8209 - val_loss: 0.6926 - val_categorical_accuracy: 0.8248\n",
      "Epoch 22/30\n",
      "1318/1318 [==============================] - 14s 10ms/step - loss: 0.6247 - categorical_accuracy: 0.8270 - val_loss: 0.6548 - val_categorical_accuracy: 0.8389\n",
      "Epoch 23/30\n",
      "1318/1318 [==============================] - 13s 10ms/step - loss: 0.5872 - categorical_accuracy: 0.8316 - val_loss: 0.6778 - val_categorical_accuracy: 0.8230\n",
      "Epoch 24/30\n",
      "1318/1318 [==============================] - 13s 10ms/step - loss: 0.5440 - categorical_accuracy: 0.8407 - val_loss: 0.6511 - val_categorical_accuracy: 0.8425\n",
      "Epoch 25/30\n",
      "1318/1318 [==============================] - 13s 10ms/step - loss: 0.5250 - categorical_accuracy: 0.8566 - val_loss: 0.6468 - val_categorical_accuracy: 0.8319\n",
      "Epoch 26/30\n",
      "1318/1318 [==============================] - 25s 19ms/step - loss: 0.4847 - categorical_accuracy: 0.8566 - val_loss: 0.5973 - val_categorical_accuracy: 0.8531\n",
      "Epoch 27/30\n",
      "1318/1318 [==============================] - 14s 11ms/step - loss: 0.4430 - categorical_accuracy: 0.8725 - val_loss: 0.5834 - val_categorical_accuracy: 0.8513\n",
      "Epoch 28/30\n",
      "1318/1318 [==============================] - 15s 11ms/step - loss: 0.4115 - categorical_accuracy: 0.8862 - val_loss: 0.6112 - val_categorical_accuracy: 0.8566\n",
      "Epoch 29/30\n",
      "1318/1318 [==============================] - 22s 16ms/step - loss: 0.3940 - categorical_accuracy: 0.8816 - val_loss: 0.6334 - val_categorical_accuracy: 0.8301\n",
      "Epoch 30/30\n",
      "1318/1318 [==============================] - 17s 13ms/step - loss: 0.4197 - categorical_accuracy: 0.8733 - val_loss: 0.5943 - val_categorical_accuracy: 0.8460\n"
     ]
    },
    {
     "data": {
      "text/plain": [
       "<keras.callbacks.History at 0x7faafbcfecc0>"
      ]
     },
     "execution_count": 50,
     "metadata": {},
     "output_type": "execute_result"
    }
   ],
   "source": [
    "base_model.fit(x_train,y_train,epochs=30,batch_size=32,validation_split=0.3)"
   ]
  },
  {
   "cell_type": "code",
   "execution_count": 51,
   "metadata": {},
   "outputs": [
    {
     "name": "stdout",
     "output_type": "stream",
     "text": [
      "Train on 1318 samples, validate on 565 samples\n",
      "Epoch 1/30\n",
      "1318/1318 [==============================] - 14s 11ms/step - loss: 0.3274 - categorical_accuracy: 0.9150 - val_loss: 0.5731 - val_categorical_accuracy: 0.8708\n",
      "Epoch 2/30\n",
      "1318/1318 [==============================] - 15s 11ms/step - loss: 0.3068 - categorical_accuracy: 0.9211 - val_loss: 0.5714 - val_categorical_accuracy: 0.8619\n",
      "Epoch 3/30\n",
      "1318/1318 [==============================] - 14s 11ms/step - loss: 0.3264 - categorical_accuracy: 0.9097 - val_loss: 0.5683 - val_categorical_accuracy: 0.8584\n",
      "Epoch 4/30\n",
      "1318/1318 [==============================] - 15s 12ms/step - loss: 0.3002 - categorical_accuracy: 0.9143 - val_loss: 0.5598 - val_categorical_accuracy: 0.8673\n",
      "Epoch 5/30\n",
      "1318/1318 [==============================] - 16s 12ms/step - loss: 0.3012 - categorical_accuracy: 0.9090 - val_loss: 0.5622 - val_categorical_accuracy: 0.8673\n",
      "Epoch 6/30\n",
      "1318/1318 [==============================] - 14s 10ms/step - loss: 0.3037 - categorical_accuracy: 0.9120 - val_loss: 0.5638 - val_categorical_accuracy: 0.8655\n",
      "Epoch 7/30\n",
      "1318/1318 [==============================] - 13s 10ms/step - loss: 0.2858 - categorical_accuracy: 0.9196 - val_loss: 0.5584 - val_categorical_accuracy: 0.8743\n",
      "Epoch 8/30\n",
      "1318/1318 [==============================] - 13s 10ms/step - loss: 0.2878 - categorical_accuracy: 0.9317 - val_loss: 0.5605 - val_categorical_accuracy: 0.8690\n",
      "Epoch 9/30\n",
      "1318/1318 [==============================] - 15s 12ms/step - loss: 0.2985 - categorical_accuracy: 0.9173 - val_loss: 0.5566 - val_categorical_accuracy: 0.8673\n",
      "Epoch 10/30\n",
      "1318/1318 [==============================] - 15s 11ms/step - loss: 0.2953 - categorical_accuracy: 0.9211 - val_loss: 0.5609 - val_categorical_accuracy: 0.8690\n",
      "Epoch 11/30\n",
      "1318/1318 [==============================] - 16s 12ms/step - loss: 0.2721 - categorical_accuracy: 0.9287 - val_loss: 0.5580 - val_categorical_accuracy: 0.8690\n",
      "Epoch 12/30\n",
      "1318/1318 [==============================] - 14s 10ms/step - loss: 0.2843 - categorical_accuracy: 0.9294 - val_loss: 0.5561 - val_categorical_accuracy: 0.8708\n",
      "Epoch 13/30\n",
      "1318/1318 [==============================] - 14s 11ms/step - loss: 0.2483 - categorical_accuracy: 0.9340 - val_loss: 0.5553 - val_categorical_accuracy: 0.8673\n",
      "Epoch 14/30\n",
      "1318/1318 [==============================] - 15s 11ms/step - loss: 0.2675 - categorical_accuracy: 0.9355 - val_loss: 0.5565 - val_categorical_accuracy: 0.8726\n",
      "Epoch 15/30\n",
      "1318/1318 [==============================] - 14s 11ms/step - loss: 0.2609 - categorical_accuracy: 0.9272 - val_loss: 0.5609 - val_categorical_accuracy: 0.8708\n",
      "Epoch 16/30\n",
      "1318/1318 [==============================] - 13s 10ms/step - loss: 0.2623 - categorical_accuracy: 0.9340 - val_loss: 0.5605 - val_categorical_accuracy: 0.8637\n",
      "Epoch 17/30\n",
      "1318/1318 [==============================] - 14s 10ms/step - loss: 0.2514 - categorical_accuracy: 0.9325 - val_loss: 0.5546 - val_categorical_accuracy: 0.8690\n",
      "Epoch 18/30\n",
      "1318/1318 [==============================] - 15s 11ms/step - loss: 0.2574 - categorical_accuracy: 0.9317 - val_loss: 0.5555 - val_categorical_accuracy: 0.8690\n",
      "Epoch 19/30\n",
      "1318/1318 [==============================] - 13s 10ms/step - loss: 0.2577 - categorical_accuracy: 0.9317 - val_loss: 0.5515 - val_categorical_accuracy: 0.8673\n",
      "Epoch 20/30\n",
      "1318/1318 [==============================] - 13s 10ms/step - loss: 0.2465 - categorical_accuracy: 0.9325 - val_loss: 0.5578 - val_categorical_accuracy: 0.8637\n",
      "Epoch 21/30\n",
      "1318/1318 [==============================] - 15s 11ms/step - loss: 0.2570 - categorical_accuracy: 0.9241 - val_loss: 0.5544 - val_categorical_accuracy: 0.8673\n",
      "Epoch 22/30\n",
      "1318/1318 [==============================] - 17s 13ms/step - loss: 0.2534 - categorical_accuracy: 0.9332 - val_loss: 0.5527 - val_categorical_accuracy: 0.8690\n",
      "Epoch 23/30\n",
      "1318/1318 [==============================] - 17s 13ms/step - loss: 0.2427 - categorical_accuracy: 0.9310 - val_loss: 0.5532 - val_categorical_accuracy: 0.8690\n",
      "Epoch 24/30\n",
      "1318/1318 [==============================] - 15s 11ms/step - loss: 0.2503 - categorical_accuracy: 0.9363 - val_loss: 0.5543 - val_categorical_accuracy: 0.8655\n",
      "Epoch 25/30\n",
      "1318/1318 [==============================] - 15s 11ms/step - loss: 0.2360 - categorical_accuracy: 0.9287 - val_loss: 0.5502 - val_categorical_accuracy: 0.8673\n",
      "Epoch 26/30\n",
      "1318/1318 [==============================] - 18s 14ms/step - loss: 0.2453 - categorical_accuracy: 0.9378 - val_loss: 0.5504 - val_categorical_accuracy: 0.8673\n",
      "Epoch 27/30\n",
      "1318/1318 [==============================] - 16s 12ms/step - loss: 0.2232 - categorical_accuracy: 0.9431 - val_loss: 0.5472 - val_categorical_accuracy: 0.8708\n",
      "Epoch 28/30\n",
      "1318/1318 [==============================] - 15s 12ms/step - loss: 0.2251 - categorical_accuracy: 0.9408 - val_loss: 0.5434 - val_categorical_accuracy: 0.8655\n",
      "Epoch 29/30\n",
      "1318/1318 [==============================] - 17s 13ms/step - loss: 0.2313 - categorical_accuracy: 0.9401 - val_loss: 0.5457 - val_categorical_accuracy: 0.8673\n",
      "Epoch 30/30\n",
      "1318/1318 [==============================] - 16s 12ms/step - loss: 0.2302 - categorical_accuracy: 0.9355 - val_loss: 0.5475 - val_categorical_accuracy: 0.8655\n"
     ]
    },
    {
     "data": {
      "text/plain": [
       "<keras.callbacks.History at 0x7faafb442f28>"
      ]
     },
     "execution_count": 51,
     "metadata": {},
     "output_type": "execute_result"
    }
   ],
   "source": [
    "new_adam = keras.optimizers.Adam(lr=0.0001, beta_1=0.9, beta_2=0.999, epsilon=1e-08, decay=0.0)\n",
    "base_model.compile(optimizer=new_adam,\n",
    "              loss='categorical_crossentropy',\n",
    "              metrics=['categorical_accuracy'])\n",
    "base_model.fit(x_train,y_train,epochs=10,batch_size=32,validation_split=0.3)"
   ]
  },
  {
   "cell_type": "code",
   "execution_count": null,
   "metadata": {
    "collapsed": true
   },
   "outputs": [],
   "source": [
    "new_adam = keras.optimizers.Adam(lr=0.00005, beta_1=0.9, beta_2=0.999, epsilon=1e-08, decay=0.0)\n",
    "base_model.compile(optimizer=new_adam,\n",
    "              loss='categorical_crossentropy',\n",
    "              metrics=['categorical_accuracy'])\n",
    "base_model.fit(x_train,y_train,epochs=30,batch_size=32,validation_split=0.3)"
   ]
  },
  {
   "cell_type": "markdown",
   "metadata": {},
   "source": [
    "### confusion matrix"
   ]
  },
  {
   "cell_type": "code",
   "execution_count": 52,
   "metadata": {},
   "outputs": [
    {
     "name": "stdout",
     "output_type": "stream",
     "text": [
      "1883/1883 [==============================] - 6s 3ms/step\n",
      "confusion matrix for (53, 53) features (base):\n",
      "[[ 1  0  0 ...,  0  0  0]\n",
      " [ 0 15  0 ...,  0  0  0]\n",
      " [ 0  0 31 ...,  0  0  0]\n",
      " ..., \n",
      " [ 0  0  0 ...,  0  0  0]\n",
      " [ 0  2  0 ...,  0  4  0]\n",
      " [ 0  0  0 ...,  0  0  4]]\n"
     ]
    },
    {
     "data": {
      "text/plain": [
       "<matplotlib.axes._subplots.AxesSubplot at 0x7faafadbc908>"
      ]
     },
     "execution_count": 52,
     "metadata": {},
     "output_type": "execute_result"
    },
    {
     "data": {
      "image/png": "[encoded data removed]",
      "text/plain": [
       "<matplotlib.figure.Figure at 0x7faafadbc2e8>"
      ]
     },
     "metadata": {},
     "output_type": "display_data"
    }
   ],
   "source": [
    "from sklearn.metrics import confusion_matrix\n",
    "import seaborn as sns\n",
    "\n",
    "y_pred = base_model.predict_classes(x_train)\n",
    "y_original = np.argmax(y_train, axis=1)\n",
    "\n",
    "cm = confusion_matrix(y_original, y_pred)\n",
    "print('confusion matrix for {} features (base):'.format(cm.shape))\n",
    "print(cm)\n",
    "\n",
    "fig, ax = plt.subplots(figsize=(20,20))\n",
    "sns.heatmap(cm, cmap=sns.light_palette('purple', n_colors=500, as_cmap=True), annot=True, linewidths = 5, ax=ax)"
   ]
  },
  {
   "cell_type": "markdown",
   "metadata": {},
   "source": [
    "# DOT CLASS"
   ]
  },
  {
   "cell_type": "code",
   "execution_count": 53,
   "metadata": {
    "collapsed": true
   },
   "outputs": [],
   "source": [
    "y_train_dot = np_utils.to_categorical(dot_class)"
   ]
  },
  {
   "cell_type": "code",
   "execution_count": 54,
   "metadata": {},
   "outputs": [
    {
     "name": "stdout",
     "output_type": "stream",
     "text": [
      "Train on 1318 samples, validate on 565 samples\n",
      "Epoch 1/10\n",
      "1318/1318 [==============================] - 18s 13ms/step - loss: 0.4110 - categorical_accuracy: 0.8945 - val_loss: 0.2369 - val_categorical_accuracy: 0.9434\n",
      "Epoch 2/10\n",
      "1318/1318 [==============================] - 15s 11ms/step - loss: 0.3411 - categorical_accuracy: 0.9211 - val_loss: 0.2401 - val_categorical_accuracy: 0.9434\n",
      "Epoch 3/10\n",
      "1318/1318 [==============================] - 15s 11ms/step - loss: 0.3346 - categorical_accuracy: 0.9211 - val_loss: 0.2355 - val_categorical_accuracy: 0.9434\n",
      "Epoch 4/10\n",
      "1318/1318 [==============================] - 16s 12ms/step - loss: 0.3255 - categorical_accuracy: 0.9211 - val_loss: 0.2383 - val_categorical_accuracy: 0.9434\n",
      "Epoch 5/10\n",
      "1318/1318 [==============================] - 14s 11ms/step - loss: 0.3153 - categorical_accuracy: 0.9196 - val_loss: 0.2117 - val_categorical_accuracy: 0.9434\n",
      "Epoch 6/10\n",
      "1318/1318 [==============================] - 14s 11ms/step - loss: 0.2917 - categorical_accuracy: 0.9211 - val_loss: 0.1888 - val_categorical_accuracy: 0.9434\n",
      "Epoch 7/10\n",
      "1318/1318 [==============================] - 14s 11ms/step - loss: 0.2351 - categorical_accuracy: 0.9272 - val_loss: 0.1749 - val_categorical_accuracy: 0.9434\n",
      "Epoch 8/10\n",
      "1318/1318 [==============================] - 14s 11ms/step - loss: 0.1859 - categorical_accuracy: 0.9370 - val_loss: 0.1566 - val_categorical_accuracy: 0.9504\n",
      "Epoch 9/10\n",
      "1318/1318 [==============================] - 14s 11ms/step - loss: 0.1696 - categorical_accuracy: 0.9514 - val_loss: 0.1446 - val_categorical_accuracy: 0.9558\n",
      "Epoch 10/10\n",
      "1318/1318 [==============================] - 18s 14ms/step - loss: 0.1551 - categorical_accuracy: 0.9522 - val_loss: 0.1482 - val_categorical_accuracy: 0.9504\n"
     ]
    },
    {
     "data": {
      "text/plain": [
       "<keras.callbacks.History at 0x7faaf9930400>"
      ]
     },
     "execution_count": 54,
     "metadata": {},
     "output_type": "execute_result"
    }
   ],
   "source": [
    "dot_model = Sequential()\n",
    "\n",
    "dot_model.add(Conv2D(16,(3,3),input_shape = (img_shape[0],img_shape[1],1),activation = 'relu'))\n",
    "dot_model.add(Conv2D(16,(3,3),activation = 'relu'))\n",
    "dot_model.add(MaxPooling2D())\n",
    "dot_model.add(Conv2D(32,(3,3),activation = 'relu'))\n",
    "dot_model.add(Conv2D(32,(3,3),activation = 'relu'))\n",
    "dot_model.add(MaxPooling2D())\n",
    "dot_model.add(Conv2D(64,(3,3),activation = 'relu'))\n",
    "dot_model.add(Conv2D(64,(3,3),activation = 'relu'))\n",
    "dot_model.add(MaxPooling2D())\n",
    "dot_model.add(Flatten())\n",
    "dot_model.add(Dense(64,activation = 'sigmoid'))\n",
    "dot_model.add(Dropout(0.5))\n",
    "dot_model.add(Dense(len(set(dot_class)),activation = 'softmax'))\n",
    "\n",
    "dot_model.compile(optimizer='adam',\n",
    "              loss='categorical_crossentropy',\n",
    "              metrics=['categorical_accuracy'])\n",
    "\n",
    "dot_model.fit(x_train,y_train_dot,epochs=10,batch_size=32,validation_split=0.3)"
   ]
  },
  {
   "cell_type": "code",
   "execution_count": 55,
   "metadata": {},
   "outputs": [
    {
     "name": "stdout",
     "output_type": "stream",
     "text": [
      "Train on 1318 samples, validate on 565 samples\n",
      "Epoch 1/20\n",
      "1318/1318 [==============================] - 15s 11ms/step - loss: 0.1238 - categorical_accuracy: 0.9575 - val_loss: 0.1452 - val_categorical_accuracy: 0.9558\n",
      "Epoch 2/20\n",
      "1318/1318 [==============================] - 15s 11ms/step - loss: 0.1029 - categorical_accuracy: 0.9628 - val_loss: 0.1388 - val_categorical_accuracy: 0.9504\n",
      "Epoch 3/20\n",
      "1318/1318 [==============================] - 13s 10ms/step - loss: 0.0985 - categorical_accuracy: 0.9659 - val_loss: 0.1540 - val_categorical_accuracy: 0.9575\n",
      "Epoch 4/20\n",
      "1318/1318 [==============================] - 13s 10ms/step - loss: 0.0856 - categorical_accuracy: 0.9666 - val_loss: 0.1472 - val_categorical_accuracy: 0.9593\n",
      "Epoch 5/20\n",
      "1318/1318 [==============================] - 13s 10ms/step - loss: 0.0678 - categorical_accuracy: 0.9765 - val_loss: 0.1512 - val_categorical_accuracy: 0.9504\n",
      "Epoch 6/20\n",
      "1318/1318 [==============================] - 13s 10ms/step - loss: 0.0616 - categorical_accuracy: 0.9765 - val_loss: 0.1490 - val_categorical_accuracy: 0.9504\n",
      "Epoch 7/20\n",
      "1318/1318 [==============================] - 13s 10ms/step - loss: 0.0585 - categorical_accuracy: 0.9818 - val_loss: 0.1515 - val_categorical_accuracy: 0.9504\n",
      "Epoch 8/20\n",
      "1318/1318 [==============================] - 14s 10ms/step - loss: 0.0464 - categorical_accuracy: 0.9833 - val_loss: 0.1608 - val_categorical_accuracy: 0.9504\n",
      "Epoch 9/20\n",
      "1318/1318 [==============================] - 15s 12ms/step - loss: 0.0423 - categorical_accuracy: 0.9871 - val_loss: 0.1540 - val_categorical_accuracy: 0.9558\n",
      "Epoch 10/20\n",
      "1318/1318 [==============================] - 18s 14ms/step - loss: 0.0384 - categorical_accuracy: 0.9894 - val_loss: 0.1608 - val_categorical_accuracy: 0.9558\n",
      "Epoch 11/20\n",
      "1318/1318 [==============================] - 15s 12ms/step - loss: 0.0288 - categorical_accuracy: 0.9932 - val_loss: 0.1703 - val_categorical_accuracy: 0.9504\n",
      "Epoch 12/20\n",
      "1318/1318 [==============================] - 15s 11ms/step - loss: 0.0265 - categorical_accuracy: 0.9939 - val_loss: 0.1682 - val_categorical_accuracy: 0.9522\n",
      "Epoch 13/20\n",
      "1318/1318 [==============================] - 14s 11ms/step - loss: 0.0219 - categorical_accuracy: 0.9954 - val_loss: 0.1796 - val_categorical_accuracy: 0.9504\n",
      "Epoch 14/20\n",
      "1318/1318 [==============================] - 14s 11ms/step - loss: 0.0189 - categorical_accuracy: 0.9962 - val_loss: 0.1941 - val_categorical_accuracy: 0.9540\n",
      "Epoch 15/20\n",
      "1318/1318 [==============================] - 14s 11ms/step - loss: 0.0186 - categorical_accuracy: 0.9962 - val_loss: 0.1739 - val_categorical_accuracy: 0.9558\n",
      "Epoch 16/20\n",
      "1318/1318 [==============================] - 14s 11ms/step - loss: 0.0149 - categorical_accuracy: 0.9977 - val_loss: 0.1802 - val_categorical_accuracy: 0.9558\n",
      "Epoch 17/20\n",
      "1318/1318 [==============================] - 14s 11ms/step - loss: 0.0162 - categorical_accuracy: 0.9947 - val_loss: 0.1722 - val_categorical_accuracy: 0.9522\n",
      "Epoch 18/20\n",
      "1318/1318 [==============================] - 14s 11ms/step - loss: 0.0128 - categorical_accuracy: 0.9977 - val_loss: 0.1893 - val_categorical_accuracy: 0.9558\n",
      "Epoch 19/20\n",
      "1318/1318 [==============================] - 14s 11ms/step - loss: 0.0129 - categorical_accuracy: 0.9970 - val_loss: 0.1856 - val_categorical_accuracy: 0.9540\n",
      "Epoch 20/20\n",
      "1318/1318 [==============================] - 15s 11ms/step - loss: 0.0125 - categorical_accuracy: 0.9970 - val_loss: 0.2056 - val_categorical_accuracy: 0.9575\n"
     ]
    },
    {
     "data": {
      "text/plain": [
       "<keras.callbacks.History at 0x7faaf9358fd0>"
      ]
     },
     "execution_count": 55,
     "metadata": {},
     "output_type": "execute_result"
    }
   ],
   "source": [
    "new_adam = keras.optimizers.Adam(lr=0.0005, beta_1=0.9, beta_2=0.999, epsilon=1e-08, decay=0.0)\n",
    "dot_model.compile(optimizer=new_adam,\n",
    "              loss='categorical_crossentropy',\n",
    "              metrics=['categorical_accuracy'])\n",
    "dot_model.fit(x_train,y_train_dot,epochs=5,batch_size=64,validation_split=0.3)"
   ]
  },
  {
   "cell_type": "markdown",
   "metadata": {},
   "source": [
    "### confusion matrix:"
   ]
  },
  {
   "cell_type": "code",
   "execution_count": 56,
   "metadata": {},
   "outputs": [
    {
     "name": "stdout",
     "output_type": "stream",
     "text": [
      "1883/1883 [==============================] - 6s 3ms/step\n",
      "confusion matrix for (3, 3) features (dot):\n",
      "[[1742    5    0]\n",
      " [  18   99    0]\n",
      " [   2    0   17]]\n"
     ]
    },
    {
     "data": {
      "text/plain": [
       "<matplotlib.axes._subplots.AxesSubplot at 0x7faaf8ba16d8>"
      ]
     },
     "execution_count": 56,
     "metadata": {},
     "output_type": "execute_result"
    },
    {
     "data": {
      "image/png": "[encoded data removed]",
      "text/plain": [
       "<matplotlib.figure.Figure at 0x7faafae596a0>"
      ]
     },
     "metadata": {},
     "output_type": "display_data"
    }
   ],
   "source": [
    "from sklearn.metrics import confusion_matrix\n",
    "import seaborn as sns\n",
    "\n",
    "y_pred = dot_model.predict_classes(x_train)\n",
    "y_original = np.argmax(y_train_dot, axis=1)\n",
    "\n",
    "cm = confusion_matrix(y_original, y_pred)\n",
    "print('confusion matrix for {} features (dot):'.format(cm.shape))\n",
    "print(cm)\n",
    "\n",
    "#fig, ax = plt.subplots(figsize=(20,20))\n",
    "sns.heatmap(cm, cmap=sns.light_palette('purple', n_colors=500, as_cmap=True), annot=True, linewidths = 5)"
   ]
  },
  {
   "cell_type": "markdown",
   "metadata": {},
   "source": [
    "# MATRA CLASS"
   ]
  },
  {
   "cell_type": "code",
   "execution_count": 57,
   "metadata": {},
   "outputs": [
    {
     "name": "stdout",
     "output_type": "stream",
     "text": [
      "(1883, 16)\n"
     ]
    }
   ],
   "source": [
    "le_matra = LabelEncoder()\n",
    "le_matra.fit(matra_class)\n",
    "y_labeled_matra = le_matra.transform(matra_class)\n",
    "y_train_matra = np_utils.to_categorical(y_labeled_matra)\n",
    "\n",
    "print(y_train_matra.shape)"
   ]
  },
  {
   "cell_type": "code",
   "execution_count": 58,
   "metadata": {},
   "outputs": [
    {
     "name": "stdout",
     "output_type": "stream",
     "text": [
      "Train on 1318 samples, validate on 565 samples\n",
      "Epoch 1/20\n",
      "1318/1318 [==============================] - 16s 12ms/step - loss: 0.1783 - categorical_accuracy: 0.4545 - val_loss: 0.1656 - val_categorical_accuracy: 0.4690\n",
      "Epoch 2/20\n",
      "1318/1318 [==============================] - 15s 11ms/step - loss: 0.1654 - categorical_accuracy: 0.4818 - val_loss: 0.1606 - val_categorical_accuracy: 0.4690\n",
      "Epoch 3/20\n",
      "1318/1318 [==============================] - 15s 11ms/step - loss: 0.1503 - categorical_accuracy: 0.5046 - val_loss: 0.1214 - val_categorical_accuracy: 0.6549\n",
      "Epoch 4/20\n",
      "1318/1318 [==============================] - 15s 11ms/step - loss: 0.1237 - categorical_accuracy: 0.6032 - val_loss: 0.0981 - val_categorical_accuracy: 0.6973\n",
      "Epoch 5/20\n",
      "1318/1318 [==============================] - 16s 12ms/step - loss: 0.0976 - categorical_accuracy: 0.6973 - val_loss: 0.0837 - val_categorical_accuracy: 0.7540\n",
      "Epoch 6/20\n",
      "1318/1318 [==============================] - 15s 11ms/step - loss: 0.0807 - categorical_accuracy: 0.7602 - val_loss: 0.0733 - val_categorical_accuracy: 0.7770\n",
      "Epoch 7/20\n",
      "1318/1318 [==============================] - 14s 11ms/step - loss: 0.0765 - categorical_accuracy: 0.7527 - val_loss: 0.0672 - val_categorical_accuracy: 0.8071\n",
      "Epoch 8/20\n",
      "1318/1318 [==============================] - 15s 11ms/step - loss: 0.0685 - categorical_accuracy: 0.7929 - val_loss: 0.0643 - val_categorical_accuracy: 0.8195\n",
      "Epoch 9/20\n",
      "1318/1318 [==============================] - 15s 11ms/step - loss: 0.0633 - categorical_accuracy: 0.8103 - val_loss: 0.0569 - val_categorical_accuracy: 0.8283\n",
      "Epoch 10/20\n",
      "1318/1318 [==============================] - 21s 16ms/step - loss: 0.0620 - categorical_accuracy: 0.8149 - val_loss: 0.0583 - val_categorical_accuracy: 0.8319\n",
      "Epoch 11/20\n",
      "1318/1318 [==============================] - 22s 17ms/step - loss: 0.0562 - categorical_accuracy: 0.8202 - val_loss: 0.0582 - val_categorical_accuracy: 0.8389\n",
      "Epoch 12/20\n",
      "1318/1318 [==============================] - 13s 10ms/step - loss: 0.0522 - categorical_accuracy: 0.8346 - val_loss: 0.0540 - val_categorical_accuracy: 0.8602\n",
      "Epoch 13/20\n",
      "1318/1318 [==============================] - 14s 11ms/step - loss: 0.0518 - categorical_accuracy: 0.8361 - val_loss: 0.0541 - val_categorical_accuracy: 0.8584\n",
      "Epoch 14/20\n",
      "1318/1318 [==============================] - 14s 10ms/step - loss: 0.0480 - categorical_accuracy: 0.8589 - val_loss: 0.0484 - val_categorical_accuracy: 0.8566\n",
      "Epoch 15/20\n",
      "1318/1318 [==============================] - 14s 11ms/step - loss: 0.0459 - categorical_accuracy: 0.8718 - val_loss: 0.0513 - val_categorical_accuracy: 0.8354\n",
      "Epoch 16/20\n",
      "1318/1318 [==============================] - 17s 13ms/step - loss: 0.0467 - categorical_accuracy: 0.8566 - val_loss: 0.0447 - val_categorical_accuracy: 0.8814\n",
      "Epoch 17/20\n",
      "1318/1318 [==============================] - 18s 13ms/step - loss: 0.0417 - categorical_accuracy: 0.8816 - val_loss: 0.0425 - val_categorical_accuracy: 0.8903\n",
      "Epoch 18/20\n",
      "1318/1318 [==============================] - 16s 12ms/step - loss: 0.0396 - categorical_accuracy: 0.8794 - val_loss: 0.0420 - val_categorical_accuracy: 0.8920\n",
      "Epoch 19/20\n",
      "1318/1318 [==============================] - 16s 12ms/step - loss: 0.0406 - categorical_accuracy: 0.8771 - val_loss: 0.0422 - val_categorical_accuracy: 0.9044\n",
      "Epoch 20/20\n",
      "1318/1318 [==============================] - 15s 11ms/step - loss: 0.0367 - categorical_accuracy: 0.8923 - val_loss: 0.0417 - val_categorical_accuracy: 0.9027\n"
     ]
    },
    {
     "data": {
      "text/plain": [
       "<keras.callbacks.History at 0x7faaf89057f0>"
      ]
     },
     "execution_count": 58,
     "metadata": {},
     "output_type": "execute_result"
    }
   ],
   "source": [
    "matra_model = Sequential()\n",
    "\n",
    "matra_model.add(Conv2D(16,(3,3),input_shape = (img_shape[0],img_shape[1],1),activation = 'relu'))\n",
    "matra_model.add(Conv2D(16,(3,3),activation = 'relu'))\n",
    "matra_model.add(MaxPooling2D())\n",
    "matra_model.add(Conv2D(32,(3,3),activation = 'relu'))\n",
    "matra_model.add(Conv2D(32,(3,3),activation = 'relu'))\n",
    "matra_model.add(MaxPooling2D())\n",
    "matra_model.add(Conv2D(64,(3,3),activation = 'relu'))\n",
    "matra_model.add(Conv2D(64,(3,3),activation = 'relu'))\n",
    "matra_model.add(MaxPooling2D())\n",
    "matra_model.add(MaxPooling2D())\n",
    "matra_model.add(Dropout(0.5))\n",
    "matra_model.add(Flatten())\n",
    "matra_model.add(Dense(128,activation = 'sigmoid'))\n",
    "matra_model.add(Dropout(0.25))\n",
    "matra_model.add(Dense(len(set(matra_class)),activation = 'softmax'))\n",
    "\n",
    "matra_model.compile(optimizer='adam',\n",
    "              loss='binary_crossentropy',\n",
    "              metrics=['categorical_accuracy'])\n",
    "\n",
    "matra_model.fit(x_train,y_train_matra,epochs=35,batch_size=32,validation_split=0.3)"
   ]
  },
  {
   "cell_type": "code",
   "execution_count": 59,
   "metadata": {},
   "outputs": [
    {
     "name": "stdout",
     "output_type": "stream",
     "text": [
      "Train on 1318 samples, validate on 565 samples\n",
      "Epoch 1/30\n",
      "1318/1318 [==============================] - 15s 11ms/step - loss: 0.3058 - categorical_accuracy: 0.9127 - val_loss: 0.3739 - val_categorical_accuracy: 0.9044\n",
      "Epoch 2/30\n",
      "1318/1318 [==============================] - 15s 12ms/step - loss: 0.3035 - categorical_accuracy: 0.9188 - val_loss: 0.3717 - val_categorical_accuracy: 0.9062\n",
      "Epoch 3/30\n",
      "1318/1318 [==============================] - 16s 12ms/step - loss: 0.2879 - categorical_accuracy: 0.9241 - val_loss: 0.3759 - val_categorical_accuracy: 0.9044\n",
      "Epoch 4/30\n",
      "1318/1318 [==============================] - 20s 15ms/step - loss: 0.2928 - categorical_accuracy: 0.9143 - val_loss: 0.3688 - val_categorical_accuracy: 0.9027\n",
      "Epoch 5/30\n",
      "1318/1318 [==============================] - 21s 16ms/step - loss: 0.2868 - categorical_accuracy: 0.9120 - val_loss: 0.3714 - val_categorical_accuracy: 0.9044\n",
      "Epoch 6/30\n",
      "1318/1318 [==============================] - 15s 11ms/step - loss: 0.2706 - categorical_accuracy: 0.9173 - val_loss: 0.3636 - val_categorical_accuracy: 0.9062\n",
      "Epoch 7/30\n",
      "1318/1318 [==============================] - 17s 13ms/step - loss: 0.2728 - categorical_accuracy: 0.9241 - val_loss: 0.3717 - val_categorical_accuracy: 0.9062\n",
      "Epoch 8/30\n",
      "1318/1318 [==============================] - 18s 14ms/step - loss: 0.2589 - categorical_accuracy: 0.9302 - val_loss: 0.3666 - val_categorical_accuracy: 0.9097\n",
      "Epoch 9/30\n",
      "1318/1318 [==============================] - 20s 15ms/step - loss: 0.2613 - categorical_accuracy: 0.9302 - val_loss: 0.3590 - val_categorical_accuracy: 0.9062\n",
      "Epoch 10/30\n",
      "1318/1318 [==============================] - 17s 13ms/step - loss: 0.2658 - categorical_accuracy: 0.9234 - val_loss: 0.3642 - val_categorical_accuracy: 0.9080\n",
      "Epoch 11/30\n",
      "1318/1318 [==============================] - 18s 13ms/step - loss: 0.2641 - categorical_accuracy: 0.9188 - val_loss: 0.3610 - val_categorical_accuracy: 0.9062\n",
      "Epoch 12/30\n",
      "1318/1318 [==============================] - 17s 13ms/step - loss: 0.2475 - categorical_accuracy: 0.9310 - val_loss: 0.3623 - val_categorical_accuracy: 0.9097\n",
      "Epoch 13/30\n",
      "1318/1318 [==============================] - 17s 13ms/step - loss: 0.2631 - categorical_accuracy: 0.9272 - val_loss: 0.3578 - val_categorical_accuracy: 0.9097\n",
      "Epoch 14/30\n",
      "1318/1318 [==============================] - 14s 11ms/step - loss: 0.2556 - categorical_accuracy: 0.9340 - val_loss: 0.3610 - val_categorical_accuracy: 0.9150\n",
      "Epoch 15/30\n",
      "1318/1318 [==============================] - 14s 11ms/step - loss: 0.2387 - categorical_accuracy: 0.9363 - val_loss: 0.3688 - val_categorical_accuracy: 0.9044\n",
      "Epoch 16/30\n",
      "1318/1318 [==============================] - 14s 11ms/step - loss: 0.2445 - categorical_accuracy: 0.9325 - val_loss: 0.3671 - val_categorical_accuracy: 0.9133\n",
      "Epoch 17/30\n",
      "1318/1318 [==============================] - 15s 12ms/step - loss: 0.2390 - categorical_accuracy: 0.9416 - val_loss: 0.3782 - val_categorical_accuracy: 0.9150\n",
      "Epoch 18/30\n",
      "1318/1318 [==============================] - 15s 11ms/step - loss: 0.2409 - categorical_accuracy: 0.9256 - val_loss: 0.3672 - val_categorical_accuracy: 0.9115\n",
      "Epoch 19/30\n",
      "1318/1318 [==============================] - 14s 11ms/step - loss: 0.2387 - categorical_accuracy: 0.9355 - val_loss: 0.3596 - val_categorical_accuracy: 0.9097\n",
      "Epoch 20/30\n",
      "1318/1318 [==============================] - 19s 14ms/step - loss: 0.2271 - categorical_accuracy: 0.9408 - val_loss: 0.3679 - val_categorical_accuracy: 0.9168\n",
      "Epoch 21/30\n",
      "1318/1318 [==============================] - 15s 11ms/step - loss: 0.2340 - categorical_accuracy: 0.9355 - val_loss: 0.3669 - val_categorical_accuracy: 0.9150\n",
      "Epoch 22/30\n",
      "1318/1318 [==============================] - 14s 11ms/step - loss: 0.2487 - categorical_accuracy: 0.9325 - val_loss: 0.3660 - val_categorical_accuracy: 0.9186\n",
      "Epoch 23/30\n",
      "1318/1318 [==============================] - 14s 11ms/step - loss: 0.2295 - categorical_accuracy: 0.9347 - val_loss: 0.3547 - val_categorical_accuracy: 0.9221\n",
      "Epoch 24/30\n",
      "1318/1318 [==============================] - 14s 11ms/step - loss: 0.2213 - categorical_accuracy: 0.9401 - val_loss: 0.3509 - val_categorical_accuracy: 0.9168\n",
      "Epoch 25/30\n",
      "1318/1318 [==============================] - 14s 11ms/step - loss: 0.2110 - categorical_accuracy: 0.9454 - val_loss: 0.3555 - val_categorical_accuracy: 0.9186\n",
      "Epoch 26/30\n",
      "1318/1318 [==============================] - 15s 12ms/step - loss: 0.2195 - categorical_accuracy: 0.9408 - val_loss: 0.3586 - val_categorical_accuracy: 0.9186\n",
      "Epoch 27/30\n",
      "1318/1318 [==============================] - 15s 12ms/step - loss: 0.2010 - categorical_accuracy: 0.9408 - val_loss: 0.3546 - val_categorical_accuracy: 0.9168\n",
      "Epoch 28/30\n",
      "1318/1318 [==============================] - 15s 11ms/step - loss: 0.2140 - categorical_accuracy: 0.9454 - val_loss: 0.3544 - val_categorical_accuracy: 0.9204\n",
      "Epoch 29/30\n",
      "1318/1318 [==============================] - 19s 14ms/step - loss: 0.2086 - categorical_accuracy: 0.9514 - val_loss: 0.3605 - val_categorical_accuracy: 0.9186\n",
      "Epoch 30/30\n",
      "1318/1318 [==============================] - 20s 15ms/step - loss: 0.2120 - categorical_accuracy: 0.9461 - val_loss: 0.3607 - val_categorical_accuracy: 0.9150\n"
     ]
    },
    {
     "data": {
      "text/plain": [
       "<keras.callbacks.History at 0x7faaf7b96668>"
      ]
     },
     "execution_count": 59,
     "metadata": {},
     "output_type": "execute_result"
    }
   ],
   "source": [
    "new_adam = keras.optimizers.Adam(lr=0.00005, beta_1=0.9, beta_2=0.999, epsilon=1e-08, decay=0.0)\n",
    "matra_model.compile(optimizer=new_adam,\n",
    "              loss='categorical_crossentropy',\n",
    "              metrics=['categorical_accuracy'])\n",
    "matra_model.fit(x_train,y_train_matra,epochs=5,batch_size=32,validation_split=0.3)"
   ]
  },
  {
   "cell_type": "markdown",
   "metadata": {},
   "source": [
    "### confusion matrix"
   ]
  },
  {
   "cell_type": "code",
   "execution_count": 60,
   "metadata": {},
   "outputs": [
    {
     "name": "stdout",
     "output_type": "stream",
     "text": [
      "1883/1883 [==============================] - 8s 5ms/step\n",
      "confusion matrix for (16, 16) features (matra):\n",
      "[[893   0   6   1   0   2   1   0   0   0   0   1   0   0   0   0]\n",
      " [  1   0   6   0   0   0   0   0   0   0   0   0   0   0   0   0]\n",
      " [  5   0 284   0   0   0   0   0   0   0   0   0   0   0   0   0]\n",
      " [  0   0   0 180   0   0   0   0   0   0   0   0   0   0   0   0]\n",
      " [  1   0   1   0 139   0   0   0   0   0   1   0   0   0   0   0]\n",
      " [  6   0   0   0   0  36   0   0   0   0   0   0   0   0   0   0]\n",
      " [ 14   0   0   0   0   1  13   0   0   0   0   0   0   0   0   0]\n",
      " [  1   0   0   0   0   0   0   0   0   0   0   0   0   0   0   0]\n",
      " [  2   0   0   1   0   0   0   0  79   1   1   0   0   0   0   0]\n",
      " [  0   0   0   2   0   0   0   0   1  80   0   3   0   0   0   0]\n",
      " [  0   0   0   0   6   0   0   0   2   0  45   3   0   0   0   0]\n",
      " [  0   0   1   0   1   0   0   0   0   4   1  52   0   0   0   0]\n",
      " [  1   0   0   0   0   0   0   0   0   0   0   0   0   0   0   0]\n",
      " [  0   0   1   0   0   0   0   0   0   0   0   0   0   0   0   0]\n",
      " [  1   0   0   0   0   0   0   0   0   0   0   0   0   0   0   0]\n",
      " [  2   0   0   0   0   0   0   0   0   0   0   0   0   0   0   0]]\n"
     ]
    },
    {
     "data": {
      "text/plain": [
       "<matplotlib.axes._subplots.AxesSubplot at 0x7faaf7629940>"
      ]
     },
     "execution_count": 60,
     "metadata": {},
     "output_type": "execute_result"
    },
    {
     "data": {
      "image/png": "[encoded data removed]",
      "text/plain": [
       "<matplotlib.figure.Figure at 0x7faaf7629128>"
      ]
     },
     "metadata": {},
     "output_type": "display_data"
    }
   ],
   "source": [
    "from sklearn.metrics import confusion_matrix\n",
    "import seaborn as sns\n",
    "\n",
    "y_pred = matra_model.predict_classes(x_train)\n",
    "y_original = np.argmax(y_train_matra, axis=1)\n",
    "\n",
    "cm = confusion_matrix(y_original, y_pred)\n",
    "print('confusion matrix for {} features (matra):'.format(cm.shape))\n",
    "print(cm)\n",
    "\n",
    "fig, ax = plt.subplots(figsize=(20,20))\n",
    "sns.heatmap(cm, cmap=sns.light_palette('purple', n_colors=500, as_cmap=True), annot=True, linewidths = 5, ax=ax)"
   ]
  },
  {
   "cell_type": "markdown",
   "metadata": {},
   "source": []
  },
  {
   "cell_type": "markdown",
   "metadata": {},
   "source": [
    "# Dumping Models to Disk"
   ]
  },
  {
   "cell_type": "code",
   "execution_count": 61,
   "metadata": {
    "collapsed": true
   },
   "outputs": [],
   "source": [
    "dot_model.save('models/dot_model3k.model')\n",
    "matra_model.save('models/matra_model3k.model')\n",
    "base_model.save('models/base_model3k.model')"
   ]
  },
  {
   "cell_type": "code",
   "execution_count": 62,
   "metadata": {},
   "outputs": [],
   "source": [
    "from keras.models import load_model\n",
    "\n",
    "dot_model2 = load_model('models/dot_model3k.model')\n",
    "matra_model2 = load_model('models/matra_model3k.model')\n",
    "base_model2 = load_model('models/base_model3k.model')\n",
    "\n"
   ]
  },
  {
   "cell_type": "markdown",
   "metadata": {},
   "source": [
    "# Half Characters"
   ]
  },
  {
   "cell_type": "code",
   "execution_count": null,
   "metadata": {
    "collapsed": true
   },
   "outputs": [],
   "source": []
  }
 ],
 "metadata": {
  "kernelspec": {
   "display_name": "Python 3",
   "language": "python",
   "name": "python3"
  },
  "language_info": {
   "codemirror_mode": {
    "name": "ipython",
    "version": 3
   },
   "file_extension": ".py",
   "mimetype": "text/x-python",
   "name": "python",
   "nbconvert_exporter": "python",
   "pygments_lexer": "ipython3",
   "version": "3.6.3"
  }
 },
 "nbformat": 4,
 "nbformat_minor": 2
}
