{
 "cells": [
  {
   "cell_type": "code",
   "execution_count": 1,
   "metadata": {
    "collapsed": true
   },
   "outputs": [],
   "source": [
    "import os\n",
    "import numpy as np\n",
    "import pandas as pd\n",
    "import cv2\n",
    "import matplotlib.pyplot as plt\n",
    "\n",
    "from skimage import io, morphology, img_as_bool, segmentation\n",
    "from scipy import ndimage as ndi\n",
    "from scipy.ndimage.morphology import binary_fill_holes\n",
    "\n",
    "%matplotlib inline"
   ]
  },
  {
   "cell_type": "code",
   "execution_count": 2,
   "metadata": {
    "collapsed": true
   },
   "outputs": [],
   "source": [
    "img_shape = (64,64)"
   ]
  },
  {
   "cell_type": "code",
   "execution_count": 3,
   "metadata": {
    "collapsed": true
   },
   "outputs": [],
   "source": [
    "def pad_resize(img):\n",
    "    top = int((224 - img.shape[0])/2)\n",
    "    left = int((224 - img.shape[1])/2)\n",
    "    bottom = 224 - img.shape[0] - top\n",
    "    right = 224 - img.shape[1] - left\n",
    "    img = cv2.copyMakeBorder(img, top, bottom, left, right, cv2.BORDER_CONSTANT, value=255)\n",
    "    img = img/255.\n",
    "    img = cv2.resize(img, img_shape) #KADD\n",
    "    return img\n",
    "\n",
    "def skeletonize(img):\n",
    "    size = np.size(img)\n",
    "    skel = np.zeros(img.shape,np.uint8)\n",
    "    img = cv2.bitwise_not(img)\n",
    "#     element = cv2.getStructuringElement(cv2.MORPH_CROSS,(1,1))\n",
    "#     done = 0\n",
    "#     while( done < 1 ):\n",
    "#         eroded = cv2.erode(img,element)\n",
    "#         temp = cv2.dilate(eroded,element)\n",
    "#         temp = cv2.subtract(img,temp)\n",
    "#         skel = cv2.bitwise_or(skel,temp)\n",
    "#         img = eroded.copy()\n",
    "\n",
    "#         zeros = size - cv2.countNonZero(img)\n",
    "#         if zeros==size:#cv2.countNonZero(img) * 1 >= 0:#\n",
    "#             done += 1\n",
    "#     img = skel\n",
    "    kernel = np.ones((3,3),np.uint8)\n",
    "    erosion = cv2.erode(img,kernel,iterations = 2)\n",
    "    img = cv2.bitwise_not(erosion)\n",
    "    return img"
   ]
  },
  {
   "cell_type": "code",
   "execution_count": 4,
   "metadata": {
    "scrolled": true
   },
   "outputs": [
    {
     "name": "stdout",
     "output_type": "stream",
     "text": [
      "ohno page7_16_10_2350_2417.png\n",
      "page1_9_15_2351_2364_2366.png\n",
      "100 Done\n",
      "ohno page3_6_0_2327_2417.png\n",
      "page5_3_15_2351_2364_2366.png\n",
      "page6_1_1_2340_2375_2379.png\n",
      "200 Done\n",
      "page7_3_0_2319_2366_2367.png\n",
      "page1_16_13_2346_2362_2369.png\n",
      "page6_6_9_2352_2362_2363.png\n",
      "page4_15_2_2357_2364_2376.png\n",
      "page0_15_8_2350_2362_2380.png\n",
      "300 Done\n",
      "page0_8_8_2330_2375_2379.png\n",
      "400 Done\n",
      "page6_10_6_2325_2366_2380.png\n",
      "page7_15_14_2349_2362_2366.png\n",
      "page0_9_15_2332_2375_2379.png\n",
      "500 Done\n",
      "600 Done\n",
      "page1_16_0_2325_2362_2380.png\n",
      "700 Done\n",
      "page1_8_0_2357_2364_2366.png\n",
      "page3_18_4_2332_2366_2379.png\n",
      "800 Done\n",
      "900 Done\n",
      "page7_3_13_2319_2366_2367.png\n",
      "page6_17_13_2351_2364_2366.png\n",
      "1000 Done\n",
      "1100 Done\n",
      "page5_17_5_2325_2362_2376.png\n",
      "1200 Done\n",
      "1300 Done\n",
      "page2_4_1_2357_2364_2366.png\n",
      "1400 Done\n",
      "page5_7_8_2325_2367_2388.png\n",
      "1500 Done\n",
      "page2_4_20_2346_2366_2390.png\n",
      "1600 Done\n",
      "1700 Done\n",
      "1800 Done\n"
     ]
    }
   ],
   "source": [
    "PATH = '../train_images_modified'\n",
    "images = []\n",
    "base_class = []\n",
    "matra_class = []\n",
    "images_m = []\n",
    "dot_class = []\n",
    "total_class = []\n",
    "for filename in os.listdir(PATH):\n",
    "    if filename.endswith(\".png\"):\n",
    "        img = cv2.imread(os.path.join(PATH,filename),0)\n",
    "        blur = cv2.GaussianBlur(img,(9,9),0)# KADD\n",
    "        a,img = cv2.threshold(img,127,255,cv2.THRESH_BINARY+cv2.THRESH_OTSU)#KEDIT\n",
    "#         kernel = np.ones((5,5),np.uint8)\n",
    "#         img = cv2.morphologyEx(img, cv2.MORPH_CLOSE, kernel)\n",
    "#         plt.imshow(img, cmap='gray')\n",
    "#         plt.show()\n",
    "#        img = skeletonize(img)\n",
    "        img = pad_resize(img)\n",
    "        blur = cv2.GaussianBlur(img,(9,9),0)# KADD\n",
    "        char_arr = filename[:-4].split('_')[3:]\n",
    "        if(len(char_arr)>0):\n",
    "            images.append(img)\n",
    "            char_arr = [int(i) for i in char_arr]\n",
    "            total_class.append(char_arr)\n",
    "            base = [i for i in char_arr if (i>=2308 and i<=2361) or (i==2384) or (i>=2392 and i<=2401) or (i>=2404 and i!=2416 and i!=2417)] \n",
    "            assert len(base) != 0, 'too many base classes in the same image (base - {}) (filename - {})'.format(base, filename)\n",
    "            base_class.append(base[0])\n",
    "            matra = [i for i in char_arr if i>=2362 and i<=2391]\n",
    "            dot = [i for i in char_arr if i==2306 or i==2416]\n",
    "            if(len(matra)>1):\n",
    "                print(filename)\n",
    "            elif(len(matra)>0):\n",
    "                matra_class.append(matra[0])\n",
    "                images_m.append(img)\n",
    "            else:\n",
    "                matra_class.append(0)\n",
    "                images_m.append(img)\n",
    "            if len(dot)>0:\n",
    "                dot_class.append(1)\n",
    "            else:\n",
    "                dot_class.append(0)\n",
    "            if(len(matra)==0 and len(dot)==0 and len(char_arr)==2):\n",
    "                print(\"ohno \"+filename)\n",
    "#             if(len(char_arr)>1):          \n",
    "#                 matra_class.append(char_arr[1:])\n",
    "            if len(images)%100==0:\n",
    "                print(\"{} Done\".format(len(images)))\n",
    "            "
   ]
  },
  {
   "cell_type": "code",
   "execution_count": 5,
   "metadata": {},
   "outputs": [
    {
     "data": {
      "image/png": "[encoded data removed]",
      "text/plain": [
       "<matplotlib.figure.Figure at 0x7fc508ac50b8>"
      ]
     },
     "metadata": {},
     "output_type": "display_data"
    },
    {
     "name": "stdout",
     "output_type": "stream",
     "text": [
      "1895\n"
     ]
    }
   ],
   "source": [
    "plt.imshow(images[10],\"gray\")\n",
    "plt.show()\n",
    "print(len(images))"
   ]
  },
  {
   "cell_type": "code",
   "execution_count": 6,
   "metadata": {},
   "outputs": [
    {
     "data": {
      "text/plain": [
       "[2392, 2353, 2384, 2415, 2310, 2414]"
      ]
     },
     "execution_count": 6,
     "metadata": {},
     "output_type": "execute_result"
    }
   ],
   "source": [
    "len(set(base_class))\n",
    "freq = {i:base_class.count(i) for i in base_class}\n",
    "[i for i in freq.keys() if freq[i]==1]"
   ]
  },
  {
   "cell_type": "code",
   "execution_count": 7,
   "metadata": {},
   "outputs": [],
   "source": [
    "images = np.array(images)\n",
    "flat = img_shape[0]*img_shape[1]\n",
    "x_data = np.reshape(np.array(images), (-1, flat))\n",
    "y_data = np.array(base_class)\n",
    "\n",
    "df = pd.DataFrame(x_data, y_data)\n",
    "df['LABEL'] = df.index\n",
    "\n",
    "#df_no_label = df.drop(columns='LABEL')\n",
    "df_no_label = pd.DataFrame(x_data, index=y_data)"
   ]
  },
  {
   "cell_type": "code",
   "execution_count": 8,
   "metadata": {
    "collapsed": true,
    "scrolled": false
   },
   "outputs": [],
   "source": [
    "# from sklearn.model_selection import cross_val_score\n",
    "# from sklearn.metrics import f1_score\n",
    "# from sklearn.cross_validation import train_test_split\n",
    "\n",
    "# #print(df.head())\n",
    "# #print(df_no_label)\n",
    "# #print(df['LABEL'])\n",
    "\n",
    "# X_train,X_val,y_train,y_val = train_test_split(df_no_label, df['LABEL'])\n",
    "\n",
    "# print(X_train.shape)\n",
    "# print(X_val.shape)\n",
    "\n",
    "# clf = RandomForestClassifier(max_features='auto', n_estimators=10, max_depth=20)\n",
    "# clf.fit(X_train, y_train)\n",
    "\n",
    "# scores = cross_val_score(clf, df_no_label, df['LABEL'], cv=3)\n",
    "# print(scores)\n",
    "# scores_f1 = f1_score(clf.predict(X_train),y_train,average='weighted')\n",
    "# print(scores_f1)\n",
    "# scores_f1 = f1_score(clf.predict(X_val),y_val,average='weighted')\n",
    "# print(scores_f1)"
   ]
  },
  {
   "cell_type": "code",
   "execution_count": 9,
   "metadata": {},
   "outputs": [
    {
     "name": "stderr",
     "output_type": "stream",
     "text": [
      "Using TensorFlow backend.\n"
     ]
    }
   ],
   "source": [
    "import keras\n",
    "from sklearn.preprocessing import LabelEncoder\n",
    "from keras.utils import np_utils\n",
    "\n",
    "le = LabelEncoder()\n",
    "le.fit(base_class)\n",
    "y_labeled = le.transform(base_class)\n",
    "y_train = np_utils.to_categorical(y_labeled)"
   ]
  },
  {
   "cell_type": "code",
   "execution_count": 10,
   "metadata": {
    "collapsed": true
   },
   "outputs": [],
   "source": [
    "# model = Sequential()\n",
    "\n",
    "# model.add(Dense(256,input_shape=(224*224,),activation = 'sigmoid'))\n",
    "# model.add(Dense(128,activation = 'sigmoid'))\n",
    "# model.add(Dense(128,activation = 'sigmoid'))\n",
    "# model.add(Dense(len(total_char_set),activation = 'sigmoid'))\n",
    "\n",
    "# print(model.summary())\n",
    "# model.compile(optimizer='adam',\n",
    "#               loss='categorical_crossentropy',\n",
    "#               metrics=[f1_score(theta=0.5),'accuracy'])\n",
    "# X_train = X_train.reshape((-1,224*224))\n",
    "# model.fit(X_train,y_train2,epochs=10,batch_size=32,validation_split=0.3)"
   ]
  },
  {
   "cell_type": "code",
   "execution_count": 11,
   "metadata": {},
   "outputs": [
    {
     "name": "stdout",
     "output_type": "stream",
     "text": [
      "(1895, 53)\n",
      "(1895, 64, 64, 1)\n"
     ]
    }
   ],
   "source": [
    "print(y_train.shape)\n",
    "x_train = np.reshape(images,(-1,img_shape[0],img_shape[1],1))\n",
    "print(x_train.shape)"
   ]
  },
  {
   "cell_type": "code",
   "execution_count": 12,
   "metadata": {
    "collapsed": true
   },
   "outputs": [],
   "source": [
    "from keras.models import Sequential\n",
    "from keras.layers import Dense,Dropout,Conv2D,MaxPooling2D,Flatten\n",
    "\n",
    "base_model = Sequential()\n",
    "\n",
    "base_model.add(Conv2D(16,(3,3),input_shape = (img_shape[0],img_shape[1],1),activation = 'relu'))\n",
    "base_model.add(Conv2D(16,(3,3),activation = 'relu'))\n",
    "base_model.add(MaxPooling2D())\n",
    "base_model.add(Conv2D(32,(3,3),activation = 'relu'))\n",
    "base_model.add(Conv2D(32,(3,3),activation = 'relu'))\n",
    "base_model.add(MaxPooling2D())\n",
    "base_model.add(Conv2D(64,(3,3),activation = 'relu'))\n",
    "base_model.add(Conv2D(64,(3,3),activation = 'relu'))\n",
    "base_model.add(MaxPooling2D())\n",
    "base_model.add(Flatten())\n",
    "base_model.add(Dense(256,activation = 'sigmoid'))\n",
    "base_model.add(Dropout(0.5))\n",
    "base_model.add(Dense(len(set(base_class)),activation = 'softmax'))"
   ]
  },
  {
   "cell_type": "code",
   "execution_count": 13,
   "metadata": {},
   "outputs": [
    {
     "name": "stdout",
     "output_type": "stream",
     "text": [
      "_________________________________________________________________\n",
      "Layer (type)                 Output Shape              Param #   \n",
      "=================================================================\n",
      "conv2d_1 (Conv2D)            (None, 62, 62, 16)        160       \n",
      "_________________________________________________________________\n",
      "conv2d_2 (Conv2D)            (None, 60, 60, 16)        2320      \n",
      "_________________________________________________________________\n",
      "max_pooling2d_1 (MaxPooling2 (None, 30, 30, 16)        0         \n",
      "_________________________________________________________________\n",
      "conv2d_3 (Conv2D)            (None, 28, 28, 32)        4640      \n",
      "_________________________________________________________________\n",
      "conv2d_4 (Conv2D)            (None, 26, 26, 32)        9248      \n",
      "_________________________________________________________________\n",
      "max_pooling2d_2 (MaxPooling2 (None, 13, 13, 32)        0         \n",
      "_________________________________________________________________\n",
      "conv2d_5 (Conv2D)            (None, 11, 11, 64)        18496     \n",
      "_________________________________________________________________\n",
      "conv2d_6 (Conv2D)            (None, 9, 9, 64)          36928     \n",
      "_________________________________________________________________\n",
      "max_pooling2d_3 (MaxPooling2 (None, 4, 4, 64)          0         \n",
      "_________________________________________________________________\n",
      "flatten_1 (Flatten)          (None, 1024)              0         \n",
      "_________________________________________________________________\n",
      "dense_1 (Dense)              (None, 256)               262400    \n",
      "_________________________________________________________________\n",
      "dropout_1 (Dropout)          (None, 256)               0         \n",
      "_________________________________________________________________\n",
      "dense_2 (Dense)              (None, 53)                13621     \n",
      "=================================================================\n",
      "Total params: 347,813\n",
      "Trainable params: 347,813\n",
      "Non-trainable params: 0\n",
      "_________________________________________________________________\n"
     ]
    }
   ],
   "source": [
    "base_model.summary()"
   ]
  },
  {
   "cell_type": "code",
   "execution_count": 14,
   "metadata": {
    "collapsed": true
   },
   "outputs": [],
   "source": [
    "import keras.backend as K\n",
    "\n",
    "def f1_score(theta):\n",
    "    def score(y_true, y_pred):\n",
    "\n",
    "        y_thresh = K.cast(K.greater(y_pred,theta),K.floatx())\n",
    "\n",
    "        true_pos =  K.sum(y_true * y_thresh)\n",
    "        false_pos = K.sum(y_true * (1. - y_thresh))\n",
    "        false_neg = K.sum((1. - y_true) * y_thresh)\n",
    "\n",
    "        precision = true_pos / (true_pos + false_pos)\n",
    "        recall = true_pos / (true_pos + false_neg)\n",
    "        \n",
    "        f1_score_val = 2 * (precision * recall) / (precision + recall)\n",
    "        return f1_score_val\n",
    "    return score\n",
    "\n",
    "def custom_metric(y_true, y_pred):\n",
    "    return K.cast(K.equal(y_true,\n",
    "                          K.round(y_pred)),\n",
    "                  K.floatx())\n"
   ]
  },
  {
   "cell_type": "code",
   "execution_count": 15,
   "metadata": {
    "collapsed": true
   },
   "outputs": [],
   "source": [
    "base_model.compile(optimizer='adam',\n",
    "              loss='categorical_crossentropy',\n",
    "              metrics=[f1_score(theta=0.5), 'categorical_accuracy'])"
   ]
  },
  {
   "cell_type": "code",
   "execution_count": 16,
   "metadata": {},
   "outputs": [
    {
     "name": "stdout",
     "output_type": "stream",
     "text": [
      "Train on 1326 samples, validate on 569 samples\n",
      "Epoch 1/2\n",
      "1326/1326 [==============================] - 14s 10ms/step - loss: 3.6018 - score: nan - categorical_accuracy: 0.0799 - val_loss: 3.3806 - val_score: nan - val_categorical_accuracy: 0.1160\n",
      "Epoch 2/2\n",
      "1326/1326 [==============================] - 14s 11ms/step - loss: 3.4256 - score: nan - categorical_accuracy: 0.0830 - val_loss: 3.3348 - val_score: nan - val_categorical_accuracy: 0.1547\n"
     ]
    },
    {
     "data": {
      "text/plain": [
       "<keras.callbacks.History at 0x7fc4f42b9860>"
      ]
     },
     "execution_count": 16,
     "metadata": {},
     "output_type": "execute_result"
    }
   ],
   "source": [
    "base_model.fit(x_train,y_train,epochs=20,batch_size=32,validation_split=0.3)"
   ]
  },
  {
   "cell_type": "code",
   "execution_count": 17,
   "metadata": {},
   "outputs": [
    {
     "name": "stdout",
     "output_type": "stream",
     "text": [
      "Train on 1326 samples, validate on 569 samples\n",
      "Epoch 1/1\n",
      "1326/1326 [==============================] - 13s 10ms/step - loss: 3.3436 - score: nan - categorical_accuracy: 0.1071 - val_loss: 3.3010 - val_score: nan - val_categorical_accuracy: 0.1406\n"
     ]
    },
    {
     "data": {
      "text/plain": [
       "<keras.callbacks.History at 0x7fc4f2391860>"
      ]
     },
     "execution_count": 17,
     "metadata": {},
     "output_type": "execute_result"
    }
   ],
   "source": [
    "new_adam = keras.optimizers.Adam(lr=0.0001, beta_1=0.9, beta_2=0.999, epsilon=1e-08, decay=0.0)\n",
    "base_model.compile(optimizer=new_adam,\n",
    "              loss='categorical_crossentropy',\n",
    "              metrics=[f1_score(theta=0.5), 'categorical_accuracy'])\n",
    "base_model.fit(x_train,y_train,epochs=30,batch_size=32,validation_split=0.3)"
   ]
  },
  {
   "cell_type": "markdown",
   "metadata": {},
   "source": [
    "### confusion matrix"
   ]
  },
  {
   "cell_type": "code",
   "execution_count": 18,
   "metadata": {},
   "outputs": [
    {
     "name": "stdout",
     "output_type": "stream",
     "text": [
      "1895/1895 [==============================] - 5s 3ms/step\n",
      "confusion matrix for (53, 53) features (base):\n",
      "[[0 0 0 ..., 0 0 0]\n",
      " [0 0 0 ..., 0 0 0]\n",
      " [0 0 0 ..., 0 0 0]\n",
      " ..., \n",
      " [0 0 0 ..., 0 0 0]\n",
      " [0 0 0 ..., 0 0 0]\n",
      " [0 0 0 ..., 0 0 0]]\n"
     ]
    },
    {
     "data": {
      "text/plain": [
       "<matplotlib.axes._subplots.AxesSubplot at 0x7fc4ba4b0cc0>"
      ]
     },
     "execution_count": 18,
     "metadata": {},
     "output_type": "execute_result"
    },
    {
     "data": {
      "image/png": "[encoded data removed]",
      "text/plain": [
       "<matplotlib.figure.Figure at 0x7fc4bb33bcc0>"
      ]
     },
     "metadata": {},
     "output_type": "display_data"
    }
   ],
   "source": [
    "from sklearn.metrics import confusion_matrix\n",
    "import seaborn as sns\n",
    "\n",
    "y_pred = base_model.predict_classes(x_train)\n",
    "y_original = np.argmax(y_train, axis=1)\n",
    "\n",
    "cm = confusion_matrix(y_original, y_pred)\n",
    "print('confusion matrix for {} features (base):'.format(cm.shape))\n",
    "print(cm)\n",
    "\n",
    "fig, ax = plt.subplots(figsize=(20,20))\n",
    "sns.heatmap(cm, cmap=sns.light_palette('purple', n_colors=500, as_cmap=True), annot=True, linewidths = 5, ax=ax)"
   ]
  },
  {
   "cell_type": "markdown",
   "metadata": {},
   "source": [
    "# DOT CLASS"
   ]
  },
  {
   "cell_type": "code",
   "execution_count": 19,
   "metadata": {
    "collapsed": true
   },
   "outputs": [],
   "source": [
    "y_train = np_utils.to_categorical(dot_class)"
   ]
  },
  {
   "cell_type": "code",
   "execution_count": 20,
   "metadata": {},
   "outputs": [
    {
     "name": "stdout",
     "output_type": "stream",
     "text": [
      "Train on 1326 samples, validate on 569 samples\n",
      "Epoch 1/2\n",
      "1326/1326 [==============================] - 16s 12ms/step - loss: 0.2836 - score: 0.9223 - categorical_accuracy: 0.9223 - val_loss: 0.2042 - val_score: 0.9490 - val_categorical_accuracy: 0.9490\n",
      "Epoch 2/2\n",
      "1326/1326 [==============================] - 16s 12ms/step - loss: 0.2575 - score: 0.9374 - categorical_accuracy: 0.9374 - val_loss: 0.2052 - val_score: 0.9490 - val_categorical_accuracy: 0.9490\n"
     ]
    },
    {
     "data": {
      "text/plain": [
       "<keras.callbacks.History at 0x7fc4b8352f28>"
      ]
     },
     "execution_count": 20,
     "metadata": {},
     "output_type": "execute_result"
    }
   ],
   "source": [
    "dot_model = Sequential()\n",
    "\n",
    "dot_model.add(Conv2D(16,(3,3),input_shape = (img_shape[0],img_shape[1],1),activation = 'relu'))\n",
    "dot_model.add(Conv2D(16,(3,3),activation = 'relu'))\n",
    "dot_model.add(MaxPooling2D())\n",
    "dot_model.add(Conv2D(32,(3,3),activation = 'relu'))\n",
    "dot_model.add(Conv2D(32,(3,3),activation = 'relu'))\n",
    "dot_model.add(MaxPooling2D())\n",
    "dot_model.add(Conv2D(64,(3,3),activation = 'relu'))\n",
    "dot_model.add(Conv2D(64,(3,3),activation = 'relu'))\n",
    "dot_model.add(MaxPooling2D())\n",
    "dot_model.add(Flatten())\n",
    "dot_model.add(Dense(256,activation = 'sigmoid'))\n",
    "dot_model.add(Dropout(0.5))\n",
    "dot_model.add(Dense(len(set(dot_class)),activation = 'softmax'))\n",
    "\n",
    "dot_model.compile(optimizer='adam',\n",
    "              loss='binary_crossentropy',\n",
    "              metrics=[f1_score(theta=0.5), 'categorical_accuracy'])\n",
    "\n",
    "dot_model.fit(x_train,y_train,epochs=20,batch_size=32,validation_split=0.3)"
   ]
  },
  {
   "cell_type": "code",
   "execution_count": 21,
   "metadata": {},
   "outputs": [
    {
     "name": "stdout",
     "output_type": "stream",
     "text": [
      "Train on 1326 samples, validate on 569 samples\n",
      "Epoch 1/1\n",
      "1326/1326 [==============================] - 16s 12ms/step - loss: 0.2580 - score: 0.9367 - categorical_accuracy: 0.9367 - val_loss: 0.2021 - val_score: 0.9490 - val_categorical_accuracy: 0.9490\n"
     ]
    },
    {
     "data": {
      "text/plain": [
       "<keras.callbacks.History at 0x7fc4b2d0ffd0>"
      ]
     },
     "execution_count": 21,
     "metadata": {},
     "output_type": "execute_result"
    }
   ],
   "source": [
    "new_adam = keras.optimizers.Adam(lr=0.0001, beta_1=0.9, beta_2=0.999, epsilon=1e-08, decay=0.0)\n",
    "dot_model.compile(optimizer=new_adam,\n",
    "              loss='categorical_crossentropy',\n",
    "              metrics=[f1_score(theta=0.5), 'categorical_accuracy'])\n",
    "dot_model.fit(x_train,y_train,epochs=30,batch_size=32,validation_split=0.3)"
   ]
  },
  {
   "cell_type": "markdown",
   "metadata": {},
   "source": [
    "### confusion matrix:"
   ]
  },
  {
   "cell_type": "code",
   "execution_count": 22,
   "metadata": {},
   "outputs": [
    {
     "name": "stdout",
     "output_type": "stream",
     "text": [
      "1895/1895 [==============================] - 6s 3ms/step\n",
      "confusion matrix for (2, 2) features (dot):\n",
      "[[1783    0]\n",
      " [ 112    0]]\n"
     ]
    },
    {
     "data": {
      "text/plain": [
       "<matplotlib.axes._subplots.AxesSubplot at 0x7fc4b2e5cb38>"
      ]
     },
     "execution_count": 22,
     "metadata": {},
     "output_type": "execute_result"
    },
    {
     "data": {
      "image/png": "[encoded data removed]",
      "text/plain": [
       "<matplotlib.figure.Figure at 0x7fc4bb315b70>"
      ]
     },
     "metadata": {},
     "output_type": "display_data"
    }
   ],
   "source": [
    "from sklearn.metrics import confusion_matrix\n",
    "import seaborn as sns\n",
    "\n",
    "y_pred = dot_model.predict_classes(x_train)\n",
    "y_original = np.argmax(y_train, axis=1)\n",
    "\n",
    "cm = confusion_matrix(y_original, y_pred)\n",
    "print('confusion matrix for {} features (dot):'.format(cm.shape))\n",
    "print(cm)\n",
    "\n",
    "#fig, ax = plt.subplots(figsize=(20,20))\n",
    "sns.heatmap(cm, cmap=sns.light_palette('purple', n_colors=500, as_cmap=True), annot=True, linewidths = 5)"
   ]
  },
  {
   "cell_type": "markdown",
   "metadata": {},
   "source": [
    "# MATRA CLASS"
   ]
  },
  {
   "cell_type": "code",
   "execution_count": 23,
   "metadata": {
    "scrolled": true
   },
   "outputs": [],
   "source": [
    "'''\n",
    "PATH = '../train_images_modified'\n",
    "images = []\n",
    "matra_class = []\n",
    "for filename in os.listdir(PATH):\n",
    "    if filename.endswith(\".png\"):\n",
    "        img = cv2.imread(os.path.join(PATH,filename),0)\n",
    "        blur = cv2.GaussianBlur(img,(9,9),0)# KADD\n",
    "        a,img = cv2.threshold(img,127,255,cv2.THRESH_BINARY+cv2.THRESH_OTSU)#KEDIT\n",
    "#         kernel = np.ones((5,5),np.uint8)\n",
    "#         img = cv2.morphologyEx(img, cv2.MORPH_CLOSE, kernel)\n",
    "#         plt.imshow(img, cmap='gray')\n",
    "#         plt.show()\n",
    "#        img = skeletonize(img)\n",
    "        img = pad_resize(img)\n",
    "        blur = cv2.GaussianBlur(img,(9,9),0)# KADD\n",
    "        char_arr = filename[:-4].split('_')[3:]\n",
    "        if(len(char_arr)>0):\n",
    "            char_arr = [int(i) for i in char_arr]\n",
    "            matra = [i for i in char_arr if i>=2362 and i<=2391]\n",
    "            if(len(matra)>1):\n",
    "                print(filename)\n",
    "            elif(len(matra)>0):\n",
    "                images.append(img)\n",
    "                matra_class.append(matra[0])\n",
    "            else:\n",
    "                images.append(img)\n",
    "                matra_class.append('0')\n",
    "            if len(images)%100==0:\n",
    "                print(\"{} Done\".format(len(images)))\n",
    "            \n",
    "for i in range(len(images_m)):\n",
    "    print(images_m[i])\n",
    "    print(images[i])\n",
    "    print(images_m[i] == images[i])\n",
    "'''\n",
    "\n",
    "images = images_m"
   ]
  },
  {
   "cell_type": "code",
   "execution_count": 24,
   "metadata": {},
   "outputs": [
    {
     "name": "stdout",
     "output_type": "stream",
     "text": [
      "(1874, 17)\n",
      "(1874, 64, 64, 1)\n"
     ]
    }
   ],
   "source": [
    "le = LabelEncoder()\n",
    "le.fit(matra_class)\n",
    "y_labeled = le.transform(matra_class)\n",
    "y_train = np_utils.to_categorical(y_labeled)\n",
    "\n",
    "y_train = np_utils.to_categorical(y_labeled)\n",
    "images = np.array(images)\n",
    "x_train = np.reshape(images,(-1,img_shape[0],img_shape[1],1))\n",
    "print(y_train.shape)\n",
    "print(x_train.shape)"
   ]
  },
  {
   "cell_type": "code",
   "execution_count": 25,
   "metadata": {},
   "outputs": [
    {
     "name": "stdout",
     "output_type": "stream",
     "text": [
      "Train on 1311 samples, validate on 563 samples\n",
      "Epoch 1/2\n",
      "1311/1311 [==============================] - 16s 12ms/step - loss: 0.1723 - score: nan - categorical_accuracy: 0.4233 - val_loss: 0.1519 - val_score: nan - val_categorical_accuracy: 0.4654\n",
      "Epoch 2/2\n",
      "1311/1311 [==============================] - 15s 12ms/step - loss: 0.1330 - score: 0.4899 - categorical_accuracy: 0.5606 - val_loss: 0.1033 - val_score: 0.6546 - val_categorical_accuracy: 0.6465\n"
     ]
    },
    {
     "data": {
      "text/plain": [
       "<keras.callbacks.History at 0x7fc4b0647e80>"
      ]
     },
     "execution_count": 25,
     "metadata": {},
     "output_type": "execute_result"
    }
   ],
   "source": [
    "matra_model = Sequential()\n",
    "\n",
    "matra_model.add(Conv2D(16,(3,3),input_shape = (img_shape[0],img_shape[1],1),activation = 'relu'))\n",
    "matra_model.add(Conv2D(16,(3,3),activation = 'relu'))\n",
    "matra_model.add(MaxPooling2D())\n",
    "matra_model.add(Conv2D(32,(3,3),activation = 'relu'))\n",
    "matra_model.add(Conv2D(32,(3,3),activation = 'relu'))\n",
    "matra_model.add(MaxPooling2D())\n",
    "matra_model.add(Conv2D(64,(3,3),activation = 'relu'))\n",
    "matra_model.add(Conv2D(64,(3,3),activation = 'relu'))\n",
    "matra_model.add(MaxPooling2D())\n",
    "matra_model.add(Flatten())\n",
    "matra_model.add(Dense(256,activation = 'sigmoid'))\n",
    "matra_model.add(Dropout(0.5))\n",
    "matra_model.add(Dense(len(set(matra_class)),activation = 'softmax'))\n",
    "\n",
    "matra_model.compile(optimizer='adam',\n",
    "              loss='binary_crossentropy',\n",
    "              metrics=[f1_score(theta=0.5), 'categorical_accuracy'])\n",
    "\n",
    "matra_model.fit(x_train,y_train,epochs=20,batch_size=32,validation_split=0.3)"
   ]
  },
  {
   "cell_type": "code",
   "execution_count": 26,
   "metadata": {},
   "outputs": [
    {
     "name": "stdout",
     "output_type": "stream",
     "text": [
      "Train on 1311 samples, validate on 563 samples\n",
      "Epoch 1/1\n",
      "1311/1311 [==============================] - 14s 11ms/step - loss: 1.0619 - score: 0.6702 - categorical_accuracy: 0.6911 - val_loss: 1.0233 - val_score: 0.6918 - val_categorical_accuracy: 0.6945\n"
     ]
    },
    {
     "data": {
      "text/plain": [
       "<keras.callbacks.History at 0x7fc4a8172a90>"
      ]
     },
     "execution_count": 26,
     "metadata": {},
     "output_type": "execute_result"
    }
   ],
   "source": [
    "new_adam = keras.optimizers.Adam(lr=0.0001, beta_1=0.9, beta_2=0.999, epsilon=1e-08, decay=0.0)\n",
    "matra_model.compile(optimizer=new_adam,\n",
    "              loss='categorical_crossentropy',\n",
    "              metrics=[f1_score(theta=0.5), 'categorical_accuracy'])\n",
    "matra_model.fit(x_train,y_train,epochs=30,batch_size=32,validation_split=0.3)"
   ]
  },
  {
   "cell_type": "markdown",
   "metadata": {
    "collapsed": true
   },
   "source": [
    "### confusion matrix"
   ]
  },
  {
   "cell_type": "code",
   "execution_count": 27,
   "metadata": {},
   "outputs": [
    {
     "name": "stdout",
     "output_type": "stream",
     "text": [
      "1874/1874 [==============================] - 6s 3ms/step\n",
      "confusion matrix for (17, 17) features (matra):\n",
      "[[858   0   0  28   6   1   0   0   0   0   0   0   0   0   0   0   0]\n",
      " [  2   0   0   4   0   0   0   0   0   0   0   0   0   0   0   0   0]\n",
      " [ 14   0   0   0   0   0   0   0   0   0   0   0   0   0   0   0   0]\n",
      " [ 44   0   0 238   0   1   0   0   0   0   0   0   0   0   0   0   0]\n",
      " [ 31   0   0   8 141   0   0   0   0   0   0   0   0   0   0   0   0]\n",
      " [ 24   0   0  48  11  57   0   0   0   0   2   0   0   0   0   0   0]\n",
      " [ 40   0   0   1   0   0   0   0   0   0   0   0   0   0   0   0   0]\n",
      " [ 19   0   0   4   4   0   0   0   0   0   1   0   0   0   0   0   0]\n",
      " [  1   0   0   0   0   0   0   0   0   0   0   0   0   0   0   0   0]\n",
      " [ 68   0   0   0  13   1   0   0   0   0   2   0   0   0   0   0   0]\n",
      " [ 45   0   0   0  23   1   0   0   0   0  15   0   0   0   0   0   0]\n",
      " [  4   0   0  18   6  28   0   0   0   0   0   0   0   0   0   0   0]\n",
      " [  5   0   0   2  31  18   0   0   0   0   1   0   0   0   0   0   0]\n",
      " [  1   0   0   0   0   0   0   0   0   0   0   0   0   0   0   0   0]\n",
      " [  0   0   0   1   0   0   0   0   0   0   0   0   0   0   0   0   0]\n",
      " [  1   0   0   0   0   0   0   0   0   0   0   0   0   0   0   0   0]\n",
      " [  2   0   0   0   0   0   0   0   0   0   0   0   0   0   0   0   0]]\n"
     ]
    },
    {
     "data": {
      "text/plain": [
       "<matplotlib.axes._subplots.AxesSubplot at 0x7fc4a77ab9e8>"
      ]
     },
     "execution_count": 27,
     "metadata": {},
     "output_type": "execute_result"
    },
    {
     "data": {
      "image/png": "[encoded data removed]",
      "text/plain": [
       "<matplotlib.figure.Figure at 0x7fc4a77ab438>"
      ]
     },
     "metadata": {},
     "output_type": "display_data"
    }
   ],
   "source": [
    "from sklearn.metrics import confusion_matrix\n",
    "import seaborn as sns\n",
    "\n",
    "y_pred = matra_model.predict_classes(x_train)\n",
    "y_original = np.argmax(y_train, axis=1)\n",
    "\n",
    "cm = confusion_matrix(y_original, y_pred)\n",
    "print('confusion matrix for {} features (matra):'.format(cm.shape))\n",
    "print(cm)\n",
    "\n",
    "fig, ax = plt.subplots(figsize=(20,20))\n",
    "sns.heatmap(cm, cmap=sns.light_palette('purple', n_colors=500, as_cmap=True), annot=True, linewidths = 5, ax=ax)"
   ]
  },
  {
   "cell_type": "code",
   "execution_count": null,
   "metadata": {
    "collapsed": true
   },
   "outputs": [],
   "source": []
  }
 ],
 "metadata": {
  "kernelspec": {
   "display_name": "Python 3",
   "language": "python",
   "name": "python3"
  },
  "language_info": {
   "codemirror_mode": {
    "name": "ipython",
    "version": 3
   },
   "file_extension": ".py",
   "mimetype": "text/x-python",
   "name": "python",
   "nbconvert_exporter": "python",
   "pygments_lexer": "ipython3",
   "version": "3.6.3"
  }
 },
 "nbformat": 4,
 "nbformat_minor": 2
}
