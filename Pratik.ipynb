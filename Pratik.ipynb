{
 "cells": [
  {
   "cell_type": "code",
   "execution_count": 77,
   "metadata": {
    "collapsed": true
   },
   "outputs": [],
   "source": [
    "import os\n",
    "import numpy as np\n",
    "import pandas as pd\n",
    "import cv2\n",
    "import matplotlib.pyplot as plt\n",
    "\n",
    "from skimage import io, morphology, img_as_bool, segmentation\n",
    "from scipy import ndimage as ndi\n",
    "from scipy.ndimage.morphology import binary_fill_holes\n",
    "\n",
    "%matplotlib inline"
   ]
  },
  {
   "cell_type": "code",
   "execution_count": 78,
   "metadata": {
    "collapsed": true
   },
   "outputs": [],
   "source": [
    "def pad_resize(img):\n",
    "    top = int((224 - img.shape[0])/2)\n",
    "    left = int((224 - img.shape[1])/2)\n",
    "    bottom = 224 - img.shape[0] - top\n",
    "    right = 224 - img.shape[1] - left\n",
    "    img = cv2.copyMakeBorder(img, top, bottom, left, right, cv2.BORDER_CONSTANT, value=255)\n",
    "    img = img/255.\n",
    "    img = cv2.resize(img, (64,64)) #KADD\n",
    "    return img\n",
    "\n",
    "def skeletonize(img):\n",
    "    size = np.size(img)\n",
    "    skel = np.zeros(img.shape,np.uint8)\n",
    "    img = cv2.bitwise_not(img)\n",
    "#     element = cv2.getStructuringElement(cv2.MORPH_CROSS,(1,1))\n",
    "#     done = 0\n",
    "#     while( done < 1 ):\n",
    "#         eroded = cv2.erode(img,element)\n",
    "#         temp = cv2.dilate(eroded,element)\n",
    "#         temp = cv2.subtract(img,temp)\n",
    "#         skel = cv2.bitwise_or(skel,temp)\n",
    "#         img = eroded.copy()\n",
    "\n",
    "#         zeros = size - cv2.countNonZero(img)\n",
    "#         if zeros==size:#cv2.countNonZero(img) * 1 >= 0:#\n",
    "#             done += 1\n",
    "#     img = skel\n",
    "    kernel = np.ones((3,3),np.uint8)\n",
    "    erosion = cv2.erode(img,kernel,iterations = 2)\n",
    "    img = cv2.bitwise_not(erosion)\n",
    "    return img"
   ]
  },
  {
   "cell_type": "code",
   "execution_count": 130,
   "metadata": {},
   "outputs": [
    {
     "name": "stdout",
     "output_type": "stream",
     "text": [
      "100 Done\n",
      "200 Done\n",
      "300 Done\n",
      "400 Done\n",
      "500 Done\n",
      "600 Done\n",
      "700 Done\n",
      "800 Done\n",
      "900 Done\n",
      "1000 Done\n",
      "1100 Done\n",
      "1200 Done\n",
      "1300 Done\n",
      "1400 Done\n",
      "1500 Done\n",
      "1600 Done\n",
      "1700 Done\n",
      "1800 Done\n"
     ]
    }
   ],
   "source": [
    "PATH = '../train_images_modified'\n",
    "images = []\n",
    "base_class = []\n",
    "matra_class = []\n",
    "dot_class = []\n",
    "total_class = []\n",
    "half_char_class = []\n",
    "\n",
    "for filename in os.listdir(PATH):\n",
    "    if filename.endswith(\".png\"):\n",
    "        img = cv2.imread(os.path.join(PATH,filename),0)\n",
    "        blur = cv2.GaussianBlur(img,(9,9),0)# KADD\n",
    "        a,img = cv2.threshold(blur,127,255,cv2.THRESH_BINARY+cv2.THRESH_OTSU)#KEDIT\n",
    "#         plt.imshow(img, cmap='gray')\n",
    "#         plt.show()\n",
    "# #         kernel = np.ones((5,5),np.uint8)\n",
    "#         img = cv2.morphologyEx(img, cv2.MORPH_CLOSE, kernel)\n",
    "#         plt.imshow(img, cmap='gray')\n",
    "#         plt.show()\n",
    "        #img = skeletonize(img)\n",
    "        img = pad_resize(img)\n",
    "        char_arr = filename[:-4].split('_')[3:]\n",
    "        if(len(char_arr)>0):\n",
    "            images.append(img)\n",
    "            char_arr = [int(i) for i in char_arr]\n",
    "            total_class.append(char_arr)\n",
    "            base = [i for i in char_arr if (i>=2308 and i<=2361) or (i==2384) or (i>=2392 and i<=2401) or (i>=2404 and i!=2416 and i!=2417)]  \n",
    "            base_class.append(base[0])\n",
    "            dot = [i for i in char_arr if i in [2306,2416,2417]]\n",
    "            if(len(dot)>0):\n",
    "                dot_class.append(1)\n",
    "            else:\n",
    "                dot_class.append(0)\n",
    "            matra = [i for i in char_arr if (i>=2304 and i<=2307) or (i>=2362 and i<=2380) or (i>=2382 and i<=2383) or (i>=2385 and i<=2391) or (i>=2402 and i<=2403)]\n",
    "            if(len(matra)>0):\n",
    "                matra_class.append(matra[0])\n",
    "            else:\n",
    "                matra_class.append(0)\n",
    "            half_char = [i for i in char_arr if (i==2381)]\n",
    "            if(len(half_char)>0):\n",
    "                half_char_class.append(1)\n",
    "            else:\n",
    "                half_char_class.append(0)\n",
    "#             if(len(char_arr)>1):          \n",
    "#                 matra_class.append(char_arr[1:])\n",
    "            if len(images)%100==0:\n",
    "                print(\"{} Done\".format(len(images)))\n",
    "            \n",
    "# print(len(images))\n",
    "# print(len(char_class))\n",
    "# print(images[0])\n",
    "# print(char_class[0])"
   ]
  },
  {
   "cell_type": "code",
   "execution_count": 80,
   "metadata": {},
   "outputs": [
    {
     "data": {
      "image/png": "[encoded data removed]",
      "text/plain": [
       "<matplotlib.figure.Figure at 0x7f1f92bade10>"
      ]
     },
     "metadata": {},
     "output_type": "display_data"
    },
    {
     "name": "stdout",
     "output_type": "stream",
     "text": [
      "1895\n"
     ]
    }
   ],
   "source": [
    "plt.imshow(images[102],\"gray\")\n",
    "plt.show()\n",
    "print(len(images))"
   ]
  },
  {
   "cell_type": "code",
   "execution_count": 83,
   "metadata": {},
   "outputs": [
    {
     "data": {
      "text/plain": [
       "7"
      ]
     },
     "execution_count": 83,
     "metadata": {},
     "output_type": "execute_result"
    }
   ],
   "source": [
    "np.argmax(model.predict(X_train[0].reshape(-1,64,64,1)))"
   ]
  },
  {
   "cell_type": "code",
   "execution_count": 24,
   "metadata": {
    "collapsed": true
   },
   "outputs": [],
   "source": [
    "half_images = []\n",
    "for image in images:\n",
    "    half_im = np.hsplit(image,2)\n",
    "    half_images.append(half_im[0])"
   ]
  },
  {
   "cell_type": "code",
   "execution_count": 25,
   "metadata": {},
   "outputs": [
    {
     "data": {
      "image/png": "[encoded data removed]",
      "text/plain": [
       "<matplotlib.figure.Figure at 0x7f1fcb21cb38>"
      ]
     },
     "metadata": {},
     "output_type": "display_data"
    }
   ],
   "source": [
    "plt.imshow(half_images[6],\"gray\")\n",
    "plt.show()"
   ]
  },
  {
   "cell_type": "code",
   "execution_count": 128,
   "metadata": {
    "collapsed": true
   },
   "outputs": [],
   "source": [
    "img = plt.imread('ok.png')"
   ]
  },
  {
   "cell_type": "code",
   "execution_count": 129,
   "metadata": {},
   "outputs": [
    {
     "data": {
      "text/plain": [
       "array([[[ 0.42352942,  0.34901962,  0.22352941,  1.        ],\n",
       "        [ 0.43529412,  0.36078432,  0.24313726,  1.        ],\n",
       "        [ 0.45490196,  0.3764706 ,  0.27058825,  1.        ],\n",
       "        ..., \n",
       "        [ 0.13333334,  0.12156863,  0.15686275,  1.        ],\n",
       "        [ 0.14901961,  0.12941177,  0.15686275,  1.        ],\n",
       "        [ 0.18431373,  0.16470589,  0.1882353 ,  1.        ]],\n",
       "\n",
       "       [[ 0.45490196,  0.38039216,  0.25490198,  1.        ],\n",
       "        [ 0.44313726,  0.36862746,  0.25098041,  1.        ],\n",
       "        [ 0.43921569,  0.36078432,  0.25490198,  1.        ],\n",
       "        ..., \n",
       "        [ 0.14117648,  0.12941177,  0.16470589,  1.        ],\n",
       "        [ 0.12941177,  0.10980392,  0.13725491,  1.        ],\n",
       "        [ 0.13725491,  0.11764706,  0.14117648,  1.        ]],\n",
       "\n",
       "       [[ 0.46666667,  0.39215687,  0.27450982,  1.        ],\n",
       "        [ 0.44313726,  0.36862746,  0.25098041,  1.        ],\n",
       "        [ 0.42352942,  0.34901962,  0.23137255,  1.        ],\n",
       "        ..., \n",
       "        [ 0.14509805,  0.14117648,  0.16470589,  1.        ],\n",
       "        [ 0.13725491,  0.13333334,  0.15294118,  1.        ],\n",
       "        [ 0.13725491,  0.13725491,  0.14509805,  1.        ]],\n",
       "\n",
       "       ..., \n",
       "       [[ 0.40784314,  0.35294119,  0.25098041,  1.        ],\n",
       "        [ 0.41568628,  0.35294119,  0.25490198,  1.        ],\n",
       "        [ 0.44705883,  0.38431373,  0.28235295,  1.        ],\n",
       "        ..., \n",
       "        [ 0.4509804 ,  0.35686275,  0.26274511,  1.        ],\n",
       "        [ 0.47058824,  0.3764706 ,  0.28235295,  1.        ],\n",
       "        [ 0.48235294,  0.3882353 ,  0.29411766,  1.        ]],\n",
       "\n",
       "       [[ 0.41960785,  0.36470589,  0.26274511,  1.        ],\n",
       "        [ 0.41960785,  0.35686275,  0.25882354,  1.        ],\n",
       "        [ 0.43529412,  0.37254903,  0.27058825,  1.        ],\n",
       "        ..., \n",
       "        [ 0.4509804 ,  0.35686275,  0.26274511,  1.        ],\n",
       "        [ 0.47450981,  0.38039216,  0.28627452,  1.        ],\n",
       "        [ 0.47843137,  0.38431373,  0.29019609,  1.        ]],\n",
       "\n",
       "       [[ 0.43137255,  0.3882353 ,  0.30980393,  1.        ],\n",
       "        [ 0.41176471,  0.36470589,  0.27843139,  1.        ],\n",
       "        [ 0.41568628,  0.35686275,  0.27450982,  1.        ],\n",
       "        ..., \n",
       "        [ 0.47058824,  0.3764706 ,  0.28235295,  1.        ],\n",
       "        [ 0.48235294,  0.3882353 ,  0.29411766,  1.        ],\n",
       "        [ 0.47843137,  0.38431373,  0.29019609,  1.        ]]], dtype=float32)"
      ]
     },
     "execution_count": 129,
     "metadata": {},
     "output_type": "execute_result"
    }
   ],
   "source": [
    "img"
   ]
  },
  {
   "cell_type": "code",
   "execution_count": 26,
   "metadata": {},
   "outputs": [
    {
     "data": {
      "text/plain": [
       "53"
      ]
     },
     "execution_count": 26,
     "metadata": {},
     "output_type": "execute_result"
    }
   ],
   "source": [
    "len(set(base_class))"
   ]
  },
  {
   "cell_type": "code",
   "execution_count": 29,
   "metadata": {},
   "outputs": [
    {
     "data": {
      "text/plain": [
       "[2368,\n",
       " 2306,\n",
       " 0,\n",
       " 0,\n",
       " 0,\n",
       " 0,\n",
       " 2366,\n",
       " 0,\n",
       " 2366,\n",
       " 0,\n",
       " 2376,\n",
       " 2367,\n",
       " 0,\n",
       " 0,\n",
       " 0,\n",
       " 0,\n",
       " 2370,\n",
       " 2375,\n",
       " 2375,\n",
       " 0,\n",
       " 2367,\n",
       " 0,\n",
       " 2367,\n",
       " 0,\n",
       " 0,\n",
       " 0,\n",
       " 0,\n",
       " 2376,\n",
       " 0,\n",
       " 2366,\n",
       " 2375,\n",
       " 0,\n",
       " 2380,\n",
       " 2366,\n",
       " 0,\n",
       " 2366,\n",
       " 0,\n",
       " 2366,\n",
       " 2379,\n",
       " 2375,\n",
       " 2376,\n",
       " 2367,\n",
       " 0,\n",
       " 0,\n",
       " 0,\n",
       " 0,\n",
       " 2380,\n",
       " 2367,\n",
       " 0,\n",
       " 0,\n",
       " 2380,\n",
       " 0,\n",
       " 0,\n",
       " 2306,\n",
       " 0,\n",
       " 0,\n",
       " 2380,\n",
       " 0,\n",
       " 2380,\n",
       " 0,\n",
       " 0,\n",
       " 0,\n",
       " 0,\n",
       " 2367,\n",
       " 2368,\n",
       " 0,\n",
       " 0,\n",
       " 0,\n",
       " 0,\n",
       " 2376,\n",
       " 0,\n",
       " 0,\n",
       " 2366,\n",
       " 0,\n",
       " 0,\n",
       " 2375,\n",
       " 2366,\n",
       " 2370,\n",
       " 2368,\n",
       " 0,\n",
       " 2370,\n",
       " 2367,\n",
       " 0,\n",
       " 2366,\n",
       " 0,\n",
       " 0,\n",
       " 0,\n",
       " 2306,\n",
       " 2367,\n",
       " 2366,\n",
       " 0,\n",
       " 2375,\n",
       " 2366,\n",
       " 0,\n",
       " 0,\n",
       " 2306,\n",
       " 2306,\n",
       " 0,\n",
       " 0,\n",
       " 0,\n",
       " 0,\n",
       " 2379,\n",
       " 2376,\n",
       " 2368,\n",
       " 0,\n",
       " 2379,\n",
       " 2368,\n",
       " 2367,\n",
       " 2368,\n",
       " 0,\n",
       " 0,\n",
       " 0,\n",
       " 0,\n",
       " 0,\n",
       " 0,\n",
       " 2366,\n",
       " 0,\n",
       " 2367,\n",
       " 2306,\n",
       " 2369,\n",
       " 2366,\n",
       " 2368,\n",
       " 2376,\n",
       " 2366,\n",
       " 2370,\n",
       " 2370,\n",
       " 2363,\n",
       " 0,\n",
       " 0,\n",
       " 2366,\n",
       " 2368,\n",
       " 0,\n",
       " 0,\n",
       " 2366,\n",
       " 0,\n",
       " 0,\n",
       " 0,\n",
       " 2369,\n",
       " 0,\n",
       " 0,\n",
       " 2367,\n",
       " 0,\n",
       " 0,\n",
       " 0,\n",
       " 2366,\n",
       " 0,\n",
       " 0,\n",
       " 0,\n",
       " 0,\n",
       " 2367,\n",
       " 2367,\n",
       " 2366,\n",
       " 0,\n",
       " 2366,\n",
       " 2366,\n",
       " 0,\n",
       " 2366,\n",
       " 2379,\n",
       " 0,\n",
       " 2366,\n",
       " 0,\n",
       " 2366,\n",
       " 2366,\n",
       " 2367,\n",
       " 2366,\n",
       " 2368,\n",
       " 2366,\n",
       " 2366,\n",
       " 0,\n",
       " 0,\n",
       " 2375,\n",
       " 2375,\n",
       " 2306,\n",
       " 2367,\n",
       " 2366,\n",
       " 0,\n",
       " 2375,\n",
       " 2366,\n",
       " 0,\n",
       " 0,\n",
       " 0,\n",
       " 0,\n",
       " 2368,\n",
       " 2376,\n",
       " 2306,\n",
       " 0,\n",
       " 0,\n",
       " 0,\n",
       " 2369,\n",
       " 0,\n",
       " 0,\n",
       " 2379,\n",
       " 0,\n",
       " 0,\n",
       " 2367,\n",
       " 2366,\n",
       " 2376,\n",
       " 2366,\n",
       " 0,\n",
       " 2368,\n",
       " 0,\n",
       " 2306,\n",
       " 2366,\n",
       " 0,\n",
       " 2379,\n",
       " 2306,\n",
       " 0,\n",
       " 0,\n",
       " 2368,\n",
       " 0,\n",
       " 0,\n",
       " 2375,\n",
       " 0,\n",
       " 2306,\n",
       " 0,\n",
       " 0,\n",
       " 2379,\n",
       " 2375,\n",
       " 2376,\n",
       " 2366,\n",
       " 2364,\n",
       " 0,\n",
       " 0,\n",
       " 2376,\n",
       " 0,\n",
       " 0,\n",
       " 2379,\n",
       " 2376,\n",
       " 0,\n",
       " 2366,\n",
       " 0,\n",
       " 2380,\n",
       " 2366,\n",
       " 2366,\n",
       " 2375,\n",
       " 2376,\n",
       " 0,\n",
       " 2379,\n",
       " 0,\n",
       " 2366,\n",
       " 0,\n",
       " 0,\n",
       " 0,\n",
       " 0,\n",
       " 2370,\n",
       " 0,\n",
       " 2366,\n",
       " 2375,\n",
       " 0,\n",
       " 0,\n",
       " 0,\n",
       " 2375,\n",
       " 0,\n",
       " 0,\n",
       " 2379,\n",
       " 2367,\n",
       " 2379,\n",
       " 0,\n",
       " 2379,\n",
       " 0,\n",
       " 0,\n",
       " 0,\n",
       " 2367,\n",
       " 2376,\n",
       " 2367,\n",
       " 0,\n",
       " 0,\n",
       " 2375,\n",
       " 0,\n",
       " 2367,\n",
       " 0,\n",
       " 0,\n",
       " 2379,\n",
       " 2367,\n",
       " 2380,\n",
       " 2306,\n",
       " 2366,\n",
       " 0,\n",
       " 0,\n",
       " 2366,\n",
       " 2306,\n",
       " 0,\n",
       " 2375,\n",
       " 2367,\n",
       " 2366,\n",
       " 2306,\n",
       " 2376,\n",
       " 0,\n",
       " 0,\n",
       " 2367,\n",
       " 0,\n",
       " 2306,\n",
       " 2306,\n",
       " 2366,\n",
       " 2369,\n",
       " 0,\n",
       " 2367,\n",
       " 0,\n",
       " 0,\n",
       " 2376,\n",
       " 2368,\n",
       " 0,\n",
       " 0,\n",
       " 0,\n",
       " 0,\n",
       " 0,\n",
       " 2375,\n",
       " 0,\n",
       " 0,\n",
       " 0,\n",
       " 2367,\n",
       " 2367,\n",
       " 2375,\n",
       " 2366,\n",
       " 2367,\n",
       " 0,\n",
       " 0,\n",
       " 2375,\n",
       " 2379,\n",
       " 2375,\n",
       " 0,\n",
       " 0,\n",
       " 0,\n",
       " 0,\n",
       " 0,\n",
       " 2367,\n",
       " 2366,\n",
       " 2366,\n",
       " 0,\n",
       " 0,\n",
       " 2366,\n",
       " 2375,\n",
       " 2368,\n",
       " 0,\n",
       " 2368,\n",
       " 2369,\n",
       " 0,\n",
       " 0,\n",
       " 2366,\n",
       " 0,\n",
       " 0,\n",
       " 0,\n",
       " 2366,\n",
       " 0,\n",
       " 0,\n",
       " 0,\n",
       " 2366,\n",
       " 2366,\n",
       " 2368,\n",
       " 0,\n",
       " 0,\n",
       " 2375,\n",
       " 2306,\n",
       " 0,\n",
       " 0,\n",
       " 0,\n",
       " 0,\n",
       " 0,\n",
       " 2379,\n",
       " 2368,\n",
       " 2364,\n",
       " 0,\n",
       " 0,\n",
       " 2376,\n",
       " 0,\n",
       " 2375,\n",
       " 0,\n",
       " 0,\n",
       " 2306,\n",
       " 2367,\n",
       " 2367,\n",
       " 0,\n",
       " 0,\n",
       " 2364,\n",
       " 2306,\n",
       " 0,\n",
       " 0,\n",
       " 2367,\n",
       " 2367,\n",
       " 0,\n",
       " 2366,\n",
       " 0,\n",
       " 0,\n",
       " 2380,\n",
       " 2379,\n",
       " 0,\n",
       " 0,\n",
       " 0,\n",
       " 0,\n",
       " 2368,\n",
       " 2367,\n",
       " 2306,\n",
       " 2367,\n",
       " 2375,\n",
       " 2368,\n",
       " 2366,\n",
       " 0,\n",
       " 2367,\n",
       " 2380,\n",
       " 0,\n",
       " 2390,\n",
       " 2375,\n",
       " 2368,\n",
       " 0,\n",
       " 2380,\n",
       " 2306,\n",
       " 0,\n",
       " 2376,\n",
       " 2367,\n",
       " 2306,\n",
       " 0,\n",
       " 2368,\n",
       " 2370,\n",
       " 0,\n",
       " 2380,\n",
       " 2369,\n",
       " 2375,\n",
       " 0,\n",
       " 0,\n",
       " 0,\n",
       " 2380,\n",
       " 0,\n",
       " 0,\n",
       " 0,\n",
       " 0,\n",
       " 0,\n",
       " 2375,\n",
       " 0,\n",
       " 0,\n",
       " 2366,\n",
       " 0,\n",
       " 2379,\n",
       " 2366,\n",
       " 0,\n",
       " 2306,\n",
       " 2375,\n",
       " 0,\n",
       " 2306,\n",
       " 2367,\n",
       " 0,\n",
       " 0,\n",
       " 2366,\n",
       " 2366,\n",
       " 2366,\n",
       " 2306,\n",
       " 2366,\n",
       " 2306,\n",
       " 0,\n",
       " 0,\n",
       " 2368,\n",
       " 0,\n",
       " 0,\n",
       " 0,\n",
       " 0,\n",
       " 0,\n",
       " 2376,\n",
       " 2366,\n",
       " 2306,\n",
       " 2368,\n",
       " 0,\n",
       " 0,\n",
       " 2376,\n",
       " 2380,\n",
       " 2367,\n",
       " 2306,\n",
       " 0,\n",
       " 0,\n",
       " 0,\n",
       " 0,\n",
       " 0,\n",
       " 0,\n",
       " 0,\n",
       " 0,\n",
       " 0,\n",
       " 2306,\n",
       " 0,\n",
       " 0,\n",
       " 0,\n",
       " 0,\n",
       " 0,\n",
       " 0,\n",
       " 0,\n",
       " 2375,\n",
       " 0,\n",
       " 0,\n",
       " 0,\n",
       " 0,\n",
       " 2362,\n",
       " 2367,\n",
       " 2380,\n",
       " 0,\n",
       " 2380,\n",
       " 0,\n",
       " 0,\n",
       " 2366,\n",
       " 2369,\n",
       " 2382,\n",
       " 0,\n",
       " 2367,\n",
       " 0,\n",
       " 2367,\n",
       " 2366,\n",
       " 2366,\n",
       " 2370,\n",
       " 0,\n",
       " 2306,\n",
       " 2366,\n",
       " 0,\n",
       " 0,\n",
       " 2368,\n",
       " 0,\n",
       " 0,\n",
       " 0,\n",
       " 0,\n",
       " 2368,\n",
       " 0,\n",
       " 2376,\n",
       " 2367,\n",
       " 2367,\n",
       " 0,\n",
       " 2367,\n",
       " 0,\n",
       " 2375,\n",
       " 2366,\n",
       " 0,\n",
       " 2367,\n",
       " 0,\n",
       " 0,\n",
       " 2370,\n",
       " 2367,\n",
       " 0,\n",
       " 0,\n",
       " 0,\n",
       " 2367,\n",
       " 2366,\n",
       " 2306,\n",
       " 2375,\n",
       " 0,\n",
       " 0,\n",
       " 2306,\n",
       " 0,\n",
       " 0,\n",
       " 2376,\n",
       " 2380,\n",
       " 0,\n",
       " 2306,\n",
       " 2369,\n",
       " 0,\n",
       " 2376,\n",
       " 2366,\n",
       " 0,\n",
       " 0,\n",
       " 2375,\n",
       " 0,\n",
       " 0,\n",
       " 0,\n",
       " 2366,\n",
       " 0,\n",
       " 2376,\n",
       " 0,\n",
       " 2370,\n",
       " 0,\n",
       " 0,\n",
       " 0,\n",
       " 0,\n",
       " 0,\n",
       " 2368,\n",
       " 2366,\n",
       " 0,\n",
       " 0,\n",
       " 2367,\n",
       " 0,\n",
       " 2366,\n",
       " 2368,\n",
       " 2367,\n",
       " 0,\n",
       " 0,\n",
       " 2366,\n",
       " 2367,\n",
       " 2379,\n",
       " 2380,\n",
       " 2366,\n",
       " 0,\n",
       " 2366,\n",
       " 0,\n",
       " 0,\n",
       " 0,\n",
       " 0,\n",
       " 2366,\n",
       " 0,\n",
       " 0,\n",
       " 0,\n",
       " 2368,\n",
       " 2368,\n",
       " 0,\n",
       " 2364,\n",
       " 2368,\n",
       " 2306,\n",
       " 2367,\n",
       " 0,\n",
       " 2368,\n",
       " 2375,\n",
       " 2379,\n",
       " 0,\n",
       " 0,\n",
       " 0,\n",
       " 2367,\n",
       " 2368,\n",
       " 0,\n",
       " 0,\n",
       " 0,\n",
       " 2367,\n",
       " 2367,\n",
       " 0,\n",
       " 0,\n",
       " 0,\n",
       " 2379,\n",
       " 2369,\n",
       " 2367,\n",
       " 2366,\n",
       " 0,\n",
       " 2363,\n",
       " 2380,\n",
       " 0,\n",
       " 0,\n",
       " 2306,\n",
       " 0,\n",
       " 0,\n",
       " 2380,\n",
       " 0,\n",
       " 2367,\n",
       " 0,\n",
       " 2366,\n",
       " 0,\n",
       " 2366,\n",
       " 2367,\n",
       " 2366,\n",
       " 2369,\n",
       " 2366,\n",
       " 2306,\n",
       " 2375,\n",
       " 2366,\n",
       " 2375,\n",
       " 2366,\n",
       " 2367,\n",
       " 2367,\n",
       " 2375,\n",
       " 2367,\n",
       " 2366,\n",
       " 0,\n",
       " 0,\n",
       " 0,\n",
       " 0,\n",
       " 0,\n",
       " 0,\n",
       " 2375,\n",
       " 2367,\n",
       " 2366,\n",
       " 2366,\n",
       " 2379,\n",
       " 0,\n",
       " 2379,\n",
       " 2366,\n",
       " 2366,\n",
       " 2367,\n",
       " 2379,\n",
       " 0,\n",
       " 0,\n",
       " 2366,\n",
       " 0,\n",
       " 2375,\n",
       " 2364,\n",
       " 0,\n",
       " 2376,\n",
       " 2376,\n",
       " 0,\n",
       " 0,\n",
       " 0,\n",
       " 2369,\n",
       " 2366,\n",
       " 0,\n",
       " 0,\n",
       " 2306,\n",
       " 0,\n",
       " 0,\n",
       " 0,\n",
       " 2366,\n",
       " 2368,\n",
       " 0,\n",
       " 0,\n",
       " 2368,\n",
       " 2370,\n",
       " 2368,\n",
       " 0,\n",
       " 0,\n",
       " 2367,\n",
       " 2368,\n",
       " 2380,\n",
       " 2366,\n",
       " 2366,\n",
       " 2368,\n",
       " 0,\n",
       " 0,\n",
       " 0,\n",
       " 0,\n",
       " 2375,\n",
       " 0,\n",
       " 2366,\n",
       " 0,\n",
       " 2366,\n",
       " 2366,\n",
       " 2366,\n",
       " 0,\n",
       " 2306,\n",
       " 2367,\n",
       " 2366,\n",
       " 0,\n",
       " 0,\n",
       " 2366,\n",
       " 2367,\n",
       " 2375,\n",
       " 2375,\n",
       " 2306,\n",
       " 2368,\n",
       " 2380,\n",
       " 0,\n",
       " 0,\n",
       " 0,\n",
       " 2379,\n",
       " 2366,\n",
       " 2375,\n",
       " 0,\n",
       " 2367,\n",
       " 2367,\n",
       " 0,\n",
       " 2366,\n",
       " 0,\n",
       " 2366,\n",
       " 0,\n",
       " 0,\n",
       " 0,\n",
       " 0,\n",
       " 2368,\n",
       " 2375,\n",
       " 0,\n",
       " 0,\n",
       " 2376,\n",
       " 2306,\n",
       " 2375,\n",
       " 0,\n",
       " 2375,\n",
       " 2367,\n",
       " 2368,\n",
       " 2366,\n",
       " 2379,\n",
       " 2366,\n",
       " 2375,\n",
       " 0,\n",
       " 2367,\n",
       " 2367,\n",
       " 0,\n",
       " 2306,\n",
       " 2306,\n",
       " 0,\n",
       " 0,\n",
       " 0,\n",
       " 2379,\n",
       " 0,\n",
       " 2366,\n",
       " 0,\n",
       " 0,\n",
       " 2375,\n",
       " 2379,\n",
       " 0,\n",
       " 2367,\n",
       " 2362,\n",
       " 2366,\n",
       " 0,\n",
       " 2367,\n",
       " 2366,\n",
       " 2366,\n",
       " 2375,\n",
       " 0,\n",
       " 0,\n",
       " 2367,\n",
       " 0,\n",
       " 2367,\n",
       " 2366,\n",
       " 2366,\n",
       " 0,\n",
       " 2366,\n",
       " 2376,\n",
       " 0,\n",
       " 2376,\n",
       " 0,\n",
       " 2306,\n",
       " 0,\n",
       " 2380,\n",
       " 0,\n",
       " 2366,\n",
       " 2379,\n",
       " 2379,\n",
       " 2370,\n",
       " 2368,\n",
       " 2379,\n",
       " 0,\n",
       " 2367,\n",
       " 0,\n",
       " 2379,\n",
       " 2366,\n",
       " 2362,\n",
       " 0,\n",
       " 2376,\n",
       " 2367,\n",
       " 2306,\n",
       " 0,\n",
       " 2366,\n",
       " 0,\n",
       " 0,\n",
       " 2367,\n",
       " 0,\n",
       " 2367,\n",
       " 0,\n",
       " 2366,\n",
       " 0,\n",
       " 2375,\n",
       " 0,\n",
       " 0,\n",
       " 2368,\n",
       " 2368,\n",
       " 2376,\n",
       " 2366,\n",
       " 2306,\n",
       " 2367,\n",
       " 2367,\n",
       " 0,\n",
       " 2366,\n",
       " 2367,\n",
       " 2380,\n",
       " 0,\n",
       " 2367,\n",
       " 0,\n",
       " 2375,\n",
       " 2368,\n",
       " 2367,\n",
       " 2366,\n",
       " 2368,\n",
       " 0,\n",
       " 0,\n",
       " 0,\n",
       " 2366,\n",
       " 2366,\n",
       " 0,\n",
       " 2366,\n",
       " 2369,\n",
       " 0,\n",
       " 0,\n",
       " 2380,\n",
       " 0,\n",
       " 2366,\n",
       " 2368,\n",
       " 0,\n",
       " 0,\n",
       " 2367,\n",
       " 2375,\n",
       " 2368,\n",
       " 0,\n",
       " 2366,\n",
       " 0,\n",
       " 2376,\n",
       " 0,\n",
       " 0,\n",
       " 2372,\n",
       " 2306,\n",
       " 2368,\n",
       " 0,\n",
       " 2370,\n",
       " 2366,\n",
       " 0,\n",
       " 2366,\n",
       " 2367,\n",
       " 2369,\n",
       " 2368,\n",
       " 0,\n",
       " 0,\n",
       " 2366,\n",
       " 2366,\n",
       " 0,\n",
       " 2387,\n",
       " 2367,\n",
       " 2366,\n",
       " 2363,\n",
       " 2367,\n",
       " 0,\n",
       " 2366,\n",
       " 2367,\n",
       " 2367,\n",
       " 2366,\n",
       " 0,\n",
       " 0,\n",
       " 2306,\n",
       " 0,\n",
       " 2367,\n",
       " 0,\n",
       " 0,\n",
       " 0,\n",
       " 2367,\n",
       " 0,\n",
       " 2366,\n",
       " 2367,\n",
       " 0,\n",
       " 0,\n",
       " 0,\n",
       " 0,\n",
       " 0,\n",
       " 0,\n",
       " 2367,\n",
       " 2367,\n",
       " 2366,\n",
       " 2367,\n",
       " 2366,\n",
       " 2370,\n",
       " 2380,\n",
       " 2364,\n",
       " 2366,\n",
       " 2366,\n",
       " 2375,\n",
       " 0,\n",
       " 2375,\n",
       " 2369,\n",
       " 2368,\n",
       " 0,\n",
       " 2375,\n",
       " 0,\n",
       " 0,\n",
       " 0,\n",
       " 2368,\n",
       " 0,\n",
       " 0,\n",
       " 0,\n",
       " 0,\n",
       " 2375,\n",
       " 2366,\n",
       " 0,\n",
       " 0,\n",
       " 0,\n",
       " 0,\n",
       " 2379,\n",
       " 0,\n",
       " 0,\n",
       " 2368,\n",
       " 2366,\n",
       " 0,\n",
       " 2366,\n",
       " 0,\n",
       " 2366,\n",
       " 2306,\n",
       " 0,\n",
       " 0,\n",
       " 0,\n",
       " 2306,\n",
       " 2364,\n",
       " 2366,\n",
       " 2375,\n",
       " 2379,\n",
       " 2306,\n",
       " 0,\n",
       " 0,\n",
       " 0,\n",
       " 2375,\n",
       " 2367,\n",
       " 0,\n",
       " 0,\n",
       " 0,\n",
       " 0,\n",
       " 0,\n",
       " 2375,\n",
       " 2367,\n",
       " 0,\n",
       " 2376,\n",
       " 2366,\n",
       " 2379,\n",
       " 0,\n",
       " 0,\n",
       " 0,\n",
       " 0,\n",
       " 0,\n",
       " 2366,\n",
       " 0,\n",
       " 0,\n",
       " 2368,\n",
       " 2375,\n",
       " 0,\n",
       " 0,\n",
       " 2368,\n",
       " 2368,\n",
       " 2367,\n",
       " 0,\n",
       " 0,\n",
       " 0,\n",
       " ...]"
      ]
     },
     "execution_count": 29,
     "metadata": {},
     "output_type": "execute_result"
    }
   ],
   "source": [
    "matra_class"
   ]
  },
  {
   "cell_type": "code",
   "execution_count": 90,
   "metadata": {
    "collapsed": true
   },
   "outputs": [],
   "source": [
    "images = np.array(images)\n",
    "X = np.reshape(np.array(images), (-1, 64*64))\n",
    "y = np.array(base_class)\n",
    "\n",
    "df = pd.DataFrame(X, y)\n",
    "df['LABEL'] = df.index\n",
    "\n",
    "df_no_label = df.drop(columns='LABEL')"
   ]
  },
  {
   "cell_type": "code",
   "execution_count": 94,
   "metadata": {},
   "outputs": [
    {
     "data": {
      "text/plain": [
       "2407"
      ]
     },
     "execution_count": 94,
     "metadata": {},
     "output_type": "execute_result"
    }
   ],
   "source": []
  },
  {
   "cell_type": "code",
   "execution_count": 88,
   "metadata": {},
   "outputs": [
    {
     "data": {
      "text/plain": [
       "7"
      ]
     },
     "execution_count": 88,
     "metadata": {},
     "output_type": "execute_result"
    }
   ],
   "source": [
    "temp = np.reshape(X[0],(-1,64,64,1))\n",
    "np.argmax(model.predict(temp))"
   ]
  },
  {
   "cell_type": "code",
   "execution_count": 31,
   "metadata": {},
   "outputs": [
    {
     "data": {
      "text/html": [
       "<div>\n",
       "<style scoped>\n",
       "    .dataframe tbody tr th:only-of-type {\n",
       "        vertical-align: middle;\n",
       "    }\n",
       "\n",
       "    .dataframe tbody tr th {\n",
       "        vertical-align: top;\n",
       "    }\n",
       "\n",
       "    .dataframe thead th {\n",
       "        text-align: right;\n",
       "    }\n",
       "</style>\n",
       "<table border=\"1\" class=\"dataframe\">\n",
       "  <thead>\n",
       "    <tr style=\"text-align: right;\">\n",
       "      <th></th>\n",
       "      <th>0</th>\n",
       "      <th>1</th>\n",
       "      <th>2</th>\n",
       "      <th>3</th>\n",
       "      <th>4</th>\n",
       "      <th>5</th>\n",
       "      <th>6</th>\n",
       "      <th>7</th>\n",
       "      <th>8</th>\n",
       "      <th>9</th>\n",
       "      <th>...</th>\n",
       "      <th>4086</th>\n",
       "      <th>4087</th>\n",
       "      <th>4088</th>\n",
       "      <th>4089</th>\n",
       "      <th>4090</th>\n",
       "      <th>4091</th>\n",
       "      <th>4092</th>\n",
       "      <th>4093</th>\n",
       "      <th>4094</th>\n",
       "      <th>4095</th>\n",
       "    </tr>\n",
       "  </thead>\n",
       "  <tbody>\n",
       "    <tr>\n",
       "      <th>2325</th>\n",
       "      <td>1.0</td>\n",
       "      <td>1.0</td>\n",
       "      <td>1.0</td>\n",
       "      <td>1.0</td>\n",
       "      <td>1.0</td>\n",
       "      <td>1.0</td>\n",
       "      <td>1.0</td>\n",
       "      <td>1.0</td>\n",
       "      <td>1.0</td>\n",
       "      <td>1.0</td>\n",
       "      <td>...</td>\n",
       "      <td>1.0</td>\n",
       "      <td>1.0</td>\n",
       "      <td>1.0</td>\n",
       "      <td>1.0</td>\n",
       "      <td>1.0</td>\n",
       "      <td>1.0</td>\n",
       "      <td>1.0</td>\n",
       "      <td>1.0</td>\n",
       "      <td>1.0</td>\n",
       "      <td>1.0</td>\n",
       "    </tr>\n",
       "    <tr>\n",
       "      <th>2350</th>\n",
       "      <td>1.0</td>\n",
       "      <td>1.0</td>\n",
       "      <td>1.0</td>\n",
       "      <td>1.0</td>\n",
       "      <td>1.0</td>\n",
       "      <td>1.0</td>\n",
       "      <td>1.0</td>\n",
       "      <td>1.0</td>\n",
       "      <td>1.0</td>\n",
       "      <td>1.0</td>\n",
       "      <td>...</td>\n",
       "      <td>1.0</td>\n",
       "      <td>1.0</td>\n",
       "      <td>1.0</td>\n",
       "      <td>1.0</td>\n",
       "      <td>1.0</td>\n",
       "      <td>1.0</td>\n",
       "      <td>1.0</td>\n",
       "      <td>1.0</td>\n",
       "      <td>1.0</td>\n",
       "      <td>1.0</td>\n",
       "    </tr>\n",
       "    <tr>\n",
       "      <th>2347</th>\n",
       "      <td>1.0</td>\n",
       "      <td>1.0</td>\n",
       "      <td>1.0</td>\n",
       "      <td>1.0</td>\n",
       "      <td>1.0</td>\n",
       "      <td>1.0</td>\n",
       "      <td>1.0</td>\n",
       "      <td>1.0</td>\n",
       "      <td>1.0</td>\n",
       "      <td>1.0</td>\n",
       "      <td>...</td>\n",
       "      <td>1.0</td>\n",
       "      <td>1.0</td>\n",
       "      <td>1.0</td>\n",
       "      <td>1.0</td>\n",
       "      <td>1.0</td>\n",
       "      <td>1.0</td>\n",
       "      <td>1.0</td>\n",
       "      <td>1.0</td>\n",
       "      <td>1.0</td>\n",
       "      <td>1.0</td>\n",
       "    </tr>\n",
       "    <tr>\n",
       "      <th>2360</th>\n",
       "      <td>1.0</td>\n",
       "      <td>1.0</td>\n",
       "      <td>1.0</td>\n",
       "      <td>1.0</td>\n",
       "      <td>1.0</td>\n",
       "      <td>1.0</td>\n",
       "      <td>1.0</td>\n",
       "      <td>1.0</td>\n",
       "      <td>1.0</td>\n",
       "      <td>1.0</td>\n",
       "      <td>...</td>\n",
       "      <td>1.0</td>\n",
       "      <td>1.0</td>\n",
       "      <td>1.0</td>\n",
       "      <td>1.0</td>\n",
       "      <td>1.0</td>\n",
       "      <td>1.0</td>\n",
       "      <td>1.0</td>\n",
       "      <td>1.0</td>\n",
       "      <td>1.0</td>\n",
       "      <td>1.0</td>\n",
       "    </tr>\n",
       "    <tr>\n",
       "      <th>2312</th>\n",
       "      <td>1.0</td>\n",
       "      <td>1.0</td>\n",
       "      <td>1.0</td>\n",
       "      <td>1.0</td>\n",
       "      <td>1.0</td>\n",
       "      <td>1.0</td>\n",
       "      <td>1.0</td>\n",
       "      <td>1.0</td>\n",
       "      <td>1.0</td>\n",
       "      <td>1.0</td>\n",
       "      <td>...</td>\n",
       "      <td>1.0</td>\n",
       "      <td>1.0</td>\n",
       "      <td>1.0</td>\n",
       "      <td>1.0</td>\n",
       "      <td>1.0</td>\n",
       "      <td>1.0</td>\n",
       "      <td>1.0</td>\n",
       "      <td>1.0</td>\n",
       "      <td>1.0</td>\n",
       "      <td>1.0</td>\n",
       "    </tr>\n",
       "  </tbody>\n",
       "</table>\n",
       "<p>5 rows × 4096 columns</p>\n",
       "</div>"
      ],
      "text/plain": [
       "      0     1     2     3     4     5     6     7     8     9     ...   4086  \\\n",
       "2325   1.0   1.0   1.0   1.0   1.0   1.0   1.0   1.0   1.0   1.0  ...    1.0   \n",
       "2350   1.0   1.0   1.0   1.0   1.0   1.0   1.0   1.0   1.0   1.0  ...    1.0   \n",
       "2347   1.0   1.0   1.0   1.0   1.0   1.0   1.0   1.0   1.0   1.0  ...    1.0   \n",
       "2360   1.0   1.0   1.0   1.0   1.0   1.0   1.0   1.0   1.0   1.0  ...    1.0   \n",
       "2312   1.0   1.0   1.0   1.0   1.0   1.0   1.0   1.0   1.0   1.0  ...    1.0   \n",
       "\n",
       "      4087  4088  4089  4090  4091  4092  4093  4094  4095  \n",
       "2325   1.0   1.0   1.0   1.0   1.0   1.0   1.0   1.0   1.0  \n",
       "2350   1.0   1.0   1.0   1.0   1.0   1.0   1.0   1.0   1.0  \n",
       "2347   1.0   1.0   1.0   1.0   1.0   1.0   1.0   1.0   1.0  \n",
       "2360   1.0   1.0   1.0   1.0   1.0   1.0   1.0   1.0   1.0  \n",
       "2312   1.0   1.0   1.0   1.0   1.0   1.0   1.0   1.0   1.0  \n",
       "\n",
       "[5 rows x 4096 columns]"
      ]
     },
     "execution_count": 31,
     "metadata": {},
     "output_type": "execute_result"
    }
   ],
   "source": [
    "df_no_label.head()"
   ]
  },
  {
   "cell_type": "code",
   "execution_count": 113,
   "metadata": {},
   "outputs": [],
   "source": [
    "import keras\n",
    "from sklearn.preprocessing import LabelEncoder\n",
    "from keras.utils import np_utils\n",
    "\n",
    "le = LabelEncoder()\n",
    "le.fit(base_class)\n",
    "y_labeled = le.transform(base_class)\n",
    "y_train = np_utils.to_categorical(y_labeled)"
   ]
  },
  {
   "cell_type": "code",
   "execution_count": 114,
   "metadata": {},
   "outputs": [],
   "source": [
    "base_dict = { i:le.classes_[i] for i in range(len(le.classes_))}"
   ]
  },
  {
   "cell_type": "code",
   "execution_count": 127,
   "metadata": {},
   "outputs": [
    {
     "data": {
      "text/plain": [
       "array([0, 1])"
      ]
     },
     "execution_count": 127,
     "metadata": {},
     "output_type": "execute_result"
    }
   ],
   "source": [
    "le_dot.classes_"
   ]
  },
  {
   "cell_type": "code",
   "execution_count": 33,
   "metadata": {},
   "outputs": [
    {
     "name": "stdout",
     "output_type": "stream",
     "text": [
      "(1895, 53)\n",
      "(1895, 64, 64, 1)\n"
     ]
    }
   ],
   "source": [
    "print(y_train.shape)\n",
    "X_train = np.reshape(images,(-1,64,64,1))\n",
    "print(X_train.shape)"
   ]
  },
  {
   "cell_type": "code",
   "execution_count": 34,
   "metadata": {},
   "outputs": [
    {
     "data": {
      "text/html": [
       "<div>\n",
       "<style scoped>\n",
       "    .dataframe tbody tr th:only-of-type {\n",
       "        vertical-align: middle;\n",
       "    }\n",
       "\n",
       "    .dataframe tbody tr th {\n",
       "        vertical-align: top;\n",
       "    }\n",
       "\n",
       "    .dataframe thead th {\n",
       "        text-align: right;\n",
       "    }\n",
       "</style>\n",
       "<table border=\"1\" class=\"dataframe\">\n",
       "  <thead>\n",
       "    <tr style=\"text-align: right;\">\n",
       "      <th></th>\n",
       "      <th>0</th>\n",
       "      <th>1</th>\n",
       "      <th>2</th>\n",
       "      <th>3</th>\n",
       "      <th>4</th>\n",
       "      <th>5</th>\n",
       "      <th>6</th>\n",
       "      <th>7</th>\n",
       "      <th>8</th>\n",
       "      <th>9</th>\n",
       "      <th>...</th>\n",
       "      <th>4087</th>\n",
       "      <th>4088</th>\n",
       "      <th>4089</th>\n",
       "      <th>4090</th>\n",
       "      <th>4091</th>\n",
       "      <th>4092</th>\n",
       "      <th>4093</th>\n",
       "      <th>4094</th>\n",
       "      <th>4095</th>\n",
       "      <th>LABEL</th>\n",
       "    </tr>\n",
       "  </thead>\n",
       "  <tbody>\n",
       "    <tr>\n",
       "      <th>2325</th>\n",
       "      <td>1.0</td>\n",
       "      <td>1.0</td>\n",
       "      <td>1.0</td>\n",
       "      <td>1.0</td>\n",
       "      <td>1.0</td>\n",
       "      <td>1.0</td>\n",
       "      <td>1.0</td>\n",
       "      <td>1.0</td>\n",
       "      <td>1.0</td>\n",
       "      <td>1.0</td>\n",
       "      <td>...</td>\n",
       "      <td>1.0</td>\n",
       "      <td>1.0</td>\n",
       "      <td>1.0</td>\n",
       "      <td>1.0</td>\n",
       "      <td>1.0</td>\n",
       "      <td>1.0</td>\n",
       "      <td>1.0</td>\n",
       "      <td>1.0</td>\n",
       "      <td>1.0</td>\n",
       "      <td>2325</td>\n",
       "    </tr>\n",
       "    <tr>\n",
       "      <th>2350</th>\n",
       "      <td>1.0</td>\n",
       "      <td>1.0</td>\n",
       "      <td>1.0</td>\n",
       "      <td>1.0</td>\n",
       "      <td>1.0</td>\n",
       "      <td>1.0</td>\n",
       "      <td>1.0</td>\n",
       "      <td>1.0</td>\n",
       "      <td>1.0</td>\n",
       "      <td>1.0</td>\n",
       "      <td>...</td>\n",
       "      <td>1.0</td>\n",
       "      <td>1.0</td>\n",
       "      <td>1.0</td>\n",
       "      <td>1.0</td>\n",
       "      <td>1.0</td>\n",
       "      <td>1.0</td>\n",
       "      <td>1.0</td>\n",
       "      <td>1.0</td>\n",
       "      <td>1.0</td>\n",
       "      <td>2350</td>\n",
       "    </tr>\n",
       "    <tr>\n",
       "      <th>2347</th>\n",
       "      <td>1.0</td>\n",
       "      <td>1.0</td>\n",
       "      <td>1.0</td>\n",
       "      <td>1.0</td>\n",
       "      <td>1.0</td>\n",
       "      <td>1.0</td>\n",
       "      <td>1.0</td>\n",
       "      <td>1.0</td>\n",
       "      <td>1.0</td>\n",
       "      <td>1.0</td>\n",
       "      <td>...</td>\n",
       "      <td>1.0</td>\n",
       "      <td>1.0</td>\n",
       "      <td>1.0</td>\n",
       "      <td>1.0</td>\n",
       "      <td>1.0</td>\n",
       "      <td>1.0</td>\n",
       "      <td>1.0</td>\n",
       "      <td>1.0</td>\n",
       "      <td>1.0</td>\n",
       "      <td>2347</td>\n",
       "    </tr>\n",
       "    <tr>\n",
       "      <th>2360</th>\n",
       "      <td>1.0</td>\n",
       "      <td>1.0</td>\n",
       "      <td>1.0</td>\n",
       "      <td>1.0</td>\n",
       "      <td>1.0</td>\n",
       "      <td>1.0</td>\n",
       "      <td>1.0</td>\n",
       "      <td>1.0</td>\n",
       "      <td>1.0</td>\n",
       "      <td>1.0</td>\n",
       "      <td>...</td>\n",
       "      <td>1.0</td>\n",
       "      <td>1.0</td>\n",
       "      <td>1.0</td>\n",
       "      <td>1.0</td>\n",
       "      <td>1.0</td>\n",
       "      <td>1.0</td>\n",
       "      <td>1.0</td>\n",
       "      <td>1.0</td>\n",
       "      <td>1.0</td>\n",
       "      <td>2360</td>\n",
       "    </tr>\n",
       "    <tr>\n",
       "      <th>2312</th>\n",
       "      <td>1.0</td>\n",
       "      <td>1.0</td>\n",
       "      <td>1.0</td>\n",
       "      <td>1.0</td>\n",
       "      <td>1.0</td>\n",
       "      <td>1.0</td>\n",
       "      <td>1.0</td>\n",
       "      <td>1.0</td>\n",
       "      <td>1.0</td>\n",
       "      <td>1.0</td>\n",
       "      <td>...</td>\n",
       "      <td>1.0</td>\n",
       "      <td>1.0</td>\n",
       "      <td>1.0</td>\n",
       "      <td>1.0</td>\n",
       "      <td>1.0</td>\n",
       "      <td>1.0</td>\n",
       "      <td>1.0</td>\n",
       "      <td>1.0</td>\n",
       "      <td>1.0</td>\n",
       "      <td>2312</td>\n",
       "    </tr>\n",
       "  </tbody>\n",
       "</table>\n",
       "<p>5 rows × 4097 columns</p>\n",
       "</div>"
      ],
      "text/plain": [
       "        0    1    2    3    4    5    6    7    8    9  ...    4087  4088  \\\n",
       "2325  1.0  1.0  1.0  1.0  1.0  1.0  1.0  1.0  1.0  1.0  ...     1.0   1.0   \n",
       "2350  1.0  1.0  1.0  1.0  1.0  1.0  1.0  1.0  1.0  1.0  ...     1.0   1.0   \n",
       "2347  1.0  1.0  1.0  1.0  1.0  1.0  1.0  1.0  1.0  1.0  ...     1.0   1.0   \n",
       "2360  1.0  1.0  1.0  1.0  1.0  1.0  1.0  1.0  1.0  1.0  ...     1.0   1.0   \n",
       "2312  1.0  1.0  1.0  1.0  1.0  1.0  1.0  1.0  1.0  1.0  ...     1.0   1.0   \n",
       "\n",
       "      4089  4090  4091  4092  4093  4094  4095  LABEL  \n",
       "2325   1.0   1.0   1.0   1.0   1.0   1.0   1.0   2325  \n",
       "2350   1.0   1.0   1.0   1.0   1.0   1.0   1.0   2350  \n",
       "2347   1.0   1.0   1.0   1.0   1.0   1.0   1.0   2347  \n",
       "2360   1.0   1.0   1.0   1.0   1.0   1.0   1.0   2360  \n",
       "2312   1.0   1.0   1.0   1.0   1.0   1.0   1.0   2312  \n",
       "\n",
       "[5 rows x 4097 columns]"
      ]
     },
     "execution_count": 34,
     "metadata": {},
     "output_type": "execute_result"
    }
   ],
   "source": [
    "df.head()"
   ]
  },
  {
   "cell_type": "markdown",
   "metadata": {},
   "source": [
    "# Consonant Class"
   ]
  },
  {
   "cell_type": "code",
   "execution_count": 42,
   "metadata": {
    "collapsed": true
   },
   "outputs": [],
   "source": [
    "from keras.models import Sequential\n",
    "from keras.layers import Dense,Dropout,Conv2D,Flatten,MaxPooling2D\n",
    "\n",
    "model = Sequential()\n",
    "model.add(Conv2D(16,(3,3),input_shape=(X_train[0].shape),activation = 'relu'))\n",
    "model.add(Conv2D(16,(3,3),activation = 'relu'))\n",
    "model.add(MaxPooling2D())\n",
    "model.add(Conv2D(32,(2,2),activation = 'relu'))\n",
    "model.add(Conv2D(32,(2,2),activation = 'relu'))\n",
    "model.add(MaxPooling2D())\n",
    "model.add(Conv2D(64,(2,2),activation = 'relu'))\n",
    "model.add(Conv2D(64,(2,2),activation = 'relu'))\n",
    "model.add(MaxPooling2D())\n",
    "model.add(Flatten())\n",
    "model.add(Dense(256,activation = 'sigmoid'))\n",
    "model.add(Dropout(0.5))\n",
    "model.add(Dense(len(set(base_class)),activation = 'softmax'))"
   ]
  },
  {
   "cell_type": "code",
   "execution_count": 43,
   "metadata": {},
   "outputs": [
    {
     "name": "stdout",
     "output_type": "stream",
     "text": [
      "_________________________________________________________________\n",
      "Layer (type)                 Output Shape              Param #   \n",
      "=================================================================\n",
      "conv2d_7 (Conv2D)            (None, 62, 62, 16)        160       \n",
      "_________________________________________________________________\n",
      "conv2d_8 (Conv2D)            (None, 60, 60, 16)        2320      \n",
      "_________________________________________________________________\n",
      "max_pooling2d_4 (MaxPooling2 (None, 30, 30, 16)        0         \n",
      "_________________________________________________________________\n",
      "conv2d_9 (Conv2D)            (None, 29, 29, 32)        2080      \n",
      "_________________________________________________________________\n",
      "conv2d_10 (Conv2D)           (None, 28, 28, 32)        4128      \n",
      "_________________________________________________________________\n",
      "max_pooling2d_5 (MaxPooling2 (None, 14, 14, 32)        0         \n",
      "_________________________________________________________________\n",
      "conv2d_11 (Conv2D)           (None, 13, 13, 64)        8256      \n",
      "_________________________________________________________________\n",
      "conv2d_12 (Conv2D)           (None, 12, 12, 64)        16448     \n",
      "_________________________________________________________________\n",
      "max_pooling2d_6 (MaxPooling2 (None, 6, 6, 64)          0         \n",
      "_________________________________________________________________\n",
      "flatten_2 (Flatten)          (None, 2304)              0         \n",
      "_________________________________________________________________\n",
      "dense_3 (Dense)              (None, 256)               590080    \n",
      "_________________________________________________________________\n",
      "dropout_2 (Dropout)          (None, 256)               0         \n",
      "_________________________________________________________________\n",
      "dense_4 (Dense)              (None, 53)                13621     \n",
      "=================================================================\n",
      "Total params: 637,093\n",
      "Trainable params: 637,093\n",
      "Non-trainable params: 0\n",
      "_________________________________________________________________\n"
     ]
    }
   ],
   "source": [
    "model.summary()"
   ]
  },
  {
   "cell_type": "code",
   "execution_count": 44,
   "metadata": {
    "collapsed": true
   },
   "outputs": [],
   "source": [
    "import keras.backend as K\n",
    "\n",
    "def f1_score(theta):\n",
    "    def score(y_true, y_pred):\n",
    "\n",
    "        y_thresh = K.cast(K.greater(y_pred,theta),K.floatx())\n",
    "\n",
    "        true_pos =  K.sum(y_true * y_thresh)\n",
    "        false_pos = K.sum(y_true * (1. - y_thresh))\n",
    "        false_neg = K.sum((1. - y_true) * y_thresh)\n",
    "\n",
    "        precision = true_pos / (true_pos + false_pos)\n",
    "        recall = true_pos / (true_pos + false_neg)\n",
    "        \n",
    "        f1_score_val = 2 * (precision * recall) / (precision + recall)\n",
    "        return f1_score_val\n",
    "    return score\n",
    "\n",
    "def custom_metric(y_true, y_pred):\n",
    "    return K.cast(K.equal(y_true,\n",
    "                          K.round(y_pred)),\n",
    "                  K.floatx())"
   ]
  },
  {
   "cell_type": "code",
   "execution_count": 45,
   "metadata": {
    "collapsed": true
   },
   "outputs": [],
   "source": [
    "model.compile(optimizer='adam',\n",
    "              loss='categorical_crossentropy',\n",
    "              metrics=[f1_score(theta=0.5), 'categorical_accuracy'])"
   ]
  },
  {
   "cell_type": "code",
   "execution_count": 46,
   "metadata": {
    "collapsed": true
   },
   "outputs": [],
   "source": [
    "from keras.callbacks import ModelCheckpoint\n",
    "checkpointer = ModelCheckpoint(filepath='consonantweights.best.hdf5', verbose=1, save_best_only=True)"
   ]
  },
  {
   "cell_type": "code",
   "execution_count": 47,
   "metadata": {},
   "outputs": [
    {
     "name": "stdout",
     "output_type": "stream",
     "text": [
      "Train on 1326 samples, validate on 569 samples\n",
      "Epoch 1/20\n",
      "1312/1326 [============================>.] - ETA: 0s - loss: 3.6210 - score: nan - categorical_accuracy: 0.0671Epoch 00001: val_loss improved from inf to 3.38540, saving model to consonantweights.best.hdf5\n",
      "1326/1326 [==============================] - 12s 9ms/step - loss: 3.6175 - score: nan - categorical_accuracy: 0.0679 - val_loss: 3.3854 - val_score: nan - val_categorical_accuracy: 0.0914\n",
      "Epoch 2/20\n",
      "1312/1326 [============================>.] - ETA: 0s - loss: 3.4257 - score: nan - categorical_accuracy: 0.0938Epoch 00002: val_loss improved from 3.38540 to 3.28049, saving model to consonantweights.best.hdf5\n",
      "1326/1326 [==============================] - 12s 9ms/step - loss: 3.4242 - score: nan - categorical_accuracy: 0.0950 - val_loss: 3.2805 - val_score: nan - val_categorical_accuracy: 0.1301\n",
      "Epoch 3/20\n",
      "1312/1326 [============================>.] - ETA: 0s - loss: 3.1549 - score: nan - categorical_accuracy: 0.1799Epoch 00003: val_loss improved from 3.28049 to 2.78001, saving model to consonantweights.best.hdf5\n",
      "1326/1326 [==============================] - 12s 9ms/step - loss: 3.1483 - score: nan - categorical_accuracy: 0.1817 - val_loss: 2.7800 - val_score: nan - val_categorical_accuracy: 0.2953\n",
      "Epoch 4/20\n",
      "1312/1326 [============================>.] - ETA: 0s - loss: 2.5788 - score: nan - categorical_accuracy: 0.3468Epoch 00004: val_loss improved from 2.78001 to 2.31790, saving model to consonantweights.best.hdf5\n",
      "1326/1326 [==============================] - 12s 9ms/step - loss: 2.5761 - score: nan - categorical_accuracy: 0.3484 - val_loss: 2.3179 - val_score: 0.1959 - val_categorical_accuracy: 0.4148\n",
      "Epoch 5/20\n",
      "1312/1326 [============================>.] - ETA: 0s - loss: 2.0574 - score: 0.3404 - categorical_accuracy: 0.4688Epoch 00005: val_loss improved from 2.31790 to 1.91696, saving model to consonantweights.best.hdf5\n",
      "1326/1326 [==============================] - 13s 9ms/step - loss: 2.0570 - score: 0.3394 - categorical_accuracy: 0.4691 - val_loss: 1.9170 - val_score: 0.4015 - val_categorical_accuracy: 0.5149\n",
      "Epoch 6/20\n",
      "1312/1326 [============================>.] - ETA: 0s - loss: 1.6746 - score: 0.4797 - categorical_accuracy: 0.5755Epoch 00006: val_loss improved from 1.91696 to 1.58462, saving model to consonantweights.best.hdf5\n",
      "1326/1326 [==============================] - 13s 10ms/step - loss: 1.6797 - score: 0.4773 - categorical_accuracy: 0.5724 - val_loss: 1.5846 - val_score: 0.5078 - val_categorical_accuracy: 0.6292\n",
      "Epoch 7/20\n",
      "1312/1326 [============================>.] - ETA: 0s - loss: 1.3858 - score: 0.5601 - categorical_accuracy: 0.6517Epoch 00007: val_loss improved from 1.58462 to 1.48308, saving model to consonantweights.best.hdf5\n",
      "1326/1326 [==============================] - 13s 10ms/step - loss: 1.3853 - score: 0.5605 - categorical_accuracy: 0.6516 - val_loss: 1.4831 - val_score: 0.5716 - val_categorical_accuracy: 0.6274\n",
      "Epoch 8/20\n",
      "1312/1326 [============================>.] - ETA: 0s - loss: 1.1662 - score: 0.6253 - categorical_accuracy: 0.7020Epoch 00008: val_loss improved from 1.48308 to 1.32236, saving model to consonantweights.best.hdf5\n",
      "1326/1326 [==============================] - 12s 9ms/step - loss: 1.1638 - score: 0.6266 - categorical_accuracy: 0.7029 - val_loss: 1.3224 - val_score: 0.6246 - val_categorical_accuracy: 0.6678\n",
      "Epoch 9/20\n",
      "1312/1326 [============================>.] - ETA: 0s - loss: 0.9688 - score: 0.7029 - categorical_accuracy: 0.7675Epoch 00009: val_loss improved from 1.32236 to 1.23426, saving model to consonantweights.best.hdf5\n",
      "1326/1326 [==============================] - 13s 10ms/step - loss: 0.9736 - score: 0.7022 - categorical_accuracy: 0.7670 - val_loss: 1.2343 - val_score: 0.6556 - val_categorical_accuracy: 0.6924\n",
      "Epoch 10/20\n",
      "1312/1326 [============================>.] - ETA: 0s - loss: 0.8331 - score: 0.7490 - categorical_accuracy: 0.7927Epoch 00010: val_loss improved from 1.23426 to 1.15529, saving model to consonantweights.best.hdf5\n",
      "1326/1326 [==============================] - 12s 9ms/step - loss: 0.8311 - score: 0.7495 - categorical_accuracy: 0.7934 - val_loss: 1.1553 - val_score: 0.6710 - val_categorical_accuracy: 0.7047\n",
      "Epoch 11/20\n",
      "1312/1326 [============================>.] - ETA: 0s - loss: 0.6955 - score: 0.7899 - categorical_accuracy: 0.8186Epoch 00011: val_loss improved from 1.15529 to 1.14719, saving model to consonantweights.best.hdf5\n",
      "1326/1326 [==============================] - 13s 10ms/step - loss: 0.6967 - score: 0.7894 - categorical_accuracy: 0.8183 - val_loss: 1.1472 - val_score: 0.6719 - val_categorical_accuracy: 0.6837\n",
      "Epoch 12/20\n",
      "1312/1326 [============================>.] - ETA: 0s - loss: 0.6269 - score: 0.8067 - categorical_accuracy: 0.8438Epoch 00012: val_loss improved from 1.14719 to 1.07511, saving model to consonantweights.best.hdf5\n",
      "1326/1326 [==============================] - 14s 11ms/step - loss: 0.6283 - score: 0.8061 - categorical_accuracy: 0.8431 - val_loss: 1.0751 - val_score: 0.6977 - val_categorical_accuracy: 0.7135\n",
      "Epoch 13/20\n",
      "1312/1326 [============================>.] - ETA: 0s - loss: 0.5419 - score: 0.8386 - categorical_accuracy: 0.8666Epoch 00013: val_loss improved from 1.07511 to 1.01915, saving model to consonantweights.best.hdf5\n",
      "1326/1326 [==============================] - 13s 10ms/step - loss: 0.5410 - score: 0.8382 - categorical_accuracy: 0.8665 - val_loss: 1.0192 - val_score: 0.7091 - val_categorical_accuracy: 0.7276\n",
      "Epoch 14/20\n",
      "1312/1326 [============================>.] - ETA: 0s - loss: 0.4383 - score: 0.8734 - categorical_accuracy: 0.9116Epoch 00014: val_loss did not improve\n",
      "1326/1326 [==============================] - 12s 9ms/step - loss: 0.4394 - score: 0.8731 - categorical_accuracy: 0.9110 - val_loss: 1.0395 - val_score: 0.7167 - val_categorical_accuracy: 0.7399\n",
      "Epoch 15/20\n",
      "1312/1326 [============================>.] - ETA: 0s - loss: 0.3846 - score: 0.8975 - categorical_accuracy: 0.9230Epoch 00015: val_loss improved from 1.01915 to 1.00281, saving model to consonantweights.best.hdf5\n",
      "1326/1326 [==============================] - 12s 9ms/step - loss: 0.3873 - score: 0.8953 - categorical_accuracy: 0.9216 - val_loss: 1.0028 - val_score: 0.7162 - val_categorical_accuracy: 0.7241\n",
      "Epoch 16/20\n",
      "1312/1326 [============================>.] - ETA: 0s - loss: 0.3371 - score: 0.9092 - categorical_accuracy: 0.9306Epoch 00016: val_loss improved from 1.00281 to 0.96825, saving model to consonantweights.best.hdf5\n",
      "1326/1326 [==============================] - 13s 10ms/step - loss: 0.3384 - score: 0.9085 - categorical_accuracy: 0.9299 - val_loss: 0.9682 - val_score: 0.7279 - val_categorical_accuracy: 0.7399\n",
      "Epoch 17/20\n",
      "1312/1326 [============================>.] - ETA: 0s - loss: 0.3070 - score: 0.9234 - categorical_accuracy: 0.9489Epoch 00017: val_loss did not improve\n",
      "1326/1326 [==============================] - 13s 10ms/step - loss: 0.3070 - score: 0.9238 - categorical_accuracy: 0.9487 - val_loss: 0.9703 - val_score: 0.7311 - val_categorical_accuracy: 0.7399\n",
      "Epoch 18/20\n",
      "1312/1326 [============================>.] - ETA: 0s - loss: 0.2621 - score: 0.9353 - categorical_accuracy: 0.9543Epoch 00018: val_loss improved from 0.96825 to 0.95513, saving model to consonantweights.best.hdf5\n",
      "1326/1326 [==============================] - 13s 10ms/step - loss: 0.2613 - score: 0.9360 - categorical_accuracy: 0.9548 - val_loss: 0.9551 - val_score: 0.7431 - val_categorical_accuracy: 0.7417\n",
      "Epoch 19/20\n",
      "1312/1326 [============================>.] - ETA: 0s - loss: 0.2381 - score: 0.9442 - categorical_accuracy: 0.9611Epoch 00019: val_loss improved from 0.95513 to 0.95097, saving model to consonantweights.best.hdf5\n",
      "1326/1326 [==============================] - 13s 10ms/step - loss: 0.2419 - score: 0.9440 - categorical_accuracy: 0.9600 - val_loss: 0.9510 - val_score: 0.7500 - val_categorical_accuracy: 0.7504\n",
      "Epoch 20/20\n",
      "1312/1326 [============================>.] - ETA: 0s - loss: 0.2256 - score: 0.9450 - categorical_accuracy: 0.9596Epoch 00020: val_loss did not improve\n",
      "1326/1326 [==============================] - 14s 10ms/step - loss: 0.2242 - score: 0.9456 - categorical_accuracy: 0.9600 - val_loss: 0.9530 - val_score: 0.7483 - val_categorical_accuracy: 0.7469\n"
     ]
    },
    {
     "data": {
      "text/plain": [
       "<keras.callbacks.History at 0x7f1fb0531898>"
      ]
     },
     "execution_count": 47,
     "metadata": {},
     "output_type": "execute_result"
    }
   ],
   "source": [
    "model.fit(X_train,y_train,epochs=20,batch_size=32,callbacks=[checkpointer],validation_split=0.3)"
   ]
  },
  {
   "cell_type": "code",
   "execution_count": 48,
   "metadata": {},
   "outputs": [
    {
     "name": "stdout",
     "output_type": "stream",
     "text": [
      "Train on 1326 samples, validate on 569 samples\n",
      "Epoch 1/30\n",
      "1312/1326 [============================>.] - ETA: 0s - loss: 0.1648 - score: 0.9640 - categorical_accuracy: 0.9779Epoch 00001: val_loss improved from 0.95097 to 0.94571, saving model to consonantweights.best.hdf5\n",
      "1326/1326 [==============================] - 16s 12ms/step - loss: 0.1645 - score: 0.9640 - categorical_accuracy: 0.9781 - val_loss: 0.9457 - val_score: 0.7535 - val_categorical_accuracy: 0.7487\n",
      "Epoch 2/30\n",
      "1312/1326 [============================>.] - ETA: 0s - loss: 0.1514 - score: 0.9698 - categorical_accuracy: 0.9840Epoch 00002: val_loss improved from 0.94571 to 0.94564, saving model to consonantweights.best.hdf5\n",
      "1326/1326 [==============================] - 15s 11ms/step - loss: 0.1518 - score: 0.9697 - categorical_accuracy: 0.9842 - val_loss: 0.9456 - val_score: 0.7598 - val_categorical_accuracy: 0.7469\n",
      "Epoch 3/30\n",
      "1312/1326 [============================>.] - ETA: 0s - loss: 0.1420 - score: 0.9746 - categorical_accuracy: 0.9817Epoch 00003: val_loss improved from 0.94564 to 0.94028, saving model to consonantweights.best.hdf5\n",
      "1326/1326 [==============================] - 14s 10ms/step - loss: 0.1428 - score: 0.9745 - categorical_accuracy: 0.9819 - val_loss: 0.9403 - val_score: 0.7535 - val_categorical_accuracy: 0.7469\n",
      "Epoch 4/30\n",
      "1312/1326 [============================>.] - ETA: 0s - loss: 0.1360 - score: 0.9706 - categorical_accuracy: 0.9840Epoch 00004: val_loss improved from 0.94028 to 0.93992, saving model to consonantweights.best.hdf5\n",
      "1326/1326 [==============================] - 14s 10ms/step - loss: 0.1352 - score: 0.9709 - categorical_accuracy: 0.9842 - val_loss: 0.9399 - val_score: 0.7544 - val_categorical_accuracy: 0.7504\n",
      "Epoch 5/30\n",
      "1312/1326 [============================>.] - ETA: 0s - loss: 0.1255 - score: 0.9808 - categorical_accuracy: 0.9855Epoch 00005: val_loss did not improve\n",
      "1326/1326 [==============================] - 13s 10ms/step - loss: 0.1252 - score: 0.9810 - categorical_accuracy: 0.9857 - val_loss: 0.9419 - val_score: 0.7558 - val_categorical_accuracy: 0.7540\n",
      "Epoch 6/30\n",
      "1312/1326 [============================>.] - ETA: 0s - loss: 0.1261 - score: 0.9755 - categorical_accuracy: 0.9825Epoch 00006: val_loss improved from 0.93992 to 0.93955, saving model to consonantweights.best.hdf5\n",
      "1326/1326 [==============================] - 15s 12ms/step - loss: 0.1265 - score: 0.9757 - categorical_accuracy: 0.9827 - val_loss: 0.9396 - val_score: 0.7590 - val_categorical_accuracy: 0.7504\n",
      "Epoch 7/30\n",
      "1312/1326 [============================>.] - ETA: 0s - loss: 0.1072 - score: 0.9883 - categorical_accuracy: 0.9939Epoch 00007: val_loss improved from 0.93955 to 0.93609, saving model to consonantweights.best.hdf5\n",
      "1326/1326 [==============================] - 17s 13ms/step - loss: 0.1077 - score: 0.9880 - categorical_accuracy: 0.9932 - val_loss: 0.9361 - val_score: 0.7606 - val_categorical_accuracy: 0.7575\n",
      "Epoch 8/30\n",
      "1312/1326 [============================>.] - ETA: 0s - loss: 0.1066 - score: 0.9832 - categorical_accuracy: 0.9863Epoch 00008: val_loss did not improve\n",
      "1326/1326 [==============================] - 14s 10ms/step - loss: 0.1057 - score: 0.9834 - categorical_accuracy: 0.9864 - val_loss: 0.9390 - val_score: 0.7609 - val_categorical_accuracy: 0.7645\n",
      "Epoch 9/30\n",
      "1312/1326 [============================>.] - ETA: 0s - loss: 0.1053 - score: 0.9876 - categorical_accuracy: 0.9893Epoch 00009: val_loss did not improve\n",
      "1326/1326 [==============================] - 20s 15ms/step - loss: 0.1050 - score: 0.9877 - categorical_accuracy: 0.9894 - val_loss: 0.9410 - val_score: 0.7614 - val_categorical_accuracy: 0.7504\n",
      "Epoch 10/30\n",
      "1312/1326 [============================>.] - ETA: 0s - loss: 0.0972 - score: 0.9852 - categorical_accuracy: 0.9931Epoch 00010: val_loss did not improve\n",
      "1326/1326 [==============================] - 19s 15ms/step - loss: 0.0966 - score: 0.9853 - categorical_accuracy: 0.9932 - val_loss: 0.9454 - val_score: 0.7567 - val_categorical_accuracy: 0.7540\n",
      "Epoch 11/30\n",
      "1312/1326 [============================>.] - ETA: 0s - loss: 0.0958 - score: 0.9879 - categorical_accuracy: 0.9947Epoch 00011: val_loss did not improve\n",
      "1326/1326 [==============================] - 19s 15ms/step - loss: 0.0954 - score: 0.9880 - categorical_accuracy: 0.9947 - val_loss: 0.9387 - val_score: 0.7623 - val_categorical_accuracy: 0.7592\n",
      "Epoch 12/30\n",
      "1312/1326 [============================>.] - ETA: 0s - loss: 0.0921 - score: 0.9883 - categorical_accuracy: 0.9939Epoch 00012: val_loss did not improve\n",
      "1326/1326 [==============================] - 20s 15ms/step - loss: 0.0925 - score: 0.9885 - categorical_accuracy: 0.9940 - val_loss: 0.9433 - val_score: 0.7633 - val_categorical_accuracy: 0.7487\n",
      "Epoch 13/30\n",
      "1312/1326 [============================>.] - ETA: 0s - loss: 0.0898 - score: 0.9875 - categorical_accuracy: 0.9916Epoch 00013: val_loss did not improve\n",
      "1326/1326 [==============================] - 18s 13ms/step - loss: 0.0895 - score: 0.9877 - categorical_accuracy: 0.9917 - val_loss: 0.9433 - val_score: 0.7679 - val_categorical_accuracy: 0.7504\n",
      "Epoch 14/30\n",
      "1312/1326 [============================>.] - ETA: 0s - loss: 0.0893 - score: 0.9884 - categorical_accuracy: 0.9909Epoch 00014: val_loss did not improve\n",
      "1326/1326 [==============================] - 20s 15ms/step - loss: 0.0890 - score: 0.9885 - categorical_accuracy: 0.9910 - val_loss: 0.9471 - val_score: 0.7656 - val_categorical_accuracy: 0.7504\n",
      "Epoch 15/30\n",
      "1312/1326 [============================>.] - ETA: 0s - loss: 0.0843 - score: 0.9890 - categorical_accuracy: 0.9901Epoch 00015: val_loss did not improve\n",
      "1326/1326 [==============================] - 20s 15ms/step - loss: 0.0839 - score: 0.9892 - categorical_accuracy: 0.9902 - val_loss: 0.9519 - val_score: 0.7597 - val_categorical_accuracy: 0.7522\n",
      "Epoch 16/30\n",
      "1312/1326 [============================>.] - ETA: 0s - loss: 0.0817 - score: 0.9895 - categorical_accuracy: 0.9931Epoch 00016: val_loss did not improve\n",
      "1326/1326 [==============================] - 20s 15ms/step - loss: 0.0816 - score: 0.9896 - categorical_accuracy: 0.9932 - val_loss: 0.9432 - val_score: 0.7630 - val_categorical_accuracy: 0.7540\n",
      "Epoch 17/30\n",
      "1312/1326 [============================>.] - ETA: 0s - loss: 0.0760 - score: 0.9914 - categorical_accuracy: 0.9924Epoch 00017: val_loss did not improve\n",
      "1326/1326 [==============================] - 23s 18ms/step - loss: 0.0757 - score: 0.9915 - categorical_accuracy: 0.9925 - val_loss: 0.9422 - val_score: 0.7645 - val_categorical_accuracy: 0.7557\n",
      "Epoch 18/30\n",
      "1312/1326 [============================>.] - ETA: 0s - loss: 0.0855 - score: 0.9867 - categorical_accuracy: 0.9886Epoch 00018: val_loss did not improve\n",
      "1326/1326 [==============================] - 22s 17ms/step - loss: 0.0864 - score: 0.9861 - categorical_accuracy: 0.9879 - val_loss: 0.9398 - val_score: 0.7621 - val_categorical_accuracy: 0.7557\n",
      "Epoch 19/30\n",
      "1312/1326 [============================>.] - ETA: 0s - loss: 0.0782 - score: 0.9923 - categorical_accuracy: 0.9939Epoch 00019: val_loss did not improve\n",
      "1326/1326 [==============================] - 21s 15ms/step - loss: 0.0781 - score: 0.9923 - categorical_accuracy: 0.9940 - val_loss: 0.9403 - val_score: 0.7624 - val_categorical_accuracy: 0.7540\n",
      "Epoch 20/30\n",
      "1312/1326 [============================>.] - ETA: 0s - loss: 0.0744 - score: 0.9915 - categorical_accuracy: 0.9939Epoch 00020: val_loss did not improve\n",
      "1326/1326 [==============================] - 22s 17ms/step - loss: 0.0740 - score: 0.9916 - categorical_accuracy: 0.9940 - val_loss: 0.9426 - val_score: 0.7654 - val_categorical_accuracy: 0.7575\n",
      "Epoch 21/30\n",
      "1312/1326 [============================>.] - ETA: 0s - loss: 0.0695 - score: 0.9918 - categorical_accuracy: 0.9970Epoch 00021: val_loss did not improve\n",
      "1326/1326 [==============================] - 16s 12ms/step - loss: 0.0691 - score: 0.9919 - categorical_accuracy: 0.9970 - val_loss: 0.9395 - val_score: 0.7708 - val_categorical_accuracy: 0.7540\n",
      "Epoch 22/30\n",
      "1312/1326 [============================>.] - ETA: 0s - loss: 0.0681 - score: 0.9931 - categorical_accuracy: 0.9970Epoch 00022: val_loss did not improve\n",
      "1326/1326 [==============================] - 14s 11ms/step - loss: 0.0681 - score: 0.9931 - categorical_accuracy: 0.9970 - val_loss: 0.9420 - val_score: 0.7706 - val_categorical_accuracy: 0.7610\n"
     ]
    },
    {
     "name": "stdout",
     "output_type": "stream",
     "text": [
      "Epoch 23/30\n",
      "1312/1326 [============================>.] - ETA: 0s - loss: 0.0655 - score: 0.9934 - categorical_accuracy: 0.9962Epoch 00023: val_loss did not improve\n",
      "1326/1326 [==============================] - 15s 11ms/step - loss: 0.0658 - score: 0.9935 - categorical_accuracy: 0.9962 - val_loss: 0.9373 - val_score: 0.7666 - val_categorical_accuracy: 0.7592\n",
      "Epoch 24/30\n",
      "1312/1326 [============================>.] - ETA: 0s - loss: 0.0625 - score: 0.9946 - categorical_accuracy: 0.9939Epoch 00024: val_loss did not improve\n",
      "1326/1326 [==============================] - 15s 11ms/step - loss: 0.0626 - score: 0.9946 - categorical_accuracy: 0.9940 - val_loss: 0.9382 - val_score: 0.7703 - val_categorical_accuracy: 0.7645\n",
      "Epoch 25/30\n",
      "1312/1326 [============================>.] - ETA: 0s - loss: 0.0659 - score: 0.9907 - categorical_accuracy: 0.9939Epoch 00025: val_loss did not improve\n",
      "1326/1326 [==============================] - 17s 13ms/step - loss: 0.0656 - score: 0.9908 - categorical_accuracy: 0.9940 - val_loss: 0.9448 - val_score: 0.7684 - val_categorical_accuracy: 0.7575\n",
      "Epoch 26/30\n",
      "1312/1326 [============================>.] - ETA: 0s - loss: 0.0627 - score: 0.9922 - categorical_accuracy: 0.9924Epoch 00026: val_loss did not improve\n",
      "1326/1326 [==============================] - 15s 12ms/step - loss: 0.0627 - score: 0.9919 - categorical_accuracy: 0.9925 - val_loss: 0.9416 - val_score: 0.7684 - val_categorical_accuracy: 0.7575\n",
      "Epoch 27/30\n",
      "1312/1326 [============================>.] - ETA: 0s - loss: 0.0593 - score: 0.9957 - categorical_accuracy: 0.9977Epoch 00027: val_loss did not improve\n",
      "1326/1326 [==============================] - 14s 11ms/step - loss: 0.0591 - score: 0.9958 - categorical_accuracy: 0.9977 - val_loss: 0.9400 - val_score: 0.7704 - val_categorical_accuracy: 0.7522\n",
      "Epoch 28/30\n",
      "1312/1326 [============================>.] - ETA: 0s - loss: 0.0561 - score: 0.9942 - categorical_accuracy: 0.9954Epoch 00028: val_loss did not improve\n",
      "1326/1326 [==============================] - 15s 11ms/step - loss: 0.0563 - score: 0.9943 - categorical_accuracy: 0.9955 - val_loss: 0.9391 - val_score: 0.7670 - val_categorical_accuracy: 0.7540\n",
      "Epoch 29/30\n",
      "1312/1326 [============================>.] - ETA: 0s - loss: 0.0588 - score: 0.9931 - categorical_accuracy: 0.9954Epoch 00029: val_loss did not improve\n",
      "1326/1326 [==============================] - 14s 11ms/step - loss: 0.0587 - score: 0.9931 - categorical_accuracy: 0.9955 - val_loss: 0.9444 - val_score: 0.7665 - val_categorical_accuracy: 0.7557\n",
      "Epoch 30/30\n",
      "1312/1326 [============================>.] - ETA: 0s - loss: 0.0516 - score: 0.9950 - categorical_accuracy: 0.9962Epoch 00030: val_loss did not improve\n",
      "1326/1326 [==============================] - 14s 10ms/step - loss: 0.0532 - score: 0.9943 - categorical_accuracy: 0.9955 - val_loss: 0.9465 - val_score: 0.7642 - val_categorical_accuracy: 0.7575\n"
     ]
    },
    {
     "data": {
      "text/plain": [
       "<keras.callbacks.History at 0x7f1f93f6d6d8>"
      ]
     },
     "execution_count": 48,
     "metadata": {},
     "output_type": "execute_result"
    }
   ],
   "source": [
    "new_adam = keras.optimizers.Adam(lr=0.0001, beta_1=0.9, beta_2=0.999, epsilon=1e-08, decay=0.0)\n",
    "model.compile(optimizer=new_adam,\n",
    "              loss='categorical_crossentropy',\n",
    "              metrics=[f1_score(theta=0.5), 'categorical_accuracy'])\n",
    "model.fit(X_train,y_train,epochs=30,batch_size=32,callbacks = [checkpointer],validation_split=0.3)"
   ]
  },
  {
   "cell_type": "code",
   "execution_count": 76,
   "metadata": {},
   "outputs": [
    {
     "data": {
      "text/plain": [
       "array([ 1.])"
      ]
     },
     "execution_count": 76,
     "metadata": {},
     "output_type": "execute_result"
    }
   ],
   "source": []
  },
  {
   "cell_type": "markdown",
   "metadata": {},
   "source": [
    "# Matra Class"
   ]
  },
  {
   "cell_type": "code",
   "execution_count": 117,
   "metadata": {
    "collapsed": true
   },
   "outputs": [],
   "source": [
    "y_matra = np.array(matra_class)"
   ]
  },
  {
   "cell_type": "code",
   "execution_count": 118,
   "metadata": {
    "collapsed": true
   },
   "outputs": [],
   "source": [
    "le_matra = LabelEncoder()\n",
    "le_matra.fit(matra_class)\n",
    "y_matra_labeled = le_matra.transform(matra_class)\n",
    "y_matra_train = np_utils.to_categorical(y_matra_labeled)"
   ]
  },
  {
   "cell_type": "code",
   "execution_count": 120,
   "metadata": {},
   "outputs": [],
   "source": [
    "matra_dict = {i:le_matra.classes_[i] for i in range(len(le_matra.classes_))}"
   ]
  },
  {
   "cell_type": "code",
   "execution_count": 63,
   "metadata": {},
   "outputs": [
    {
     "data": {
      "text/plain": [
       "18"
      ]
     },
     "execution_count": 63,
     "metadata": {},
     "output_type": "execute_result"
    }
   ],
   "source": [
    "len(y_matra_train[0])"
   ]
  },
  {
   "cell_type": "code",
   "execution_count": 64,
   "metadata": {
    "collapsed": true
   },
   "outputs": [],
   "source": [
    "model = Sequential()\n",
    "model.add(Conv2D(16,(2,2),input_shape=(X_train[0].shape),activation = 'relu'))\n",
    "model.add(Conv2D(32,(2,2),activation = 'relu'))\n",
    "model.add(MaxPooling2D())\n",
    "model.add(Conv2D(16,(2,2),activation = 'relu'))\n",
    "model.add(Conv2D(32,(2,2),activation = 'relu'))\n",
    "model.add(MaxPooling2D())\n",
    "model.add(Conv2D(64,(2,2),activation = 'relu'))\n",
    "model.add(Conv2D(64,(2,2),activation = 'relu'))\n",
    "model.add(MaxPooling2D())\n",
    "model.add(Flatten())\n",
    "model.add(Dense(256,activation = 'sigmoid'))\n",
    "model.add(Dropout(0.4))\n",
    "model.add(Dense(len(set(matra_class)),activation = 'softmax'))"
   ]
  },
  {
   "cell_type": "code",
   "execution_count": 65,
   "metadata": {
    "collapsed": true
   },
   "outputs": [],
   "source": [
    "model.compile(optimizer='adam',\n",
    "              loss='categorical_crossentropy',\n",
    "              metrics=[f1_score(theta=0.5), 'categorical_accuracy'])"
   ]
  },
  {
   "cell_type": "code",
   "execution_count": 66,
   "metadata": {
    "collapsed": true
   },
   "outputs": [],
   "source": [
    "checkpointer_matra = ModelCheckpoint(filepath='matraweights.best.hdf5', verbose=1, save_best_only=True)"
   ]
  },
  {
   "cell_type": "code",
   "execution_count": 67,
   "metadata": {},
   "outputs": [
    {
     "name": "stdout",
     "output_type": "stream",
     "text": [
      "Train on 1326 samples, validate on 569 samples\n",
      "Epoch 1/10\n",
      "1312/1326 [============================>.] - ETA: 0s - loss: 2.1115 - score: nan - categorical_accuracy: 0.4002Epoch 00001: val_loss improved from inf to 1.81128, saving model to matraweights.best.hdf5\n",
      "1326/1326 [==============================] - 13s 10ms/step - loss: 2.1072 - score: nan - categorical_accuracy: 0.4012 - val_loss: 1.8113 - val_score: 0.4242 - val_categorical_accuracy: 0.4675\n",
      "Epoch 2/10\n",
      "1312/1326 [============================>.] - ETA: 0s - loss: 1.5323 - score: 0.5023 - categorical_accuracy: 0.5412Epoch 00002: val_loss improved from 1.81128 to 1.14860, saving model to matraweights.best.hdf5\n",
      "1326/1326 [==============================] - 11s 9ms/step - loss: 1.5304 - score: 0.5034 - categorical_accuracy: 0.5415 - val_loss: 1.1486 - val_score: 0.6420 - val_categorical_accuracy: 0.6503\n",
      "Epoch 3/10\n",
      "1312/1326 [============================>.] - ETA: 0s - loss: 1.1084 - score: 0.6663 - categorical_accuracy: 0.6745Epoch 00003: val_loss improved from 1.14860 to 0.89951, saving model to matraweights.best.hdf5\n",
      "1326/1326 [==============================] - 11s 9ms/step - loss: 1.1078 - score: 0.6657 - categorical_accuracy: 0.6757 - val_loss: 0.8995 - val_score: 0.7209 - val_categorical_accuracy: 0.7346\n",
      "Epoch 4/10\n",
      "1312/1326 [============================>.] - ETA: 0s - loss: 0.9332 - score: 0.7144 - categorical_accuracy: 0.7149Epoch 00004: val_loss improved from 0.89951 to 0.79754, saving model to matraweights.best.hdf5\n",
      "1326/1326 [==============================] - 11s 9ms/step - loss: 0.9289 - score: 0.7162 - categorical_accuracy: 0.7172 - val_loss: 0.7975 - val_score: 0.7286 - val_categorical_accuracy: 0.7540\n",
      "Epoch 5/10\n",
      "1312/1326 [============================>.] - ETA: 0s - loss: 0.8102 - score: 0.7407 - categorical_accuracy: 0.7477Epoch 00005: val_loss improved from 0.79754 to 0.78402, saving model to matraweights.best.hdf5\n",
      "1326/1326 [==============================] - 11s 9ms/step - loss: 0.8040 - score: 0.7427 - categorical_accuracy: 0.7496 - val_loss: 0.7840 - val_score: 0.7479 - val_categorical_accuracy: 0.7645\n",
      "Epoch 6/10\n",
      "1312/1326 [============================>.] - ETA: 0s - loss: 0.6933 - score: 0.7823 - categorical_accuracy: 0.7889Epoch 00006: val_loss improved from 0.78402 to 0.62783, saving model to matraweights.best.hdf5\n",
      "1326/1326 [==============================] - 11s 9ms/step - loss: 0.7017 - score: 0.7780 - categorical_accuracy: 0.7851 - val_loss: 0.6278 - val_score: 0.8069 - val_categorical_accuracy: 0.8207\n",
      "Epoch 7/10\n",
      "1312/1326 [============================>.] - ETA: 0s - loss: 0.6275 - score: 0.7969 - categorical_accuracy: 0.7995Epoch 00007: val_loss improved from 0.62783 to 0.62147, saving model to matraweights.best.hdf5\n",
      "1326/1326 [==============================] - 11s 9ms/step - loss: 0.6312 - score: 0.7955 - categorical_accuracy: 0.7986 - val_loss: 0.6215 - val_score: 0.8158 - val_categorical_accuracy: 0.8243\n",
      "Epoch 8/10\n",
      "1312/1326 [============================>.] - ETA: 0s - loss: 0.5965 - score: 0.8087 - categorical_accuracy: 0.8117Epoch 00008: val_loss improved from 0.62147 to 0.56975, saving model to matraweights.best.hdf5\n",
      "1326/1326 [==============================] - 11s 9ms/step - loss: 0.5943 - score: 0.8096 - categorical_accuracy: 0.8130 - val_loss: 0.5698 - val_score: 0.8390 - val_categorical_accuracy: 0.8418\n",
      "Epoch 9/10\n",
      "1312/1326 [============================>.] - ETA: 0s - loss: 0.4717 - score: 0.8538 - categorical_accuracy: 0.8666Epoch 00009: val_loss improved from 0.56975 to 0.55987, saving model to matraweights.best.hdf5\n",
      "1326/1326 [==============================] - 12s 9ms/step - loss: 0.4744 - score: 0.8536 - categorical_accuracy: 0.8658 - val_loss: 0.5599 - val_score: 0.8361 - val_categorical_accuracy: 0.8348\n",
      "Epoch 10/10\n",
      "1312/1326 [============================>.] - ETA: 0s - loss: 0.4300 - score: 0.8632 - categorical_accuracy: 0.8704Epoch 00010: val_loss improved from 0.55987 to 0.53479, saving model to matraweights.best.hdf5\n",
      "1326/1326 [==============================] - 12s 9ms/step - loss: 0.4294 - score: 0.8635 - categorical_accuracy: 0.8703 - val_loss: 0.5348 - val_score: 0.8490 - val_categorical_accuracy: 0.8453\n"
     ]
    },
    {
     "data": {
      "text/plain": [
       "<keras.callbacks.History at 0x7f1f931edc50>"
      ]
     },
     "execution_count": 67,
     "metadata": {},
     "output_type": "execute_result"
    }
   ],
   "source": [
    "model.fit(X_train,y_matra_train,epochs=10,batch_size=32,callbacks=[checkpointer_matra],validation_split=0.3)"
   ]
  },
  {
   "cell_type": "code",
   "execution_count": 71,
   "metadata": {},
   "outputs": [
    {
     "data": {
      "text/plain": [
       "64"
      ]
     },
     "execution_count": 71,
     "metadata": {},
     "output_type": "execute_result"
    }
   ],
   "source": [
    "len(X_train[0])"
   ]
  },
  {
   "cell_type": "code",
   "execution_count": null,
   "metadata": {
    "collapsed": true
   },
   "outputs": [],
   "source": [
    "new_adam = keras.optimizers.Adam(lr=0.0001, beta_1=0.9, beta_2=0.999, epsilon=1e-08, decay=0.0)\n",
    "model.compile(optimizer=new_adam,\n",
    "              loss='categorical_crossentropy',\n",
    "              metrics=[f1_score(theta=0.5), 'categorical_accuracy'])\n",
    "model.fit(X_train,y_matra_train,epochs=30,batch_size=32,callbacks = [checkpointer_matra],validation_split=0.3)"
   ]
  },
  {
   "cell_type": "markdown",
   "metadata": {},
   "source": [
    "# Dot Class"
   ]
  },
  {
   "cell_type": "code",
   "execution_count": 50,
   "metadata": {
    "collapsed": true
   },
   "outputs": [],
   "source": [
    "y_dot = np.array(dot_class)"
   ]
  },
  {
   "cell_type": "code",
   "execution_count": 121,
   "metadata": {
    "collapsed": true
   },
   "outputs": [],
   "source": [
    "le_dot = LabelEncoder()\n",
    "le_dot.fit(dot_class)\n",
    "y_dot_labeled = le_dot.transform(dot_class)\n",
    "y_dot_train = np_utils.to_categorical(y_dot_labeled)"
   ]
  },
  {
   "cell_type": "code",
   "execution_count": 122,
   "metadata": {
    "collapsed": true
   },
   "outputs": [],
   "source": [
    "dot_dict = {i:le_dot.classes_[i] for i in range(len(le_dot.classes_))}"
   ]
  },
  {
   "cell_type": "code",
   "execution_count": 123,
   "metadata": {
    "collapsed": true
   },
   "outputs": [],
   "source": [
    "complete_dicts = [base_dict,matra_dict,dot_dict]"
   ]
  },
  {
   "cell_type": "code",
   "execution_count": 124,
   "metadata": {
    "collapsed": true
   },
   "outputs": [],
   "source": [
    "import pickle\n",
    "\n",
    "with open(\"dicts.txt\", \"wb\") as fp:   #Pickling\n",
    "    pickle.dump(complete_dicts, fp)"
   ]
  },
  {
   "cell_type": "code",
   "execution_count": 52,
   "metadata": {},
   "outputs": [
    {
     "data": {
      "text/plain": [
       "2"
      ]
     },
     "execution_count": 52,
     "metadata": {},
     "output_type": "execute_result"
    }
   ],
   "source": [
    "len(y_dot_train[0])"
   ]
  },
  {
   "cell_type": "code",
   "execution_count": 53,
   "metadata": {
    "collapsed": true
   },
   "outputs": [],
   "source": [
    "model = Sequential()\n",
    "model.add(Conv2D(16,(2,2),input_shape=(X_train[0].shape),activation = 'relu'))\n",
    "model.add(Conv2D(32,(2,2),activation = 'relu'))\n",
    "model.add(MaxPooling2D())\n",
    "model.add(Conv2D(64,(2,2),activation = 'relu'))\n",
    "model.add(Conv2D(64,(2,2),activation = 'relu'))\n",
    "model.add(MaxPooling2D())\n",
    "model.add(Flatten())\n",
    "model.add(Dense(256,activation = 'sigmoid'))\n",
    "model.add(Dropout(0.4))\n",
    "model.add(Dense(len(set(dot_class)),activation = 'softmax'))"
   ]
  },
  {
   "cell_type": "code",
   "execution_count": 54,
   "metadata": {
    "collapsed": true
   },
   "outputs": [],
   "source": [
    "model.compile(optimizer='adam',\n",
    "              loss='categorical_crossentropy',\n",
    "              metrics=[f1_score(theta=0.5), 'categorical_accuracy'])"
   ]
  },
  {
   "cell_type": "code",
   "execution_count": 55,
   "metadata": {
    "collapsed": true
   },
   "outputs": [],
   "source": [
    "checkpointer_dot = ModelCheckpoint(filepath='dotweights.best.hdf5', verbose=1, save_best_only=True)"
   ]
  },
  {
   "cell_type": "code",
   "execution_count": 56,
   "metadata": {},
   "outputs": [
    {
     "name": "stdout",
     "output_type": "stream",
     "text": [
      "Train on 1326 samples, validate on 569 samples\n",
      "Epoch 1/3\n",
      "1312/1326 [============================>.] - ETA: 0s - loss: 0.3084 - score: 0.9238 - categorical_accuracy: 0.9238Epoch 00001: val_loss improved from inf to 0.28202, saving model to dotweights.best.hdf5\n",
      "1326/1326 [==============================] - 20s 15ms/step - loss: 0.3076 - score: 0.9238 - categorical_accuracy: 0.9238 - val_loss: 0.2820 - val_score: 0.9174 - val_categorical_accuracy: 0.9174\n",
      "Epoch 2/3\n",
      "1312/1326 [============================>.] - ETA: 0s - loss: 0.2504 - score: 0.9306 - categorical_accuracy: 0.9306Epoch 00002: val_loss improved from 0.28202 to 0.22692, saving model to dotweights.best.hdf5\n",
      "1326/1326 [==============================] - 19s 15ms/step - loss: 0.2486 - score: 0.9314 - categorical_accuracy: 0.9314 - val_loss: 0.2269 - val_score: 0.9209 - val_categorical_accuracy: 0.9209\n",
      "Epoch 3/3\n",
      "1312/1326 [============================>.] - ETA: 0s - loss: 0.1922 - score: 0.9352 - categorical_accuracy: 0.9352Epoch 00003: val_loss improved from 0.22692 to 0.20226, saving model to dotweights.best.hdf5\n",
      "1326/1326 [==============================] - 19s 14ms/step - loss: 0.1914 - score: 0.9359 - categorical_accuracy: 0.9359 - val_loss: 0.2023 - val_score: 0.9192 - val_categorical_accuracy: 0.9192\n"
     ]
    },
    {
     "data": {
      "text/plain": [
       "<keras.callbacks.History at 0x7f1f938c08d0>"
      ]
     },
     "execution_count": 56,
     "metadata": {},
     "output_type": "execute_result"
    }
   ],
   "source": [
    "model.fit(X_train,y_dot_train,epochs=3,batch_size=32,callbacks = [checkpointer_dot],validation_split=0.3)"
   ]
  },
  {
   "cell_type": "code",
   "execution_count": 60,
   "metadata": {},
   "outputs": [
    {
     "data": {
      "text/plain": [
       "1895"
      ]
     },
     "execution_count": 60,
     "metadata": {},
     "output_type": "execute_result"
    }
   ],
   "source": []
  },
  {
   "cell_type": "code",
   "execution_count": null,
   "metadata": {
    "collapsed": true
   },
   "outputs": [],
   "source": [
    "model.compile(optimizer='adam',\n",
    "              loss='categorical_crossentropy',\n",
    "              metrics=[f1_score(theta=0.5), 'categorical_accuracy'])\n",
    "model.fit(X_train,y_matra_train,epochs=30,batch_size=32,callbacks = [checkpointer_dot],validation_split=0.3)"
   ]
  },
  {
   "cell_type": "markdown",
   "metadata": {},
   "source": [
    "# Half-consonant model"
   ]
  },
  {
   "cell_type": "code",
   "execution_count": 214,
   "metadata": {
    "collapsed": true
   },
   "outputs": [],
   "source": [
    "half_images = np.array(half_images)\n",
    "X_half = np.reshape(np.array(images), (-1, 64*32))\n",
    "y_half = np.array(base_class)"
   ]
  },
  {
   "cell_type": "code",
   "execution_count": 221,
   "metadata": {
    "collapsed": true
   },
   "outputs": [],
   "source": [
    "le_half = LabelEncoder()\n",
    "le_half.fit(base_class)\n",
    "y_half_labeled = le_half.transform(base_class)\n",
    "y_half_train = np_utils.to_categorical(y_half_labeled)"
   ]
  },
  {
   "cell_type": "code",
   "execution_count": 222,
   "metadata": {},
   "outputs": [
    {
     "name": "stdout",
     "output_type": "stream",
     "text": [
      "(1895, 53)\n",
      "(1895, 64, 32, 1)\n"
     ]
    }
   ],
   "source": [
    "print(y_half_train.shape)\n",
    "X_half_train = np.reshape(half_images,(-1,64,32,1))\n",
    "print(X_half_train.shape)"
   ]
  },
  {
   "cell_type": "code",
   "execution_count": 225,
   "metadata": {
    "collapsed": true
   },
   "outputs": [],
   "source": [
    "model = Sequential()\n",
    "model.add(Conv2D(16,(2,2),input_shape=(X_half_train[0].shape),activation = 'relu'))\n",
    "model.add(Conv2D(32,(2,2),activation = 'relu'))\n",
    "model.add(MaxPooling2D())\n",
    "model.add(Conv2D(16,(2,2),activation = 'relu'))\n",
    "model.add(Conv2D(32,(2,2),activation = 'relu'))\n",
    "model.add(MaxPooling2D())\n",
    "model.add(Conv2D(64,(2,2),activation = 'relu'))\n",
    "model.add(Conv2D(64,(2,2),activation = 'relu'))\n",
    "model.add(MaxPooling2D())\n",
    "model.add(Flatten())\n",
    "model.add(Dense(256,activation = 'sigmoid'))\n",
    "model.add(Dropout(0.5))\n",
    "model.add(Dense(len(set(base_class)),activation = 'softmax'))"
   ]
  },
  {
   "cell_type": "code",
   "execution_count": 226,
   "metadata": {
    "collapsed": true
   },
   "outputs": [],
   "source": [
    "model.compile(optimizer='adam',\n",
    "              loss='categorical_crossentropy',\n",
    "              metrics=[f1_score(theta=0.5), 'categorical_accuracy'])"
   ]
  },
  {
   "cell_type": "code",
   "execution_count": 227,
   "metadata": {},
   "outputs": [
    {
     "name": "stdout",
     "output_type": "stream",
     "text": [
      "Train on 1326 samples, validate on 569 samples\n",
      "Epoch 1/30\n",
      "1326/1326 [==============================] - 7s 5ms/step - loss: 3.6615 - score: nan - categorical_accuracy: 0.0664 - val_loss: 3.3703 - val_score: nan - val_categorical_accuracy: 0.0914\n",
      "Epoch 2/30\n",
      "1326/1326 [==============================] - 6s 4ms/step - loss: 3.4355 - score: nan - categorical_accuracy: 0.0852 - val_loss: 3.3377 - val_score: nan - val_categorical_accuracy: 0.0914\n",
      "Epoch 3/30\n",
      "1326/1326 [==============================] - 6s 4ms/step - loss: 3.3377 - score: nan - categorical_accuracy: 0.1131 - val_loss: 3.2372 - val_score: nan - val_categorical_accuracy: 0.1617\n",
      "Epoch 4/30\n",
      "1326/1326 [==============================] - 6s 4ms/step - loss: 3.2198 - score: nan - categorical_accuracy: 0.1463 - val_loss: 3.1289 - val_score: nan - val_categorical_accuracy: 0.1564\n",
      "Epoch 5/30\n",
      "1326/1326 [==============================] - 6s 4ms/step - loss: 3.0673 - score: nan - categorical_accuracy: 0.1855 - val_loss: 3.0091 - val_score: nan - val_categorical_accuracy: 0.1986\n",
      "Epoch 6/30\n",
      "1326/1326 [==============================] - 6s 4ms/step - loss: 2.9987 - score: nan - categorical_accuracy: 0.2164 - val_loss: 2.9143 - val_score: nan - val_categorical_accuracy: 0.2443\n",
      "Epoch 7/30\n",
      "1326/1326 [==============================] - 6s 4ms/step - loss: 2.8141 - score: nan - categorical_accuracy: 0.2459 - val_loss: 2.7549 - val_score: nan - val_categorical_accuracy: 0.2724\n",
      "Epoch 8/30\n",
      "1326/1326 [==============================] - 6s 4ms/step - loss: 2.6064 - score: nan - categorical_accuracy: 0.3062 - val_loss: 2.6053 - val_score: nan - val_categorical_accuracy: 0.3111\n",
      "Epoch 9/30\n",
      "1326/1326 [==============================] - 6s 4ms/step - loss: 2.4826 - score: nan - categorical_accuracy: 0.3281 - val_loss: 2.4540 - val_score: 0.1511 - val_categorical_accuracy: 0.3638\n",
      "Epoch 10/30\n",
      "1326/1326 [==============================] - 6s 4ms/step - loss: 2.2969 - score: nan - categorical_accuracy: 0.3816 - val_loss: 2.3727 - val_score: 0.1907 - val_categorical_accuracy: 0.3954\n",
      "Epoch 11/30\n",
      "1326/1326 [==============================] - 6s 4ms/step - loss: 2.1660 - score: 0.2441 - categorical_accuracy: 0.4359 - val_loss: 2.2808 - val_score: 0.2235 - val_categorical_accuracy: 0.3884\n",
      "Epoch 12/30\n",
      "1326/1326 [==============================] - 6s 4ms/step - loss: 2.0114 - score: 0.2813 - categorical_accuracy: 0.4510 - val_loss: 2.1816 - val_score: 0.2798 - val_categorical_accuracy: 0.4236\n",
      "Epoch 13/30\n",
      "1326/1326 [==============================] - 6s 4ms/step - loss: 1.9144 - score: 0.3182 - categorical_accuracy: 0.4789 - val_loss: 2.1296 - val_score: 0.2846 - val_categorical_accuracy: 0.4482\n",
      "Epoch 14/30\n",
      "1326/1326 [==============================] - 6s 4ms/step - loss: 1.7894 - score: 0.3530 - categorical_accuracy: 0.5256 - val_loss: 2.0502 - val_score: 0.3640 - val_categorical_accuracy: 0.4552\n",
      "Epoch 15/30\n",
      "1326/1326 [==============================] - 6s 5ms/step - loss: 1.6826 - score: 0.4133 - categorical_accuracy: 0.5392 - val_loss: 1.9693 - val_score: 0.3990 - val_categorical_accuracy: 0.4833\n",
      "Epoch 16/30\n",
      "1326/1326 [==============================] - 6s 5ms/step - loss: 1.6051 - score: 0.4303 - categorical_accuracy: 0.5468 - val_loss: 1.9349 - val_score: 0.3936 - val_categorical_accuracy: 0.4974\n",
      "Epoch 17/30\n",
      "1326/1326 [==============================] - 6s 5ms/step - loss: 1.4570 - score: 0.4772 - categorical_accuracy: 0.5920 - val_loss: 1.9113 - val_score: 0.4330 - val_categorical_accuracy: 0.4851\n",
      "Epoch 18/30\n",
      "1326/1326 [==============================] - 6s 5ms/step - loss: 1.3988 - score: 0.5029 - categorical_accuracy: 0.6041 - val_loss: 1.8644 - val_score: 0.4327 - val_categorical_accuracy: 0.5062\n",
      "Epoch 19/30\n",
      "1326/1326 [==============================] - 7s 5ms/step - loss: 1.3110 - score: 0.5237 - categorical_accuracy: 0.6365 - val_loss: 1.8208 - val_score: 0.4454 - val_categorical_accuracy: 0.5220\n",
      "Epoch 20/30\n",
      "1326/1326 [==============================] - 6s 4ms/step - loss: 1.2411 - score: 0.5611 - categorical_accuracy: 0.6508 - val_loss: 1.8140 - val_score: 0.4589 - val_categorical_accuracy: 0.5097\n",
      "Epoch 21/30\n",
      "1326/1326 [==============================] - 6s 4ms/step - loss: 1.2014 - score: 0.5695 - categorical_accuracy: 0.6682 - val_loss: 1.7695 - val_score: 0.4658 - val_categorical_accuracy: 0.5466\n",
      "Epoch 22/30\n",
      "1326/1326 [==============================] - 6s 5ms/step - loss: 1.1177 - score: 0.5920 - categorical_accuracy: 0.6931 - val_loss: 1.7498 - val_score: 0.4925 - val_categorical_accuracy: 0.5325\n",
      "Epoch 23/30\n",
      "1326/1326 [==============================] - 6s 4ms/step - loss: 1.0582 - score: 0.6257 - categorical_accuracy: 0.7051 - val_loss: 1.7353 - val_score: 0.4978 - val_categorical_accuracy: 0.5466\n",
      "Epoch 24/30\n",
      "1326/1326 [==============================] - 6s 4ms/step - loss: 0.9876 - score: 0.6552 - categorical_accuracy: 0.7315 - val_loss: 1.7382 - val_score: 0.5055 - val_categorical_accuracy: 0.5466\n",
      "Epoch 25/30\n",
      "1326/1326 [==============================] - 6s 4ms/step - loss: 0.9491 - score: 0.6721 - categorical_accuracy: 0.7436 - val_loss: 1.7207 - val_score: 0.5008 - val_categorical_accuracy: 0.5677\n",
      "Epoch 26/30\n",
      "1326/1326 [==============================] - 6s 4ms/step - loss: 0.8973 - score: 0.6877 - categorical_accuracy: 0.7617 - val_loss: 1.7015 - val_score: 0.5216 - val_categorical_accuracy: 0.5659\n",
      "Epoch 27/30\n",
      "1326/1326 [==============================] - 6s 4ms/step - loss: 0.8725 - score: 0.7022 - categorical_accuracy: 0.7617 - val_loss: 1.6857 - val_score: 0.5187 - val_categorical_accuracy: 0.5624\n",
      "Epoch 28/30\n",
      "1326/1326 [==============================] - 6s 4ms/step - loss: 0.8038 - score: 0.7218 - categorical_accuracy: 0.7753 - val_loss: 1.6919 - val_score: 0.5212 - val_categorical_accuracy: 0.5659\n",
      "Epoch 29/30\n",
      "1326/1326 [==============================] - 6s 4ms/step - loss: 0.7676 - score: 0.7360 - categorical_accuracy: 0.7896 - val_loss: 1.6761 - val_score: 0.5324 - val_categorical_accuracy: 0.5835\n",
      "Epoch 30/30\n",
      "1326/1326 [==============================] - 6s 4ms/step - loss: 0.7351 - score: 0.7564 - categorical_accuracy: 0.7994 - val_loss: 1.6927 - val_score: 0.5298 - val_categorical_accuracy: 0.5659\n"
     ]
    },
    {
     "data": {
      "text/plain": [
       "<keras.callbacks.History at 0x7f9ee9aa4518>"
      ]
     },
     "execution_count": 227,
     "metadata": {},
     "output_type": "execute_result"
    }
   ],
   "source": [
    "model.fit(X_half_train,y_half_train,epochs=30,batch_size=32,validation_split=0.3)"
   ]
  },
  {
   "cell_type": "code",
   "execution_count": 243,
   "metadata": {},
   "outputs": [
    {
     "data": {
      "text/plain": [
       "array([[142, 144, 141, ..., 142, 147, 150],\n",
       "       [149, 148, 147, ..., 143, 147, 150],\n",
       "       [150, 152, 152, ..., 148, 148, 150],\n",
       "       ..., \n",
       "       [144, 146, 146, ..., 158, 155, 151],\n",
       "       [146, 150, 149, ..., 168, 163, 159],\n",
       "       [143, 145, 147, ..., 166, 165, 164]], dtype=uint8)"
      ]
     },
     "execution_count": 243,
     "metadata": {},
     "output_type": "execute_result"
    }
   ],
   "source": [
    "img = cv2.imread(os.path.join('','test.png'),0)\n",
    "img"
   ]
  },
  {
   "cell_type": "code",
   "execution_count": 244,
   "metadata": {
    "collapsed": true
   },
   "outputs": [],
   "source": [
    "blur = cv2.GaussianBlur(img,(9,9),0)# KADD\n",
    "a,img = cv2.threshold(img,127,255,cv2.THRESH_BINARY+cv2.THRESH_OTSU)#KEDIT\n",
    "img = pad_resize(img)\n",
    "blur = cv2.GaussianBlur(img,(9,9),0)# KADD"
   ]
  },
  {
   "cell_type": "code",
   "execution_count": 245,
   "metadata": {},
   "outputs": [
    {
     "data": {
      "image/png": "[encoded data removed]",
      "text/plain": [
       "<matplotlib.figure.Figure at 0x7f9ed78972b0>"
      ]
     },
     "metadata": {},
     "output_type": "display_data"
    }
   ],
   "source": [
    "plt.imshow(img,\"gray\")\n",
    "plt.show()"
   ]
  },
  {
   "cell_type": "code",
   "execution_count": 251,
   "metadata": {
    "collapsed": true
   },
   "outputs": [],
   "source": [
    "half_img = np.hsplit(img,2)"
   ]
  },
  {
   "cell_type": "code",
   "execution_count": 252,
   "metadata": {
    "collapsed": true
   },
   "outputs": [],
   "source": [
    "X_half = np.reshape(np.array(half_img[0]), (-1, 64*32))"
   ]
  },
  {
   "cell_type": "code",
   "execution_count": 253,
   "metadata": {
    "collapsed": true
   },
   "outputs": [],
   "source": [
    "X_half_train = np.reshape(half_img[0],(-1,64,32,1))"
   ]
  },
  {
   "cell_type": "code",
   "execution_count": 254,
   "metadata": {},
   "outputs": [
    {
     "data": {
      "text/plain": [
       "array([6])"
      ]
     },
     "execution_count": 254,
     "metadata": {},
     "output_type": "execute_result"
    }
   ],
   "source": [
    "model.predict_classes(X_half_train)"
   ]
  },
  {
   "cell_type": "code",
   "execution_count": 157,
   "metadata": {},
   "outputs": [
    {
     "data": {
      "image/png": "[encoded data removed]",
      "text/plain": [
       "<matplotlib.figure.Figure at 0x7f1f925964e0>"
      ]
     },
     "metadata": {},
     "output_type": "display_data"
    }
   ],
   "source": [
    "im = plt.imread('ok.png')\n",
    "plt.imshow(im)\n",
    "plt.show()"
   ]
  },
  {
   "cell_type": "code",
   "execution_count": 166,
   "metadata": {},
   "outputs": [
    {
     "data": {
      "text/plain": [
       "(111, 111, 3)"
      ]
     },
     "execution_count": 166,
     "metadata": {},
     "output_type": "execute_result"
    }
   ],
   "source": [
    "im[:,:,:3].shape"
   ]
  },
  {
   "cell_type": "code",
   "execution_count": 185,
   "metadata": {},
   "outputs": [],
   "source": [
    "im[:,:,3]\n",
    "def rgb2gray(rgb):\n",
    "    return np.dot(rgb[...,:3], [0.299, 0.587, 0.114])\n",
    "image = rgb2gray(im)"
   ]
  },
  {
   "cell_type": "code",
   "execution_count": 191,
   "metadata": {},
   "outputs": [
    {
     "ename": "NameError",
     "evalue": "name 'src' is not defined",
     "output_type": "error",
     "traceback": [
      "\u001b[0;31m---------------------------------------------------------------------------\u001b[0m",
      "\u001b[0;31mNameError\u001b[0m                                 Traceback (most recent call last)",
      "\u001b[0;32m<ipython-input-191-6cd6ce526bdc>\u001b[0m in \u001b[0;36m<module>\u001b[0;34m()\u001b[0m\n\u001b[1;32m      1\u001b[0m \u001b[0mimage\u001b[0m\u001b[0;34m.\u001b[0m\u001b[0mshape\u001b[0m\u001b[0;34m\u001b[0m\u001b[0m\n\u001b[0;32m----> 2\u001b[0;31m \u001b[0msrc\u001b[0m\u001b[0;34m.\u001b[0m\u001b[0mcreate\u001b[0m\u001b[0;34m(\u001b[0m\u001b[0mrows\u001b[0m\u001b[0;34m,\u001b[0m \u001b[0mcols\u001b[0m\u001b[0;34m,\u001b[0m \u001b[0mCV_8UC1\u001b[0m\u001b[0;34m)\u001b[0m\u001b[0;34m;\u001b[0m\u001b[0;34m\u001b[0m\u001b[0m\n\u001b[0m\u001b[1;32m      3\u001b[0m \u001b[0msrc\u001b[0m \u001b[0;34m=\u001b[0m \u001b[0mimread\u001b[0m\u001b[0;34m(\u001b[0m\u001b[0myour\u001b[0m\u001b[0;34m-\u001b[0m\u001b[0mfile\u001b[0m\u001b[0;34m,\u001b[0m \u001b[0mCV_8UC1\u001b[0m\u001b[0;34m)\u001b[0m\u001b[0;34m;\u001b[0m\u001b[0;34m\u001b[0m\u001b[0m\n",
      "\u001b[0;31mNameError\u001b[0m: name 'src' is not defined"
     ]
    }
   ],
   "source": [
    "image.shape\n",
    "src.create(rows, cols, CV_8UC1);\n",
    "src = imread(your-file, CV_8UC1);"
   ]
  },
  {
   "cell_type": "code",
   "execution_count": 190,
   "metadata": {},
   "outputs": [
    {
     "ename": "error",
     "evalue": "/io/opencv/modules/imgproc/src/thresh.cpp:1356: error: (-215) src.type() == CV_8UC1 in function threshold\n",
     "output_type": "error",
     "traceback": [
      "\u001b[0;31m---------------------------------------------------------------------------\u001b[0m",
      "\u001b[0;31merror\u001b[0m                                     Traceback (most recent call last)",
      "\u001b[0;32m<ipython-input-190-021d38194dfe>\u001b[0m in \u001b[0;36m<module>\u001b[0;34m()\u001b[0m\n\u001b[1;32m      1\u001b[0m \u001b[0mblur\u001b[0m \u001b[0;34m=\u001b[0m \u001b[0mcv2\u001b[0m\u001b[0;34m.\u001b[0m\u001b[0mGaussianBlur\u001b[0m\u001b[0;34m(\u001b[0m\u001b[0mimage\u001b[0m\u001b[0;34m,\u001b[0m\u001b[0;34m(\u001b[0m\u001b[0;36m9\u001b[0m\u001b[0;34m,\u001b[0m\u001b[0;36m9\u001b[0m\u001b[0;34m)\u001b[0m\u001b[0;34m,\u001b[0m\u001b[0;36m0\u001b[0m\u001b[0;34m)\u001b[0m\u001b[0;34m\u001b[0m\u001b[0m\n\u001b[0;32m----> 2\u001b[0;31m \u001b[0ma\u001b[0m\u001b[0;34m,\u001b[0m\u001b[0mimg\u001b[0m \u001b[0;34m=\u001b[0m \u001b[0mcv2\u001b[0m\u001b[0;34m.\u001b[0m\u001b[0mthreshold\u001b[0m\u001b[0;34m(\u001b[0m\u001b[0mblur\u001b[0m\u001b[0;34m,\u001b[0m\u001b[0;36m127\u001b[0m\u001b[0;34m,\u001b[0m\u001b[0;36m255\u001b[0m\u001b[0;34m,\u001b[0m\u001b[0mcv2\u001b[0m\u001b[0;34m.\u001b[0m\u001b[0mTHRESH_BINARY\u001b[0m\u001b[0;34m+\u001b[0m\u001b[0mcv2\u001b[0m\u001b[0;34m.\u001b[0m\u001b[0mTHRESH_OTSU\u001b[0m\u001b[0;34m)\u001b[0m\u001b[0;34m\u001b[0m\u001b[0m\n\u001b[0m",
      "\u001b[0;31merror\u001b[0m: /io/opencv/modules/imgproc/src/thresh.cpp:1356: error: (-215) src.type() == CV_8UC1 in function threshold\n"
     ]
    }
   ],
   "source": [
    "blur = cv2.GaussianBlur(image,(9,9),0)\n",
    "a,img = cv2.threshold(blur,127,255,cv2.THRESH_BINARY+cv2.THRESH_OTSU)"
   ]
  },
  {
   "cell_type": "code",
   "execution_count": null,
   "metadata": {
    "collapsed": true
   },
   "outputs": [],
   "source": []
  }
 ],
 "metadata": {
  "kernelspec": {
   "display_name": "Python 3",
   "language": "python",
   "name": "python3"
  },
  "language_info": {
   "codemirror_mode": {
    "name": "ipython",
    "version": 3
   },
   "file_extension": ".py",
   "mimetype": "text/x-python",
   "name": "python",
   "nbconvert_exporter": "python",
   "pygments_lexer": "ipython3",
   "version": "3.5.2"
  }
 },
 "nbformat": 4,
 "nbformat_minor": 2
}
