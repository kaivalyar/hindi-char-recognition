{
 "cells": [
  {
   "cell_type": "code",
   "execution_count": 1,
   "metadata": {
    "collapsed": true
   },
   "outputs": [],
   "source": [
    "import os\n",
    "import numpy as np\n",
    "import pandas as pd\n",
    "import cv2\n",
    "import matplotlib.pyplot as plt\n",
    "\n",
    "from skimage import io, morphology, img_as_bool, segmentation\n",
    "from scipy import ndimage as ndi\n",
    "from scipy.ndimage.morphology import binary_fill_holes\n",
    "\n",
    "%matplotlib inline"
   ]
  },
  {
   "cell_type": "code",
   "execution_count": 2,
   "metadata": {
    "collapsed": true
   },
   "outputs": [],
   "source": [
    "img_shape = (64,64)"
   ]
  },
  {
   "cell_type": "code",
   "execution_count": 3,
   "metadata": {
    "collapsed": true
   },
   "outputs": [],
   "source": [
    "def pad_resize(img):\n",
    "    top = int((224 - img.shape[0])/2)\n",
    "    left = int((224 - img.shape[1])/2)\n",
    "    bottom = 224 - img.shape[0] - top\n",
    "    right = 224 - img.shape[1] - left\n",
    "    img = cv2.copyMakeBorder(img, top, bottom, left, right, cv2.BORDER_CONSTANT, value=255)\n",
    "    img = img/255.\n",
    "    img = cv2.resize(img, img_shape) #KADD\n",
    "    return img\n",
    "\n",
    "def skeletonize(img):\n",
    "    size = np.size(img)\n",
    "    skel = np.zeros(img.shape,np.uint8)\n",
    "    img = cv2.bitwise_not(img)\n",
    "#     element = cv2.getStructuringElement(cv2.MORPH_CROSS,(1,1))\n",
    "#     done = 0\n",
    "#     while( done < 1 ):\n",
    "#         eroded = cv2.erode(img,element)\n",
    "#         temp = cv2.dilate(eroded,element)\n",
    "#         temp = cv2.subtract(img,temp)\n",
    "#         skel = cv2.bitwise_or(skel,temp)\n",
    "#         img = eroded.copy()\n",
    "\n",
    "#         zeros = size - cv2.countNonZero(img)\n",
    "#         if zeros==size:#cv2.countNonZero(img) * 1 >= 0:#\n",
    "#             done += 1\n",
    "#     img = skel\n",
    "    kernel = np.ones((3,3),np.uint8)\n",
    "    erosion = cv2.erode(img,kernel,iterations = 2)\n",
    "    img = cv2.bitwise_not(erosion)\n",
    "    return img"
   ]
  },
  {
   "cell_type": "code",
   "execution_count": 4,
   "metadata": {
    "scrolled": true
   },
   "outputs": [
    {
     "name": "stdout",
     "output_type": "stream",
     "text": [
      "page7_16_10_2350_2417.png dropped!\n",
      "100 Done\n",
      "page3_6_0_2327_2417.png dropped!\n",
      "page6_1_1_2340_2375_2379.png dropped!\n",
      "200 Done\n",
      "page7_3_0_2319_2366_2367.png dropped!\n",
      "300 Done\n",
      "page0_8_8_2330_2375_2379.png dropped!\n",
      "400 Done\n",
      "page6_10_6_2325_2366_2380.png dropped!\n",
      "page0_9_15_2332_2375_2379.png dropped!\n",
      "500 Done\n",
      "600 Done\n",
      "700 Done\n",
      "page3_18_4_2332_2366_2379.png dropped!\n",
      "page3_12_0_2357_2364_2416.png dropped!\n",
      "800 Done\n",
      "900 Done\n",
      "page7_3_13_2319_2366_2367.png dropped!\n",
      "1000 Done\n",
      "1100 Done\n",
      "1200 Done\n",
      "1300 Done\n",
      "1400 Done\n",
      "page5_7_8_2325_2367_2388.png dropped!\n",
      "1500 Done\n",
      "page2_4_20_2346_2366_2390.png dropped!\n",
      "1600 Done\n",
      "1700 Done\n",
      "1800 Done\n"
     ]
    }
   ],
   "source": [
    "PATH = '../train_images_modified'\n",
    "images = []\n",
    "base_class = []\n",
    "matra_class = []\n",
    "dot_class = []\n",
    "total_class = []\n",
    "for filename in os.listdir(PATH):\n",
    "    if filename.endswith(\".png\"):\n",
    "        img = cv2.imread(os.path.join(PATH,filename),0)\n",
    "        blur = cv2.GaussianBlur(img,(9,9),0)# KADD\n",
    "        a,img = cv2.threshold(blur,127,255,cv2.THRESH_BINARY+cv2.THRESH_OTSU)#KEDIT\n",
    "#         kernel = np.ones((5,5),np.uint8)\n",
    "#         img = cv2.morphologyEx(img, cv2.MORPH_CLOSE, kernel)\n",
    "#         plt.imshow(img, cmap='gray')\n",
    "#         plt.show()\n",
    "#        img = skeletonize(img)\n",
    "        img = pad_resize(img)\n",
    "        blur = cv2.GaussianBlur(img,(9,9),0)# KADD\n",
    "        char_arr = filename[:-4].split('_')[3:]\n",
    "        if(len(char_arr)>0):\n",
    "            char_arr = [int(i) for i in char_arr]\n",
    "            base = [i for i in char_arr if (i>=2308 and i<=2361) or (i==2384) or (i>=2392 and i<=2401) or (i>=2404 and i!=2416 and i!=2417)]  \n",
    "            matra = [i for i in char_arr if i>=2362 and i<=2391 and i!=2364 and i!=2362]\n",
    "            dot = [i for i in char_arr if i==2306 or i==2416 or i==2362 or i==2364]\n",
    "            if(len(matra)>1 or len(dot)>1 or len(base)>1 or (len(matra)==0 and len(dot)==0 and len(char_arr)==2)):\n",
    "                print(filename+\" dropped!\")\n",
    "            else:\n",
    "                images.append(img)\n",
    "                base_class.append(base[0])\n",
    "                if(len(matra)==1):\n",
    "                    matra_class.append(matra[0])\n",
    "                else:\n",
    "                    matra_class.append(0)\n",
    "\n",
    "                if len(dot)==1:\n",
    "                    if dot[0] == 2364:\n",
    "                        dot_class.append(2)\n",
    "                    else:\n",
    "                        dot_class.append(1)\n",
    "                else:\n",
    "                    dot_class.append(0)\n",
    "\n",
    "                if len(images)%100==0:\n",
    "                    print(\"{} Done\".format(len(images)))\n",
    "            "
   ]
  },
  {
   "cell_type": "code",
   "execution_count": 5,
   "metadata": {},
   "outputs": [
    {
     "data": {
      "image/png": "[encoded data removed]",
      "text/plain": [
       "<matplotlib.figure.Figure at 0x7f3456f26c88>"
      ]
     },
     "metadata": {},
     "output_type": "display_data"
    },
    {
     "name": "stdout",
     "output_type": "stream",
     "text": [
      "1883\n",
      "1883\n"
     ]
    }
   ],
   "source": [
    "plt.imshow(images[10],\"gray\")\n",
    "plt.show()\n",
    "print(len(images))\n",
    "print(len(dot_class))"
   ]
  },
  {
   "cell_type": "code",
   "execution_count": 6,
   "metadata": {},
   "outputs": [
    {
     "data": {
      "text/plain": [
       "[2392, 2353, 2384, 2415, 2310, 2414]"
      ]
     },
     "execution_count": 6,
     "metadata": {},
     "output_type": "execute_result"
    }
   ],
   "source": [
    "len(set(base_class))\n",
    "freq = {i:base_class.count(i) for i in base_class}\n",
    "[i for i in freq.keys() if freq[i]==1]"
   ]
  },
  {
   "cell_type": "code",
   "execution_count": 7,
   "metadata": {},
   "outputs": [
    {
     "name": "stdout",
     "output_type": "stream",
     "text": [
      "(1883, 64, 64)\n"
     ]
    }
   ],
   "source": [
    "images = np.array(images)\n",
    "print(images.shape)"
   ]
  },
  {
   "cell_type": "code",
   "execution_count": 8,
   "metadata": {},
   "outputs": [
    {
     "name": "stderr",
     "output_type": "stream",
     "text": [
      "Using TensorFlow backend.\n"
     ]
    },
    {
     "name": "stdout",
     "output_type": "stream",
     "text": [
      "(1883, 53)\n"
     ]
    }
   ],
   "source": [
    "import keras\n",
    "from sklearn.preprocessing import LabelEncoder\n",
    "from keras.utils import np_utils\n",
    "\n",
    "le = LabelEncoder()\n",
    "le.fit(base_class)\n",
    "y_labeled = le.transform(base_class)\n",
    "y_train = np_utils.to_categorical(y_labeled)\n",
    "print(y_train.shape)\n",
    "#print(le)\n",
    "#le.get_params()\n",
    "#for i in range(len(topr)):\n",
    "#    if base_class[i] == 2405:\n",
    "#        print('{} {}'.format(topr[i], base_class[i]))"
   ]
  },
  {
   "cell_type": "code",
   "execution_count": 9,
   "metadata": {},
   "outputs": [
    {
     "name": "stdout",
     "output_type": "stream",
     "text": [
      "(1883, 64, 64, 1)\n"
     ]
    }
   ],
   "source": [
    "x_train = np.reshape(images,(-1,img_shape[0],img_shape[1],1))\n",
    "print(x_train.shape)"
   ]
  },
  {
   "cell_type": "code",
   "execution_count": 10,
   "metadata": {
    "collapsed": true
   },
   "outputs": [],
   "source": [
    "from keras.models import Sequential\n",
    "from keras.layers import Dense,Dropout,Conv2D,MaxPooling2D,Flatten\n",
    "from keras.optimizers import Adam\n",
    "\n",
    "base_model = Sequential()\n",
    "\n",
    "base_model.add(Conv2D(16,(3,3),input_shape = (img_shape[0],img_shape[1],1),activation = 'relu'))\n",
    "base_model.add(Conv2D(16,(3,3),activation = 'relu'))\n",
    "base_model.add(MaxPooling2D())\n",
    "base_model.add(Conv2D(32,(3,3),activation = 'relu'))\n",
    "base_model.add(Conv2D(32,(3,3),activation = 'relu'))\n",
    "base_model.add(MaxPooling2D())\n",
    "base_model.add(Conv2D(64,(3,3),activation = 'relu'))\n",
    "base_model.add(Conv2D(64,(3,3),activation = 'relu'))\n",
    "base_model.add(MaxPooling2D())\n",
    "base_model.add(MaxPooling2D())\n",
    "base_model.add(Dropout(0.5))\n",
    "base_model.add(Flatten())\n",
    "base_model.add(Dense(256,activation = 'sigmoid'))\n",
    "base_model.add(Dropout(0.25))\n",
    "base_model.add(Dense(len(set(base_class)),activation = 'softmax'))"
   ]
  },
  {
   "cell_type": "code",
   "execution_count": 11,
   "metadata": {},
   "outputs": [
    {
     "name": "stdout",
     "output_type": "stream",
     "text": [
      "_________________________________________________________________\n",
      "Layer (type)                 Output Shape              Param #   \n",
      "=================================================================\n",
      "conv2d_1 (Conv2D)            (None, 62, 62, 16)        160       \n",
      "_________________________________________________________________\n",
      "conv2d_2 (Conv2D)            (None, 60, 60, 16)        2320      \n",
      "_________________________________________________________________\n",
      "max_pooling2d_1 (MaxPooling2 (None, 30, 30, 16)        0         \n",
      "_________________________________________________________________\n",
      "conv2d_3 (Conv2D)            (None, 28, 28, 32)        4640      \n",
      "_________________________________________________________________\n",
      "conv2d_4 (Conv2D)            (None, 26, 26, 32)        9248      \n",
      "_________________________________________________________________\n",
      "max_pooling2d_2 (MaxPooling2 (None, 13, 13, 32)        0         \n",
      "_________________________________________________________________\n",
      "conv2d_5 (Conv2D)            (None, 11, 11, 64)        18496     \n",
      "_________________________________________________________________\n",
      "conv2d_6 (Conv2D)            (None, 9, 9, 64)          36928     \n",
      "_________________________________________________________________\n",
      "max_pooling2d_3 (MaxPooling2 (None, 4, 4, 64)          0         \n",
      "_________________________________________________________________\n",
      "max_pooling2d_4 (MaxPooling2 (None, 2, 2, 64)          0         \n",
      "_________________________________________________________________\n",
      "dropout_1 (Dropout)          (None, 2, 2, 64)          0         \n",
      "_________________________________________________________________\n",
      "flatten_1 (Flatten)          (None, 256)               0         \n",
      "_________________________________________________________________\n",
      "dense_1 (Dense)              (None, 256)               65792     \n",
      "_________________________________________________________________\n",
      "dropout_2 (Dropout)          (None, 256)               0         \n",
      "_________________________________________________________________\n",
      "dense_2 (Dense)              (None, 53)                13621     \n",
      "=================================================================\n",
      "Total params: 151,205\n",
      "Trainable params: 151,205\n",
      "Non-trainable params: 0\n",
      "_________________________________________________________________\n"
     ]
    }
   ],
   "source": [
    "base_model.summary()"
   ]
  },
  {
   "cell_type": "code",
   "execution_count": 12,
   "metadata": {
    "collapsed": true
   },
   "outputs": [],
   "source": [
    "import keras.backend as K\n",
    "\n",
    "def f1_score(theta):\n",
    "    def score(y_true, y_pred):\n",
    "\n",
    "        y_thresh = K.cast(K.greater(y_pred,theta),K.floatx())\n",
    "\n",
    "        true_pos =  K.sum(y_true * y_thresh)\n",
    "        false_pos = K.sum(y_true * (1. - y_thresh))\n",
    "        false_neg = K.sum((1. - y_true) * y_thresh)\n",
    "\n",
    "        precision = true_pos / (true_pos + false_pos)\n",
    "        recall = true_pos / (true_pos + false_neg)\n",
    "        \n",
    "        f1_score_val = 2 * (precision * recall) / (precision + recall)\n",
    "        return f1_score_val\n",
    "    return score"
   ]
  },
  {
   "cell_type": "code",
   "execution_count": 13,
   "metadata": {
    "collapsed": true
   },
   "outputs": [],
   "source": [
    "base_model.compile(optimizer='adam',\n",
    "              loss='categorical_crossentropy', metrics=['categorical_accuracy'])"
   ]
  },
  {
   "cell_type": "code",
   "execution_count": 14,
   "metadata": {
    "collapsed": true
   },
   "outputs": [],
   "source": [
    "# augmentation code here ..."
   ]
  },
  {
   "cell_type": "code",
   "execution_count": 15,
   "metadata": {
    "scrolled": false
   },
   "outputs": [
    {
     "name": "stdout",
     "output_type": "stream",
     "text": [
      "Train on 1318 samples, validate on 565 samples\n",
      "Epoch 1/30\n",
      "1318/1318 [==============================] - 13s 10ms/step - loss: 3.5064 - categorical_accuracy: 0.0728 - val_loss: 3.3781 - val_categorical_accuracy: 0.0602\n",
      "Epoch 2/30\n",
      "1318/1318 [==============================] - 12s 9ms/step - loss: 3.3902 - categorical_accuracy: 0.0956 - val_loss: 3.3567 - val_categorical_accuracy: 0.0619\n",
      "Epoch 3/30\n",
      "1318/1318 [==============================] - 13s 10ms/step - loss: 3.3093 - categorical_accuracy: 0.1237 - val_loss: 3.1293 - val_categorical_accuracy: 0.1858\n",
      "Epoch 4/30\n",
      "1318/1318 [==============================] - 13s 10ms/step - loss: 2.8148 - categorical_accuracy: 0.2944 - val_loss: 2.3497 - val_categorical_accuracy: 0.3947\n",
      "Epoch 5/30\n",
      "1318/1318 [==============================] - 14s 10ms/step - loss: 2.2908 - categorical_accuracy: 0.4249 - val_loss: 1.9204 - val_categorical_accuracy: 0.5027\n",
      "Epoch 6/30\n",
      "1318/1318 [==============================] - 14s 11ms/step - loss: 1.8975 - categorical_accuracy: 0.5190 - val_loss: 1.5557 - val_categorical_accuracy: 0.6053\n",
      "Epoch 7/30\n",
      "1318/1318 [==============================] - 14s 10ms/step - loss: 1.6465 - categorical_accuracy: 0.5789 - val_loss: 1.3864 - val_categorical_accuracy: 0.6655\n",
      "Epoch 8/30\n",
      "1318/1318 [==============================] - 14s 11ms/step - loss: 1.4855 - categorical_accuracy: 0.6077 - val_loss: 1.1821 - val_categorical_accuracy: 0.7133\n",
      "Epoch 9/30\n",
      "1318/1318 [==============================] - 14s 10ms/step - loss: 1.3324 - categorical_accuracy: 0.6578 - val_loss: 1.1595 - val_categorical_accuracy: 0.7027\n",
      "Epoch 10/30\n",
      "1318/1318 [==============================] - 14s 10ms/step - loss: 1.2219 - categorical_accuracy: 0.6806 - val_loss: 1.0265 - val_categorical_accuracy: 0.7451\n",
      "Epoch 11/30\n",
      "1318/1318 [==============================] - 14s 10ms/step - loss: 1.1534 - categorical_accuracy: 0.6935 - val_loss: 0.9681 - val_categorical_accuracy: 0.7451\n",
      "Epoch 12/30\n",
      "1318/1318 [==============================] - 14s 10ms/step - loss: 1.0675 - categorical_accuracy: 0.7094 - val_loss: 0.9110 - val_categorical_accuracy: 0.7540\n",
      "Epoch 13/30\n",
      "1318/1318 [==============================] - 14s 10ms/step - loss: 0.9736 - categorical_accuracy: 0.7443 - val_loss: 0.8349 - val_categorical_accuracy: 0.7982\n",
      "Epoch 14/30\n",
      "1318/1318 [==============================] - 14s 11ms/step - loss: 0.9435 - categorical_accuracy: 0.7390 - val_loss: 0.8496 - val_categorical_accuracy: 0.7858\n",
      "Epoch 15/30\n",
      "1318/1318 [==============================] - 14s 11ms/step - loss: 0.9073 - categorical_accuracy: 0.7443 - val_loss: 0.8142 - val_categorical_accuracy: 0.7876\n",
      "Epoch 16/30\n",
      "1318/1318 [==============================] - 14s 11ms/step - loss: 0.8503 - categorical_accuracy: 0.7640 - val_loss: 0.7455 - val_categorical_accuracy: 0.8071\n",
      "Epoch 17/30\n",
      "1318/1318 [==============================] - 14s 11ms/step - loss: 0.7945 - categorical_accuracy: 0.7822 - val_loss: 0.7360 - val_categorical_accuracy: 0.8018\n",
      "Epoch 18/30\n",
      "1318/1318 [==============================] - 14s 11ms/step - loss: 0.8205 - categorical_accuracy: 0.7731 - val_loss: 0.7966 - val_categorical_accuracy: 0.7770\n",
      "Epoch 19/30\n",
      "1318/1318 [==============================] - 14s 11ms/step - loss: 0.7279 - categorical_accuracy: 0.7898 - val_loss: 0.7251 - val_categorical_accuracy: 0.8071\n",
      "Epoch 20/30\n",
      "1318/1318 [==============================] - 14s 11ms/step - loss: 0.6760 - categorical_accuracy: 0.8058 - val_loss: 0.6598 - val_categorical_accuracy: 0.8230\n",
      "Epoch 21/30\n",
      "1318/1318 [==============================] - 14s 11ms/step - loss: 0.6715 - categorical_accuracy: 0.8164 - val_loss: 0.6388 - val_categorical_accuracy: 0.8336\n",
      "Epoch 22/30\n",
      "1318/1318 [==============================] - 14s 11ms/step - loss: 0.6310 - categorical_accuracy: 0.8263 - val_loss: 0.6615 - val_categorical_accuracy: 0.8159\n",
      "Epoch 23/30\n",
      "1318/1318 [==============================] - 14s 11ms/step - loss: 0.6433 - categorical_accuracy: 0.8126 - val_loss: 0.6080 - val_categorical_accuracy: 0.8230\n",
      "Epoch 24/30\n",
      "1318/1318 [==============================] - 14s 11ms/step - loss: 0.6098 - categorical_accuracy: 0.8149 - val_loss: 0.6421 - val_categorical_accuracy: 0.8265\n",
      "Epoch 25/30\n",
      "1318/1318 [==============================] - 14s 11ms/step - loss: 0.5848 - categorical_accuracy: 0.8300 - val_loss: 0.6007 - val_categorical_accuracy: 0.8248\n",
      "Epoch 26/30\n",
      "1318/1318 [==============================] - 14s 11ms/step - loss: 0.5567 - categorical_accuracy: 0.8445 - val_loss: 0.6229 - val_categorical_accuracy: 0.8283\n",
      "Epoch 27/30\n",
      "1318/1318 [==============================] - 14s 11ms/step - loss: 0.5461 - categorical_accuracy: 0.8255 - val_loss: 0.6080 - val_categorical_accuracy: 0.8354\n",
      "Epoch 28/30\n",
      "1318/1318 [==============================] - 14s 11ms/step - loss: 0.5021 - categorical_accuracy: 0.8551 - val_loss: 0.5744 - val_categorical_accuracy: 0.8336\n",
      "Epoch 29/30\n",
      "1318/1318 [==============================] - 14s 11ms/step - loss: 0.4946 - categorical_accuracy: 0.8467 - val_loss: 0.5832 - val_categorical_accuracy: 0.8531\n",
      "Epoch 30/30\n",
      "1318/1318 [==============================] - 14s 11ms/step - loss: 0.4853 - categorical_accuracy: 0.8551 - val_loss: 0.5565 - val_categorical_accuracy: 0.8460\n"
     ]
    },
    {
     "data": {
      "text/plain": [
       "<keras.callbacks.History at 0x7f3435fa0cc0>"
      ]
     },
     "execution_count": 15,
     "metadata": {},
     "output_type": "execute_result"
    }
   ],
   "source": [
    "base_model.fit(x_train,y_train,epochs=30,batch_size=32,validation_split=0.3)"
   ]
  },
  {
   "cell_type": "code",
   "execution_count": 16,
   "metadata": {},
   "outputs": [
    {
     "name": "stdout",
     "output_type": "stream",
     "text": [
      "Train on 1318 samples, validate on 565 samples\n",
      "Epoch 1/10\n",
      "1318/1318 [==============================] - 14s 11ms/step - loss: 0.4211 - categorical_accuracy: 0.8748 - val_loss: 0.5501 - val_categorical_accuracy: 0.8513\n",
      "Epoch 2/10\n",
      "1318/1318 [==============================] - 14s 11ms/step - loss: 0.4001 - categorical_accuracy: 0.8778 - val_loss: 0.5369 - val_categorical_accuracy: 0.8566\n",
      "Epoch 3/10\n",
      "1318/1318 [==============================] - 14s 10ms/step - loss: 0.3595 - categorical_accuracy: 0.8900 - val_loss: 0.5438 - val_categorical_accuracy: 0.8549\n",
      "Epoch 4/10\n",
      "1318/1318 [==============================] - 14s 10ms/step - loss: 0.3739 - categorical_accuracy: 0.8847 - val_loss: 0.5376 - val_categorical_accuracy: 0.8566\n",
      "Epoch 5/10\n",
      "1318/1318 [==============================] - 14s 10ms/step - loss: 0.3862 - categorical_accuracy: 0.8854 - val_loss: 0.5355 - val_categorical_accuracy: 0.8496\n",
      "Epoch 6/10\n",
      "1318/1318 [==============================] - 14s 10ms/step - loss: 0.3663 - categorical_accuracy: 0.8847 - val_loss: 0.5446 - val_categorical_accuracy: 0.8549\n",
      "Epoch 7/10\n",
      "1318/1318 [==============================] - 14s 11ms/step - loss: 0.3598 - categorical_accuracy: 0.8869 - val_loss: 0.5349 - val_categorical_accuracy: 0.8549\n",
      "Epoch 8/10\n",
      "1318/1318 [==============================] - 14s 11ms/step - loss: 0.3730 - categorical_accuracy: 0.8892 - val_loss: 0.5361 - val_categorical_accuracy: 0.8549\n",
      "Epoch 9/10\n",
      "1318/1318 [==============================] - 15s 11ms/step - loss: 0.3479 - categorical_accuracy: 0.9044 - val_loss: 0.5383 - val_categorical_accuracy: 0.8584\n",
      "Epoch 10/10\n",
      "1318/1318 [==============================] - 16s 12ms/step - loss: 0.3469 - categorical_accuracy: 0.8961 - val_loss: 0.5375 - val_categorical_accuracy: 0.8566\n"
     ]
    },
    {
     "data": {
      "text/plain": [
       "<keras.callbacks.History at 0x7f34341180f0>"
      ]
     },
     "execution_count": 16,
     "metadata": {},
     "output_type": "execute_result"
    }
   ],
   "source": [
    "new_adam = keras.optimizers.Adam(lr=0.0001, beta_1=0.9, beta_2=0.999, epsilon=1e-08, decay=0.0)\n",
    "base_model.compile(optimizer=new_adam,\n",
    "              loss='categorical_crossentropy',\n",
    "              metrics=['categorical_accuracy'])\n",
    "base_model.fit(x_train,y_train,epochs=10,batch_size=32,validation_split=0.3)"
   ]
  },
  {
   "cell_type": "code",
   "execution_count": 17,
   "metadata": {},
   "outputs": [
    {
     "name": "stdout",
     "output_type": "stream",
     "text": [
      "Train on 1318 samples, validate on 565 samples\n",
      "Epoch 1/30\n",
      "1318/1318 [==============================] - 14s 10ms/step - loss: 0.3399 - categorical_accuracy: 0.8976 - val_loss: 0.5360 - val_categorical_accuracy: 0.8584\n",
      "Epoch 2/30\n",
      "1318/1318 [==============================] - 13s 10ms/step - loss: 0.3787 - categorical_accuracy: 0.8839 - val_loss: 0.5368 - val_categorical_accuracy: 0.8602\n",
      "Epoch 3/30\n",
      "1318/1318 [==============================] - 13s 10ms/step - loss: 0.3355 - categorical_accuracy: 0.9082 - val_loss: 0.5348 - val_categorical_accuracy: 0.8637\n",
      "Epoch 4/30\n",
      "1318/1318 [==============================] - 13s 10ms/step - loss: 0.3330 - categorical_accuracy: 0.8991 - val_loss: 0.5299 - val_categorical_accuracy: 0.8602\n",
      "Epoch 5/30\n",
      "1318/1318 [==============================] - 13s 10ms/step - loss: 0.3538 - categorical_accuracy: 0.8991 - val_loss: 0.5300 - val_categorical_accuracy: 0.8619\n",
      "Epoch 6/30\n",
      "1318/1318 [==============================] - 14s 10ms/step - loss: 0.3533 - categorical_accuracy: 0.8945 - val_loss: 0.5259 - val_categorical_accuracy: 0.8566\n",
      "Epoch 7/30\n",
      "1318/1318 [==============================] - 16s 12ms/step - loss: 0.3507 - categorical_accuracy: 0.8923 - val_loss: 0.5280 - val_categorical_accuracy: 0.8549\n",
      "Epoch 8/30\n",
      "1318/1318 [==============================] - 14s 11ms/step - loss: 0.3263 - categorical_accuracy: 0.9059 - val_loss: 0.5243 - val_categorical_accuracy: 0.8602\n",
      "Epoch 9/30\n",
      "1318/1318 [==============================] - 14s 11ms/step - loss: 0.3239 - categorical_accuracy: 0.9029 - val_loss: 0.5239 - val_categorical_accuracy: 0.8619\n",
      "Epoch 10/30\n",
      "1318/1318 [==============================] - 14s 11ms/step - loss: 0.3255 - categorical_accuracy: 0.9059 - val_loss: 0.5248 - val_categorical_accuracy: 0.8584\n",
      "Epoch 11/30\n",
      "1318/1318 [==============================] - 14s 11ms/step - loss: 0.3403 - categorical_accuracy: 0.9044 - val_loss: 0.5232 - val_categorical_accuracy: 0.8584\n",
      "Epoch 12/30\n",
      "1318/1318 [==============================] - 16s 12ms/step - loss: 0.3275 - categorical_accuracy: 0.9014 - val_loss: 0.5189 - val_categorical_accuracy: 0.8602\n",
      "Epoch 13/30\n",
      "1318/1318 [==============================] - 14s 11ms/step - loss: 0.3276 - categorical_accuracy: 0.9127 - val_loss: 0.5233 - val_categorical_accuracy: 0.8637\n",
      "Epoch 14/30\n",
      "1318/1318 [==============================] - 15s 11ms/step - loss: 0.3201 - categorical_accuracy: 0.9036 - val_loss: 0.5224 - val_categorical_accuracy: 0.8673\n",
      "Epoch 15/30\n",
      "1318/1318 [==============================] - 14s 10ms/step - loss: 0.3341 - categorical_accuracy: 0.9014 - val_loss: 0.5204 - val_categorical_accuracy: 0.8655\n",
      "Epoch 16/30\n",
      "1318/1318 [==============================] - 14s 10ms/step - loss: 0.3368 - categorical_accuracy: 0.8998 - val_loss: 0.5208 - val_categorical_accuracy: 0.8655\n",
      "Epoch 17/30\n",
      "1318/1318 [==============================] - 14s 11ms/step - loss: 0.3255 - categorical_accuracy: 0.9120 - val_loss: 0.5188 - val_categorical_accuracy: 0.8637\n",
      "Epoch 18/30\n",
      "1318/1318 [==============================] - 14s 11ms/step - loss: 0.3142 - categorical_accuracy: 0.9105 - val_loss: 0.5191 - val_categorical_accuracy: 0.8602\n",
      "Epoch 19/30\n",
      "1318/1318 [==============================] - 14s 10ms/step - loss: 0.3203 - categorical_accuracy: 0.9052 - val_loss: 0.5199 - val_categorical_accuracy: 0.8584\n",
      "Epoch 20/30\n",
      "1318/1318 [==============================] - 14s 10ms/step - loss: 0.3166 - categorical_accuracy: 0.9067 - val_loss: 0.5191 - val_categorical_accuracy: 0.8619\n",
      "Epoch 21/30\n",
      "1318/1318 [==============================] - 14s 10ms/step - loss: 0.3181 - categorical_accuracy: 0.9044 - val_loss: 0.5144 - val_categorical_accuracy: 0.8673\n",
      "Epoch 22/30\n",
      "1318/1318 [==============================] - 15s 11ms/step - loss: 0.3003 - categorical_accuracy: 0.9044 - val_loss: 0.5209 - val_categorical_accuracy: 0.8655\n",
      "Epoch 23/30\n",
      "1318/1318 [==============================] - 16s 12ms/step - loss: 0.3173 - categorical_accuracy: 0.9143 - val_loss: 0.5198 - val_categorical_accuracy: 0.8690\n",
      "Epoch 24/30\n",
      "1318/1318 [==============================] - 14s 11ms/step - loss: 0.2999 - categorical_accuracy: 0.9112 - val_loss: 0.5150 - val_categorical_accuracy: 0.8708\n",
      "Epoch 25/30\n",
      "1318/1318 [==============================] - 14s 11ms/step - loss: 0.3091 - categorical_accuracy: 0.9135 - val_loss: 0.5163 - val_categorical_accuracy: 0.8690\n",
      "Epoch 26/30\n",
      "1318/1318 [==============================] - 13s 10ms/step - loss: 0.3126 - categorical_accuracy: 0.9059 - val_loss: 0.5209 - val_categorical_accuracy: 0.8655\n",
      "Epoch 27/30\n",
      "1318/1318 [==============================] - 14s 11ms/step - loss: 0.2999 - categorical_accuracy: 0.9181 - val_loss: 0.5146 - val_categorical_accuracy: 0.8655\n",
      "Epoch 28/30\n",
      "1318/1318 [==============================] - 15s 11ms/step - loss: 0.3078 - categorical_accuracy: 0.9143 - val_loss: 0.5141 - val_categorical_accuracy: 0.8673\n",
      "Epoch 29/30\n",
      "1318/1318 [==============================] - 14s 11ms/step - loss: 0.2999 - categorical_accuracy: 0.9150 - val_loss: 0.5181 - val_categorical_accuracy: 0.8602\n",
      "Epoch 30/30\n",
      "1318/1318 [==============================] - 14s 11ms/step - loss: 0.3201 - categorical_accuracy: 0.8983 - val_loss: 0.5173 - val_categorical_accuracy: 0.8637\n"
     ]
    },
    {
     "data": {
      "text/plain": [
       "<keras.callbacks.History at 0x7f340d7c67f0>"
      ]
     },
     "execution_count": 17,
     "metadata": {},
     "output_type": "execute_result"
    }
   ],
   "source": [
    "new_adam = keras.optimizers.Adam(lr=0.00005, beta_1=0.9, beta_2=0.999, epsilon=1e-08, decay=0.0)\n",
    "base_model.compile(optimizer=new_adam,\n",
    "              loss='categorical_crossentropy',\n",
    "              metrics=['categorical_accuracy'])\n",
    "base_model.fit(x_train,y_train,epochs=30,batch_size=32,validation_split=0.3)"
   ]
  },
  {
   "cell_type": "markdown",
   "metadata": {},
   "source": [
    "### confusion matrix"
   ]
  },
  {
   "cell_type": "code",
   "execution_count": 18,
   "metadata": {},
   "outputs": [
    {
     "name": "stdout",
     "output_type": "stream",
     "text": [
      "1883/1883 [==============================] - 5s 3ms/step\n",
      "confusion matrix for (53, 53) features (base):\n",
      "[[ 1  0  0 ...,  0  0  0]\n",
      " [ 0 13  0 ...,  0  0  0]\n",
      " [ 0  0 31 ...,  0  0  0]\n",
      " ..., \n",
      " [ 0  0  0 ...,  0  0  0]\n",
      " [ 0  1  1 ...,  0  4  0]\n",
      " [ 0  0  0 ...,  0  0  3]]\n"
     ]
    },
    {
     "data": {
      "text/plain": [
       "<matplotlib.axes._subplots.AxesSubplot at 0x7f340c363390>"
      ]
     },
     "execution_count": 18,
     "metadata": {},
     "output_type": "execute_result"
    },
    {
     "data": {
      "image/png": "[encoded data removed]",
      "text/plain": [
       "<matplotlib.figure.Figure at 0x7f340c810cc0>"
      ]
     },
     "metadata": {},
     "output_type": "display_data"
    }
   ],
   "source": [
    "from sklearn.metrics import confusion_matrix\n",
    "import seaborn as sns\n",
    "\n",
    "y_pred = base_model.predict_classes(x_train)\n",
    "y_original = np.argmax(y_train, axis=1)\n",
    "\n",
    "cm = confusion_matrix(y_original, y_pred)\n",
    "print('confusion matrix for {} features (base):'.format(cm.shape))\n",
    "print(cm)\n",
    "\n",
    "fig, ax = plt.subplots(figsize=(20,20))\n",
    "sns.heatmap(cm, cmap=sns.light_palette('purple', n_colors=500, as_cmap=True), annot=True, linewidths = 5, ax=ax)"
   ]
  },
  {
   "cell_type": "markdown",
   "metadata": {},
   "source": [
    "# DOT CLASS"
   ]
  },
  {
   "cell_type": "code",
   "execution_count": 19,
   "metadata": {
    "collapsed": true
   },
   "outputs": [],
   "source": [
    "y_train_dot = np_utils.to_categorical(dot_class)"
   ]
  },
  {
   "cell_type": "code",
   "execution_count": 20,
   "metadata": {},
   "outputs": [
    {
     "name": "stdout",
     "output_type": "stream",
     "text": [
      "Train on 1318 samples, validate on 565 samples\n",
      "Epoch 1/10\n",
      "1318/1318 [==============================] - 14s 10ms/step - loss: 0.4795 - categorical_accuracy: 0.8657 - val_loss: 0.2361 - val_categorical_accuracy: 0.9434\n",
      "Epoch 2/10\n",
      "1318/1318 [==============================] - 13s 10ms/step - loss: 0.3442 - categorical_accuracy: 0.9211 - val_loss: 0.2413 - val_categorical_accuracy: 0.9434\n",
      "Epoch 3/10\n",
      "1318/1318 [==============================] - 13s 10ms/step - loss: 0.3451 - categorical_accuracy: 0.9211 - val_loss: 0.2471 - val_categorical_accuracy: 0.9434\n",
      "Epoch 4/10\n",
      "1318/1318 [==============================] - 13s 10ms/step - loss: 0.3267 - categorical_accuracy: 0.9211 - val_loss: 0.2408 - val_categorical_accuracy: 0.9434\n",
      "Epoch 5/10\n",
      "1318/1318 [==============================] - 13s 10ms/step - loss: 0.3287 - categorical_accuracy: 0.9211 - val_loss: 0.2404 - val_categorical_accuracy: 0.9434\n",
      "Epoch 6/10\n",
      "1318/1318 [==============================] - 16s 12ms/step - loss: 0.3260 - categorical_accuracy: 0.9211 - val_loss: 0.2321 - val_categorical_accuracy: 0.9434\n",
      "Epoch 7/10\n",
      "1318/1318 [==============================] - 17s 13ms/step - loss: 0.3156 - categorical_accuracy: 0.9211 - val_loss: 0.2128 - val_categorical_accuracy: 0.9434\n",
      "Epoch 8/10\n",
      "1318/1318 [==============================] - 15s 12ms/step - loss: 0.2642 - categorical_accuracy: 0.9241 - val_loss: 0.1628 - val_categorical_accuracy: 0.9434\n",
      "Epoch 9/10\n",
      "1318/1318 [==============================] - 14s 11ms/step - loss: 0.2020 - categorical_accuracy: 0.9355 - val_loss: 0.1565 - val_categorical_accuracy: 0.9540\n",
      "Epoch 10/10\n",
      "1318/1318 [==============================] - 14s 10ms/step - loss: 0.1774 - categorical_accuracy: 0.9469 - val_loss: 0.1509 - val_categorical_accuracy: 0.9504\n"
     ]
    },
    {
     "data": {
      "text/plain": [
       "<keras.callbacks.History at 0x7f340b27dda0>"
      ]
     },
     "execution_count": 20,
     "metadata": {},
     "output_type": "execute_result"
    }
   ],
   "source": [
    "dot_model = Sequential()\n",
    "\n",
    "dot_model.add(Conv2D(16,(3,3),input_shape = (img_shape[0],img_shape[1],1),activation = 'relu'))\n",
    "dot_model.add(Conv2D(16,(3,3),activation = 'relu'))\n",
    "dot_model.add(MaxPooling2D())\n",
    "dot_model.add(Conv2D(32,(3,3),activation = 'relu'))\n",
    "dot_model.add(Conv2D(32,(3,3),activation = 'relu'))\n",
    "dot_model.add(MaxPooling2D())\n",
    "dot_model.add(Conv2D(64,(3,3),activation = 'relu'))\n",
    "dot_model.add(Conv2D(64,(3,3),activation = 'relu'))\n",
    "dot_model.add(MaxPooling2D())\n",
    "dot_model.add(Flatten())\n",
    "dot_model.add(Dense(64,activation = 'sigmoid'))\n",
    "dot_model.add(Dropout(0.5))\n",
    "dot_model.add(Dense(len(set(dot_class)),activation = 'softmax'))\n",
    "\n",
    "dot_model.compile(optimizer='adam',\n",
    "              loss='categorical_crossentropy',\n",
    "              metrics=['categorical_accuracy'])\n",
    "\n",
    "dot_model.fit(x_train,y_train_dot,epochs=10,batch_size=32,validation_split=0.3)"
   ]
  },
  {
   "cell_type": "code",
   "execution_count": 21,
   "metadata": {},
   "outputs": [
    {
     "name": "stdout",
     "output_type": "stream",
     "text": [
      "Train on 1318 samples, validate on 565 samples\n",
      "Epoch 1/5\n",
      "1318/1318 [==============================] - 14s 10ms/step - loss: 0.1615 - categorical_accuracy: 0.9507 - val_loss: 0.1506 - val_categorical_accuracy: 0.9540\n",
      "Epoch 2/5\n",
      "1318/1318 [==============================] - 14s 10ms/step - loss: 0.1453 - categorical_accuracy: 0.9568 - val_loss: 0.1451 - val_categorical_accuracy: 0.9575\n",
      "Epoch 3/5\n",
      "1318/1318 [==============================] - 14s 10ms/step - loss: 0.1319 - categorical_accuracy: 0.9643 - val_loss: 0.1452 - val_categorical_accuracy: 0.9575\n",
      "Epoch 4/5\n",
      "1318/1318 [==============================] - 15s 11ms/step - loss: 0.1229 - categorical_accuracy: 0.9659 - val_loss: 0.1423 - val_categorical_accuracy: 0.9575\n",
      "Epoch 5/5\n",
      "1318/1318 [==============================] - 14s 11ms/step - loss: 0.1121 - categorical_accuracy: 0.9643 - val_loss: 0.1446 - val_categorical_accuracy: 0.9540\n"
     ]
    },
    {
     "data": {
      "text/plain": [
       "<keras.callbacks.History at 0x7f340c202dd8>"
      ]
     },
     "execution_count": 21,
     "metadata": {},
     "output_type": "execute_result"
    }
   ],
   "source": [
    "new_adam = keras.optimizers.Adam(lr=0.0005, beta_1=0.9, beta_2=0.999, epsilon=1e-08, decay=0.0)\n",
    "dot_model.compile(optimizer=new_adam,\n",
    "              loss='categorical_crossentropy',\n",
    "              metrics=['categorical_accuracy'])\n",
    "dot_model.fit(x_train,y_train_dot,epochs=5,batch_size=64,validation_split=0.3)"
   ]
  },
  {
   "cell_type": "markdown",
   "metadata": {},
   "source": [
    "### confusion matrix:"
   ]
  },
  {
   "cell_type": "code",
   "execution_count": 22,
   "metadata": {},
   "outputs": [
    {
     "name": "stdout",
     "output_type": "stream",
     "text": [
      "1883/1883 [==============================] - 5s 3ms/step\n",
      "confusion matrix for (3, 3) features (dot):\n",
      "[[1733   14    0]\n",
      " [  32   85    0]\n",
      " [  19    0    0]]\n"
     ]
    },
    {
     "data": {
      "text/plain": [
       "<matplotlib.axes._subplots.AxesSubplot at 0x7f3408a72080>"
      ]
     },
     "execution_count": 22,
     "metadata": {},
     "output_type": "execute_result"
    },
    {
     "data": {
      "image/png": "[encoded data removed]",
      "text/plain": [
       "<matplotlib.figure.Figure at 0x7f34089fbac8>"
      ]
     },
     "metadata": {},
     "output_type": "display_data"
    }
   ],
   "source": [
    "from sklearn.metrics import confusion_matrix\n",
    "import seaborn as sns\n",
    "\n",
    "y_pred = dot_model.predict_classes(x_train)\n",
    "y_original = np.argmax(y_train_dot, axis=1)\n",
    "\n",
    "cm = confusion_matrix(y_original, y_pred)\n",
    "print('confusion matrix for {} features (dot):'.format(cm.shape))\n",
    "print(cm)\n",
    "\n",
    "#fig, ax = plt.subplots(figsize=(20,20))\n",
    "sns.heatmap(cm, cmap=sns.light_palette('purple', n_colors=500, as_cmap=True), annot=True, linewidths = 5)"
   ]
  },
  {
   "cell_type": "markdown",
   "metadata": {},
   "source": [
    "# MATRA CLASS"
   ]
  },
  {
   "cell_type": "code",
   "execution_count": 23,
   "metadata": {},
   "outputs": [
    {
     "name": "stdout",
     "output_type": "stream",
     "text": [
      "(1883, 16)\n"
     ]
    }
   ],
   "source": [
    "le_matra = LabelEncoder()\n",
    "le_matra.fit(matra_class)\n",
    "y_labeled_matra = le_matra.transform(matra_class)\n",
    "y_train_matra = np_utils.to_categorical(y_labeled_matra)\n",
    "\n",
    "print(y_train_matra.shape)"
   ]
  },
  {
   "cell_type": "code",
   "execution_count": 24,
   "metadata": {
    "scrolled": false
   },
   "outputs": [
    {
     "name": "stdout",
     "output_type": "stream",
     "text": [
      "Train on 1318 samples, validate on 565 samples\n",
      "Epoch 1/35\n",
      "1318/1318 [==============================] - 14s 11ms/step - loss: 0.1858 - categorical_accuracy: 0.4090 - val_loss: 0.1625 - val_categorical_accuracy: 0.4690\n",
      "Epoch 2/35\n",
      "1318/1318 [==============================] - 13s 10ms/step - loss: 0.1555 - categorical_accuracy: 0.4833 - val_loss: 0.1329 - val_categorical_accuracy: 0.5398\n",
      "Epoch 3/35\n",
      "1318/1318 [==============================] - 14s 11ms/step - loss: 0.1299 - categorical_accuracy: 0.5698 - val_loss: 0.1145 - val_categorical_accuracy: 0.6389\n",
      "Epoch 4/35\n",
      "1318/1318 [==============================] - 15s 12ms/step - loss: 0.1158 - categorical_accuracy: 0.6138 - val_loss: 0.0988 - val_categorical_accuracy: 0.6991\n",
      "Epoch 5/35\n",
      "1318/1318 [==============================] - 16s 12ms/step - loss: 0.1077 - categorical_accuracy: 0.6563 - val_loss: 0.0953 - val_categorical_accuracy: 0.6991\n",
      "Epoch 6/35\n",
      "1318/1318 [==============================] - 14s 11ms/step - loss: 0.1001 - categorical_accuracy: 0.6866 - val_loss: 0.0876 - val_categorical_accuracy: 0.7239\n",
      "Epoch 7/35\n",
      "1318/1318 [==============================] - 14s 11ms/step - loss: 0.0923 - categorical_accuracy: 0.7049 - val_loss: 0.0825 - val_categorical_accuracy: 0.7540\n",
      "Epoch 8/35\n",
      "1318/1318 [==============================] - 16s 12ms/step - loss: 0.0877 - categorical_accuracy: 0.7238 - val_loss: 0.0803 - val_categorical_accuracy: 0.7611\n",
      "Epoch 9/35\n",
      "1318/1318 [==============================] - 14s 11ms/step - loss: 0.0794 - categorical_accuracy: 0.7420 - val_loss: 0.0767 - val_categorical_accuracy: 0.7646\n",
      "Epoch 10/35\n",
      "1318/1318 [==============================] - 14s 11ms/step - loss: 0.0814 - categorical_accuracy: 0.7413 - val_loss: 0.0760 - val_categorical_accuracy: 0.7681\n",
      "Epoch 11/35\n",
      "1318/1318 [==============================] - 14s 10ms/step - loss: 0.0740 - categorical_accuracy: 0.7769 - val_loss: 0.0718 - val_categorical_accuracy: 0.7929\n",
      "Epoch 12/35\n",
      "1318/1318 [==============================] - 14s 10ms/step - loss: 0.0722 - categorical_accuracy: 0.7731 - val_loss: 0.0662 - val_categorical_accuracy: 0.7947\n",
      "Epoch 13/35\n",
      "1318/1318 [==============================] - 14s 11ms/step - loss: 0.0661 - categorical_accuracy: 0.7792 - val_loss: 0.0619 - val_categorical_accuracy: 0.8265\n",
      "Epoch 14/35\n",
      "1318/1318 [==============================] - 14s 10ms/step - loss: 0.0650 - categorical_accuracy: 0.7914 - val_loss: 0.0618 - val_categorical_accuracy: 0.8283\n",
      "Epoch 15/35\n",
      "1318/1318 [==============================] - 14s 10ms/step - loss: 0.0591 - categorical_accuracy: 0.8179 - val_loss: 0.0613 - val_categorical_accuracy: 0.8265\n",
      "Epoch 16/35\n",
      "1318/1318 [==============================] - 14s 10ms/step - loss: 0.0595 - categorical_accuracy: 0.8232 - val_loss: 0.0553 - val_categorical_accuracy: 0.8531\n",
      "Epoch 17/35\n",
      "1318/1318 [==============================] - 14s 11ms/step - loss: 0.0540 - categorical_accuracy: 0.8346 - val_loss: 0.0529 - val_categorical_accuracy: 0.8584\n",
      "Epoch 18/35\n",
      "1318/1318 [==============================] - 13s 10ms/step - loss: 0.0498 - categorical_accuracy: 0.8520 - val_loss: 0.0518 - val_categorical_accuracy: 0.8566\n",
      "Epoch 19/35\n",
      "1318/1318 [==============================] - 14s 11ms/step - loss: 0.0488 - categorical_accuracy: 0.8604 - val_loss: 0.0534 - val_categorical_accuracy: 0.8549\n",
      "Epoch 20/35\n",
      "1318/1318 [==============================] - 14s 11ms/step - loss: 0.0466 - categorical_accuracy: 0.8649 - val_loss: 0.0577 - val_categorical_accuracy: 0.8442\n",
      "Epoch 21/35\n",
      "1318/1318 [==============================] - 14s 10ms/step - loss: 0.0452 - categorical_accuracy: 0.8710 - val_loss: 0.0467 - val_categorical_accuracy: 0.8761\n",
      "Epoch 22/35\n",
      "1318/1318 [==============================] - 14s 10ms/step - loss: 0.0427 - categorical_accuracy: 0.8778 - val_loss: 0.0481 - val_categorical_accuracy: 0.8673\n",
      "Epoch 23/35\n",
      "1318/1318 [==============================] - 13s 10ms/step - loss: 0.0400 - categorical_accuracy: 0.8877 - val_loss: 0.0570 - val_categorical_accuracy: 0.8460\n",
      "Epoch 24/35\n",
      "1318/1318 [==============================] - 14s 10ms/step - loss: 0.0404 - categorical_accuracy: 0.8862 - val_loss: 0.0456 - val_categorical_accuracy: 0.8903\n",
      "Epoch 25/35\n",
      "1318/1318 [==============================] - 13s 10ms/step - loss: 0.0362 - categorical_accuracy: 0.9067 - val_loss: 0.0426 - val_categorical_accuracy: 0.8885\n",
      "Epoch 26/35\n",
      "1318/1318 [==============================] - 13s 10ms/step - loss: 0.0381 - categorical_accuracy: 0.8877 - val_loss: 0.0446 - val_categorical_accuracy: 0.8903\n",
      "Epoch 27/35\n",
      "1318/1318 [==============================] - 14s 11ms/step - loss: 0.0355 - categorical_accuracy: 0.8953 - val_loss: 0.0405 - val_categorical_accuracy: 0.9009\n",
      "Epoch 28/35\n",
      "1318/1318 [==============================] - 15s 11ms/step - loss: 0.0340 - categorical_accuracy: 0.9097 - val_loss: 0.0478 - val_categorical_accuracy: 0.8814\n",
      "Epoch 29/35\n",
      "1318/1318 [==============================] - 18s 14ms/step - loss: 0.0337 - categorical_accuracy: 0.8998 - val_loss: 0.0407 - val_categorical_accuracy: 0.9009\n",
      "Epoch 30/35\n",
      "1318/1318 [==============================] - 16s 12ms/step - loss: 0.0296 - categorical_accuracy: 0.9241 - val_loss: 0.0402 - val_categorical_accuracy: 0.9044\n",
      "Epoch 31/35\n",
      "1318/1318 [==============================] - 14s 11ms/step - loss: 0.0307 - categorical_accuracy: 0.9150 - val_loss: 0.0399 - val_categorical_accuracy: 0.9044\n",
      "Epoch 32/35\n",
      "1318/1318 [==============================] - 14s 10ms/step - loss: 0.0274 - categorical_accuracy: 0.9188 - val_loss: 0.0389 - val_categorical_accuracy: 0.9133\n",
      "Epoch 33/35\n",
      "1318/1318 [==============================] - 14s 10ms/step - loss: 0.0273 - categorical_accuracy: 0.9317 - val_loss: 0.0426 - val_categorical_accuracy: 0.9027\n",
      "Epoch 34/35\n",
      "1318/1318 [==============================] - 13s 10ms/step - loss: 0.0291 - categorical_accuracy: 0.9188 - val_loss: 0.0374 - val_categorical_accuracy: 0.9186\n",
      "Epoch 35/35\n",
      "1318/1318 [==============================] - 14s 10ms/step - loss: 0.0294 - categorical_accuracy: 0.9219 - val_loss: 0.0378 - val_categorical_accuracy: 0.9204\n"
     ]
    },
    {
     "data": {
      "text/plain": [
       "<keras.callbacks.History at 0x7f340825d978>"
      ]
     },
     "execution_count": 24,
     "metadata": {},
     "output_type": "execute_result"
    }
   ],
   "source": [
    "matra_model = Sequential()\n",
    "\n",
    "matra_model.add(Conv2D(16,(3,3),input_shape = (img_shape[0],img_shape[1],1),activation = 'relu'))\n",
    "matra_model.add(Conv2D(16,(3,3),activation = 'relu'))\n",
    "matra_model.add(MaxPooling2D())\n",
    "matra_model.add(Conv2D(32,(3,3),activation = 'relu'))\n",
    "matra_model.add(Conv2D(32,(3,3),activation = 'relu'))\n",
    "matra_model.add(MaxPooling2D())\n",
    "matra_model.add(Conv2D(64,(3,3),activation = 'relu'))\n",
    "matra_model.add(Conv2D(64,(3,3),activation = 'relu'))\n",
    "matra_model.add(MaxPooling2D())\n",
    "matra_model.add(MaxPooling2D())\n",
    "matra_model.add(Dropout(0.5))\n",
    "matra_model.add(Flatten())\n",
    "matra_model.add(Dense(128,activation = 'sigmoid'))\n",
    "matra_model.add(Dropout(0.25))\n",
    "matra_model.add(Dense(len(set(matra_class)),activation = 'softmax'))\n",
    "\n",
    "matra_model.compile(optimizer='adam',\n",
    "              loss='binary_crossentropy',\n",
    "              metrics=['categorical_accuracy'])\n",
    "\n",
    "matra_model.fit(x_train,y_train_matra,epochs=35,batch_size=32,validation_split=0.3)"
   ]
  },
  {
   "cell_type": "code",
   "execution_count": 25,
   "metadata": {},
   "outputs": [
    {
     "name": "stdout",
     "output_type": "stream",
     "text": [
      "Train on 1318 samples, validate on 565 samples\n",
      "Epoch 1/20\n",
      "1318/1318 [==============================] - 15s 11ms/step - loss: 0.2283 - categorical_accuracy: 0.9393 - val_loss: 0.3660 - val_categorical_accuracy: 0.9221\n",
      "Epoch 2/20\n",
      "1318/1318 [==============================] - 14s 11ms/step - loss: 0.2112 - categorical_accuracy: 0.9431 - val_loss: 0.3661 - val_categorical_accuracy: 0.9186\n",
      "Epoch 3/20\n",
      "1318/1318 [==============================] - 14s 11ms/step - loss: 0.2219 - categorical_accuracy: 0.9302 - val_loss: 0.3637 - val_categorical_accuracy: 0.9221\n",
      "Epoch 4/20\n",
      "1318/1318 [==============================] - 14s 10ms/step - loss: 0.2044 - categorical_accuracy: 0.9408 - val_loss: 0.3672 - val_categorical_accuracy: 0.9186\n",
      "Epoch 5/20\n",
      "1318/1318 [==============================] - 14s 11ms/step - loss: 0.2193 - categorical_accuracy: 0.9332 - val_loss: 0.3712 - val_categorical_accuracy: 0.9204\n",
      "Epoch 6/20\n",
      "1318/1318 [==============================] - 14s 10ms/step - loss: 0.2023 - categorical_accuracy: 0.9408 - val_loss: 0.3707 - val_categorical_accuracy: 0.9204\n",
      "Epoch 7/20\n",
      "1318/1318 [==============================] - 13s 10ms/step - loss: 0.2066 - categorical_accuracy: 0.9514 - val_loss: 0.3711 - val_categorical_accuracy: 0.9204\n",
      "Epoch 8/20\n",
      "1318/1318 [==============================] - 14s 10ms/step - loss: 0.1986 - categorical_accuracy: 0.9439 - val_loss: 0.3751 - val_categorical_accuracy: 0.9204\n",
      "Epoch 9/20\n",
      "1318/1318 [==============================] - 14s 11ms/step - loss: 0.2143 - categorical_accuracy: 0.9355 - val_loss: 0.3774 - val_categorical_accuracy: 0.9204\n",
      "Epoch 10/20\n",
      "1318/1318 [==============================] - 15s 11ms/step - loss: 0.1957 - categorical_accuracy: 0.9408 - val_loss: 0.3770 - val_categorical_accuracy: 0.9204\n",
      "Epoch 11/20\n",
      "1318/1318 [==============================] - 14s 11ms/step - loss: 0.1943 - categorical_accuracy: 0.9492 - val_loss: 0.3773 - val_categorical_accuracy: 0.9204\n",
      "Epoch 12/20\n",
      "1318/1318 [==============================] - 15s 11ms/step - loss: 0.2014 - categorical_accuracy: 0.9423 - val_loss: 0.3724 - val_categorical_accuracy: 0.9221\n",
      "Epoch 13/20\n",
      "1318/1318 [==============================] - 16s 12ms/step - loss: 0.1902 - categorical_accuracy: 0.9469 - val_loss: 0.3755 - val_categorical_accuracy: 0.9186\n",
      "Epoch 14/20\n",
      "1318/1318 [==============================] - 16s 12ms/step - loss: 0.1855 - categorical_accuracy: 0.9530 - val_loss: 0.3703 - val_categorical_accuracy: 0.9239\n",
      "Epoch 15/20\n",
      "1318/1318 [==============================] - 14s 11ms/step - loss: 0.1987 - categorical_accuracy: 0.9363 - val_loss: 0.3710 - val_categorical_accuracy: 0.9257\n",
      "Epoch 16/20\n",
      "1318/1318 [==============================] - 15s 11ms/step - loss: 0.2010 - categorical_accuracy: 0.9416 - val_loss: 0.3703 - val_categorical_accuracy: 0.9257\n",
      "Epoch 17/20\n",
      "1318/1318 [==============================] - 16s 12ms/step - loss: 0.1934 - categorical_accuracy: 0.9461 - val_loss: 0.3737 - val_categorical_accuracy: 0.9239\n",
      "Epoch 18/20\n",
      "1318/1318 [==============================] - 15s 11ms/step - loss: 0.1776 - categorical_accuracy: 0.9522 - val_loss: 0.3690 - val_categorical_accuracy: 0.9204\n",
      "Epoch 19/20\n",
      "1318/1318 [==============================] - 14s 11ms/step - loss: 0.1727 - categorical_accuracy: 0.9514 - val_loss: 0.3768 - val_categorical_accuracy: 0.9257\n",
      "Epoch 20/20\n",
      "1318/1318 [==============================] - 15s 11ms/step - loss: 0.1853 - categorical_accuracy: 0.9431 - val_loss: 0.3808 - val_categorical_accuracy: 0.9221\n"
     ]
    },
    {
     "data": {
      "text/plain": [
       "<keras.callbacks.History at 0x7f3408a2e438>"
      ]
     },
     "execution_count": 25,
     "metadata": {},
     "output_type": "execute_result"
    }
   ],
   "source": [
    "new_adam = keras.optimizers.Adam(lr=0.00005, beta_1=0.9, beta_2=0.999, epsilon=1e-08, decay=0.0)\n",
    "matra_model.compile(optimizer=new_adam,\n",
    "              loss='categorical_crossentropy',\n",
    "              metrics=['categorical_accuracy'])\n",
    "matra_model.fit(x_train,y_train_matra,epochs=20,batch_size=32,validation_split=0.3)"
   ]
  },
  {
   "cell_type": "markdown",
   "metadata": {},
   "source": [
    "### confusion matrix"
   ]
  },
  {
   "cell_type": "code",
   "execution_count": 26,
   "metadata": {},
   "outputs": [
    {
     "name": "stdout",
     "output_type": "stream",
     "text": [
      "1883/1883 [==============================] - 6s 3ms/step\n",
      "confusion matrix for (16, 16) features (matra):\n",
      "[[892   0   8   1   0   1   1   0   0   0   0   1   0   0   0   0]\n",
      " [  0   2   5   0   0   0   0   0   0   0   0   0   0   0   0   0]\n",
      " [  3   0 286   0   0   0   0   0   0   0   0   0   0   0   0   0]\n",
      " [  0   0   0 179   0   0   0   0   1   0   0   0   0   0   0   0]\n",
      " [  1   0   2   1 137   0   0   0   0   0   1   0   0   0   0   0]\n",
      " [  5   0   1   0   0  35   1   0   0   0   0   0   0   0   0   0]\n",
      " [ 11   0   1   0   0   1  15   0   0   0   0   0   0   0   0   0]\n",
      " [  0   0   0   0   0   1   0   0   0   0   0   0   0   0   0   0]\n",
      " [  1   0   0   1   0   0   0   0  80   2   0   0   0   0   0   0]\n",
      " [  0   0   0   2   0   0   0   0   0  80   0   4   0   0   0   0]\n",
      " [  0   0   0   0   6   0   0   0   3   0  46   1   0   0   0   0]\n",
      " [  0   0   0   0   0   0   0   0   0   4   1  54   0   0   0   0]\n",
      " [  1   0   0   0   0   0   0   0   0   0   0   0   0   0   0   0]\n",
      " [  0   0   1   0   0   0   0   0   0   0   0   0   0   0   0   0]\n",
      " [  1   0   0   0   0   0   0   0   0   0   0   0   0   0   0   0]\n",
      " [  2   0   0   0   0   0   0   0   0   0   0   0   0   0   0   0]]\n"
     ]
    },
    {
     "data": {
      "text/plain": [
       "<matplotlib.axes._subplots.AxesSubplot at 0x7f33f86ae080>"
      ]
     },
     "execution_count": 26,
     "metadata": {},
     "output_type": "execute_result"
    },
    {
     "data": {
      "image/png": "[encoded data removed]",
      "text/plain": [
       "<matplotlib.figure.Figure at 0x7f33f85e3a58>"
      ]
     },
     "metadata": {},
     "output_type": "display_data"
    }
   ],
   "source": [
    "from sklearn.metrics import confusion_matrix\n",
    "import seaborn as sns\n",
    "\n",
    "y_pred = matra_model.predict_classes(x_train)\n",
    "y_original = np.argmax(y_train_matra, axis=1)\n",
    "\n",
    "cm = confusion_matrix(y_original, y_pred)\n",
    "print('confusion matrix for {} features (matra):'.format(cm.shape))\n",
    "print(cm)\n",
    "\n",
    "fig, ax = plt.subplots(figsize=(20,20))\n",
    "sns.heatmap(cm, cmap=sns.light_palette('purple', n_colors=500, as_cmap=True), annot=True, linewidths = 5, ax=ax)"
   ]
  },
  {
   "cell_type": "markdown",
   "metadata": {},
   "source": []
  },
  {
   "cell_type": "markdown",
   "metadata": {},
   "source": [
    "# Dumping Models to Disk"
   ]
  },
  {
   "cell_type": "code",
   "execution_count": 27,
   "metadata": {
    "collapsed": true
   },
   "outputs": [],
   "source": [
    "dot_model.save('models/dot_model4k.model')\n",
    "matra_model.save('models/matra_model4k.model')\n",
    "base_model.save('models/base_model4k.model')"
   ]
  },
  {
   "cell_type": "code",
   "execution_count": 28,
   "metadata": {
    "collapsed": true
   },
   "outputs": [],
   "source": [
    "from keras.models import load_model\n",
    "\n",
    "dot_model2 = load_model('models/dot_model4k.model')\n",
    "matra_model2 = load_model('models/matra_model4k.model')\n",
    "base_model2 = load_model('models/base_model4k.model')\n",
    "\n"
   ]
  },
  {
   "cell_type": "markdown",
   "metadata": {},
   "source": [
    "# Half Characters"
   ]
  },
  {
   "cell_type": "code",
   "execution_count": null,
   "metadata": {
    "collapsed": true
   },
   "outputs": [],
   "source": []
  }
 ],
 "metadata": {
  "kernelspec": {
   "display_name": "Python 3",
   "language": "python",
   "name": "python3"
  },
  "language_info": {
   "codemirror_mode": {
    "name": "ipython",
    "version": 3
   },
   "file_extension": ".py",
   "mimetype": "text/x-python",
   "name": "python",
   "nbconvert_exporter": "python",
   "pygments_lexer": "ipython3",
   "version": "3.6.3"
  }
 },
 "nbformat": 4,
 "nbformat_minor": 2
}
