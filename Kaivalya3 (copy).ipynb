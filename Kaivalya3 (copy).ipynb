{
 "cells": [
  {
   "cell_type": "code",
   "execution_count": 1,
   "metadata": {
    "collapsed": true
   },
   "outputs": [],
   "source": [
    "import os\n",
    "import numpy as np\n",
    "import pandas as pd\n",
    "import cv2\n",
    "import matplotlib.pyplot as plt\n",
    "\n",
    "from skimage import io, morphology, img_as_bool, segmentation\n",
    "from scipy import ndimage as ndi\n",
    "from scipy.ndimage.morphology import binary_fill_holes\n",
    "\n",
    "%matplotlib inline"
   ]
  },
  {
   "cell_type": "code",
   "execution_count": 2,
   "metadata": {
    "collapsed": true
   },
   "outputs": [],
   "source": [
    "img_shape = (64,64)"
   ]
  },
  {
   "cell_type": "code",
   "execution_count": 3,
   "metadata": {
    "collapsed": true
   },
   "outputs": [],
   "source": [
    "def pad_resize(img):\n",
    "    top = int((224 - img.shape[0])/2)\n",
    "    left = int((224 - img.shape[1])/2)\n",
    "    bottom = 224 - img.shape[0] - top\n",
    "    right = 224 - img.shape[1] - left\n",
    "    img = cv2.copyMakeBorder(img, top, bottom, left, right, cv2.BORDER_CONSTANT, value=255)\n",
    "    img = img/255.\n",
    "    img = cv2.resize(img, img_shape) #KADD\n",
    "    return img\n",
    "\n",
    "def skeletonize(img):\n",
    "    size = np.size(img)\n",
    "    skel = np.zeros(img.shape,np.uint8)\n",
    "    img = cv2.bitwise_not(img)\n",
    "#     element = cv2.getStructuringElement(cv2.MORPH_CROSS,(1,1))\n",
    "#     done = 0\n",
    "#     while( done < 1 ):\n",
    "#         eroded = cv2.erode(img,element)\n",
    "#         temp = cv2.dilate(eroded,element)\n",
    "#         temp = cv2.subtract(img,temp)\n",
    "#         skel = cv2.bitwise_or(skel,temp)\n",
    "#         img = eroded.copy()\n",
    "\n",
    "#         zeros = size - cv2.countNonZero(img)\n",
    "#         if zeros==size:#cv2.countNonZero(img) * 1 >= 0:#\n",
    "#             done += 1\n",
    "#     img = skel\n",
    "    kernel = np.ones((3,3),np.uint8)\n",
    "    erosion = cv2.erode(img,kernel,iterations = 2)\n",
    "    img = cv2.bitwise_not(erosion)\n",
    "    return img"
   ]
  },
  {
   "cell_type": "code",
   "execution_count": 4,
   "metadata": {
    "scrolled": true
   },
   "outputs": [
    {
     "name": "stdout",
     "output_type": "stream",
     "text": [
      "100 Done\n",
      "page6_1_1_2340_2375_2379.png dropped!\n",
      "200 Done\n",
      "page7_3_0_2319_2366_2367.png dropped!\n",
      "300 Done\n",
      "page0_8_8_2330_2375_2379.png dropped!\n",
      "400 Done\n",
      "page6_10_6_2325_2366_2380.png dropped!\n",
      "page0_9_15_2332_2375_2379.png dropped!\n",
      "500 Done\n",
      "600 Done\n",
      "page3_19_7_2357_2364_2417.png dropped!\n",
      "700 Done\n",
      "page3_18_4_2332_2366_2379.png dropped!\n",
      "page3_12_0_2357_2364_2416.png dropped!\n",
      "800 Done\n",
      "900 Done\n",
      "page7_3_13_2319_2366_2367.png dropped!\n",
      "1000 Done\n",
      "1100 Done\n",
      "1200 Done\n",
      "1300 Done\n",
      "1400 Done\n",
      "page5_7_8_2325_2367_2388.png dropped!\n",
      "1500 Done\n",
      "page2_4_20_2346_2366_2390.png dropped!\n",
      "1600 Done\n",
      "1700 Done\n",
      "1800 Done\n"
     ]
    }
   ],
   "source": [
    "PATH = '../train_images_modified'\n",
    "images = []\n",
    "base_class = []\n",
    "matra_class = []\n",
    "dot_class = []\n",
    "total_class = []\n",
    "for filename in os.listdir(PATH):\n",
    "    if filename.endswith(\".png\"):\n",
    "        img = cv2.imread(os.path.join(PATH,filename),0)\n",
    "        blur = cv2.GaussianBlur(img,(9,9),0)# KADD\n",
    "        a,img = cv2.threshold(blur,127,255,cv2.THRESH_BINARY+cv2.THRESH_OTSU)#KEDIT\n",
    "#         kernel = np.ones((5,5),np.uint8)\n",
    "#         img = cv2.morphologyEx(img, cv2.MORPH_CLOSE, kernel)\n",
    "#         plt.imshow(img, cmap='gray')\n",
    "#         plt.show()\n",
    "#        img = skeletonize(img)\n",
    "        img = pad_resize(img)\n",
    "        blur = cv2.GaussianBlur(img,(9,9),0)# KADD\n",
    "        char_arr = filename[:-4].split('_')[3:]\n",
    "        if(len(char_arr)>0):\n",
    "            char_arr = [int(i) for i in char_arr]\n",
    "            base = [i for i in char_arr if (i>=2308 and i<=2361) or (i==2384) or (i>=2392 and i<=2401) or (i>=2404 and i!=2416 and i!=2417)]  \n",
    "            matra = [i for i in char_arr if i>=2362 and i<=2391 and i!=2364 and i!=2362]\n",
    "            dot = [i for i in char_arr if i==2306 or i==2416 or i==2362 or i==2364 or i==2417]\n",
    "            if(len(matra)>1 or len(dot)>1 or len(base)>1 or (len(matra)==0 and len(dot)==0 and len(char_arr)==2)):\n",
    "                print(filename+\" dropped!\")\n",
    "            else:\n",
    "                images.append(img)\n",
    "                base_class.append(base[0])\n",
    "                if(len(matra)==1):\n",
    "                    matra_class.append(matra[0])\n",
    "                else:\n",
    "                    matra_class.append(0)\n",
    "\n",
    "                if len(dot)==1:\n",
    "                    if dot[0] == 2364 or dot[0] == 2416:\n",
    "                        dot_class.append(2)\n",
    "                    else:\n",
    "                        dot_class.append(1)\n",
    "                else:\n",
    "                    dot_class.append(0)\n",
    "\n",
    "                if len(images)%100==0:\n",
    "                    print(\"{} Done\".format(len(images)))\n",
    "            "
   ]
  },
  {
   "cell_type": "code",
   "execution_count": 5,
   "metadata": {},
   "outputs": [
    {
     "data": {
      "image/png": "[encoded data removed]",
      "text/plain": [
       "<matplotlib.figure.Figure at 0x7fc02f4c5ba8>"
      ]
     },
     "metadata": {},
     "output_type": "display_data"
    },
    {
     "name": "stdout",
     "output_type": "stream",
     "text": [
      "1884\n",
      "1884\n"
     ]
    }
   ],
   "source": [
    "plt.imshow(images[10],\"gray\")\n",
    "plt.show()\n",
    "print(len(images))\n",
    "print(len(dot_class))"
   ]
  },
  {
   "cell_type": "code",
   "execution_count": 6,
   "metadata": {},
   "outputs": [
    {
     "data": {
      "text/plain": [
       "[2392, 2353, 2384, 2415, 2310, 2414]"
      ]
     },
     "execution_count": 6,
     "metadata": {},
     "output_type": "execute_result"
    }
   ],
   "source": [
    "len(set(base_class))\n",
    "freq = {i:base_class.count(i) for i in base_class}\n",
    "[i for i in freq.keys() if freq[i]==1]"
   ]
  },
  {
   "cell_type": "code",
   "execution_count": 7,
   "metadata": {},
   "outputs": [
    {
     "name": "stdout",
     "output_type": "stream",
     "text": [
      "(1884, 64, 64)\n"
     ]
    }
   ],
   "source": [
    "images = np.array(images)\n",
    "print(images.shape)"
   ]
  },
  {
   "cell_type": "code",
   "execution_count": 8,
   "metadata": {},
   "outputs": [
    {
     "name": "stderr",
     "output_type": "stream",
     "text": [
      "Using TensorFlow backend.\n"
     ]
    },
    {
     "name": "stdout",
     "output_type": "stream",
     "text": [
      "(1884, 53)\n"
     ]
    }
   ],
   "source": [
    "import keras\n",
    "from sklearn.preprocessing import LabelEncoder\n",
    "from keras.utils import np_utils\n",
    "\n",
    "le = LabelEncoder()\n",
    "le.fit(base_class)\n",
    "y_labeled = le.transform(base_class)\n",
    "y_train = np_utils.to_categorical(y_labeled)\n",
    "print(y_train.shape)\n",
    "#print(le)\n",
    "#le.get_params()\n",
    "#for i in range(len(topr)):\n",
    "#    if base_class[i] == 2405:\n",
    "#        print('{} {}'.format(topr[i], base_class[i]))"
   ]
  },
  {
   "cell_type": "code",
   "execution_count": 9,
   "metadata": {},
   "outputs": [
    {
     "name": "stdout",
     "output_type": "stream",
     "text": [
      "(1884, 64, 64, 1)\n"
     ]
    }
   ],
   "source": [
    "x_train = np.reshape(images,(-1,img_shape[0],img_shape[1],1))\n",
    "print(x_train.shape)"
   ]
  },
  {
   "cell_type": "code",
   "execution_count": 10,
   "metadata": {
    "collapsed": true
   },
   "outputs": [],
   "source": [
    "from keras.models import Sequential\n",
    "from keras.layers import Dense,Dropout,Conv2D,MaxPooling2D,Flatten\n",
    "from keras.optimizers import Adam\n",
    "\n",
    "base_model = Sequential()\n",
    "\n",
    "base_model.add(Conv2D(16,(3,3),input_shape = (img_shape[0],img_shape[1],1),activation = 'relu'))\n",
    "base_model.add(Conv2D(16,(3,3),activation = 'relu'))\n",
    "base_model.add(MaxPooling2D())\n",
    "base_model.add(Conv2D(32,(3,3),activation = 'relu'))\n",
    "base_model.add(Conv2D(32,(3,3),activation = 'relu'))\n",
    "base_model.add(MaxPooling2D())\n",
    "base_model.add(Conv2D(64,(3,3),activation = 'relu'))\n",
    "base_model.add(Conv2D(64,(3,3),activation = 'relu'))\n",
    "base_model.add(MaxPooling2D())\n",
    "base_model.add(MaxPooling2D())\n",
    "base_model.add(Dropout(0.5))\n",
    "base_model.add(Flatten())\n",
    "base_model.add(Dense(256,activation = 'sigmoid'))\n",
    "base_model.add(Dropout(0.25))\n",
    "base_model.add(Dense(len(set(base_class)),activation = 'softmax'))"
   ]
  },
  {
   "cell_type": "code",
   "execution_count": 11,
   "metadata": {},
   "outputs": [
    {
     "name": "stdout",
     "output_type": "stream",
     "text": [
      "_________________________________________________________________\n",
      "Layer (type)                 Output Shape              Param #   \n",
      "=================================================================\n",
      "conv2d_1 (Conv2D)            (None, 62, 62, 16)        160       \n",
      "_________________________________________________________________\n",
      "conv2d_2 (Conv2D)            (None, 60, 60, 16)        2320      \n",
      "_________________________________________________________________\n",
      "max_pooling2d_1 (MaxPooling2 (None, 30, 30, 16)        0         \n",
      "_________________________________________________________________\n",
      "conv2d_3 (Conv2D)            (None, 28, 28, 32)        4640      \n",
      "_________________________________________________________________\n",
      "conv2d_4 (Conv2D)            (None, 26, 26, 32)        9248      \n",
      "_________________________________________________________________\n",
      "max_pooling2d_2 (MaxPooling2 (None, 13, 13, 32)        0         \n",
      "_________________________________________________________________\n",
      "conv2d_5 (Conv2D)            (None, 11, 11, 64)        18496     \n",
      "_________________________________________________________________\n",
      "conv2d_6 (Conv2D)            (None, 9, 9, 64)          36928     \n",
      "_________________________________________________________________\n",
      "max_pooling2d_3 (MaxPooling2 (None, 4, 4, 64)          0         \n",
      "_________________________________________________________________\n",
      "max_pooling2d_4 (MaxPooling2 (None, 2, 2, 64)          0         \n",
      "_________________________________________________________________\n",
      "dropout_1 (Dropout)          (None, 2, 2, 64)          0         \n",
      "_________________________________________________________________\n",
      "flatten_1 (Flatten)          (None, 256)               0         \n",
      "_________________________________________________________________\n",
      "dense_1 (Dense)              (None, 256)               65792     \n",
      "_________________________________________________________________\n",
      "dropout_2 (Dropout)          (None, 256)               0         \n",
      "_________________________________________________________________\n",
      "dense_2 (Dense)              (None, 53)                13621     \n",
      "=================================================================\n",
      "Total params: 151,205\n",
      "Trainable params: 151,205\n",
      "Non-trainable params: 0\n",
      "_________________________________________________________________\n"
     ]
    }
   ],
   "source": [
    "base_model.summary()"
   ]
  },
  {
   "cell_type": "code",
   "execution_count": 12,
   "metadata": {
    "collapsed": true
   },
   "outputs": [],
   "source": [
    "import keras.backend as K\n",
    "\n",
    "def f1_score(theta):\n",
    "    def score(y_true, y_pred):\n",
    "\n",
    "        y_thresh = K.cast(K.greater(y_pred,theta),K.floatx())\n",
    "\n",
    "        true_pos =  K.sum(y_true * y_thresh)\n",
    "        false_pos = K.sum(y_true * (1. - y_thresh))\n",
    "        false_neg = K.sum((1. - y_true) * y_thresh)\n",
    "\n",
    "        precision = true_pos / (true_pos + false_pos)\n",
    "        recall = true_pos / (true_pos + false_neg)\n",
    "        \n",
    "        f1_score_val = 2 * (precision * recall) / (precision + recall)\n",
    "        return f1_score_val\n",
    "    return score"
   ]
  },
  {
   "cell_type": "code",
   "execution_count": 13,
   "metadata": {
    "collapsed": true
   },
   "outputs": [],
   "source": [
    "base_model.compile(optimizer='adam',\n",
    "              loss='categorical_crossentropy', metrics=['categorical_accuracy'])"
   ]
  },
  {
   "cell_type": "code",
   "execution_count": 14,
   "metadata": {
    "collapsed": true
   },
   "outputs": [],
   "source": [
    "# augmentation code here ..."
   ]
  },
  {
   "cell_type": "code",
   "execution_count": 15,
   "metadata": {
    "scrolled": false
   },
   "outputs": [
    {
     "name": "stdout",
     "output_type": "stream",
     "text": [
      "Train on 1318 samples, validate on 566 samples\n",
      "Epoch 1/30\n",
      "1318/1318 [==============================] - 15s 12ms/step - loss: 3.5758 - categorical_accuracy: 0.0804 - val_loss: 3.3588 - val_categorical_accuracy: 0.1166\n",
      "Epoch 2/30\n",
      "1318/1318 [==============================] - 15s 11ms/step - loss: 3.4012 - categorical_accuracy: 0.0751 - val_loss: 3.3592 - val_categorical_accuracy: 0.1166\n",
      "Epoch 3/30\n",
      "1318/1318 [==============================] - 15s 11ms/step - loss: 3.3684 - categorical_accuracy: 0.0941 - val_loss: 3.3246 - val_categorical_accuracy: 0.0601\n",
      "Epoch 4/30\n",
      "1318/1318 [==============================] - 13s 10ms/step - loss: 3.1904 - categorical_accuracy: 0.1715 - val_loss: 2.8285 - val_categorical_accuracy: 0.2809\n",
      "Epoch 5/30\n",
      "1318/1318 [==============================] - 13s 10ms/step - loss: 2.6526 - categorical_accuracy: 0.3225 - val_loss: 2.1116 - val_categorical_accuracy: 0.4717\n",
      "Epoch 6/30\n",
      "1318/1318 [==============================] - 13s 10ms/step - loss: 2.0719 - categorical_accuracy: 0.4659 - val_loss: 1.6779 - val_categorical_accuracy: 0.5724\n",
      "Epoch 7/30\n",
      "1318/1318 [==============================] - 16s 12ms/step - loss: 1.7060 - categorical_accuracy: 0.5615 - val_loss: 1.3818 - val_categorical_accuracy: 0.6254\n",
      "Epoch 8/30\n",
      "1318/1318 [==============================] - 16s 12ms/step - loss: 1.4833 - categorical_accuracy: 0.6138 - val_loss: 1.1687 - val_categorical_accuracy: 0.6943\n",
      "Epoch 9/30\n",
      "1318/1318 [==============================] - 17s 13ms/step - loss: 1.3086 - categorical_accuracy: 0.6540 - val_loss: 1.0845 - val_categorical_accuracy: 0.6943\n",
      "Epoch 10/30\n",
      "1318/1318 [==============================] - 16s 12ms/step - loss: 1.1963 - categorical_accuracy: 0.6866 - val_loss: 0.9341 - val_categorical_accuracy: 0.7438\n",
      "Epoch 11/30\n",
      "1318/1318 [==============================] - 16s 12ms/step - loss: 1.0379 - categorical_accuracy: 0.7178 - val_loss: 0.9000 - val_categorical_accuracy: 0.7580\n",
      "Epoch 12/30\n",
      "1318/1318 [==============================] - 15s 12ms/step - loss: 0.9694 - categorical_accuracy: 0.7428 - val_loss: 0.8421 - val_categorical_accuracy: 0.7686\n",
      "Epoch 13/30\n",
      "1318/1318 [==============================] - 15s 11ms/step - loss: 0.9024 - categorical_accuracy: 0.7618 - val_loss: 0.7962 - val_categorical_accuracy: 0.7933\n",
      "Epoch 14/30\n",
      "1318/1318 [==============================] - 15s 12ms/step - loss: 0.8695 - categorical_accuracy: 0.7564 - val_loss: 0.7934 - val_categorical_accuracy: 0.7739\n",
      "Epoch 15/30\n",
      "1318/1318 [==============================] - 15s 11ms/step - loss: 0.7788 - categorical_accuracy: 0.7853 - val_loss: 0.7134 - val_categorical_accuracy: 0.8039\n",
      "Epoch 16/30\n",
      "1318/1318 [==============================] - 16s 12ms/step - loss: 0.7419 - categorical_accuracy: 0.7853 - val_loss: 0.7859 - val_categorical_accuracy: 0.7650\n",
      "Epoch 17/30\n",
      "1318/1318 [==============================] - 14s 11ms/step - loss: 0.7268 - categorical_accuracy: 0.7959 - val_loss: 0.6849 - val_categorical_accuracy: 0.8198\n",
      "Epoch 18/30\n",
      "1318/1318 [==============================] - 14s 11ms/step - loss: 0.6898 - categorical_accuracy: 0.8065 - val_loss: 0.6308 - val_categorical_accuracy: 0.8357\n",
      "Epoch 19/30\n",
      "1318/1318 [==============================] - 14s 11ms/step - loss: 0.6244 - categorical_accuracy: 0.8171 - val_loss: 0.6611 - val_categorical_accuracy: 0.8322\n",
      "Epoch 20/30\n",
      "1318/1318 [==============================] - 14s 11ms/step - loss: 0.6118 - categorical_accuracy: 0.8300 - val_loss: 0.6012 - val_categorical_accuracy: 0.8322\n",
      "Epoch 21/30\n",
      "1318/1318 [==============================] - 15s 11ms/step - loss: 0.5393 - categorical_accuracy: 0.8460 - val_loss: 0.6063 - val_categorical_accuracy: 0.8339\n",
      "Epoch 22/30\n",
      "1318/1318 [==============================] - 17s 13ms/step - loss: 0.5547 - categorical_accuracy: 0.8414 - val_loss: 0.5998 - val_categorical_accuracy: 0.8357\n",
      "Epoch 23/30\n",
      "1318/1318 [==============================] - 15s 12ms/step - loss: 0.5532 - categorical_accuracy: 0.8293 - val_loss: 0.5886 - val_categorical_accuracy: 0.8410\n",
      "Epoch 24/30\n",
      "1318/1318 [==============================] - 16s 12ms/step - loss: 0.4982 - categorical_accuracy: 0.8566 - val_loss: 0.5417 - val_categorical_accuracy: 0.8569\n",
      "Epoch 25/30\n",
      "1318/1318 [==============================] - 15s 11ms/step - loss: 0.4495 - categorical_accuracy: 0.8703 - val_loss: 0.5571 - val_categorical_accuracy: 0.8481\n",
      "Epoch 26/30\n",
      "1318/1318 [==============================] - 13s 10ms/step - loss: 0.4498 - categorical_accuracy: 0.8718 - val_loss: 0.5368 - val_categorical_accuracy: 0.8587\n",
      "Epoch 27/30\n",
      "1318/1318 [==============================] - 13s 10ms/step - loss: 0.3939 - categorical_accuracy: 0.8885 - val_loss: 0.5439 - val_categorical_accuracy: 0.8410\n",
      "Epoch 28/30\n",
      "1318/1318 [==============================] - 13s 10ms/step - loss: 0.4219 - categorical_accuracy: 0.8786 - val_loss: 0.5447 - val_categorical_accuracy: 0.8569\n",
      "Epoch 29/30\n",
      "1318/1318 [==============================] - 13s 10ms/step - loss: 0.3665 - categorical_accuracy: 0.8976 - val_loss: 0.5234 - val_categorical_accuracy: 0.8657\n",
      "Epoch 30/30\n",
      "1318/1318 [==============================] - 13s 10ms/step - loss: 0.4067 - categorical_accuracy: 0.8816 - val_loss: 0.5217 - val_categorical_accuracy: 0.8569\n"
     ]
    },
    {
     "data": {
      "text/plain": [
       "<keras.callbacks.History at 0x7fc01afbf898>"
      ]
     },
     "execution_count": 15,
     "metadata": {},
     "output_type": "execute_result"
    }
   ],
   "source": [
    "base_model.fit(x_train,y_train,epochs=30,batch_size=32,validation_split=0.3)"
   ]
  },
  {
   "cell_type": "code",
   "execution_count": 16,
   "metadata": {},
   "outputs": [
    {
     "name": "stdout",
     "output_type": "stream",
     "text": [
      "Train on 1318 samples, validate on 566 samples\n",
      "Epoch 1/5\n",
      "1318/1318 [==============================] - 13s 10ms/step - loss: 0.3258 - categorical_accuracy: 0.9150 - val_loss: 0.4969 - val_categorical_accuracy: 0.8622\n",
      "Epoch 2/5\n",
      "1318/1318 [==============================] - 13s 10ms/step - loss: 0.3028 - categorical_accuracy: 0.9127 - val_loss: 0.4976 - val_categorical_accuracy: 0.8640\n",
      "Epoch 3/5\n",
      "1318/1318 [==============================] - 13s 10ms/step - loss: 0.2956 - categorical_accuracy: 0.9135 - val_loss: 0.4924 - val_categorical_accuracy: 0.8640\n",
      "Epoch 4/5\n",
      "1318/1318 [==============================] - 13s 10ms/step - loss: 0.3053 - categorical_accuracy: 0.9181 - val_loss: 0.4912 - val_categorical_accuracy: 0.8640\n",
      "Epoch 5/5\n",
      "1318/1318 [==============================] - 13s 10ms/step - loss: 0.2908 - categorical_accuracy: 0.9203 - val_loss: 0.4852 - val_categorical_accuracy: 0.8657\n"
     ]
    },
    {
     "data": {
      "text/plain": [
       "<keras.callbacks.History at 0x7fc01971f518>"
      ]
     },
     "execution_count": 16,
     "metadata": {},
     "output_type": "execute_result"
    }
   ],
   "source": [
    "new_adam = keras.optimizers.Adam(lr=0.0001, beta_1=0.9, beta_2=0.999, epsilon=1e-08, decay=0.0)\n",
    "base_model.compile(optimizer=new_adam,\n",
    "              loss='categorical_crossentropy',\n",
    "              metrics=['categorical_accuracy'])\n",
    "base_model.fit(x_train,y_train,epochs=5,batch_size=32,validation_split=0.3)"
   ]
  },
  {
   "cell_type": "code",
   "execution_count": 17,
   "metadata": {},
   "outputs": [],
   "source": [
    "# new_adam = keras.optimizers.Adam(lr=0.00005, beta_1=0.9, beta_2=0.999, epsilon=1e-08, decay=0.0)\n",
    "# base_model.compile(optimizer=new_adam,\n",
    "#               loss='categorical_crossentropy',\n",
    "#               metrics=['categorical_accuracy'])\n",
    "# base_model.fit(x_train,y_train,epochs=30,batch_size=32,validation_split=0.3)"
   ]
  },
  {
   "cell_type": "markdown",
   "metadata": {},
   "source": [
    "### confusion matrix"
   ]
  },
  {
   "cell_type": "code",
   "execution_count": 18,
   "metadata": {},
   "outputs": [
    {
     "name": "stdout",
     "output_type": "stream",
     "text": [
      "1884/1884 [==============================] - 5s 3ms/step\n",
      "confusion matrix for (53, 53) features (base):\n",
      "[[ 1  0  0 ...,  0  0  0]\n",
      " [ 0 15  0 ...,  0  0  0]\n",
      " [ 0  0 31 ...,  0  0  0]\n",
      " ..., \n",
      " [ 0  0  0 ...,  0  0  0]\n",
      " [ 0  1  0 ...,  0  3  0]\n",
      " [ 0  0  0 ...,  0  0  3]]\n"
     ]
    },
    {
     "data": {
      "text/plain": [
       "<matplotlib.axes._subplots.AxesSubplot at 0x7fbfe441c0f0>"
      ]
     },
     "execution_count": 18,
     "metadata": {},
     "output_type": "execute_result"
    },
    {
     "data": {
      "image/png": "[encoded data removed]",
      "text/plain": [
       "<matplotlib.figure.Figure at 0x7fbfe48c8a20>"
      ]
     },
     "metadata": {},
     "output_type": "display_data"
    }
   ],
   "source": [
    "from sklearn.metrics import confusion_matrix\n",
    "import seaborn as sns\n",
    "\n",
    "y_pred = base_model.predict_classes(x_train)\n",
    "y_original = np.argmax(y_train, axis=1)\n",
    "\n",
    "cm = confusion_matrix(y_original, y_pred)\n",
    "print('confusion matrix for {} features (base):'.format(cm.shape))\n",
    "print(cm)\n",
    "\n",
    "fig, ax = plt.subplots(figsize=(20,20))\n",
    "sns.heatmap(cm, cmap=sns.light_palette('purple', n_colors=500, as_cmap=True), annot=True, linewidths = 5, ax=ax)"
   ]
  },
  {
   "cell_type": "markdown",
   "metadata": {},
   "source": [
    "# DOT CLASS"
   ]
  },
  {
   "cell_type": "code",
   "execution_count": 19,
   "metadata": {
    "collapsed": true
   },
   "outputs": [],
   "source": [
    "y_train_dot = np_utils.to_categorical(dot_class)"
   ]
  },
  {
   "cell_type": "code",
   "execution_count": 20,
   "metadata": {},
   "outputs": [
    {
     "name": "stdout",
     "output_type": "stream",
     "text": [
      "Train on 1318 samples, validate on 566 samples\n",
      "Epoch 1/20\n",
      "1318/1318 [==============================] - 13s 10ms/step - loss: 0.4652 - categorical_accuracy: 0.8809 - val_loss: 0.2726 - val_categorical_accuracy: 0.9382\n",
      "Epoch 2/20\n",
      "1318/1318 [==============================] - 13s 10ms/step - loss: 0.4182 - categorical_accuracy: 0.9014 - val_loss: 0.2696 - val_categorical_accuracy: 0.9382\n",
      "Epoch 3/20\n",
      "1318/1318 [==============================] - 13s 10ms/step - loss: 0.3942 - categorical_accuracy: 0.9029 - val_loss: 0.2681 - val_categorical_accuracy: 0.9382\n",
      "Epoch 4/20\n",
      "1318/1318 [==============================] - 13s 10ms/step - loss: 0.3956 - categorical_accuracy: 0.9044 - val_loss: 0.2665 - val_categorical_accuracy: 0.9382\n",
      "Epoch 5/20\n",
      "1318/1318 [==============================] - 13s 10ms/step - loss: 0.3926 - categorical_accuracy: 0.9044 - val_loss: 0.2665 - val_categorical_accuracy: 0.9382\n",
      "Epoch 6/20\n",
      "1318/1318 [==============================] - 13s 10ms/step - loss: 0.3852 - categorical_accuracy: 0.9052 - val_loss: 0.2667 - val_categorical_accuracy: 0.9382\n",
      "Epoch 7/20\n",
      "1318/1318 [==============================] - 14s 10ms/step - loss: 0.3891 - categorical_accuracy: 0.9044 - val_loss: 0.2669 - val_categorical_accuracy: 0.9382\n",
      "Epoch 8/20\n",
      "1318/1318 [==============================] - 14s 10ms/step - loss: 0.3870 - categorical_accuracy: 0.9052 - val_loss: 0.2675 - val_categorical_accuracy: 0.9382\n",
      "Epoch 9/20\n",
      "1318/1318 [==============================] - 14s 10ms/step - loss: 0.3793 - categorical_accuracy: 0.9052 - val_loss: 0.2676 - val_categorical_accuracy: 0.9382\n",
      "Epoch 10/20\n",
      "1318/1318 [==============================] - 13s 10ms/step - loss: 0.3860 - categorical_accuracy: 0.9052 - val_loss: 0.2689 - val_categorical_accuracy: 0.9382\n",
      "Epoch 11/20\n",
      "1318/1318 [==============================] - 13s 10ms/step - loss: 0.3673 - categorical_accuracy: 0.9052 - val_loss: 0.2670 - val_categorical_accuracy: 0.9382\n",
      "Epoch 12/20\n",
      "1318/1318 [==============================] - 13s 10ms/step - loss: 0.3715 - categorical_accuracy: 0.9052 - val_loss: 0.2674 - val_categorical_accuracy: 0.9382\n",
      "Epoch 13/20\n",
      "1318/1318 [==============================] - 13s 10ms/step - loss: 0.3858 - categorical_accuracy: 0.9052 - val_loss: 0.2697 - val_categorical_accuracy: 0.9382\n",
      "Epoch 14/20\n",
      "1318/1318 [==============================] - 13s 10ms/step - loss: 0.3685 - categorical_accuracy: 0.9052 - val_loss: 0.2712 - val_categorical_accuracy: 0.9382\n",
      "Epoch 15/20\n",
      "1318/1318 [==============================] - 13s 10ms/step - loss: 0.3783 - categorical_accuracy: 0.9052 - val_loss: 0.2686 - val_categorical_accuracy: 0.9382\n",
      "Epoch 16/20\n",
      "1318/1318 [==============================] - 14s 11ms/step - loss: 0.3713 - categorical_accuracy: 0.9052 - val_loss: 0.2719 - val_categorical_accuracy: 0.9382\n",
      "Epoch 17/20\n",
      "1318/1318 [==============================] - 15s 11ms/step - loss: 0.3653 - categorical_accuracy: 0.9052 - val_loss: 0.2682 - val_categorical_accuracy: 0.9382\n",
      "Epoch 18/20\n",
      "1318/1318 [==============================] - 19s 15ms/step - loss: 0.3766 - categorical_accuracy: 0.9052 - val_loss: 0.2698 - val_categorical_accuracy: 0.9382\n",
      "Epoch 19/20\n",
      "1318/1318 [==============================] - 21s 16ms/step - loss: 0.3731 - categorical_accuracy: 0.9052 - val_loss: 0.2681 - val_categorical_accuracy: 0.9382\n",
      "Epoch 20/20\n",
      "1318/1318 [==============================] - 25s 19ms/step - loss: 0.3701 - categorical_accuracy: 0.9052 - val_loss: 0.2712 - val_categorical_accuracy: 0.9382\n"
     ]
    },
    {
     "data": {
      "text/plain": [
       "<keras.callbacks.History at 0x7fbfe32baa20>"
      ]
     },
     "execution_count": 20,
     "metadata": {},
     "output_type": "execute_result"
    }
   ],
   "source": [
    "dot_model = Sequential()\n",
    "\n",
    "dot_model.add(Conv2D(16,(3,3),input_shape = (img_shape[0],img_shape[1],1),activation = 'relu'))\n",
    "dot_model.add(Conv2D(16,(3,3),activation = 'relu'))\n",
    "dot_model.add(MaxPooling2D())\n",
    "dot_model.add(Conv2D(32,(3,3),activation = 'relu'))\n",
    "dot_model.add(Conv2D(32,(3,3),activation = 'relu'))\n",
    "dot_model.add(MaxPooling2D())\n",
    "dot_model.add(Conv2D(64,(3,3),activation = 'relu'))\n",
    "dot_model.add(Conv2D(64,(3,3),activation = 'relu'))\n",
    "dot_model.add(MaxPooling2D())\n",
    "dot_model.add(Flatten())\n",
    "dot_model.add(Dense(64,activation = 'sigmoid'))\n",
    "dot_model.add(Dropout(0.5))\n",
    "dot_model.add(Dense(len(set(dot_class)),activation = 'softmax'))\n",
    "\n",
    "dot_model.compile(optimizer='adam',\n",
    "              loss='categorical_crossentropy',\n",
    "              metrics=['categorical_accuracy'])\n",
    "\n",
    "dot_model.fit(x_train,y_train_dot,epochs=20,batch_size=32,validation_split=0.3)"
   ]
  },
  {
   "cell_type": "code",
   "execution_count": 21,
   "metadata": {},
   "outputs": [
    {
     "name": "stdout",
     "output_type": "stream",
     "text": [
      "Train on 1318 samples, validate on 566 samples\n",
      "Epoch 1/5\n",
      "1318/1318 [==============================] - 20s 15ms/step - loss: 0.3688 - categorical_accuracy: 0.9052 - val_loss: 0.2688 - val_categorical_accuracy: 0.9382\n",
      "Epoch 2/5\n",
      "1318/1318 [==============================] - 16s 12ms/step - loss: 0.3799 - categorical_accuracy: 0.9052 - val_loss: 0.2708 - val_categorical_accuracy: 0.9382\n",
      "Epoch 3/5\n",
      "1318/1318 [==============================] - 17s 13ms/step - loss: 0.3679 - categorical_accuracy: 0.9052 - val_loss: 0.2723 - val_categorical_accuracy: 0.9382\n",
      "Epoch 4/5\n",
      "1318/1318 [==============================] - 15s 11ms/step - loss: 0.3661 - categorical_accuracy: 0.9052 - val_loss: 0.2706 - val_categorical_accuracy: 0.9382\n",
      "Epoch 5/5\n",
      "1318/1318 [==============================] - 14s 11ms/step - loss: 0.3640 - categorical_accuracy: 0.9052 - val_loss: 0.2699 - val_categorical_accuracy: 0.9382\n"
     ]
    },
    {
     "data": {
      "text/plain": [
       "<keras.callbacks.History at 0x7fbfe42e0320>"
      ]
     },
     "execution_count": 21,
     "metadata": {},
     "output_type": "execute_result"
    }
   ],
   "source": [
    "new_adam = keras.optimizers.Adam(lr=0.0005, beta_1=0.9, beta_2=0.999, epsilon=1e-08, decay=0.0)\n",
    "dot_model.compile(optimizer=new_adam,\n",
    "              loss='categorical_crossentropy',\n",
    "              metrics=['categorical_accuracy'])\n",
    "dot_model.fit(x_train,y_train_dot,epochs=5,batch_size=64,validation_split=0.3)"
   ]
  },
  {
   "cell_type": "markdown",
   "metadata": {},
   "source": [
    "### confusion matrix:"
   ]
  },
  {
   "cell_type": "code",
   "execution_count": 22,
   "metadata": {},
   "outputs": [
    {
     "name": "stdout",
     "output_type": "stream",
     "text": [
      "1884/1884 [==============================] - 5s 3ms/step\n",
      "confusion matrix for (3, 3) features (dot):\n",
      "[[1724    0    0]\n",
      " [ 134    0    0]\n",
      " [  26    0    0]]\n"
     ]
    },
    {
     "data": {
      "text/plain": [
       "<matplotlib.axes._subplots.AxesSubplot at 0x7fbfe12769b0>"
      ]
     },
     "execution_count": 22,
     "metadata": {},
     "output_type": "execute_result"
    },
    {
     "data": {
      "image/png": "[encoded data removed]",
      "text/plain": [
       "<matplotlib.figure.Figure at 0x7fbfe0bd4e80>"
      ]
     },
     "metadata": {},
     "output_type": "display_data"
    }
   ],
   "source": [
    "from sklearn.metrics import confusion_matrix\n",
    "import seaborn as sns\n",
    "\n",
    "y_pred = dot_model.predict_classes(x_train)\n",
    "y_original = np.argmax(y_train_dot, axis=1)\n",
    "\n",
    "cm = confusion_matrix(y_original, y_pred)\n",
    "print('confusion matrix for {} features (dot):'.format(cm.shape))\n",
    "print(cm)\n",
    "\n",
    "#fig, ax = plt.subplots(figsize=(20,20))\n",
    "sns.heatmap(cm, cmap=sns.light_palette('purple', n_colors=500, as_cmap=True), annot=True, linewidths = 5)"
   ]
  },
  {
   "cell_type": "markdown",
   "metadata": {},
   "source": [
    "# MATRA CLASS"
   ]
  },
  {
   "cell_type": "code",
   "execution_count": 23,
   "metadata": {},
   "outputs": [
    {
     "name": "stdout",
     "output_type": "stream",
     "text": [
      "(1884, 16)\n"
     ]
    }
   ],
   "source": [
    "le_matra = LabelEncoder()\n",
    "le_matra.fit(matra_class)\n",
    "y_labeled_matra = le_matra.transform(matra_class)\n",
    "y_train_matra = np_utils.to_categorical(y_labeled_matra)\n",
    "\n",
    "print(y_train_matra.shape)"
   ]
  },
  {
   "cell_type": "code",
   "execution_count": 24,
   "metadata": {
    "scrolled": false
   },
   "outputs": [
    {
     "name": "stdout",
     "output_type": "stream",
     "text": [
      "Train on 1318 samples, validate on 566 samples\n",
      "Epoch 1/45\n",
      "1318/1318 [==============================] - 14s 11ms/step - loss: 0.1774 - categorical_accuracy: 0.4469 - val_loss: 0.1653 - val_categorical_accuracy: 0.4682\n",
      "Epoch 2/45\n",
      "1318/1318 [==============================] - 14s 11ms/step - loss: 0.1514 - categorical_accuracy: 0.5038 - val_loss: 0.1283 - val_categorical_accuracy: 0.5795\n",
      "Epoch 3/45\n",
      "1318/1318 [==============================] - 15s 11ms/step - loss: 0.1248 - categorical_accuracy: 0.5827 - val_loss: 0.1070 - val_categorical_accuracy: 0.6820\n",
      "Epoch 4/45\n",
      "1318/1318 [==============================] - 18s 13ms/step - loss: 0.1138 - categorical_accuracy: 0.6252 - val_loss: 0.0937 - val_categorical_accuracy: 0.7049\n",
      "Epoch 5/45\n",
      "1318/1318 [==============================] - 14s 11ms/step - loss: 0.1024 - categorical_accuracy: 0.6753 - val_loss: 0.1027 - val_categorical_accuracy: 0.6784\n",
      "Epoch 6/45\n",
      "1318/1318 [==============================] - 14s 11ms/step - loss: 0.0936 - categorical_accuracy: 0.7223 - val_loss: 0.0804 - val_categorical_accuracy: 0.7420\n",
      "Epoch 7/45\n",
      "1318/1318 [==============================] - 14s 10ms/step - loss: 0.0821 - categorical_accuracy: 0.7405 - val_loss: 0.0760 - val_categorical_accuracy: 0.7650\n",
      "Epoch 8/45\n",
      "1318/1318 [==============================] - 14s 11ms/step - loss: 0.0780 - categorical_accuracy: 0.7511 - val_loss: 0.0712 - val_categorical_accuracy: 0.7809\n",
      "Epoch 9/45\n",
      "1318/1318 [==============================] - 14s 11ms/step - loss: 0.0746 - categorical_accuracy: 0.7602 - val_loss: 0.0702 - val_categorical_accuracy: 0.7827\n",
      "Epoch 10/45\n",
      "1318/1318 [==============================] - 17s 13ms/step - loss: 0.0698 - categorical_accuracy: 0.7785 - val_loss: 0.0663 - val_categorical_accuracy: 0.7951\n",
      "Epoch 11/45\n",
      "1318/1318 [==============================] - 15s 11ms/step - loss: 0.0667 - categorical_accuracy: 0.7967 - val_loss: 0.0638 - val_categorical_accuracy: 0.8127\n",
      "Epoch 12/45\n",
      "1318/1318 [==============================] - 15s 11ms/step - loss: 0.0611 - categorical_accuracy: 0.8020 - val_loss: 0.0670 - val_categorical_accuracy: 0.8163\n",
      "Epoch 13/45\n",
      "1318/1318 [==============================] - 15s 11ms/step - loss: 0.0600 - categorical_accuracy: 0.8035 - val_loss: 0.0578 - val_categorical_accuracy: 0.8339\n",
      "Epoch 14/45\n",
      "1318/1318 [==============================] - 15s 11ms/step - loss: 0.0566 - categorical_accuracy: 0.8171 - val_loss: 0.0593 - val_categorical_accuracy: 0.8269\n",
      "Epoch 15/45\n",
      "1318/1318 [==============================] - 15s 11ms/step - loss: 0.0547 - categorical_accuracy: 0.8293 - val_loss: 0.0555 - val_categorical_accuracy: 0.8163\n",
      "Epoch 16/45\n",
      "1318/1318 [==============================] - 15s 11ms/step - loss: 0.0551 - categorical_accuracy: 0.8247 - val_loss: 0.0591 - val_categorical_accuracy: 0.8375\n",
      "Epoch 17/45\n",
      "1318/1318 [==============================] - 15s 11ms/step - loss: 0.0532 - categorical_accuracy: 0.8331 - val_loss: 0.0529 - val_categorical_accuracy: 0.8498\n",
      "Epoch 18/45\n",
      "1318/1318 [==============================] - 15s 11ms/step - loss: 0.0456 - categorical_accuracy: 0.8581 - val_loss: 0.0512 - val_categorical_accuracy: 0.8498\n",
      "Epoch 19/45\n",
      "1318/1318 [==============================] - 15s 11ms/step - loss: 0.0481 - categorical_accuracy: 0.8543 - val_loss: 0.0498 - val_categorical_accuracy: 0.8604\n",
      "Epoch 20/45\n",
      "1318/1318 [==============================] - 15s 11ms/step - loss: 0.0442 - categorical_accuracy: 0.8604 - val_loss: 0.0497 - val_categorical_accuracy: 0.8604\n",
      "Epoch 21/45\n",
      "1318/1318 [==============================] - 15s 11ms/step - loss: 0.0430 - categorical_accuracy: 0.8627 - val_loss: 0.0464 - val_categorical_accuracy: 0.8799\n",
      "Epoch 22/45\n",
      "1318/1318 [==============================] - 15s 11ms/step - loss: 0.0418 - categorical_accuracy: 0.8748 - val_loss: 0.0501 - val_categorical_accuracy: 0.8710\n",
      "Epoch 23/45\n",
      "1318/1318 [==============================] - 15s 11ms/step - loss: 0.0389 - categorical_accuracy: 0.8877 - val_loss: 0.0481 - val_categorical_accuracy: 0.8746\n",
      "Epoch 24/45\n",
      "1318/1318 [==============================] - 15s 11ms/step - loss: 0.0379 - categorical_accuracy: 0.8869 - val_loss: 0.0458 - val_categorical_accuracy: 0.8746\n",
      "Epoch 25/45\n",
      "1318/1318 [==============================] - 15s 11ms/step - loss: 0.0354 - categorical_accuracy: 0.8953 - val_loss: 0.0459 - val_categorical_accuracy: 0.8728\n",
      "Epoch 26/45\n",
      "1318/1318 [==============================] - 15s 11ms/step - loss: 0.0342 - categorical_accuracy: 0.8968 - val_loss: 0.0461 - val_categorical_accuracy: 0.8905\n",
      "Epoch 27/45\n",
      "1318/1318 [==============================] - 15s 11ms/step - loss: 0.0357 - categorical_accuracy: 0.8998 - val_loss: 0.0463 - val_categorical_accuracy: 0.8958\n",
      "Epoch 28/45\n",
      "1318/1318 [==============================] - 15s 11ms/step - loss: 0.0305 - categorical_accuracy: 0.9127 - val_loss: 0.0408 - val_categorical_accuracy: 0.8993\n",
      "Epoch 29/45\n",
      "1318/1318 [==============================] - 15s 12ms/step - loss: 0.0305 - categorical_accuracy: 0.9158 - val_loss: 0.0439 - val_categorical_accuracy: 0.8993\n",
      "Epoch 30/45\n",
      "1318/1318 [==============================] - 15s 11ms/step - loss: 0.0318 - categorical_accuracy: 0.8998 - val_loss: 0.0395 - val_categorical_accuracy: 0.9205\n",
      "Epoch 31/45\n",
      "1318/1318 [==============================] - 15s 11ms/step - loss: 0.0284 - categorical_accuracy: 0.9173 - val_loss: 0.0409 - val_categorical_accuracy: 0.9081\n",
      "Epoch 32/45\n",
      "1318/1318 [==============================] - 15s 11ms/step - loss: 0.0275 - categorical_accuracy: 0.9181 - val_loss: 0.0437 - val_categorical_accuracy: 0.8975\n",
      "Epoch 33/45\n",
      "1318/1318 [==============================] - 15s 11ms/step - loss: 0.0261 - categorical_accuracy: 0.9272 - val_loss: 0.0409 - val_categorical_accuracy: 0.8993\n",
      "Epoch 34/45\n",
      "1318/1318 [==============================] - 15s 11ms/step - loss: 0.0230 - categorical_accuracy: 0.9393 - val_loss: 0.0366 - val_categorical_accuracy: 0.9170\n",
      "Epoch 35/45\n",
      "1318/1318 [==============================] - 15s 11ms/step - loss: 0.0242 - categorical_accuracy: 0.9355 - val_loss: 0.0396 - val_categorical_accuracy: 0.8905\n",
      "Epoch 36/45\n",
      "1318/1318 [==============================] - 15s 11ms/step - loss: 0.0236 - categorical_accuracy: 0.9340 - val_loss: 0.0370 - val_categorical_accuracy: 0.9134\n",
      "Epoch 37/45\n",
      "1318/1318 [==============================] - 15s 12ms/step - loss: 0.0222 - categorical_accuracy: 0.9363 - val_loss: 0.0368 - val_categorical_accuracy: 0.9152\n",
      "Epoch 38/45\n",
      "1318/1318 [==============================] - 15s 11ms/step - loss: 0.0216 - categorical_accuracy: 0.9408 - val_loss: 0.0384 - val_categorical_accuracy: 0.9117\n",
      "Epoch 39/45\n",
      "1318/1318 [==============================] - 15s 12ms/step - loss: 0.0207 - categorical_accuracy: 0.9454 - val_loss: 0.0383 - val_categorical_accuracy: 0.9187\n",
      "Epoch 40/45\n",
      "1318/1318 [==============================] - 15s 11ms/step - loss: 0.0233 - categorical_accuracy: 0.9340 - val_loss: 0.0385 - val_categorical_accuracy: 0.9205\n",
      "Epoch 41/45\n",
      "1318/1318 [==============================] - 15s 11ms/step - loss: 0.0210 - categorical_accuracy: 0.9461 - val_loss: 0.0377 - val_categorical_accuracy: 0.9170\n",
      "Epoch 42/45\n",
      "1318/1318 [==============================] - 15s 11ms/step - loss: 0.0215 - categorical_accuracy: 0.9446 - val_loss: 0.0382 - val_categorical_accuracy: 0.9134\n",
      "Epoch 43/45\n",
      "1318/1318 [==============================] - 15s 11ms/step - loss: 0.0179 - categorical_accuracy: 0.9613 - val_loss: 0.0383 - val_categorical_accuracy: 0.9117\n",
      "Epoch 44/45\n",
      "1318/1318 [==============================] - 15s 11ms/step - loss: 0.0168 - categorical_accuracy: 0.9628 - val_loss: 0.0367 - val_categorical_accuracy: 0.9187\n",
      "Epoch 45/45\n",
      "1318/1318 [==============================] - 15s 12ms/step - loss: 0.0181 - categorical_accuracy: 0.9545 - val_loss: 0.0373 - val_categorical_accuracy: 0.9170\n"
     ]
    },
    {
     "data": {
      "text/plain": [
       "<keras.callbacks.History at 0x7fbfe06c7e80>"
      ]
     },
     "execution_count": 24,
     "metadata": {},
     "output_type": "execute_result"
    }
   ],
   "source": [
    "matra_model = Sequential()\n",
    "\n",
    "matra_model.add(Conv2D(16,(3,3),input_shape = (img_shape[0],img_shape[1],1),activation = 'relu'))\n",
    "matra_model.add(Conv2D(16,(3,3),activation = 'relu'))\n",
    "matra_model.add(MaxPooling2D())\n",
    "matra_model.add(Conv2D(32,(3,3),activation = 'relu'))\n",
    "matra_model.add(Conv2D(32,(3,3),activation = 'relu'))\n",
    "matra_model.add(MaxPooling2D())\n",
    "matra_model.add(Conv2D(64,(3,3),activation = 'relu'))\n",
    "matra_model.add(Conv2D(64,(3,3),activation = 'relu'))\n",
    "matra_model.add(MaxPooling2D())\n",
    "matra_model.add(MaxPooling2D())\n",
    "matra_model.add(Dropout(0.5))\n",
    "matra_model.add(Flatten())\n",
    "matra_model.add(Dense(128,activation = 'sigmoid'))\n",
    "matra_model.add(Dropout(0.25))\n",
    "matra_model.add(Dense(len(set(matra_class)),activation = 'softmax'))\n",
    "\n",
    "matra_model.compile(optimizer='adam',\n",
    "              loss='binary_crossentropy',\n",
    "              metrics=['categorical_accuracy'])\n",
    "\n",
    "matra_model.fit(x_train,y_train_matra,epochs=45,batch_size=32,validation_split=0.3)"
   ]
  },
  {
   "cell_type": "code",
   "execution_count": 25,
   "metadata": {},
   "outputs": [
    {
     "name": "stdout",
     "output_type": "stream",
     "text": [
      "Train on 1318 samples, validate on 566 samples\n",
      "Epoch 1/2\n",
      "1318/1318 [==============================] - 15s 12ms/step - loss: 0.1543 - categorical_accuracy: 0.9598 - val_loss: 0.3516 - val_categorical_accuracy: 0.9170\n",
      "Epoch 2/2\n",
      "1318/1318 [==============================] - 15s 11ms/step - loss: 0.1228 - categorical_accuracy: 0.9659 - val_loss: 0.3665 - val_categorical_accuracy: 0.9205\n"
     ]
    },
    {
     "data": {
      "text/plain": [
       "<keras.callbacks.History at 0x7fbfd8334710>"
      ]
     },
     "execution_count": 25,
     "metadata": {},
     "output_type": "execute_result"
    }
   ],
   "source": [
    "new_adam = keras.optimizers.Adam(lr=0.00005, beta_1=0.9, beta_2=0.999, epsilon=1e-08, decay=0.0)\n",
    "matra_model.compile(optimizer=new_adam,\n",
    "              loss='categorical_crossentropy',\n",
    "              metrics=['categorical_accuracy'])\n",
    "matra_model.fit(x_train,y_train_matra,epochs=2,batch_size=32,validation_split=0.3)"
   ]
  },
  {
   "cell_type": "markdown",
   "metadata": {},
   "source": [
    "### confusion matrix"
   ]
  },
  {
   "cell_type": "code",
   "execution_count": 26,
   "metadata": {},
   "outputs": [
    {
     "name": "stdout",
     "output_type": "stream",
     "text": [
      "1884/1884 [==============================] - 6s 3ms/step\n",
      "confusion matrix for (16, 16) features (matra):\n",
      "[[895   0   5   1   0   2   1   0   0   0   0   1   0   0   0   0]\n",
      " [  0   4   3   0   0   0   0   0   0   0   0   0   0   0   0   0]\n",
      " [  3   0 286   0   0   0   0   0   0   0   0   0   0   0   0   0]\n",
      " [  0   0   0 180   0   0   0   0   0   0   0   0   0   0   0   0]\n",
      " [  1   0   2   1 136   0   0   0   0   0   2   0   0   0   0   0]\n",
      " [  5   0   0   0   0  37   0   0   0   0   0   0   0   0   0   0]\n",
      " [  7   0   1   0   0   0  20   0   0   0   0   0   0   0   0   0]\n",
      " [  1   0   0   0   0   0   0   0   0   0   0   0   0   0   0   0]\n",
      " [  1   0   0   2   0   0   0   0  81   0   0   0   0   0   0   0]\n",
      " [  0   0   0   3   0   0   0   0   0  79   0   4   0   0   0   0]\n",
      " [  0   1   0   0   5   0   0   0   2   0  47   1   0   0   0   0]\n",
      " [  0   0   1   0   0   0   0   0   0   3   1  54   0   0   0   0]\n",
      " [  1   0   0   0   0   0   0   0   0   0   0   0   0   0   0   0]\n",
      " [  0   0   1   0   0   0   0   0   0   0   0   0   0   0   0   0]\n",
      " [  1   0   0   0   0   0   0   0   0   0   0   0   0   0   0   0]\n",
      " [  2   0   0   0   0   0   0   0   0   0   0   0   0   0   0   0]]\n"
     ]
    },
    {
     "data": {
      "text/plain": [
       "<matplotlib.axes._subplots.AxesSubplot at 0x7fbfe121df98>"
      ]
     },
     "execution_count": 26,
     "metadata": {},
     "output_type": "execute_result"
    },
    {
     "data": {
      "image/png": "[encoded data removed]",
      "text/plain": [
       "<matplotlib.figure.Figure at 0x7fbfe11b5320>"
      ]
     },
     "metadata": {},
     "output_type": "display_data"
    }
   ],
   "source": [
    "from sklearn.metrics import confusion_matrix\n",
    "import seaborn as sns\n",
    "\n",
    "y_pred = matra_model.predict_classes(x_train)\n",
    "y_original = np.argmax(y_train_matra, axis=1)\n",
    "\n",
    "cm = confusion_matrix(y_original, y_pred)\n",
    "print('confusion matrix for {} features (matra):'.format(cm.shape))\n",
    "print(cm)\n",
    "\n",
    "fig, ax = plt.subplots(figsize=(20,20))\n",
    "sns.heatmap(cm, cmap=sns.light_palette('purple', n_colors=500, as_cmap=True), annot=True, linewidths = 5, ax=ax)"
   ]
  },
  {
   "cell_type": "markdown",
   "metadata": {},
   "source": []
  },
  {
   "cell_type": "markdown",
   "metadata": {},
   "source": [
    "# Dumping Models to Disk"
   ]
  },
  {
   "cell_type": "code",
   "execution_count": 27,
   "metadata": {
    "collapsed": true
   },
   "outputs": [],
   "source": [
    "dot_model.save('models/dot_model4w.model')\n",
    "matra_model.save('models/matra_model4w.model')\n",
    "base_model.save('models/base_model4w.model')"
   ]
  },
  {
   "cell_type": "code",
   "execution_count": 28,
   "metadata": {
    "collapsed": true
   },
   "outputs": [],
   "source": [
    "from keras.models import load_model\n",
    "\n",
    "dot_model2 = load_model('models/dot_model4k.model')\n",
    "matra_model2 = load_model('models/matra_model4k.model')\n",
    "base_model2 = load_model('models/base_model4k.model')\n",
    "\n"
   ]
  },
  {
   "cell_type": "markdown",
   "metadata": {},
   "source": [
    "# Half Characters"
   ]
  },
  {
   "cell_type": "code",
   "execution_count": null,
   "metadata": {
    "collapsed": true
   },
   "outputs": [],
   "source": []
  }
 ],
 "metadata": {
  "kernelspec": {
   "display_name": "Python 3",
   "language": "python",
   "name": "python3"
  },
  "language_info": {
   "codemirror_mode": {
    "name": "ipython",
    "version": 3
   },
   "file_extension": ".py",
   "mimetype": "text/x-python",
   "name": "python",
   "nbconvert_exporter": "python",
   "pygments_lexer": "ipython3",
   "version": "3.6.3"
  }
 },
 "nbformat": 4,
 "nbformat_minor": 2
}
