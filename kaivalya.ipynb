{
 "cells": [
  {
   "cell_type": "code",
   "execution_count": 30,
   "metadata": {
    "collapsed": true
   },
   "outputs": [],
   "source": [
    "import os\n",
    "import numpy as np\n",
    "import pandas as pd\n",
    "import cv2\n",
    "import matplotlib.pyplot as plt\n",
    "%matplotlib inline"
   ]
  },
  {
   "cell_type": "code",
   "execution_count": 31,
   "metadata": {},
   "outputs": [
    {
     "name": "stdout",
     "output_type": "stream",
     "text": [
      "100 Done\n",
      "200 Done\n",
      "300 Done\n",
      "400 Done\n",
      "500 Done\n",
      "600 Done\n",
      "700 Done\n",
      "800 Done\n",
      "900 Done\n",
      "1000 Done\n",
      "1100 Done\n",
      "1200 Done\n",
      "1300 Done\n",
      "1400 Done\n",
      "1500 Done\n",
      "1600 Done\n",
      "1700 Done\n",
      "1800 Done\n",
      "1895\n",
      "1895\n",
      "[[255 255 255 ..., 255 255 255]\n",
      " [255 255 255 ..., 255 255 255]\n",
      " [255 255 255 ..., 255 255 255]\n",
      " ..., \n",
      " [255 255 255 ..., 255 255 255]\n",
      " [255 255 255 ..., 255 255 255]\n",
      " [255 255 255 ..., 255 255 255]]\n",
      "2361\n"
     ]
    }
   ],
   "source": [
    "PATH = '../train_images_modified'\n",
    "images = []\n",
    "char_class = []\n",
    "matra_class = []\n",
    "total_class = []\n",
    "for filename in os.listdir(PATH):\n",
    "    if filename.endswith(\".png\"):\n",
    "        img = cv2.imread(os.path.join(PATH,filename),0)\n",
    "        size = np.size(img)\n",
    "        skel = np.zeros(img.shape,np.uint8)\n",
    "        blur = cv2.GaussianBlur(img,(9,9),0)# KADD\n",
    "        a,img = cv2.threshold(img,127,255,cv2.THRESH_BINARY+cv2.THRESH_OTSU)#KEDIT\n",
    "        imgSav = img\n",
    "#        img = cv2.bitwise_not(img)\n",
    "#        element = cv2.getStructuringElement(cv2.MORPH_CROSS,(9,9))\n",
    "#        done = 0\n",
    "#        while( done < 1 ):\n",
    "#            eroded = cv2.erode(img,element)\n",
    "#            temp = cv2.dilate(eroded,element)\n",
    "#            temp = cv2.subtract(img,temp)\n",
    "#            skel = cv2.bitwise_or(skel,temp)\n",
    "#            img = eroded.copy()\n",
    "#            zeros = size - cv2.countNonZero(img)\n",
    "#            if zeros==size:#cv2.countNonZero(img) * 1 >= 0:#\n",
    "#                done += 1\n",
    "#        img = skel\n",
    "        img = cv2.bitwise_not(imgSav)\n",
    "        #img = cv2.resize(img,(64,64))/255.\n",
    "        img = cv2.bitwise_not(img)\n",
    "        top = int((224 - img.shape[0])/2)\n",
    "        left = int((224 - img.shape[1])/2)\n",
    "        bottom = 224 - img.shape[0] - top\n",
    "        right = 224 - img.shape[1] - left\n",
    "        #img = cv2.copyMakeBorder(img, top, bottom, left, right, cv2.BORDER_CONSTANT, value=255)\n",
    "        #img = img/255.\n",
    "        img = cv2.resize(img, (50,50)) #KADD\n",
    "        blur = cv2.GaussianBlur(img,(9,9),0)# KADD\n",
    "        #a,img = cv2.threshold(img,0,255,cv2.THRESH_BINARY+cv2.THRESH_OTSU)# KADD\n",
    "        char_arr = filename[:-4].split('_')[3:]\n",
    "        if(len(char_arr)>0):\n",
    "            images.append(img)\n",
    "            if len(images)%100==0:\n",
    "                print(\"{} Done\".format(len(images)))\n",
    "            total_class.append(char_arr)\n",
    "            #KEDIT char_class.append([char_arr[0]])\n",
    "            char_class.append(char_arr[0]) #KEDIT\n",
    "            if(len(char_arr)>1):          \n",
    "                matra_class.append(char_arr[1:])\n",
    "            \n",
    "        #image_class.append(char_arr)\n",
    "print(len(images))\n",
    "print(len(char_class))\n",
    "print(images[0])\n",
    "print(char_class[0])"
   ]
  },
  {
   "cell_type": "code",
   "execution_count": 32,
   "metadata": {},
   "outputs": [
    {
     "data": {
      "image/png": "[encoded data removed]",
      "text/plain": [
       "<matplotlib.figure.Figure at 0x7f3f6916df28>"
      ]
     },
     "metadata": {},
     "output_type": "display_data"
    },
    {
     "name": "stdout",
     "output_type": "stream",
     "text": [
      "1895\n"
     ]
    }
   ],
   "source": [
    "plt.imshow(images[180],\"gray\")\n",
    "plt.show()\n",
    "print(len(images))"
   ]
  },
  {
   "cell_type": "markdown",
   "metadata": {},
   "source": [
    "# KADD:"
   ]
  },
  {
   "cell_type": "code",
   "execution_count": 33,
   "metadata": {},
   "outputs": [
    {
     "name": "stdout",
     "output_type": "stream",
     "text": [
      "             0    1    2    3    4    5    6    7    8    9  ...    2491  \\\n",
      "2361  1.000000  1.0  1.0  1.0  1.0  1.0  1.0  1.0  1.0  1.0  ...     1.0   \n",
      "2306  0.341176  0.0  0.0  0.0  0.0  0.0  0.0  0.0  0.0  0.0  ...     1.0   \n",
      "2342  1.000000  1.0  1.0  1.0  1.0  1.0  1.0  1.0  1.0  1.0  ...     1.0   \n",
      "2312  1.000000  1.0  1.0  1.0  1.0  1.0  1.0  1.0  1.0  1.0  ...     0.0   \n",
      "2367  1.000000  1.0  1.0  1.0  1.0  1.0  1.0  0.0  0.0  0.0  ...     1.0   \n",
      "\n",
      "      2492  2493  2494  2495  2496  2497  2498  2499  LABEL  \n",
      "2361   1.0   1.0   1.0   1.0   1.0   1.0   1.0   1.0   2361  \n",
      "2306   1.0   1.0   1.0   1.0   1.0   1.0   1.0   1.0   2306  \n",
      "2342   1.0   1.0   1.0   1.0   1.0   1.0   1.0   1.0   2342  \n",
      "2312   0.0   0.0   0.0   0.0   0.0   0.0   0.0   0.0   2312  \n",
      "2367   1.0   1.0   1.0   1.0   1.0   1.0   1.0   1.0   2367  \n",
      "\n",
      "[5 rows x 2501 columns]\n",
      "       0     1     2     3     4     5     6     7     8     9     ...   2490  \\\n",
      "0  1.000000   1.0   1.0   1.0   1.0   1.0   1.0   1.0   1.0   1.0  ...    1.0   \n",
      "1  0.341176   0.0   0.0   0.0   0.0   0.0   0.0   0.0   0.0   0.0  ...    1.0   \n",
      "2  1.000000   1.0   1.0   1.0   1.0   1.0   1.0   1.0   1.0   1.0  ...    1.0   \n",
      "3  1.000000   1.0   1.0   1.0   1.0   1.0   1.0   1.0   1.0   1.0  ...    0.0   \n",
      "4  1.000000   1.0   1.0   1.0   1.0   1.0   1.0   0.0   0.0   0.0  ...    1.0   \n",
      "\n",
      "   2491  2492  2493  2494  2495  2496  2497  2498  2499  \n",
      "0   1.0   1.0   1.0   1.0   1.0   1.0   1.0   1.0   1.0  \n",
      "1   1.0   1.0   1.0   1.0   1.0   1.0   1.0   1.0   1.0  \n",
      "2   1.0   1.0   1.0   1.0   1.0   1.0   1.0   1.0   1.0  \n",
      "3   0.0   0.0   0.0   0.0   0.0   0.0   0.0   0.0   0.0  \n",
      "4   1.0   1.0   1.0   1.0   1.0   1.0   1.0   1.0   1.0  \n",
      "\n",
      "[5 rows x 2500 columns]\n"
     ]
    }
   ],
   "source": [
    "x_data = np.reshape(np.array(images)/255, (-1, 50*50))\n",
    "y_data = np.array(char_class)\n",
    "\n",
    "\n",
    "\n",
    "df_x = pd.DataFrame(x_data)\n",
    "df_y = pd.DataFrame(y_data)\n",
    "\n",
    "df = pd.DataFrame(x_data, y_data)\n",
    "df['LABEL'] = df.index\n",
    "print(df.head())\n",
    "\n",
    "df_no_label = df_x\n",
    "print(df_no_label.head())\n",
    "\n",
    "#df_no_label = df.drop(columns='LABEL')\n"
   ]
  },
  {
   "cell_type": "code",
   "execution_count": 34,
   "metadata": {
    "scrolled": false
   },
   "outputs": [
    {
     "name": "stdout",
     "output_type": "stream",
     "text": [
      "       0     1     2     3     4     5     6     7     8     9     ...   2490  \\\n",
      "0  1.000000   1.0   1.0   1.0   1.0   1.0   1.0   1.0   1.0   1.0  ...    1.0   \n",
      "1  0.341176   0.0   0.0   0.0   0.0   0.0   0.0   0.0   0.0   0.0  ...    1.0   \n",
      "2  1.000000   1.0   1.0   1.0   1.0   1.0   1.0   1.0   1.0   1.0  ...    1.0   \n",
      "3  1.000000   1.0   1.0   1.0   1.0   1.0   1.0   1.0   1.0   1.0  ...    0.0   \n",
      "4  1.000000   1.0   1.0   1.0   1.0   1.0   1.0   0.0   0.0   0.0  ...    1.0   \n",
      "\n",
      "   2491  2492  2493  2494  2495  2496  2497  2498  2499  \n",
      "0   1.0   1.0   1.0   1.0   1.0   1.0   1.0   1.0   1.0  \n",
      "1   1.0   1.0   1.0   1.0   1.0   1.0   1.0   1.0   1.0  \n",
      "2   1.0   1.0   1.0   1.0   1.0   1.0   1.0   1.0   1.0  \n",
      "3   0.0   0.0   0.0   0.0   0.0   0.0   0.0   0.0   0.0  \n",
      "4   1.0   1.0   1.0   1.0   1.0   1.0   1.0   1.0   1.0  \n",
      "\n",
      "[5 rows x 2500 columns]\n",
      "0.998666666667\n",
      "0.556962025316\n"
     ]
    },
    {
     "data": {
      "text/plain": [
       "\"\\nrc = 0\\nwc = 0\\nfor i in range(len(preds)):\\n    if preds[i] == df['LABEL'][i]:\\n        rc += 1\\n    else:\\nwc += 1\\n\\nprint('correctly classified {} instances, and misclassified {} instances, proportion is {}'.format(rc, wc, rc/(rc+wc)))\\n\""
      ]
     },
     "execution_count": 34,
     "metadata": {},
     "output_type": "execute_result"
    }
   ],
   "source": [
    "from sklearn.ensemble import RandomForestClassifier\n",
    "clf = RandomForestClassifier(n_estimators=200, n_jobs=2, max_leaf_nodes=500)#n_estimators=1000, max_leaf_nodes=40, max_depth=10, max_features=500)\n",
    "print(df_no_label.head())\n",
    "clf.fit(df_no_label[:1500], df['LABEL'][:1500])\n",
    "#preds = clf.predict(df[0:2499][1500:])\n",
    "print(clf.score(df_no_label[:1500], df['LABEL'][:1500]))\n",
    "print(clf.score(df_no_label[1500:], df['LABEL'][1500:]))\n",
    "'''\n",
    "rc = 0\n",
    "wc = 0\n",
    "for i in range(len(preds)):\n",
    "    if preds[i] == df['LABEL'][i]:\n",
    "        rc += 1\n",
    "    else:\n",
    "wc += 1\n",
    "\n",
    "print('correctly classified {} instances, and misclassified {} instances, proportion is {}'.format(rc, wc, rc/(rc+wc)))\n",
    "'''"
   ]
  },
  {
   "cell_type": "code",
   "execution_count": 35,
   "metadata": {
    "scrolled": false
   },
   "outputs": [
    {
     "data": {
      "text/plain": [
       "{'bootstrap': True,\n",
       " 'class_weight': None,\n",
       " 'criterion': 'gini',\n",
       " 'max_depth': None,\n",
       " 'max_features': 'auto',\n",
       " 'max_leaf_nodes': 500,\n",
       " 'min_impurity_decrease': 0.0,\n",
       " 'min_impurity_split': None,\n",
       " 'min_samples_leaf': 1,\n",
       " 'min_samples_split': 2,\n",
       " 'min_weight_fraction_leaf': 0.0,\n",
       " 'n_estimators': 200,\n",
       " 'n_jobs': 2,\n",
       " 'oob_score': False,\n",
       " 'random_state': None,\n",
       " 'verbose': 0,\n",
       " 'warm_start': False}"
      ]
     },
     "execution_count": 35,
     "metadata": {},
     "output_type": "execute_result"
    }
   ],
   "source": [
    "clf.get_params()"
   ]
  },
  {
   "cell_type": "code",
   "execution_count": null,
   "metadata": {
    "scrolled": false
   },
   "outputs": [
    {
     "name": "stderr",
     "output_type": "stream",
     "text": [
      "/home/kaivalyarawal/.anaconda3/lib/python3.6/site-packages/sklearn/model_selection/_split.py:605: Warning: The least populated class in y has only 1 members, which is too few. The minimum number of members in any class cannot be less than n_splits=3.\n",
      "  % (min_groups, self.n_splits)), Warning)\n"
     ]
    },
    {
     "name": "stdout",
     "output_type": "stream",
     "text": [
      "[ 0.54740061  0.57961783  0.55954323]\n"
     ]
    },
    {
     "name": "stderr",
     "output_type": "stream",
     "text": [
      "/home/kaivalyarawal/.anaconda3/lib/python3.6/site-packages/sklearn/model_selection/_split.py:605: Warning: The least populated class in y has only 1 members, which is too few. The minimum number of members in any class cannot be less than n_splits=3.\n",
      "  % (min_groups, self.n_splits)), Warning)\n",
      "/home/kaivalyarawal/.anaconda3/lib/python3.6/site-packages/sklearn/metrics/classification.py:1135: UndefinedMetricWarning: F-score is ill-defined and being set to 0.0 in labels with no predicted samples.\n",
      "  'precision', 'predicted', average, warn_for)\n"
     ]
    }
   ],
   "source": [
    "from sklearn.model_selection import cross_val_score\n",
    "\n",
    "clf = RandomForestClassifier(n_estimators=2000, n_jobs=2)\n",
    "\n",
    "scores = cross_val_score(clf, df_no_label, df['LABEL'], cv=3)\n",
    "print(scores)\n",
    "scores = cross_val_score(clf, df_no_label, df['LABEL'], cv=3, scoring='f1_macro')\n",
    "print(scores)\n",
    "scores = cross_val_score(clf, df_no_label, df['LABEL'], cv=3, scoring='f1_weighted')\n",
    "print(scores)"
   ]
  },
  {
   "cell_type": "code",
   "execution_count": 13,
   "metadata": {
    "scrolled": false
   },
   "outputs": [
    {
     "name": "stdout",
     "output_type": "stream",
     "text": [
      "(1423, 2500)\n",
      "(475, 2500)\n",
      "1.0\n",
      "0.557602742996\n"
     ]
    },
    {
     "name": "stderr",
     "output_type": "stream",
     "text": [
      "/home/kaivalyarawal/.anaconda3/lib/python3.6/site-packages/sklearn/metrics/classification.py:1135: UndefinedMetricWarning: F-score is ill-defined and being set to 0.0 in labels with no predicted samples.\n",
      "  'precision', 'predicted', average, warn_for)\n",
      "/home/kaivalyarawal/.anaconda3/lib/python3.6/site-packages/sklearn/metrics/classification.py:1137: UndefinedMetricWarning: F-score is ill-defined and being set to 0.0 in labels with no true samples.\n",
      "  'recall', 'true', average, warn_for)\n"
     ]
    }
   ],
   "source": [
    "from sklearn.metrics import f1_score\n",
    "from sklearn.cross_validation import train_test_split\n",
    "\n",
    "#print(df.head())\n",
    "#print(df_no_label)\n",
    "#print(df['LABEL'])\n",
    "\n",
    "X_train,X_val,y_train,y_val = train_test_split(df_no_label, df['LABEL'])\n",
    "\n",
    "print(X_train.shape)\n",
    "print(X_val.shape)\n",
    "\n",
    "clf = RandomForestClassifier(n_estimators=2000, n_jobs=2)\n",
    "clf.fit(X_train, y_train)\n",
    "\n",
    "scores_f1 = f1_score(clf.predict(X_train),y_train,average='weighted')\n",
    "print(scores_f1)\n",
    "scores_f1 = f1_score(clf.predict(X_val),y_val,average='weighted')\n",
    "print(scores_f1)"
   ]
  },
  {
   "cell_type": "code",
   "execution_count": null,
   "metadata": {
    "collapsed": true
   },
   "outputs": [],
   "source": [
    "len(total_class)"
   ]
  },
  {
   "cell_type": "code",
   "execution_count": null,
   "metadata": {
    "collapsed": true
   },
   "outputs": [],
   "source": [
    "import itertools\n",
    "char_class_types = list(itertools.chain.from_iterable(char_class))\n",
    "#char_class_types = set([int(i) for i in char_class_types])\n",
    "char_class_types = set(char_class_types)\n",
    "len(char_class_types)"
   ]
  },
  {
   "cell_type": "code",
   "execution_count": null,
   "metadata": {
    "collapsed": true
   },
   "outputs": [],
   "source": [
    "matra_class_types = list(itertools.chain.from_iterable(matra_class))\n",
    "#matra_class_types = set([int(i) for i in matra_class_types])\n",
    "matra_class_types = set(matra_class_types)\n",
    "len(matra_class_types)"
   ]
  },
  {
   "cell_type": "code",
   "execution_count": null,
   "metadata": {
    "collapsed": true
   },
   "outputs": [],
   "source": [
    "total_char_set = char_class_types.union(matra_class_types)\n",
    "len(total_char_set)"
   ]
  },
  {
   "cell_type": "code",
   "execution_count": null,
   "metadata": {
    "collapsed": true
   },
   "outputs": [],
   "source": [
    "total_char_list = sorted(list(total_char_set))"
   ]
  },
  {
   "cell_type": "code",
   "execution_count": null,
   "metadata": {
    "collapsed": true
   },
   "outputs": [],
   "source": [
    "total_char_dict = {total_char_list[i]:i for i in range(len(total_char_list))}"
   ]
  },
  {
   "cell_type": "code",
   "execution_count": null,
   "metadata": {
    "collapsed": true
   },
   "outputs": [],
   "source": [
    "list(itertools.chain.from_iterable(char_class))"
   ]
  },
  {
   "cell_type": "code",
   "execution_count": null,
   "metadata": {
    "collapsed": true
   },
   "outputs": [],
   "source": [
    "import keras\n",
    "from sklearn.preprocessing import LabelEncoder\n",
    "from keras.utils import np_utils\n",
    "\n",
    "le = LabelEncoder()\n",
    "le.fit(list(itertools.chain.from_iterable(char_class)))\n",
    "y_labeled = le.transform(list(itertools.chain.from_iterable(char_class)))"
   ]
  },
  {
   "cell_type": "code",
   "execution_count": null,
   "metadata": {
    "collapsed": true
   },
   "outputs": [],
   "source": [
    "y_train2 = []\n",
    "for char in total_class:\n",
    "    y_train2_char = np.zeros(len(total_char_list))\n",
    "    for element in char:\n",
    "        y_train2_char[total_char_dict[element]] = 1\n",
    "    y_train2.append(y_train2_char)"
   ]
  },
  {
   "cell_type": "code",
   "execution_count": null,
   "metadata": {
    "collapsed": true
   },
   "outputs": [],
   "source": [
    "y_train2[1]"
   ]
  },
  {
   "cell_type": "code",
   "execution_count": null,
   "metadata": {
    "collapsed": true
   },
   "outputs": [],
   "source": [
    "y_train2 = np.array(y_train2)\n",
    "np.array(images).shape"
   ]
  },
  {
   "cell_type": "code",
   "execution_count": null,
   "metadata": {
    "collapsed": true
   },
   "outputs": [],
   "source": [
    "X_train = np.reshape(np.array(images),(-1,224,224,1))\n",
    "#char_int = [int(i) for i in list(itertools.chain.from_iterable(char_class))]\n",
    "y_train = np_utils.to_categorical(y_labeled)"
   ]
  },
  {
   "cell_type": "code",
   "execution_count": null,
   "metadata": {
    "collapsed": true
   },
   "outputs": [],
   "source": [
    "len(y_train2[0])"
   ]
  },
  {
   "cell_type": "code",
   "execution_count": null,
   "metadata": {
    "collapsed": true
   },
   "outputs": [],
   "source": [
    "model = Sequential()\n",
    "\n",
    "model.add(Dense(256,input_shape=(224*224,),activation = 'sigmoid'))\n",
    "model.add(Dense(128,activation = 'sigmoid'))\n",
    "model.add(Dense(128,activation = 'sigmoid'))\n",
    "model.add(Dense(len(total_char_set),activation = 'sigmoid'))\n",
    "\n",
    "print(model.summary())\n",
    "model.compile(optimizer='adam',\n",
    "              loss='categorical_crossentropy',\n",
    "              metrics=[f1_score(theta=0.5),'accuracy'])\n",
    "X_train = X_train.reshape((-1,224*224))\n",
    "model.fit(X_train,y_train2,epochs=10,batch_size=32,validation_split=0.3)"
   ]
  },
  {
   "cell_type": "code",
   "execution_count": null,
   "metadata": {
    "collapsed": true
   },
   "outputs": [],
   "source": [
    "from keras.models import Sequential\n",
    "from keras.layers import Dense,Dropout,Conv2D,MaxPooling2D,Flatten\n",
    "\n",
    "model = Sequential()\n",
    "\n",
    "model.add(Conv2D(16,(3,3),input_shape = (224,224,1),activation = 'relu'))\n",
    "model.add(Conv2D(16,(3,3),activation = 'relu'))\n",
    "model.add(MaxPooling2D())\n",
    "model.add(Conv2D(32,(3,3),activation = 'relu'))\n",
    "model.add(Conv2D(32,(3,3),activation = 'relu'))\n",
    "model.add(MaxPooling2D())\n",
    "model.add(MaxPooling2D())\n",
    "model.add(Flatten())\n",
    "model.add(Dense(256,activation = 'sigmoid'))\n",
    "model.add(Dropout(0.2))\n",
    "model.add(Dense(len(total_char_set),activation = 'sigmoid'))"
   ]
  },
  {
   "cell_type": "code",
   "execution_count": null,
   "metadata": {
    "collapsed": true
   },
   "outputs": [],
   "source": [
    "model.summary()"
   ]
  },
  {
   "cell_type": "code",
   "execution_count": null,
   "metadata": {
    "collapsed": true
   },
   "outputs": [],
   "source": [
    "import keras.backend as K\n",
    "\n",
    "def f1_score(theta):\n",
    "    def score(y_true, y_pred):\n",
    "\n",
    "        y_thresh = K.cast(K.greater(y_pred,theta),K.floatx())\n",
    "\n",
    "        true_pos =  K.sum(y_true * y_thresh)\n",
    "        false_pos = K.sum(y_true * (1. - y_thresh))\n",
    "        false_neg = K.sum((1. - y_true) * y_thresh)\n",
    "\n",
    "        precision = true_pos / (true_pos + false_pos)\n",
    "        recall = true_pos / (true_pos + false_neg)\n",
    "        \n",
    "        f1_score_val = 2 * (precision * recall) / (precision + recall)\n",
    "        return f1_score_val\n",
    "    return score\n",
    "\n",
    "def custom_metric(y_true, y_pred):\n",
    "    return K.cast(K.equal(y_true,\n",
    "                          K.round(y_pred)),\n",
    "                  K.floatx())\n"
   ]
  },
  {
   "cell_type": "code",
   "execution_count": null,
   "metadata": {
    "collapsed": true
   },
   "outputs": [],
   "source": [
    "model.compile(optimizer='adam',\n",
    "              loss='categorical_crossentropy',\n",
    "              metrics=[f1_score(theta=0.5)])"
   ]
  },
  {
   "cell_type": "code",
   "execution_count": null,
   "metadata": {
    "collapsed": true
   },
   "outputs": [],
   "source": [
    "model.fit(X_train,y_train2,epochs=10,batch_size=32,validation_split=0.3)"
   ]
  },
  {
   "cell_type": "code",
   "execution_count": null,
   "metadata": {
    "collapsed": true
   },
   "outputs": [],
   "source": [
    "preds = model.predict(X_train)"
   ]
  },
  {
   "cell_type": "code",
   "execution_count": null,
   "metadata": {
    "collapsed": true
   },
   "outputs": [],
   "source": [
    "labels = np.zeros(preds[0].shape)\n",
    "labels[preds[5]>0.5] = 1\n",
    "labels[0]"
   ]
  },
  {
   "cell_type": "code",
   "execution_count": null,
   "metadata": {
    "collapsed": true
   },
   "outputs": [],
   "source": []
  }
 ],
 "metadata": {
  "kernelspec": {
   "display_name": "Python 3",
   "language": "python",
   "name": "python3"
  },
  "language_info": {
   "codemirror_mode": {
    "name": "ipython",
    "version": 3
   },
   "file_extension": ".py",
   "mimetype": "text/x-python",
   "name": "python",
   "nbconvert_exporter": "python",
   "pygments_lexer": "ipython3",
   "version": "3.6.3"
  }
 },
 "nbformat": 4,
 "nbformat_minor": 2
}
